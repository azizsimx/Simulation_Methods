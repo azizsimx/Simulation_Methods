{
  "cells": [
    {
      "cell_type": "code",
      "execution_count": 3,
      "metadata": {
        "colab": {
          "base_uri": "https://localhost:8080/"
        },
        "id": "iMgNLeoH-BIf",
        "outputId": "c1b61061-9226-4a0c-9e18-14294c18b4f5"
      },
      "outputs": [],
      "source": [
        "# !pip install numpy\n",
        "# !pip install plotly\n",
        "\n",
        "import numpy as np\n",
        "import plotly.graph_objects as go"
      ]
    },
    {
      "cell_type": "code",
      "execution_count": 4,
      "metadata": {
        "colab": {
          "base_uri": "https://localhost:8080/",
          "height": 617
        },
        "id": "g1MR1oky-K2I",
        "outputId": "9527727a-19ee-4b14-b2f1-d48dd9ff4848"
      },
      "outputs": [
        {
          "data": {
            "application/vnd.plotly.v1+json": {
              "config": {
                "plotlyServerURL": "https://plot.ly"
              },
              "data": [
                {
                  "line": {
                    "color": "red",
                    "width": 5
                  },
                  "marker": {
                    "size": 10
                  },
                  "mode": "lines+markers",
                  "name": "transaction-based model",
                  "type": "scatter",
                  "x": [
                    1,
                    1.1,
                    1.2000000000000002,
                    1.3000000000000003,
                    1.4000000000000004,
                    1.5000000000000004,
                    1.6000000000000005,
                    1.7000000000000006,
                    1.8000000000000007,
                    1.9000000000000008,
                    2.000000000000001,
                    2.100000000000001,
                    2.200000000000001,
                    2.300000000000001,
                    2.4000000000000012,
                    2.5000000000000013,
                    2.6000000000000014,
                    2.7000000000000015,
                    2.8000000000000016,
                    2.9000000000000017,
                    3.0000000000000018,
                    3.100000000000002,
                    3.200000000000002,
                    3.300000000000002,
                    3.400000000000002,
                    3.500000000000002,
                    3.6000000000000023,
                    3.7000000000000024,
                    3.8000000000000025,
                    3.9000000000000026,
                    4.000000000000003,
                    4.100000000000003,
                    4.200000000000003,
                    4.3000000000000025,
                    4.400000000000003,
                    4.5000000000000036,
                    4.600000000000003,
                    4.700000000000003,
                    4.800000000000003,
                    4.900000000000004,
                    5.0000000000000036,
                    5.100000000000003,
                    5.200000000000004,
                    5.300000000000004,
                    5.400000000000004,
                    5.5000000000000036,
                    5.600000000000004,
                    5.700000000000005,
                    5.800000000000004,
                    5.900000000000004,
                    6.000000000000004,
                    6.100000000000005,
                    6.200000000000005,
                    6.300000000000004,
                    6.400000000000005,
                    6.500000000000005,
                    6.600000000000005,
                    6.700000000000005,
                    6.800000000000005,
                    6.900000000000006,
                    7.000000000000005,
                    7.100000000000005,
                    7.2000000000000055,
                    7.300000000000006,
                    7.400000000000006,
                    7.500000000000005,
                    7.600000000000006,
                    7.700000000000006,
                    7.800000000000006,
                    7.900000000000006
                  ],
                  "y": [
                    1695945.6,
                    539233.5276953318,
                    189172.36328124962,
                    72027.00269604368,
                    29376.72365620895,
                    12697.59999999995,
                    5763.693241897247,
                    2725.599636608713,
                    1332.8854943446156,
                    669.1835512640479,
                    342.288281249998,
                    176.79326817401721,
                    91.14163205752399,
                    46.08497669738462,
                    22.15206623077371,
                    9.421223834419067,
                    2.717558323662627,
                    -0.7124693915062494,
                    -2.3585405830673722,
                    -3.0371723779375195,
                    -3.2,
                    -3.0979322932295044,
                    -2.870133518051427,
                    -2.5930145356710277,
                    -2.3075681169371625,
                    -2.0347890537496496,
                    -1.7844457554436848,
                    -1.5600967354340955,
                    -1.361964543627549,
                    -1.1885774068736443,
                    -1.0376981735229458,
                    -0.906839982397468,
                    -0.793542525380618,
                    -0.6955104360803608,
                    -0.6106732877198362,
                    -0.5372020600593459,
                    -0.47350243482558896,
                    -0.41819670890524985,
                    -0.37010104279033684,
                    -0.3282017654437282,
                    -0.2916326965247987,
                    -0.259654424313264,
                    -0.23163589504092,
                    -0.2070383482154855,
                    -0.18540146562724114,
                    -0.16633152456153835,
                    -0.14949131958682657,
                    -0.13459161903886924,
                    -0.12138393831528843,
                    -0.10965443438451694,
                    -0.09921874999999955,
                    -0.08991765955787327,
                    -0.0816133901292801,
                    -0.07418651043071127,
                    -0.06753329726025069,
                    -0.0615635033304254,
                    -0.05619846267904127,
                    -0.0513694801870436,
                    -0.04701646043040197,
                    -0.0430867383800721,
                    -0.03953408055577834,
                    -0.036317830325008606,
                    -0.03340217528148778,
                    -0.030755518176545732,
                    -0.028349935829592027,
                    -0.026160712908799878,
                    -0.024165939532297682,
                    -0.022346163362100525,
                    -0.020684088304536184,
                    -0.01916431313918779
                  ]
                }
              ],
              "layout": {
                "bargap": 0.2,
                "height": 600,
                "legend": {
                  "bordercolor": "LightSteelBlue",
                  "borderwidth": 2,
                  "font": {
                    "family": "Arial",
                    "size": 20
                  },
                  "itemsizing": "constant",
                  "orientation": "h",
                  "x": 1.05,
                  "xanchor": "right",
                  "y": 1.02,
                  "yanchor": "bottom"
                },
                "template": {
                  "data": {
                    "bar": [
                      {
                        "error_x": {
                          "color": "rgb(36,36,36)"
                        },
                        "error_y": {
                          "color": "rgb(36,36,36)"
                        },
                        "marker": {
                          "line": {
                            "color": "white",
                            "width": 0.5
                          },
                          "pattern": {
                            "fillmode": "overlay",
                            "size": 10,
                            "solidity": 0.2
                          }
                        },
                        "type": "bar"
                      }
                    ],
                    "barpolar": [
                      {
                        "marker": {
                          "line": {
                            "color": "white",
                            "width": 0.5
                          },
                          "pattern": {
                            "fillmode": "overlay",
                            "size": 10,
                            "solidity": 0.2
                          }
                        },
                        "type": "barpolar"
                      }
                    ],
                    "carpet": [
                      {
                        "aaxis": {
                          "endlinecolor": "rgb(36,36,36)",
                          "gridcolor": "white",
                          "linecolor": "white",
                          "minorgridcolor": "white",
                          "startlinecolor": "rgb(36,36,36)"
                        },
                        "baxis": {
                          "endlinecolor": "rgb(36,36,36)",
                          "gridcolor": "white",
                          "linecolor": "white",
                          "minorgridcolor": "white",
                          "startlinecolor": "rgb(36,36,36)"
                        },
                        "type": "carpet"
                      }
                    ],
                    "choropleth": [
                      {
                        "colorbar": {
                          "outlinewidth": 1,
                          "tickcolor": "rgb(36,36,36)",
                          "ticks": "outside"
                        },
                        "type": "choropleth"
                      }
                    ],
                    "contour": [
                      {
                        "colorbar": {
                          "outlinewidth": 1,
                          "tickcolor": "rgb(36,36,36)",
                          "ticks": "outside"
                        },
                        "colorscale": [
                          [
                            0,
                            "#440154"
                          ],
                          [
                            0.1111111111111111,
                            "#482878"
                          ],
                          [
                            0.2222222222222222,
                            "#3e4989"
                          ],
                          [
                            0.3333333333333333,
                            "#31688e"
                          ],
                          [
                            0.4444444444444444,
                            "#26828e"
                          ],
                          [
                            0.5555555555555556,
                            "#1f9e89"
                          ],
                          [
                            0.6666666666666666,
                            "#35b779"
                          ],
                          [
                            0.7777777777777778,
                            "#6ece58"
                          ],
                          [
                            0.8888888888888888,
                            "#b5de2b"
                          ],
                          [
                            1,
                            "#fde725"
                          ]
                        ],
                        "type": "contour"
                      }
                    ],
                    "contourcarpet": [
                      {
                        "colorbar": {
                          "outlinewidth": 1,
                          "tickcolor": "rgb(36,36,36)",
                          "ticks": "outside"
                        },
                        "type": "contourcarpet"
                      }
                    ],
                    "heatmap": [
                      {
                        "colorbar": {
                          "outlinewidth": 1,
                          "tickcolor": "rgb(36,36,36)",
                          "ticks": "outside"
                        },
                        "colorscale": [
                          [
                            0,
                            "#440154"
                          ],
                          [
                            0.1111111111111111,
                            "#482878"
                          ],
                          [
                            0.2222222222222222,
                            "#3e4989"
                          ],
                          [
                            0.3333333333333333,
                            "#31688e"
                          ],
                          [
                            0.4444444444444444,
                            "#26828e"
                          ],
                          [
                            0.5555555555555556,
                            "#1f9e89"
                          ],
                          [
                            0.6666666666666666,
                            "#35b779"
                          ],
                          [
                            0.7777777777777778,
                            "#6ece58"
                          ],
                          [
                            0.8888888888888888,
                            "#b5de2b"
                          ],
                          [
                            1,
                            "#fde725"
                          ]
                        ],
                        "type": "heatmap"
                      }
                    ],
                    "heatmapgl": [
                      {
                        "colorbar": {
                          "outlinewidth": 1,
                          "tickcolor": "rgb(36,36,36)",
                          "ticks": "outside"
                        },
                        "colorscale": [
                          [
                            0,
                            "#440154"
                          ],
                          [
                            0.1111111111111111,
                            "#482878"
                          ],
                          [
                            0.2222222222222222,
                            "#3e4989"
                          ],
                          [
                            0.3333333333333333,
                            "#31688e"
                          ],
                          [
                            0.4444444444444444,
                            "#26828e"
                          ],
                          [
                            0.5555555555555556,
                            "#1f9e89"
                          ],
                          [
                            0.6666666666666666,
                            "#35b779"
                          ],
                          [
                            0.7777777777777778,
                            "#6ece58"
                          ],
                          [
                            0.8888888888888888,
                            "#b5de2b"
                          ],
                          [
                            1,
                            "#fde725"
                          ]
                        ],
                        "type": "heatmapgl"
                      }
                    ],
                    "histogram": [
                      {
                        "marker": {
                          "line": {
                            "color": "white",
                            "width": 0.6
                          }
                        },
                        "type": "histogram"
                      }
                    ],
                    "histogram2d": [
                      {
                        "colorbar": {
                          "outlinewidth": 1,
                          "tickcolor": "rgb(36,36,36)",
                          "ticks": "outside"
                        },
                        "colorscale": [
                          [
                            0,
                            "#440154"
                          ],
                          [
                            0.1111111111111111,
                            "#482878"
                          ],
                          [
                            0.2222222222222222,
                            "#3e4989"
                          ],
                          [
                            0.3333333333333333,
                            "#31688e"
                          ],
                          [
                            0.4444444444444444,
                            "#26828e"
                          ],
                          [
                            0.5555555555555556,
                            "#1f9e89"
                          ],
                          [
                            0.6666666666666666,
                            "#35b779"
                          ],
                          [
                            0.7777777777777778,
                            "#6ece58"
                          ],
                          [
                            0.8888888888888888,
                            "#b5de2b"
                          ],
                          [
                            1,
                            "#fde725"
                          ]
                        ],
                        "type": "histogram2d"
                      }
                    ],
                    "histogram2dcontour": [
                      {
                        "colorbar": {
                          "outlinewidth": 1,
                          "tickcolor": "rgb(36,36,36)",
                          "ticks": "outside"
                        },
                        "colorscale": [
                          [
                            0,
                            "#440154"
                          ],
                          [
                            0.1111111111111111,
                            "#482878"
                          ],
                          [
                            0.2222222222222222,
                            "#3e4989"
                          ],
                          [
                            0.3333333333333333,
                            "#31688e"
                          ],
                          [
                            0.4444444444444444,
                            "#26828e"
                          ],
                          [
                            0.5555555555555556,
                            "#1f9e89"
                          ],
                          [
                            0.6666666666666666,
                            "#35b779"
                          ],
                          [
                            0.7777777777777778,
                            "#6ece58"
                          ],
                          [
                            0.8888888888888888,
                            "#b5de2b"
                          ],
                          [
                            1,
                            "#fde725"
                          ]
                        ],
                        "type": "histogram2dcontour"
                      }
                    ],
                    "mesh3d": [
                      {
                        "colorbar": {
                          "outlinewidth": 1,
                          "tickcolor": "rgb(36,36,36)",
                          "ticks": "outside"
                        },
                        "type": "mesh3d"
                      }
                    ],
                    "parcoords": [
                      {
                        "line": {
                          "colorbar": {
                            "outlinewidth": 1,
                            "tickcolor": "rgb(36,36,36)",
                            "ticks": "outside"
                          }
                        },
                        "type": "parcoords"
                      }
                    ],
                    "pie": [
                      {
                        "automargin": true,
                        "type": "pie"
                      }
                    ],
                    "scatter": [
                      {
                        "fillpattern": {
                          "fillmode": "overlay",
                          "size": 10,
                          "solidity": 0.2
                        },
                        "type": "scatter"
                      }
                    ],
                    "scatter3d": [
                      {
                        "line": {
                          "colorbar": {
                            "outlinewidth": 1,
                            "tickcolor": "rgb(36,36,36)",
                            "ticks": "outside"
                          }
                        },
                        "marker": {
                          "colorbar": {
                            "outlinewidth": 1,
                            "tickcolor": "rgb(36,36,36)",
                            "ticks": "outside"
                          }
                        },
                        "type": "scatter3d"
                      }
                    ],
                    "scattercarpet": [
                      {
                        "marker": {
                          "colorbar": {
                            "outlinewidth": 1,
                            "tickcolor": "rgb(36,36,36)",
                            "ticks": "outside"
                          }
                        },
                        "type": "scattercarpet"
                      }
                    ],
                    "scattergeo": [
                      {
                        "marker": {
                          "colorbar": {
                            "outlinewidth": 1,
                            "tickcolor": "rgb(36,36,36)",
                            "ticks": "outside"
                          }
                        },
                        "type": "scattergeo"
                      }
                    ],
                    "scattergl": [
                      {
                        "marker": {
                          "colorbar": {
                            "outlinewidth": 1,
                            "tickcolor": "rgb(36,36,36)",
                            "ticks": "outside"
                          }
                        },
                        "type": "scattergl"
                      }
                    ],
                    "scattermapbox": [
                      {
                        "marker": {
                          "colorbar": {
                            "outlinewidth": 1,
                            "tickcolor": "rgb(36,36,36)",
                            "ticks": "outside"
                          }
                        },
                        "type": "scattermapbox"
                      }
                    ],
                    "scatterpolar": [
                      {
                        "marker": {
                          "colorbar": {
                            "outlinewidth": 1,
                            "tickcolor": "rgb(36,36,36)",
                            "ticks": "outside"
                          }
                        },
                        "type": "scatterpolar"
                      }
                    ],
                    "scatterpolargl": [
                      {
                        "marker": {
                          "colorbar": {
                            "outlinewidth": 1,
                            "tickcolor": "rgb(36,36,36)",
                            "ticks": "outside"
                          }
                        },
                        "type": "scatterpolargl"
                      }
                    ],
                    "scatterternary": [
                      {
                        "marker": {
                          "colorbar": {
                            "outlinewidth": 1,
                            "tickcolor": "rgb(36,36,36)",
                            "ticks": "outside"
                          }
                        },
                        "type": "scatterternary"
                      }
                    ],
                    "surface": [
                      {
                        "colorbar": {
                          "outlinewidth": 1,
                          "tickcolor": "rgb(36,36,36)",
                          "ticks": "outside"
                        },
                        "colorscale": [
                          [
                            0,
                            "#440154"
                          ],
                          [
                            0.1111111111111111,
                            "#482878"
                          ],
                          [
                            0.2222222222222222,
                            "#3e4989"
                          ],
                          [
                            0.3333333333333333,
                            "#31688e"
                          ],
                          [
                            0.4444444444444444,
                            "#26828e"
                          ],
                          [
                            0.5555555555555556,
                            "#1f9e89"
                          ],
                          [
                            0.6666666666666666,
                            "#35b779"
                          ],
                          [
                            0.7777777777777778,
                            "#6ece58"
                          ],
                          [
                            0.8888888888888888,
                            "#b5de2b"
                          ],
                          [
                            1,
                            "#fde725"
                          ]
                        ],
                        "type": "surface"
                      }
                    ],
                    "table": [
                      {
                        "cells": {
                          "fill": {
                            "color": "rgb(237,237,237)"
                          },
                          "line": {
                            "color": "white"
                          }
                        },
                        "header": {
                          "fill": {
                            "color": "rgb(217,217,217)"
                          },
                          "line": {
                            "color": "white"
                          }
                        },
                        "type": "table"
                      }
                    ]
                  },
                  "layout": {
                    "annotationdefaults": {
                      "arrowhead": 0,
                      "arrowwidth": 1
                    },
                    "autotypenumbers": "strict",
                    "coloraxis": {
                      "colorbar": {
                        "outlinewidth": 1,
                        "tickcolor": "rgb(36,36,36)",
                        "ticks": "outside"
                      }
                    },
                    "colorscale": {
                      "diverging": [
                        [
                          0,
                          "rgb(103,0,31)"
                        ],
                        [
                          0.1,
                          "rgb(178,24,43)"
                        ],
                        [
                          0.2,
                          "rgb(214,96,77)"
                        ],
                        [
                          0.3,
                          "rgb(244,165,130)"
                        ],
                        [
                          0.4,
                          "rgb(253,219,199)"
                        ],
                        [
                          0.5,
                          "rgb(247,247,247)"
                        ],
                        [
                          0.6,
                          "rgb(209,229,240)"
                        ],
                        [
                          0.7,
                          "rgb(146,197,222)"
                        ],
                        [
                          0.8,
                          "rgb(67,147,195)"
                        ],
                        [
                          0.9,
                          "rgb(33,102,172)"
                        ],
                        [
                          1,
                          "rgb(5,48,97)"
                        ]
                      ],
                      "sequential": [
                        [
                          0,
                          "#440154"
                        ],
                        [
                          0.1111111111111111,
                          "#482878"
                        ],
                        [
                          0.2222222222222222,
                          "#3e4989"
                        ],
                        [
                          0.3333333333333333,
                          "#31688e"
                        ],
                        [
                          0.4444444444444444,
                          "#26828e"
                        ],
                        [
                          0.5555555555555556,
                          "#1f9e89"
                        ],
                        [
                          0.6666666666666666,
                          "#35b779"
                        ],
                        [
                          0.7777777777777778,
                          "#6ece58"
                        ],
                        [
                          0.8888888888888888,
                          "#b5de2b"
                        ],
                        [
                          1,
                          "#fde725"
                        ]
                      ],
                      "sequentialminus": [
                        [
                          0,
                          "#440154"
                        ],
                        [
                          0.1111111111111111,
                          "#482878"
                        ],
                        [
                          0.2222222222222222,
                          "#3e4989"
                        ],
                        [
                          0.3333333333333333,
                          "#31688e"
                        ],
                        [
                          0.4444444444444444,
                          "#26828e"
                        ],
                        [
                          0.5555555555555556,
                          "#1f9e89"
                        ],
                        [
                          0.6666666666666666,
                          "#35b779"
                        ],
                        [
                          0.7777777777777778,
                          "#6ece58"
                        ],
                        [
                          0.8888888888888888,
                          "#b5de2b"
                        ],
                        [
                          1,
                          "#fde725"
                        ]
                      ]
                    },
                    "colorway": [
                      "#1F77B4",
                      "#FF7F0E",
                      "#2CA02C",
                      "#D62728",
                      "#9467BD",
                      "#8C564B",
                      "#E377C2",
                      "#7F7F7F",
                      "#BCBD22",
                      "#17BECF"
                    ],
                    "font": {
                      "color": "rgb(36,36,36)"
                    },
                    "geo": {
                      "bgcolor": "white",
                      "lakecolor": "white",
                      "landcolor": "white",
                      "showlakes": true,
                      "showland": true,
                      "subunitcolor": "white"
                    },
                    "hoverlabel": {
                      "align": "left"
                    },
                    "hovermode": "closest",
                    "mapbox": {
                      "style": "light"
                    },
                    "paper_bgcolor": "white",
                    "plot_bgcolor": "white",
                    "polar": {
                      "angularaxis": {
                        "gridcolor": "rgb(232,232,232)",
                        "linecolor": "rgb(36,36,36)",
                        "showgrid": false,
                        "showline": true,
                        "ticks": "outside"
                      },
                      "bgcolor": "white",
                      "radialaxis": {
                        "gridcolor": "rgb(232,232,232)",
                        "linecolor": "rgb(36,36,36)",
                        "showgrid": false,
                        "showline": true,
                        "ticks": "outside"
                      }
                    },
                    "scene": {
                      "xaxis": {
                        "backgroundcolor": "white",
                        "gridcolor": "rgb(232,232,232)",
                        "gridwidth": 2,
                        "linecolor": "rgb(36,36,36)",
                        "showbackground": true,
                        "showgrid": false,
                        "showline": true,
                        "ticks": "outside",
                        "zeroline": false,
                        "zerolinecolor": "rgb(36,36,36)"
                      },
                      "yaxis": {
                        "backgroundcolor": "white",
                        "gridcolor": "rgb(232,232,232)",
                        "gridwidth": 2,
                        "linecolor": "rgb(36,36,36)",
                        "showbackground": true,
                        "showgrid": false,
                        "showline": true,
                        "ticks": "outside",
                        "zeroline": false,
                        "zerolinecolor": "rgb(36,36,36)"
                      },
                      "zaxis": {
                        "backgroundcolor": "white",
                        "gridcolor": "rgb(232,232,232)",
                        "gridwidth": 2,
                        "linecolor": "rgb(36,36,36)",
                        "showbackground": true,
                        "showgrid": false,
                        "showline": true,
                        "ticks": "outside",
                        "zeroline": false,
                        "zerolinecolor": "rgb(36,36,36)"
                      }
                    },
                    "shapedefaults": {
                      "fillcolor": "black",
                      "line": {
                        "width": 0
                      },
                      "opacity": 0.3
                    },
                    "ternary": {
                      "aaxis": {
                        "gridcolor": "rgb(232,232,232)",
                        "linecolor": "rgb(36,36,36)",
                        "showgrid": false,
                        "showline": true,
                        "ticks": "outside"
                      },
                      "baxis": {
                        "gridcolor": "rgb(232,232,232)",
                        "linecolor": "rgb(36,36,36)",
                        "showgrid": false,
                        "showline": true,
                        "ticks": "outside"
                      },
                      "bgcolor": "white",
                      "caxis": {
                        "gridcolor": "rgb(232,232,232)",
                        "linecolor": "rgb(36,36,36)",
                        "showgrid": false,
                        "showline": true,
                        "ticks": "outside"
                      }
                    },
                    "title": {
                      "x": 0.05
                    },
                    "xaxis": {
                      "automargin": true,
                      "gridcolor": "rgb(232,232,232)",
                      "linecolor": "rgb(36,36,36)",
                      "showgrid": false,
                      "showline": true,
                      "ticks": "outside",
                      "title": {
                        "standoff": 15
                      },
                      "zeroline": false,
                      "zerolinecolor": "rgb(36,36,36)"
                    },
                    "yaxis": {
                      "automargin": true,
                      "gridcolor": "rgb(232,232,232)",
                      "linecolor": "rgb(36,36,36)",
                      "showgrid": false,
                      "showline": true,
                      "ticks": "outside",
                      "title": {
                        "standoff": 15
                      },
                      "zeroline": false,
                      "zerolinecolor": "rgb(36,36,36)"
                    }
                  }
                },
                "width": 1350,
                "xaxis": {
                  "tickformat": "i"
                }
              }
            }
          },
          "metadata": {},
          "output_type": "display_data"
        }
      ],
      "source": [
        "import numpy as np\n",
        "import plotly.graph_objects as go\n",
        "\n",
        "def calculate_energy(epsilon, minimal_distance, distance):\n",
        "\n",
        "    energy = epsilon * (((minimal_distance / distance) ** 12) - (2 * ((minimal_distance / distance) ** 6)))\n",
        "\n",
        "    return energy\n",
        "\n",
        "distances = np.arange(1.0, 8.0, 0.1)\n",
        "\n",
        "epsilon = 3.2\n",
        "minimal_distance = 3\n",
        "\n",
        "potential_energy_scan = [\n",
        "    calculate_energy(epsilon, minimal_distance, distance)\n",
        "    for distance in distances\n",
        "]\n",
        "\n",
        "\n",
        "fig = go.Figure()\n",
        "fig.add_trace(\n",
        "    go.Scatter(\n",
        "        x=list(distances), y=potential_energy_scan,\n",
        "        mode='lines+markers',\n",
        "        name='transaction-based model',\n",
        "        marker=dict(size=10)\n",
        "    )\n",
        ")\n",
        "\n",
        "fig.update_layout(legend=dict(itemsizing='constant'))\n",
        "fig.update_layout(legend=dict(\n",
        "        orientation=\"h\",\n",
        "        yanchor=\"bottom\",\n",
        "        y=1.02,\n",
        "        xanchor=\"right\",\n",
        "        x=1.05,\n",
        "        font = dict(family = \"Arial\", size = 20),\n",
        "        bordercolor=\"LightSteelBlue\",\n",
        "        borderwidth=2,\n",
        "    ),\n",
        ")\n",
        "fig.update_traces(line=dict(width=5, color='red'))\n",
        "\n",
        "fig.update_layout(\n",
        "    template='simple_white',\n",
        "    xaxis_tickformat = 'i',\n",
        "    bargap=0.2, # gap between bars of adjacent location coordinates,\n",
        "    height=600,\n",
        "    width=1350\n",
        ")\n",
        "\n",
        "\n",
        "fig.show()\n"
      ]
    },
    {
      "cell_type": "markdown",
      "metadata": {
        "id": "w0vgmAh0AXK7"
      },
      "source": [
        "# New Section"
      ]
    },
    {
      "cell_type": "code",
      "execution_count": null,
      "metadata": {
        "id": "-mmzX8arAUwm"
      },
      "outputs": [],
      "source": []
    },
    {
      "cell_type": "code",
      "execution_count": null,
      "metadata": {
        "id": "QllgrNj2nI3L"
      },
      "outputs": [],
      "source": []
    },
    {
      "cell_type": "code",
      "execution_count": null,
      "metadata": {
        "id": "TWTR9xxTnIG8"
      },
      "outputs": [],
      "source": []
    },
    {
      "cell_type": "code",
      "execution_count": 5,
      "metadata": {
        "colab": {
          "base_uri": "https://localhost:8080/",
          "height": 617
        },
        "id": "sNFIspLo_CkC",
        "outputId": "5a2374d0-8bc1-4462-f529-67623e21c7f3"
      },
      "outputs": [
        {
          "data": {
            "application/vnd.plotly.v1+json": {
              "config": {
                "plotlyServerURL": "https://plot.ly"
              },
              "data": [
                {
                  "line": {
                    "width": 5
                  },
                  "marker": {
                    "size": 13
                  },
                  "mode": "lines+markers",
                  "name": "hf/6-31g*",
                  "type": "scatter",
                  "x": [
                    1,
                    1.1,
                    1.2000000000000002,
                    1.3000000000000003,
                    1.4000000000000004,
                    1.5000000000000004,
                    1.6000000000000005,
                    1.7000000000000006,
                    1.8000000000000007,
                    1.9000000000000008,
                    2.000000000000001,
                    2.100000000000001,
                    2.200000000000001,
                    2.300000000000001,
                    2.4000000000000012,
                    2.5000000000000013,
                    2.6000000000000014,
                    2.7000000000000015,
                    2.8000000000000016,
                    2.9000000000000017,
                    3.0000000000000018,
                    3.100000000000002,
                    3.200000000000002,
                    3.300000000000002,
                    3.400000000000002,
                    3.500000000000002,
                    3.6000000000000023,
                    3.7000000000000024,
                    3.8000000000000025,
                    3.9000000000000026,
                    4.000000000000003,
                    4.100000000000003,
                    4.200000000000003,
                    4.3000000000000025,
                    4.400000000000003,
                    4.5000000000000036,
                    4.600000000000003,
                    4.700000000000003,
                    4.800000000000003,
                    4.900000000000004,
                    5.0000000000000036,
                    5.100000000000003,
                    5.200000000000004,
                    5.300000000000004,
                    5.400000000000004,
                    5.5000000000000036,
                    5.600000000000004,
                    5.700000000000005,
                    5.800000000000004,
                    5.900000000000004,
                    6.000000000000004,
                    6.100000000000005,
                    6.200000000000005,
                    6.300000000000004,
                    6.400000000000005,
                    6.500000000000005,
                    6.600000000000005,
                    6.700000000000005,
                    6.800000000000005,
                    6.900000000000006,
                    7.000000000000005,
                    7.100000000000005,
                    7.2000000000000055,
                    7.300000000000006,
                    7.400000000000006,
                    7.500000000000005,
                    7.600000000000006,
                    7.700000000000006,
                    7.800000000000006,
                    7.900000000000006
                  ],
                  "y": [
                    2843.1418572918046,
                    1852.0960732421954,
                    1247.1623779715155,
                    887.3063527568593,
                    683.9139386144234,
                    580.8352996517206,
                    607.0036745927064,
                    506.6359033588669,
                    443.82054585346486,
                    408.29601134802215,
                    392.4310117850546,
                    312.0730263678124,
                    238.3869779605884,
                    181.78848902473692,
                    138.38597113534342,
                    105.16086926060962,
                    79.77777781529585,
                    60.42848342086654,
                    45.71140851970995,
                    34.54027385619702,
                    26.074454525543842,
                    19.665446832892485,
                    14.81550430104835,
                    11.145489438786171,
                    8.369254794728477,
                    6.272620556061156,
                    4.695860555046238,
                    3.5192105200258084,
                    2.6514705759473145,
                    2.0216253778198734,
                    1.5731650057132356,
                    1.260545784723945,
                    1.047077318711672,
                    0.9036330561502837,
                    0.8076847171760164,
                    0.7424185463460162,
                    0.6958230452728458,
                    0.6597638826351613,
                    0.6290585359092802,
                    0.6006798975286074,
                    0.573066946817562,
                    0.5455904973787256,
                    0.518155983183533,
                    0.490935591456946,
                    0.4641964759794064,
                    0.4382124749245122,
                    0.4131974337506108,
                    0.3893070104531944,
                    0.3666377368499525,
                    0.345232771593146,
                    0.3250893212389201,
                    0.30617703922325745,
                    0.2884483773377724,
                    0.2718468310777098,
                    0.2563050555763766,
                    0.24175675987498835,
                    0.2281426108093001,
                    0.21539262519218028,
                    0.20345212402753532,
                    0.19226304913172498,
                    0.18177839333657175,
                    0.17194328748155385,
                    0.16271741437958553,
                    0.15405538701452315,
                    0.14592405722942203,
                    0.1382813547970727,
                    0.13109779503429309,
                    0.12434527475852519,
                    0.1179922511219047,
                    0.11201067100046203,
                    0.10637780430261046
                  ]
                },
                {
                  "line": {
                    "width": 5
                  },
                  "marker": {
                    "size": 13
                  },
                  "mode": "lines+markers",
                  "name": "mp2/6-31g*",
                  "type": "scatter",
                  "x": [
                    1,
                    1.1,
                    1.2000000000000002,
                    1.3000000000000003,
                    1.4000000000000004,
                    1.5000000000000004,
                    1.6000000000000005,
                    1.7000000000000006,
                    1.8000000000000007,
                    1.9000000000000008,
                    2.000000000000001,
                    2.100000000000001,
                    2.200000000000001,
                    2.300000000000001,
                    2.4000000000000012,
                    2.5000000000000013,
                    2.6000000000000014,
                    2.7000000000000015,
                    2.8000000000000016,
                    2.9000000000000017,
                    3.0000000000000018,
                    3.100000000000002,
                    3.200000000000002,
                    3.300000000000002,
                    3.400000000000002,
                    3.500000000000002,
                    3.6000000000000023,
                    3.7000000000000024,
                    3.8000000000000025,
                    3.9000000000000026,
                    4.000000000000003,
                    4.100000000000003,
                    4.200000000000003,
                    4.3000000000000025,
                    4.400000000000003,
                    4.5000000000000036,
                    4.600000000000003,
                    4.700000000000003,
                    4.800000000000003,
                    4.900000000000004,
                    5.0000000000000036,
                    5.100000000000003,
                    5.200000000000004,
                    5.300000000000004,
                    5.400000000000004,
                    5.5000000000000036,
                    5.600000000000004,
                    5.700000000000005,
                    5.800000000000004,
                    5.900000000000004,
                    6.000000000000004,
                    6.100000000000005,
                    6.200000000000005,
                    6.300000000000004,
                    6.400000000000005,
                    6.500000000000005,
                    6.600000000000005,
                    6.700000000000005,
                    6.800000000000005,
                    6.900000000000006,
                    7.000000000000005,
                    7.100000000000005,
                    7.2000000000000055,
                    7.300000000000006,
                    7.400000000000006,
                    7.500000000000005,
                    7.600000000000006,
                    7.700000000000006,
                    7.800000000000006,
                    7.900000000000006
                  ],
                  "y": [
                    2782.063433093892,
                    1800.9844957876485,
                    1200.7653578324826,
                    841.8394611970871,
                    636.3868853835156,
                    528.5935770199285,
                    458.59669845196186,
                    365.6829143498908,
                    308.6518629802158,
                    276.71689278515987,
                    262.1186377480626,
                    236.48766977823107,
                    173.738744024653,
                    126.46077406441327,
                    91.04368104744935,
                    64.68511336663505,
                    45.21502189274179,
                    30.955325553310104,
                    20.611849058943335,
                    13.191182678681798,
                    7.935313078400213,
                    4.269705199229065,
                    1.762147959030699,
                    0.09047231095610186,
                    -0.9828930565854535,
                    -1.631221131887287,
                    -1.9798124126391485,
                    -2.1190974633791484,
                    -2.11473851359915,
                    -2.015017917845398,
                    -1.8559075351222418,
                    -1.664335940266028,
                    -1.460252164688427,
                    -1.2579602937330492,
                    -1.067123736254871,
                    -0.8936243104981259,
                    -0.7403709698701277,
                    -0.6080543830757961,
                    -0.49586009606719017,
                    -0.4020375433610752,
                    -0.3243687399663031,
                    -0.2605029219412245,
                    -0.2081827085930854,
                    -0.165371184295509,
                    -0.13031160441460088,
                    -0.1015330430236645,
                    -0.07783278328133747,
                    -0.0582516270224005,
                    -0.042019052314572036,
                    -0.028524106659460813,
                    -0.017286967718973756,
                    -0.007924585253931582,
                    -0.00012813456123694777,
                    0.0063547901809215546,
                    0.011725791380740702,
                    0.016153633885551244,
                    0.019785094482358545,
                    0.022731412202119827,
                    0.025097662582993507,
                    0.026966931007336825,
                    0.02841717971023172,
                    0.029504385543987155,
                    0.030286761524621397,
                    0.030806652270257473,
                    0.03110914141871035,
                    0.03122204914689064,
                    0.031178430537693202,
                    0.031006227887701243,
                    0.030724190641194582,
                    0.03034946764819324,
                    0.029900022025685757
                  ]
                },
                {
                  "line": {
                    "width": 5
                  },
                  "marker": {
                    "size": 13
                  },
                  "mode": "lines+markers",
                  "name": "wb97x-d3/6-31g*",
                  "type": "scatter",
                  "x": [
                    1,
                    1.1,
                    1.2000000000000002,
                    1.3000000000000003,
                    1.4000000000000004,
                    1.5000000000000004,
                    1.6000000000000005,
                    1.7000000000000006,
                    1.8000000000000007,
                    1.9000000000000008,
                    2.000000000000001,
                    2.100000000000001,
                    2.200000000000001,
                    2.300000000000001,
                    2.4000000000000012,
                    2.5000000000000013,
                    2.6000000000000014,
                    2.7000000000000015,
                    2.8000000000000016,
                    2.9000000000000017,
                    3.0000000000000018,
                    3.100000000000002,
                    3.200000000000002,
                    3.300000000000002,
                    3.400000000000002,
                    3.500000000000002,
                    3.6000000000000023,
                    3.7000000000000024,
                    3.8000000000000025,
                    3.9000000000000026,
                    4.000000000000003,
                    4.100000000000003,
                    4.200000000000003,
                    4.3000000000000025,
                    4.400000000000003,
                    4.5000000000000036,
                    4.600000000000003,
                    4.700000000000003,
                    4.800000000000003,
                    4.900000000000004,
                    5.0000000000000036,
                    5.100000000000003,
                    5.200000000000004,
                    5.300000000000004,
                    5.400000000000004,
                    5.5000000000000036,
                    5.600000000000004,
                    5.700000000000005,
                    5.800000000000004,
                    5.900000000000004,
                    6.000000000000004,
                    6.100000000000005,
                    6.200000000000005,
                    6.300000000000004,
                    6.400000000000005,
                    6.500000000000005,
                    6.600000000000005,
                    6.700000000000005,
                    6.800000000000005,
                    6.900000000000006,
                    7.000000000000005,
                    7.100000000000005,
                    7.2000000000000055,
                    7.300000000000006,
                    7.400000000000006,
                    7.500000000000005,
                    7.600000000000006,
                    7.700000000000006,
                    7.800000000000006,
                    7.900000000000006
                  ],
                  "y": [
                    2701.2845804169774,
                    1739.3523017095285,
                    1152.327583078877,
                    802.5402325764298,
                    603.8039948698715,
                    501.49528112390544,
                    490.7033251107787,
                    399.0894164922065,
                    343.6862038021791,
                    314.17517093528295,
                    302.7792583408882,
                    256.2206022432074,
                    190.56539979530498,
                    140.71171492047142,
                    102.96330215921625,
                    74.4485112161492,
                    53.03616050106939,
                    37.05248787923483,
                    25.21027375536505,
                    16.520107261894736,
                    10.202301753452048,
                    5.664225177897606,
                    2.4656164997722954,
                    0.2597420421661809,
                    -1.1940576177439652,
                    -2.0874659410328604,
                    -2.5781513787223957,
                    -2.773607151582837,
                    -2.7726243981160223,
                    -2.646520824288018,
                    -2.445756410656031,
                    -2.216502178576775,
                    -1.976402314961888,
                    -1.7465409869910218,
                    -1.5306767746806145,
                    -1.3310540683451109,
                    -1.1495994265424088,
                    -0.9852313296869397,
                    -0.8402601096895523,
                    -0.7121403721976094,
                    -0.6023412820068188,
                    -0.5067623963695951,
                    -0.426546344649978,
                    -0.3605767232365906,
                    -0.3032584334141575,
                    -0.2557809228892438,
                    -0.2163050834205933,
                    -0.18250510620418936,
                    -0.15353309939382598,
                    -0.12900425534462556,
                    -0.1080323162022978,
                    -0.08980915858410299,
                    -0.07406176725635305,
                    -0.06043020309880376,
                    -0.04882073268527165,
                    -0.03878814843483269,
                    -0.030060681514441967,
                    -0.022247981163673103,
                    -0.016017332847695798,
                    -0.010330470278859138,
                    -0.005382764560636133,
                    -0.001402349618729204,
                    0.00221089378464967,
                    0.005071811086963862,
                    0.007797434693202376,
                    0.00976522167911753,
                    0.01164167991373688,
                    0.013223035319242626,
                    0.014342921320348978,
                    0.015543633024208248,
                    0.01621340017300099
                  ]
                },
                {
                  "line": {
                    "width": 5
                  },
                  "marker": {
                    "size": 13
                  },
                  "mode": "lines+markers",
                  "name": "wb97x-d3/aug-cc-pvdz",
                  "type": "scatter",
                  "x": [
                    1,
                    1.1,
                    1.2000000000000002,
                    1.3000000000000003,
                    1.4000000000000004,
                    1.5000000000000004,
                    1.6000000000000005,
                    1.7000000000000006,
                    1.8000000000000007,
                    1.9000000000000008,
                    2.000000000000001,
                    2.100000000000001,
                    2.200000000000001,
                    2.300000000000001,
                    2.4000000000000012,
                    2.5000000000000013,
                    2.6000000000000014,
                    2.7000000000000015,
                    2.8000000000000016,
                    2.9000000000000017,
                    3.0000000000000018,
                    3.100000000000002,
                    3.200000000000002,
                    3.300000000000002,
                    3.400000000000002,
                    3.500000000000002,
                    3.6000000000000023,
                    3.7000000000000024,
                    3.8000000000000025,
                    3.9000000000000026,
                    4.000000000000003,
                    4.100000000000003,
                    4.200000000000003,
                    4.3000000000000025,
                    4.400000000000003,
                    4.5000000000000036,
                    4.600000000000003,
                    4.700000000000003,
                    4.800000000000003,
                    4.900000000000004,
                    5.0000000000000036,
                    5.100000000000003,
                    5.200000000000004,
                    5.300000000000004,
                    5.400000000000004,
                    5.5000000000000036,
                    5.600000000000004,
                    5.700000000000005,
                    5.800000000000004,
                    5.900000000000004,
                    6.000000000000004,
                    6.100000000000005,
                    6.200000000000005,
                    6.300000000000004,
                    6.400000000000005,
                    6.500000000000005,
                    6.600000000000005,
                    6.700000000000005,
                    6.800000000000005,
                    6.900000000000006,
                    7.000000000000005,
                    7.100000000000005,
                    7.2000000000000055,
                    7.300000000000006,
                    7.400000000000006,
                    7.500000000000005,
                    7.600000000000006,
                    7.700000000000006,
                    7.800000000000006,
                    7.900000000000006
                  ],
                  "y": [
                    2705.6733729657135,
                    1740.354359822988,
                    1150.585743668722,
                    798.6636668840656,
                    598.129341658554,
                    494.3923893503379,
                    470.260326673917,
                    384.508750089386,
                    332.5362380099832,
                    305.0931051002117,
                    294.87077182275243,
                    251.0467051504529,
                    186.9597555398359,
                    138.24484166235197,
                    101.30110821669223,
                    73.36934166721767,
                    52.371004982618615,
                    36.67107111646328,
                    24.996408738545142,
                    16.406389583426062,
                    10.101354698999785,
                    5.542007609037682,
                    2.300257896189578,
                    0.04240540991304442,
                    -1.466886643494945,
                    -2.4155994960456155,
                    -2.9547259827377275,
                    -3.1988556791911833,
                    -3.2455334968981333,
                    -3.1546056946972385,
                    -2.9860535544576123,
                    -2.765378293406684,
                    -2.5235738627961837,
                    -2.2708514328696765,
                    -2.031851228501182,
                    -1.8010932524339296,
                    -1.5964520331472158,
                    -1.4089910354232416,
                    -1.252716742863413,
                    -1.127062576590106,
                    -0.9985875327256508,
                    -0.8897859705612063,
                    -0.7853122543892823,
                    -0.7159065289306454,
                    -0.6417016925988719,
                    -0.5676987479091622,
                    -0.5016316719702445,
                    -0.44329765770817176,
                    -0.38478900463087484,
                    -0.3355516670271754,
                    -0.28761525626759976,
                    -0.2478092156816274,
                    -0.20809058606391773,
                    -0.17378024995559826,
                    -0.14561335038160905,
                    -0.12795418070163578,
                    -0.10291467397473752,
                    -0.08124766172841191,
                    -0.07598384009907022,
                    -0.05765797954518348,
                    -0.045961637049913406,
                    -0.044923916866537184,
                    -0.03514427714981139,
                    -0.03242840425809845,
                    -0.027786909602582455,
                    -0.023872018384281546,
                    -0.008211311651393771,
                    0.0017372085130773485,
                    -0.006046997383236885,
                    -0.007293118862435222,
                    -0.003624574514105916
                  ]
                },
                {
                  "line": {
                    "width": 5
                  },
                  "marker": {
                    "size": 13
                  },
                  "mode": "lines+markers",
                  "name": "mp2/aug-cc-pvdz",
                  "type": "scatter",
                  "x": [
                    1,
                    1.1,
                    1.2000000000000002,
                    1.3000000000000003,
                    1.4000000000000004,
                    1.5000000000000004,
                    1.6000000000000005,
                    1.7000000000000006,
                    1.8000000000000007,
                    1.9000000000000008,
                    2.000000000000001,
                    2.100000000000001,
                    2.200000000000001,
                    2.300000000000001,
                    2.4000000000000012,
                    2.5000000000000013,
                    2.6000000000000014,
                    2.7000000000000015,
                    2.8000000000000016,
                    2.9000000000000017,
                    3.0000000000000018,
                    3.100000000000002,
                    3.200000000000002,
                    3.300000000000002,
                    3.400000000000002,
                    3.500000000000002,
                    3.6000000000000023,
                    3.7000000000000024,
                    3.8000000000000025,
                    3.9000000000000026,
                    4.000000000000003,
                    4.100000000000003,
                    4.200000000000003,
                    4.3000000000000025,
                    4.400000000000003,
                    4.5000000000000036,
                    4.600000000000003,
                    4.700000000000003,
                    4.800000000000003,
                    4.900000000000004,
                    5.0000000000000036,
                    5.100000000000003,
                    5.200000000000004,
                    5.300000000000004,
                    5.400000000000004,
                    5.5000000000000036,
                    5.600000000000004,
                    5.700000000000005,
                    5.800000000000004,
                    5.900000000000004,
                    6.000000000000004,
                    6.100000000000005,
                    6.200000000000005,
                    6.300000000000004,
                    6.400000000000005,
                    6.500000000000005,
                    6.600000000000005,
                    6.700000000000005,
                    6.800000000000005,
                    6.900000000000006,
                    7.000000000000005,
                    7.100000000000005,
                    7.2000000000000055,
                    7.300000000000006,
                    7.400000000000006,
                    7.500000000000005,
                    7.600000000000006,
                    7.700000000000006,
                    7.800000000000006,
                    7.900000000000006
                  ],
                  "y": [
                    2817.4201603538822,
                    1826.1620910183992,
                    1216.842777199403,
                    849.9117791890167,
                    637.1060320123797,
                    522.288439419819,
                    427.99298697151244,
                    334.3615049934597,
                    276.1542249287013,
                    242.93581810343312,
                    227.26375884225126,
                    216.923757152108,
                    156.97278201696463,
                    111.8758365213871,
                    78.18689304619329,
                    53.21817636344349,
                    34.88693577126833,
                    21.58175484678941,
                    12.058759971114341,
                    5.362407889275346,
                    0.7627387557295151,
                    -2.295270314440131,
                    -4.231806858093478,
                    -5.3645834896015,
                    -5.933288871310651,
                    -6.116852013161406,
                    -6.046849330654368,
                    -5.8177191649447195,
                    -5.495362285466399,
                    -5.124256721755955,
                    -4.733195388573222,
                    -4.340290260442998,
                    -3.9568436802946962,
                    -3.590318558854051,
                    -3.2461620764806867,
                    -2.928724722645711,
                    -2.6411645091720857,
                    -2.385102287866175,
                    -2.160106230759993,
                    -1.9638141436153091,
                    -1.79235743987374,
                    -1.6411726275691763,
                    -1.5056041931384243,
                    -1.3818851406103931,
                    -1.2671093865064904,
                    -1.1593960446771234,
                    -1.0577482837834395,
                    -0.9616845395066775,
                    -0.8712159688584507,
                    -0.7864371426403522,
                    -0.7076405024854466,
                    -0.6349653379875235,
                    -0.5684993427130394,
                    -0.5081159877590835,
                    -0.45365368033526465,
                    -0.4048487505642697,
                    -0.36130351602332667,
                    -0.32256995514035225,
                    -0.2880998482578434,
                    -0.25747693347511813,
                    -0.23027813050430268,
                    -0.20604390162043273,
                    -0.18437665875535458,
                    -0.1650210001389496,
                    -0.14765842695487663,
                    -0.13204280368518084,
                    -0.11796971224248409,
                    -0.10527995729353279,
                    -0.09380996995605528,
                    -0.08343549288110808,
                    -0.07403497048653662
                  ]
                }
              ],
              "layout": {
                "bargap": 0.2,
                "height": 600,
                "legend": {
                  "bordercolor": "LightSteelBlue",
                  "borderwidth": 2,
                  "font": {
                    "family": "Arial",
                    "size": 35
                  },
                  "itemsizing": "constant",
                  "orientation": "h",
                  "x": 1.05,
                  "xanchor": "right",
                  "y": 1.02,
                  "yanchor": "bottom"
                },
                "showlegend": false,
                "template": {
                  "data": {
                    "bar": [
                      {
                        "error_x": {
                          "color": "rgb(36,36,36)"
                        },
                        "error_y": {
                          "color": "rgb(36,36,36)"
                        },
                        "marker": {
                          "line": {
                            "color": "white",
                            "width": 0.5
                          },
                          "pattern": {
                            "fillmode": "overlay",
                            "size": 10,
                            "solidity": 0.2
                          }
                        },
                        "type": "bar"
                      }
                    ],
                    "barpolar": [
                      {
                        "marker": {
                          "line": {
                            "color": "white",
                            "width": 0.5
                          },
                          "pattern": {
                            "fillmode": "overlay",
                            "size": 10,
                            "solidity": 0.2
                          }
                        },
                        "type": "barpolar"
                      }
                    ],
                    "carpet": [
                      {
                        "aaxis": {
                          "endlinecolor": "rgb(36,36,36)",
                          "gridcolor": "white",
                          "linecolor": "white",
                          "minorgridcolor": "white",
                          "startlinecolor": "rgb(36,36,36)"
                        },
                        "baxis": {
                          "endlinecolor": "rgb(36,36,36)",
                          "gridcolor": "white",
                          "linecolor": "white",
                          "minorgridcolor": "white",
                          "startlinecolor": "rgb(36,36,36)"
                        },
                        "type": "carpet"
                      }
                    ],
                    "choropleth": [
                      {
                        "colorbar": {
                          "outlinewidth": 1,
                          "tickcolor": "rgb(36,36,36)",
                          "ticks": "outside"
                        },
                        "type": "choropleth"
                      }
                    ],
                    "contour": [
                      {
                        "colorbar": {
                          "outlinewidth": 1,
                          "tickcolor": "rgb(36,36,36)",
                          "ticks": "outside"
                        },
                        "colorscale": [
                          [
                            0,
                            "#440154"
                          ],
                          [
                            0.1111111111111111,
                            "#482878"
                          ],
                          [
                            0.2222222222222222,
                            "#3e4989"
                          ],
                          [
                            0.3333333333333333,
                            "#31688e"
                          ],
                          [
                            0.4444444444444444,
                            "#26828e"
                          ],
                          [
                            0.5555555555555556,
                            "#1f9e89"
                          ],
                          [
                            0.6666666666666666,
                            "#35b779"
                          ],
                          [
                            0.7777777777777778,
                            "#6ece58"
                          ],
                          [
                            0.8888888888888888,
                            "#b5de2b"
                          ],
                          [
                            1,
                            "#fde725"
                          ]
                        ],
                        "type": "contour"
                      }
                    ],
                    "contourcarpet": [
                      {
                        "colorbar": {
                          "outlinewidth": 1,
                          "tickcolor": "rgb(36,36,36)",
                          "ticks": "outside"
                        },
                        "type": "contourcarpet"
                      }
                    ],
                    "heatmap": [
                      {
                        "colorbar": {
                          "outlinewidth": 1,
                          "tickcolor": "rgb(36,36,36)",
                          "ticks": "outside"
                        },
                        "colorscale": [
                          [
                            0,
                            "#440154"
                          ],
                          [
                            0.1111111111111111,
                            "#482878"
                          ],
                          [
                            0.2222222222222222,
                            "#3e4989"
                          ],
                          [
                            0.3333333333333333,
                            "#31688e"
                          ],
                          [
                            0.4444444444444444,
                            "#26828e"
                          ],
                          [
                            0.5555555555555556,
                            "#1f9e89"
                          ],
                          [
                            0.6666666666666666,
                            "#35b779"
                          ],
                          [
                            0.7777777777777778,
                            "#6ece58"
                          ],
                          [
                            0.8888888888888888,
                            "#b5de2b"
                          ],
                          [
                            1,
                            "#fde725"
                          ]
                        ],
                        "type": "heatmap"
                      }
                    ],
                    "heatmapgl": [
                      {
                        "colorbar": {
                          "outlinewidth": 1,
                          "tickcolor": "rgb(36,36,36)",
                          "ticks": "outside"
                        },
                        "colorscale": [
                          [
                            0,
                            "#440154"
                          ],
                          [
                            0.1111111111111111,
                            "#482878"
                          ],
                          [
                            0.2222222222222222,
                            "#3e4989"
                          ],
                          [
                            0.3333333333333333,
                            "#31688e"
                          ],
                          [
                            0.4444444444444444,
                            "#26828e"
                          ],
                          [
                            0.5555555555555556,
                            "#1f9e89"
                          ],
                          [
                            0.6666666666666666,
                            "#35b779"
                          ],
                          [
                            0.7777777777777778,
                            "#6ece58"
                          ],
                          [
                            0.8888888888888888,
                            "#b5de2b"
                          ],
                          [
                            1,
                            "#fde725"
                          ]
                        ],
                        "type": "heatmapgl"
                      }
                    ],
                    "histogram": [
                      {
                        "marker": {
                          "line": {
                            "color": "white",
                            "width": 0.6
                          }
                        },
                        "type": "histogram"
                      }
                    ],
                    "histogram2d": [
                      {
                        "colorbar": {
                          "outlinewidth": 1,
                          "tickcolor": "rgb(36,36,36)",
                          "ticks": "outside"
                        },
                        "colorscale": [
                          [
                            0,
                            "#440154"
                          ],
                          [
                            0.1111111111111111,
                            "#482878"
                          ],
                          [
                            0.2222222222222222,
                            "#3e4989"
                          ],
                          [
                            0.3333333333333333,
                            "#31688e"
                          ],
                          [
                            0.4444444444444444,
                            "#26828e"
                          ],
                          [
                            0.5555555555555556,
                            "#1f9e89"
                          ],
                          [
                            0.6666666666666666,
                            "#35b779"
                          ],
                          [
                            0.7777777777777778,
                            "#6ece58"
                          ],
                          [
                            0.8888888888888888,
                            "#b5de2b"
                          ],
                          [
                            1,
                            "#fde725"
                          ]
                        ],
                        "type": "histogram2d"
                      }
                    ],
                    "histogram2dcontour": [
                      {
                        "colorbar": {
                          "outlinewidth": 1,
                          "tickcolor": "rgb(36,36,36)",
                          "ticks": "outside"
                        },
                        "colorscale": [
                          [
                            0,
                            "#440154"
                          ],
                          [
                            0.1111111111111111,
                            "#482878"
                          ],
                          [
                            0.2222222222222222,
                            "#3e4989"
                          ],
                          [
                            0.3333333333333333,
                            "#31688e"
                          ],
                          [
                            0.4444444444444444,
                            "#26828e"
                          ],
                          [
                            0.5555555555555556,
                            "#1f9e89"
                          ],
                          [
                            0.6666666666666666,
                            "#35b779"
                          ],
                          [
                            0.7777777777777778,
                            "#6ece58"
                          ],
                          [
                            0.8888888888888888,
                            "#b5de2b"
                          ],
                          [
                            1,
                            "#fde725"
                          ]
                        ],
                        "type": "histogram2dcontour"
                      }
                    ],
                    "mesh3d": [
                      {
                        "colorbar": {
                          "outlinewidth": 1,
                          "tickcolor": "rgb(36,36,36)",
                          "ticks": "outside"
                        },
                        "type": "mesh3d"
                      }
                    ],
                    "parcoords": [
                      {
                        "line": {
                          "colorbar": {
                            "outlinewidth": 1,
                            "tickcolor": "rgb(36,36,36)",
                            "ticks": "outside"
                          }
                        },
                        "type": "parcoords"
                      }
                    ],
                    "pie": [
                      {
                        "automargin": true,
                        "type": "pie"
                      }
                    ],
                    "scatter": [
                      {
                        "fillpattern": {
                          "fillmode": "overlay",
                          "size": 10,
                          "solidity": 0.2
                        },
                        "type": "scatter"
                      }
                    ],
                    "scatter3d": [
                      {
                        "line": {
                          "colorbar": {
                            "outlinewidth": 1,
                            "tickcolor": "rgb(36,36,36)",
                            "ticks": "outside"
                          }
                        },
                        "marker": {
                          "colorbar": {
                            "outlinewidth": 1,
                            "tickcolor": "rgb(36,36,36)",
                            "ticks": "outside"
                          }
                        },
                        "type": "scatter3d"
                      }
                    ],
                    "scattercarpet": [
                      {
                        "marker": {
                          "colorbar": {
                            "outlinewidth": 1,
                            "tickcolor": "rgb(36,36,36)",
                            "ticks": "outside"
                          }
                        },
                        "type": "scattercarpet"
                      }
                    ],
                    "scattergeo": [
                      {
                        "marker": {
                          "colorbar": {
                            "outlinewidth": 1,
                            "tickcolor": "rgb(36,36,36)",
                            "ticks": "outside"
                          }
                        },
                        "type": "scattergeo"
                      }
                    ],
                    "scattergl": [
                      {
                        "marker": {
                          "colorbar": {
                            "outlinewidth": 1,
                            "tickcolor": "rgb(36,36,36)",
                            "ticks": "outside"
                          }
                        },
                        "type": "scattergl"
                      }
                    ],
                    "scattermapbox": [
                      {
                        "marker": {
                          "colorbar": {
                            "outlinewidth": 1,
                            "tickcolor": "rgb(36,36,36)",
                            "ticks": "outside"
                          }
                        },
                        "type": "scattermapbox"
                      }
                    ],
                    "scatterpolar": [
                      {
                        "marker": {
                          "colorbar": {
                            "outlinewidth": 1,
                            "tickcolor": "rgb(36,36,36)",
                            "ticks": "outside"
                          }
                        },
                        "type": "scatterpolar"
                      }
                    ],
                    "scatterpolargl": [
                      {
                        "marker": {
                          "colorbar": {
                            "outlinewidth": 1,
                            "tickcolor": "rgb(36,36,36)",
                            "ticks": "outside"
                          }
                        },
                        "type": "scatterpolargl"
                      }
                    ],
                    "scatterternary": [
                      {
                        "marker": {
                          "colorbar": {
                            "outlinewidth": 1,
                            "tickcolor": "rgb(36,36,36)",
                            "ticks": "outside"
                          }
                        },
                        "type": "scatterternary"
                      }
                    ],
                    "surface": [
                      {
                        "colorbar": {
                          "outlinewidth": 1,
                          "tickcolor": "rgb(36,36,36)",
                          "ticks": "outside"
                        },
                        "colorscale": [
                          [
                            0,
                            "#440154"
                          ],
                          [
                            0.1111111111111111,
                            "#482878"
                          ],
                          [
                            0.2222222222222222,
                            "#3e4989"
                          ],
                          [
                            0.3333333333333333,
                            "#31688e"
                          ],
                          [
                            0.4444444444444444,
                            "#26828e"
                          ],
                          [
                            0.5555555555555556,
                            "#1f9e89"
                          ],
                          [
                            0.6666666666666666,
                            "#35b779"
                          ],
                          [
                            0.7777777777777778,
                            "#6ece58"
                          ],
                          [
                            0.8888888888888888,
                            "#b5de2b"
                          ],
                          [
                            1,
                            "#fde725"
                          ]
                        ],
                        "type": "surface"
                      }
                    ],
                    "table": [
                      {
                        "cells": {
                          "fill": {
                            "color": "rgb(237,237,237)"
                          },
                          "line": {
                            "color": "white"
                          }
                        },
                        "header": {
                          "fill": {
                            "color": "rgb(217,217,217)"
                          },
                          "line": {
                            "color": "white"
                          }
                        },
                        "type": "table"
                      }
                    ]
                  },
                  "layout": {
                    "annotationdefaults": {
                      "arrowhead": 0,
                      "arrowwidth": 1
                    },
                    "autotypenumbers": "strict",
                    "coloraxis": {
                      "colorbar": {
                        "outlinewidth": 1,
                        "tickcolor": "rgb(36,36,36)",
                        "ticks": "outside"
                      }
                    },
                    "colorscale": {
                      "diverging": [
                        [
                          0,
                          "rgb(103,0,31)"
                        ],
                        [
                          0.1,
                          "rgb(178,24,43)"
                        ],
                        [
                          0.2,
                          "rgb(214,96,77)"
                        ],
                        [
                          0.3,
                          "rgb(244,165,130)"
                        ],
                        [
                          0.4,
                          "rgb(253,219,199)"
                        ],
                        [
                          0.5,
                          "rgb(247,247,247)"
                        ],
                        [
                          0.6,
                          "rgb(209,229,240)"
                        ],
                        [
                          0.7,
                          "rgb(146,197,222)"
                        ],
                        [
                          0.8,
                          "rgb(67,147,195)"
                        ],
                        [
                          0.9,
                          "rgb(33,102,172)"
                        ],
                        [
                          1,
                          "rgb(5,48,97)"
                        ]
                      ],
                      "sequential": [
                        [
                          0,
                          "#440154"
                        ],
                        [
                          0.1111111111111111,
                          "#482878"
                        ],
                        [
                          0.2222222222222222,
                          "#3e4989"
                        ],
                        [
                          0.3333333333333333,
                          "#31688e"
                        ],
                        [
                          0.4444444444444444,
                          "#26828e"
                        ],
                        [
                          0.5555555555555556,
                          "#1f9e89"
                        ],
                        [
                          0.6666666666666666,
                          "#35b779"
                        ],
                        [
                          0.7777777777777778,
                          "#6ece58"
                        ],
                        [
                          0.8888888888888888,
                          "#b5de2b"
                        ],
                        [
                          1,
                          "#fde725"
                        ]
                      ],
                      "sequentialminus": [
                        [
                          0,
                          "#440154"
                        ],
                        [
                          0.1111111111111111,
                          "#482878"
                        ],
                        [
                          0.2222222222222222,
                          "#3e4989"
                        ],
                        [
                          0.3333333333333333,
                          "#31688e"
                        ],
                        [
                          0.4444444444444444,
                          "#26828e"
                        ],
                        [
                          0.5555555555555556,
                          "#1f9e89"
                        ],
                        [
                          0.6666666666666666,
                          "#35b779"
                        ],
                        [
                          0.7777777777777778,
                          "#6ece58"
                        ],
                        [
                          0.8888888888888888,
                          "#b5de2b"
                        ],
                        [
                          1,
                          "#fde725"
                        ]
                      ]
                    },
                    "colorway": [
                      "#1F77B4",
                      "#FF7F0E",
                      "#2CA02C",
                      "#D62728",
                      "#9467BD",
                      "#8C564B",
                      "#E377C2",
                      "#7F7F7F",
                      "#BCBD22",
                      "#17BECF"
                    ],
                    "font": {
                      "color": "rgb(36,36,36)"
                    },
                    "geo": {
                      "bgcolor": "white",
                      "lakecolor": "white",
                      "landcolor": "white",
                      "showlakes": true,
                      "showland": true,
                      "subunitcolor": "white"
                    },
                    "hoverlabel": {
                      "align": "left"
                    },
                    "hovermode": "closest",
                    "mapbox": {
                      "style": "light"
                    },
                    "paper_bgcolor": "white",
                    "plot_bgcolor": "white",
                    "polar": {
                      "angularaxis": {
                        "gridcolor": "rgb(232,232,232)",
                        "linecolor": "rgb(36,36,36)",
                        "showgrid": false,
                        "showline": true,
                        "ticks": "outside"
                      },
                      "bgcolor": "white",
                      "radialaxis": {
                        "gridcolor": "rgb(232,232,232)",
                        "linecolor": "rgb(36,36,36)",
                        "showgrid": false,
                        "showline": true,
                        "ticks": "outside"
                      }
                    },
                    "scene": {
                      "xaxis": {
                        "backgroundcolor": "white",
                        "gridcolor": "rgb(232,232,232)",
                        "gridwidth": 2,
                        "linecolor": "rgb(36,36,36)",
                        "showbackground": true,
                        "showgrid": false,
                        "showline": true,
                        "ticks": "outside",
                        "zeroline": false,
                        "zerolinecolor": "rgb(36,36,36)"
                      },
                      "yaxis": {
                        "backgroundcolor": "white",
                        "gridcolor": "rgb(232,232,232)",
                        "gridwidth": 2,
                        "linecolor": "rgb(36,36,36)",
                        "showbackground": true,
                        "showgrid": false,
                        "showline": true,
                        "ticks": "outside",
                        "zeroline": false,
                        "zerolinecolor": "rgb(36,36,36)"
                      },
                      "zaxis": {
                        "backgroundcolor": "white",
                        "gridcolor": "rgb(232,232,232)",
                        "gridwidth": 2,
                        "linecolor": "rgb(36,36,36)",
                        "showbackground": true,
                        "showgrid": false,
                        "showline": true,
                        "ticks": "outside",
                        "zeroline": false,
                        "zerolinecolor": "rgb(36,36,36)"
                      }
                    },
                    "shapedefaults": {
                      "fillcolor": "black",
                      "line": {
                        "width": 0
                      },
                      "opacity": 0.3
                    },
                    "ternary": {
                      "aaxis": {
                        "gridcolor": "rgb(232,232,232)",
                        "linecolor": "rgb(36,36,36)",
                        "showgrid": false,
                        "showline": true,
                        "ticks": "outside"
                      },
                      "baxis": {
                        "gridcolor": "rgb(232,232,232)",
                        "linecolor": "rgb(36,36,36)",
                        "showgrid": false,
                        "showline": true,
                        "ticks": "outside"
                      },
                      "bgcolor": "white",
                      "caxis": {
                        "gridcolor": "rgb(232,232,232)",
                        "linecolor": "rgb(36,36,36)",
                        "showgrid": false,
                        "showline": true,
                        "ticks": "outside"
                      }
                    },
                    "title": {
                      "x": 0.05
                    },
                    "xaxis": {
                      "automargin": true,
                      "gridcolor": "rgb(232,232,232)",
                      "linecolor": "rgb(36,36,36)",
                      "showgrid": false,
                      "showline": true,
                      "ticks": "outside",
                      "title": {
                        "standoff": 15
                      },
                      "zeroline": false,
                      "zerolinecolor": "rgb(36,36,36)"
                    },
                    "yaxis": {
                      "automargin": true,
                      "gridcolor": "rgb(232,232,232)",
                      "linecolor": "rgb(36,36,36)",
                      "showgrid": false,
                      "showline": true,
                      "ticks": "outside",
                      "title": {
                        "standoff": 15
                      },
                      "zeroline": false,
                      "zerolinecolor": "rgb(36,36,36)"
                    }
                  }
                },
                "width": 1350,
                "xaxis": {
                  "range": [
                    1,
                    8
                  ],
                  "tickfont": {
                    "size": 30
                  },
                  "tickformat": "i"
                },
                "yaxis": {
                  "range": [
                    -10,
                    10
                  ],
                  "tickfont": {
                    "size": 30
                  }
                }
              }
            }
          },
          "metadata": {},
          "output_type": "display_data"
        }
      ],
      "source": [
        "# Pi Stack\n",
        "\n",
        "import numpy as np\n",
        "import plotly.graph_objects as go\n",
        "\n",
        "distances = np.arange(1.0, 8.0, 0.1)\n",
        "\n",
        "theories = {\n",
        "\n",
        "    'hf/6-31g*': [2843.1418572918046, 1852.0960732421954, 1247.1623779715155, 887.3063527568593, 683.9139386144234, 580.8352996517206, 607.0036745927064, 506.6359033588669, 443.82054585346486, 408.29601134802215, 392.4310117850546, 312.0730263678124, 238.3869779605884, 181.78848902473692, 138.38597113534342, 105.16086926060962, 79.77777781529585, 60.42848342086654, 45.71140851970995, 34.54027385619702, 26.074454525543842, 19.665446832892485, 14.81550430104835, 11.145489438786171, 8.369254794728477, 6.272620556061156, 4.695860555046238, 3.5192105200258084, 2.6514705759473145, 2.0216253778198734, 1.5731650057132356, 1.260545784723945, 1.047077318711672, 0.9036330561502837, 0.8076847171760164, 0.7424185463460162, 0.6958230452728458, 0.6597638826351613, 0.6290585359092802, 0.6006798975286074, 0.573066946817562, 0.5455904973787256, 0.518155983183533, 0.490935591456946, 0.4641964759794064, 0.4382124749245122, 0.4131974337506108, 0.3893070104531944, 0.3666377368499525, 0.345232771593146, 0.3250893212389201, 0.30617703922325745, 0.2884483773377724, 0.2718468310777098, 0.2563050555763766, 0.24175675987498835, 0.2281426108093001, 0.21539262519218028, 0.20345212402753532, 0.19226304913172498, 0.18177839333657175, 0.17194328748155385, 0.16271741437958553, 0.15405538701452315, 0.14592405722942203, 0.1382813547970727, 0.13109779503429309, 0.12434527475852519, 0.1179922511219047, 0.11201067100046203, 0.10637780430261046],\n",
        "    # 'pbe0/6-31g*': [2692.053898659884, 1731.9310765629634, 1146.437929073174, 797.7482617658679, 599.4528592164279, 497.0269764130935, 455.7648779693409, 376.2523625672329, 320.2742791863857, 289.52205800818047, 276.6960592608084, 252.2611298233969, 189.16370753059164, 141.3886891672155, 105.14001244778046, 77.82959700073116, 57.334858216752764, 42.02088962413836, 30.63568084081635, 22.216529225581326, 16.025198284711223, 11.497421187581494, 8.204711047525052, 5.823660334572196, 4.112713682756294, 2.892521161644254, 2.0313502371427603, 1.4322628515656106, 1.023636112222448, 0.7536502329749055, 0.5815230347798206, 0.47990369115723297, 0.42580862529575825, 0.4034151307423599, 0.4002787626814097, 0.408497077296488, 0.42054598283721134, 0.4301881897263229, 0.43961092381505296, 0.44264084234600887, 0.43944691255455837, 0.43335669522639364, 0.4221587144420482, 0.4077986402553506, 0.39159666415071115, 0.3737551012309268, 0.3554880917654373, 0.3369746350799687, 0.3186879712739028, 0.30101418937556446, 0.28412113193189725, 0.26797413459280506, 0.2527215449954383, 0.23834362998604774, 0.22483136330265552, 0.21212839637883008, 0.20022198738297448, 0.18905436783097684, 0.17858667898690328, 0.16876949317520484, 0.15956753853242844, 0.15093278395943344, 0.1428315935190767, 0.13522429118165746, 0.12808297347510234, 0.12137003621319309, 0.11506031476892531, 0.10912953544175252, 0.10354964854195714, 0.09829582122620195, 0.0933483942062594],\n",
        "    # 'wb97x-d/aug-cc-pvdz': [2706.102964133781, 1743.6955213383771, 1155.5490614909795, 804.1173203945509, 603.0675819284515, 497.94028953585075, 466.16131928307004, 378.8671762981103, 325.65035014692694, 297.22420670383144, 286.25099027791293, 248.4778118051472, 184.7827069873456, 136.22897173749516, 99.38146095152479, 71.53619772824459, 50.652756501804106, 35.09145424480084, 23.556532343674917, 15.122872982581612, 8.97824685840169, 4.599380983097944, 1.5457537631737068, -0.5207863209070638, -1.845692864852026, -2.630310393346008, -3.028292081260588, -3.1607820534263737, -3.1228335927589796, -2.966267889365554, -2.759283016959671, -2.5111318595008925, -2.262429678288754, -2.0121151281055063, -1.7859822659520432, -1.5771916572120972, -1.3973127836361527, -1.2377211791463196, -1.1069706178386696, -1.004678612400312, -0.8984512144816108, -0.8085017355624586, -0.7205406828434207, -0.661485324788373, -0.5970958645339124, -0.5314955163630657, -0.4712771602207795, -0.4176384906168096, -0.36380061850650236, -0.31750013754935935, -0.27204992691986263, -0.23457963461987674, -0.19704590761102736, -0.16467373026534915, -0.13802948099328205, -0.12090555694885552, -0.09746715618530288, -0.07729039178229868, -0.0717129415133968, -0.054788525856565684, -0.04382388619706035, -0.04243353381752968, -0.03338245552731678, -0.030626011779531837, -0.02614735986571759, -0.022338362701702863, -0.008257039706222713, 0.00073485285975039, -0.005922473035752773, -0.006847122742328793, -0.0034249488380737603],\n",
        "    'mp2/6-31g*': [2782.063433093892, 1800.9844957876485, 1200.7653578324826, 841.8394611970871, 636.3868853835156, 528.5935770199285, 458.59669845196186, 365.6829143498908, 308.6518629802158, 276.71689278515987, 262.1186377480626, 236.48766977823107, 173.738744024653, 126.46077406441327, 91.04368104744935, 64.68511336663505, 45.21502189274179, 30.955325553310104, 20.611849058943335, 13.191182678681798, 7.935313078400213, 4.269705199229065, 1.762147959030699, 0.09047231095610186, -0.9828930565854535, -1.631221131887287, -1.9798124126391485, -2.1190974633791484, -2.11473851359915, -2.015017917845398, -1.8559075351222418, -1.664335940266028, -1.460252164688427, -1.2579602937330492, -1.067123736254871, -0.8936243104981259, -0.7403709698701277, -0.6080543830757961, -0.49586009606719017, -0.4020375433610752, -0.3243687399663031, -0.2605029219412245, -0.2081827085930854, -0.165371184295509, -0.13031160441460088, -0.1015330430236645, -0.07783278328133747, -0.0582516270224005, -0.042019052314572036, -0.028524106659460813, -0.017286967718973756, -0.007924585253931582, -0.00012813456123694777, 0.0063547901809215546, 0.011725791380740702, 0.016153633885551244, 0.019785094482358545, 0.022731412202119827, 0.025097662582993507, 0.026966931007336825, 0.02841717971023172, 0.029504385543987155, 0.030286761524621397, 0.030806652270257473, 0.03110914141871035, 0.03122204914689064, 0.031178430537693202, 0.031006227887701243, 0.030724190641194582, 0.03034946764819324, 0.029900022025685757],\n",
        "    'wb97x-d3/6-31g*': [2701.2845804169774, 1739.3523017095285, 1152.327583078877, 802.5402325764298, 603.8039948698715, 501.49528112390544, 490.7033251107787, 399.0894164922065, 343.6862038021791, 314.17517093528295, 302.7792583408882, 256.2206022432074, 190.56539979530498, 140.71171492047142, 102.96330215921625, 74.4485112161492, 53.03616050106939, 37.05248787923483, 25.21027375536505, 16.520107261894736, 10.202301753452048, 5.664225177897606, 2.4656164997722954, 0.2597420421661809, -1.1940576177439652, -2.0874659410328604, -2.5781513787223957, -2.773607151582837, -2.7726243981160223, -2.646520824288018, -2.445756410656031, -2.216502178576775, -1.976402314961888, -1.7465409869910218, -1.5306767746806145, -1.3310540683451109, -1.1495994265424088, -0.9852313296869397, -0.8402601096895523, -0.7121403721976094, -0.6023412820068188, -0.5067623963695951, -0.426546344649978, -0.3605767232365906, -0.3032584334141575, -0.2557809228892438, -0.2163050834205933, -0.18250510620418936, -0.15353309939382598, -0.12900425534462556, -0.1080323162022978, -0.08980915858410299, -0.07406176725635305, -0.06043020309880376, -0.04882073268527165, -0.03878814843483269, -0.030060681514441967, -0.022247981163673103, -0.016017332847695798, -0.010330470278859138, -0.005382764560636133, -0.001402349618729204, 0.00221089378464967, 0.005071811086963862, 0.007797434693202376, 0.00976522167911753, 0.01164167991373688, 0.013223035319242626, 0.014342921320348978, 0.015543633024208248, 0.01621340017300099],\n",
        "    'wb97x-d3/aug-cc-pvdz': [2705.6733729657135, 1740.354359822988, 1150.585743668722, 798.6636668840656, 598.129341658554, 494.3923893503379, 470.260326673917, 384.508750089386, 332.5362380099832, 305.0931051002117, 294.87077182275243, 251.0467051504529, 186.9597555398359, 138.24484166235197, 101.30110821669223, 73.36934166721767, 52.371004982618615, 36.67107111646328, 24.996408738545142, 16.406389583426062, 10.101354698999785, 5.542007609037682, 2.300257896189578, 0.04240540991304442, -1.466886643494945, -2.4155994960456155, -2.9547259827377275, -3.1988556791911833, -3.2455334968981333, -3.1546056946972385, -2.9860535544576123, -2.765378293406684, -2.5235738627961837, -2.2708514328696765, -2.031851228501182, -1.8010932524339296, -1.5964520331472158, -1.4089910354232416, -1.252716742863413, -1.127062576590106, -0.9985875327256508, -0.8897859705612063, -0.7853122543892823, -0.7159065289306454, -0.6417016925988719, -0.5676987479091622, -0.5016316719702445, -0.44329765770817176, -0.38478900463087484, -0.3355516670271754, -0.28761525626759976, -0.2478092156816274, -0.20809058606391773, -0.17378024995559826, -0.14561335038160905, -0.12795418070163578, -0.10291467397473752, -0.08124766172841191, -0.07598384009907022, -0.05765797954518348, -0.045961637049913406, -0.044923916866537184, -0.03514427714981139, -0.03242840425809845, -0.027786909602582455, -0.023872018384281546, -0.008211311651393771, 0.0017372085130773485, -0.006046997383236885, -0.007293118862435222, -0.003624574514105916],\n",
        "    'mp2/aug-cc-pvdz': [2817.4201603538822, 1826.1620910183992, 1216.842777199403, 849.9117791890167, 637.1060320123797, 522.288439419819, 427.99298697151244, 334.3615049934597, 276.1542249287013, 242.93581810343312, 227.26375884225126, 216.923757152108, 156.97278201696463, 111.8758365213871, 78.18689304619329, 53.21817636344349, 34.88693577126833, 21.58175484678941, 12.058759971114341, 5.362407889275346, 0.7627387557295151, -2.295270314440131, -4.231806858093478, -5.3645834896015, -5.933288871310651, -6.116852013161406, -6.046849330654368, -5.8177191649447195, -5.495362285466399, -5.124256721755955, -4.733195388573222, -4.340290260442998, -3.9568436802946962, -3.590318558854051, -3.2461620764806867, -2.928724722645711, -2.6411645091720857, -2.385102287866175, -2.160106230759993, -1.9638141436153091, -1.79235743987374, -1.6411726275691763, -1.5056041931384243, -1.3818851406103931, -1.2671093865064904, -1.1593960446771234, -1.0577482837834395, -0.9616845395066775, -0.8712159688584507, -0.7864371426403522, -0.7076405024854466, -0.6349653379875235, -0.5684993427130394, -0.5081159877590835, -0.45365368033526465, -0.4048487505642697, -0.36130351602332667, -0.32256995514035225, -0.2880998482578434, -0.25747693347511813, -0.23027813050430268, -0.20604390162043273, -0.18437665875535458, -0.1650210001389496, -0.14765842695487663, -0.13204280368518084, -0.11796971224248409, -0.10527995729353279, -0.09380996995605528, -0.08343549288110808, -0.07403497048653662],\n",
        "\n",
        "}\n",
        "\n",
        "\n",
        "fig = go.Figure()\n",
        "\n",
        "for key,value in theories.items():\n",
        "\n",
        "    fig.add_trace(\n",
        "        go.Scatter(\n",
        "            x=list(distances), y=value,\n",
        "            mode='lines+markers',\n",
        "            name=key,\n",
        "            marker=dict(size=13)\n",
        "        )\n",
        "    )\n",
        "\n",
        "fig.update_layout(legend=dict(itemsizing='constant'))\n",
        "fig.update_layout(legend=dict(\n",
        "        orientation=\"h\",\n",
        "        yanchor=\"bottom\",\n",
        "        y=1.02,\n",
        "        xanchor=\"right\",\n",
        "        x=1.05,\n",
        "        font = dict(family = \"Arial\", size = 35),\n",
        "        bordercolor=\"LightSteelBlue\",\n",
        "        borderwidth=2,\n",
        "    ),\n",
        ")\n",
        "fig.update_traces(line=dict(width=5))\n",
        "\n",
        "fig.update_layout(\n",
        "    template='simple_white',\n",
        "    xaxis_tickformat = 'i',\n",
        "    bargap=0.2, # gap between bars of adjacent location coordinates,\n",
        "    height=600,\n",
        "    width=1350,\n",
        "    showlegend=False,\n",
        ")\n",
        "\n",
        "fig.update_yaxes(range=[-10, 10.0], tickfont = dict(size=30))\n",
        "fig.update_xaxes(range=[1.0, 8.0], tickfont = dict(size=30))\n",
        "\n",
        "fig.show()\n"
      ]
    },
    {
      "cell_type": "code",
      "execution_count": 6,
      "metadata": {
        "colab": {
          "base_uri": "https://localhost:8080/",
          "height": 617
        },
        "id": "qZz_8Fpczs3I",
        "outputId": "d7f2b9bd-3f80-4bc5-a28d-caf69f55361e"
      },
      "outputs": [
        {
          "data": {
            "application/vnd.plotly.v1+json": {
              "config": {
                "plotlyServerURL": "https://plot.ly"
              },
              "data": [
                {
                  "line": {
                    "width": 5
                  },
                  "marker": {
                    "size": 13
                  },
                  "mode": "lines+markers",
                  "name": "hf/6-31g*",
                  "type": "scatter",
                  "x": [
                    1,
                    1.1,
                    1.2000000000000002,
                    1.3000000000000003,
                    1.4000000000000004,
                    1.5000000000000004,
                    1.6000000000000005,
                    1.7000000000000006,
                    1.8000000000000007,
                    1.9000000000000008,
                    2.000000000000001,
                    2.100000000000001,
                    2.200000000000001,
                    2.300000000000001,
                    2.4000000000000012,
                    2.5000000000000013,
                    2.6000000000000014,
                    2.7000000000000015,
                    2.8000000000000016,
                    2.9000000000000017,
                    3.0000000000000018,
                    3.100000000000002,
                    3.200000000000002,
                    3.300000000000002,
                    3.400000000000002,
                    3.500000000000002,
                    3.6000000000000023,
                    3.7000000000000024,
                    3.8000000000000025,
                    3.9000000000000026,
                    4.000000000000003,
                    4.100000000000003,
                    4.200000000000003,
                    4.3000000000000025,
                    4.400000000000003,
                    4.5000000000000036,
                    4.600000000000003,
                    4.700000000000003,
                    4.800000000000003,
                    4.900000000000004,
                    5.0000000000000036,
                    5.100000000000003,
                    5.200000000000004,
                    5.300000000000004,
                    5.400000000000004,
                    5.5000000000000036,
                    5.600000000000004,
                    5.700000000000005,
                    5.800000000000004,
                    5.900000000000004,
                    6.000000000000004,
                    6.100000000000005,
                    6.200000000000005,
                    6.300000000000004,
                    6.400000000000005,
                    6.500000000000005,
                    6.600000000000005,
                    6.700000000000005,
                    6.800000000000005,
                    6.900000000000006,
                    7.000000000000005,
                    7.100000000000005,
                    7.2000000000000055,
                    7.300000000000006,
                    7.400000000000006,
                    7.500000000000005,
                    7.600000000000006,
                    7.700000000000006,
                    7.800000000000006,
                    7.900000000000006
                  ],
                  "y": [
                    32.744585659587756,
                    23.61469999299152,
                    17.09053911466617,
                    12.398392133996822,
                    9.008007546537556,
                    6.549900779791642,
                    4.763898044417147,
                    3.4651974830776453,
                    2.521346783149056,
                    1.8365467194234952,
                    1.3409160786541179,
                    0.9831548029906116,
                    0.7254942212603055,
                    0.5401559009915218,
                    0.4068205178482458,
                    0.31072542374022305,
                    0.2412457976024598,
                    0.1907960571697913,
                    0.1539954612380825,
                    0.12704697984736413,
                    0.10725809435825795,
                    0.0927168310736306,
                    0.08203944517299533,
                    0.07420383248245344,
                    0.06843953242059797,
                    0.06415624427609146,
                    0.06089388480177149,
                    0.058297211420722306,
                    0.05610450834501535,
                    0.054117617022711784,
                    0.05221049254760146,
                    0.050301497511100024,
                    0.048352507525123656,
                    0.046350771095603704,
                    0.04430800600675866,
                    0.042240246955771,
                    0.04017282248241827,
                    0.03813318064203486,
                    0.036140284850262105,
                    0.03421477327356115,
                    0.032365043356548995,
                    0.030602450075093657,
                    0.028934741450939327,
                    0.027361740125343204,
                    0.02587786322692409,
                    0.02448679500957951,
                    0.023179479641839862,
                    0.021954578056465834,
                    0.020808679284527898,
                    0.019732652115635574,
                    0.018724601774010807,
                    0.017778702196665108,
                    0.016889705264475197,
                    0.01605399773688987,
                    0.015270693111233413,
                    0.014533482783008367,
                    0.013840281462762505,
                    0.013186472235247493,
                    0.012568999605719,
                    0.01198867306811735,
                    0.011440033733379096,
                    0.010921781824436039,
                    0.010430786409415305,
                    0.009967862104531378,
                    0.009529843693599105,
                    0.009114579996094108,
                    0.008720729150809348,
                    0.008350786927621812,
                    0.007996616826858371,
                    0.0076609746320173144,
                    0.007342486991547048
                  ]
                },
                {
                  "line": {
                    "width": 5
                  },
                  "marker": {
                    "size": 13
                  },
                  "mode": "lines+markers",
                  "name": "wb97x-d3/6-31G*",
                  "type": "scatter",
                  "x": [
                    1,
                    1.1,
                    1.2000000000000002,
                    1.3000000000000003,
                    1.4000000000000004,
                    1.5000000000000004,
                    1.6000000000000005,
                    1.7000000000000006,
                    1.8000000000000007,
                    1.9000000000000008,
                    2.000000000000001,
                    2.100000000000001,
                    2.200000000000001,
                    2.300000000000001,
                    2.4000000000000012,
                    2.5000000000000013,
                    2.6000000000000014,
                    2.7000000000000015,
                    2.8000000000000016,
                    2.9000000000000017,
                    3.0000000000000018,
                    3.100000000000002,
                    3.200000000000002,
                    3.300000000000002,
                    3.400000000000002,
                    3.500000000000002,
                    3.6000000000000023,
                    3.7000000000000024,
                    3.8000000000000025,
                    3.9000000000000026,
                    4.000000000000003,
                    4.100000000000003,
                    4.200000000000003,
                    4.3000000000000025,
                    4.400000000000003,
                    4.5000000000000036,
                    4.600000000000003,
                    4.700000000000003,
                    4.800000000000003,
                    4.900000000000004,
                    5.0000000000000036,
                    5.100000000000003,
                    5.200000000000004,
                    5.300000000000004,
                    5.400000000000004,
                    5.5000000000000036,
                    5.600000000000004,
                    5.700000000000005,
                    5.800000000000004,
                    5.900000000000004,
                    6.000000000000004,
                    6.100000000000005,
                    6.200000000000005,
                    6.300000000000004,
                    6.400000000000005,
                    6.500000000000005,
                    6.600000000000005,
                    6.700000000000005,
                    6.800000000000005,
                    6.900000000000006,
                    7.000000000000005,
                    7.100000000000005,
                    7.2000000000000055,
                    7.300000000000006,
                    7.400000000000006,
                    7.500000000000005,
                    7.600000000000006,
                    7.700000000000006,
                    7.800000000000006,
                    7.900000000000006
                  ],
                  "y": [
                    24.800577143323608,
                    17.006664113607258,
                    11.57919869775651,
                    7.790032074204646,
                    5.144166227255482,
                    3.3014702785294503,
                    2.025870295590721,
                    1.152468229236547,
                    0.564532044925727,
                    0.17853042401839048,
                    -0.06555699644377455,
                    -0.2133390320232138,
                    -0.29932312556775287,
                    -0.3454831020790152,
                    -0.3674852491822094,
                    -0.37404674774734303,
                    -0.36855394183658063,
                    -0.355474766518455,
                    -0.3365217274404131,
                    -0.31344674300635234,
                    -0.2893384781200439,
                    -0.2641494097188115,
                    -0.23918439378030598,
                    -0.214997791510541,
                    -0.19071104959584773,
                    -0.16848922026110813,
                    -0.14713054697494954,
                    -0.12808515498181805,
                    -0.11117181507870555,
                    -0.09592433890793473,
                    -0.08273099188227206,
                    -0.07166601333301514,
                    -0.06209912023041397,
                    -0.053610170201864094,
                    -0.046887494856491685,
                    -0.04107963346177712,
                    -0.03614245401695371,
                    -0.03197969769826159,
                    -0.02831668348517269,
                    -0.02516907372046262,
                    -0.02255985263036564,
                    -0.020293764013331383,
                    -0.018054637941531837,
                    -0.016311966523062438,
                    -0.014653933059889823,
                    -0.013390567619353533,
                    -0.012349620054010302,
                    -0.01081675325985998,
                    -0.009818320628255606,
                    -0.00891982507891953,
                    -0.00789570074994117,
                    -0.007239822356496006,
                    -0.0066221681190654635,
                    -0.005974431696813554,
                    -0.0054503484279848635,
                    -0.00504892593016848,
                    -0.004477804934140295,
                    -0.004296287486795336,
                    -0.0035167261958122253,
                    -0.003365954849869013,
                    -0.0031004169723019004,
                    -0.002497742185369134,
                    -0.0025172524619847536,
                    -0.0021593657438643277,
                    -0.00200640776893124,
                    -0.0018575746798887849,
                    -0.001714325975626707,
                    -0.0013288403861224651,
                    -0.0013372903340496123,
                    -0.0010209394386038184,
                    -0.0009212365257553756
                  ]
                },
                {
                  "line": {
                    "width": 5
                  },
                  "marker": {
                    "size": 13
                  },
                  "mode": "lines+markers",
                  "name": "mp2/6-31g*",
                  "type": "scatter",
                  "x": [
                    1,
                    1.1,
                    1.2000000000000002,
                    1.3000000000000003,
                    1.4000000000000004,
                    1.5000000000000004,
                    1.6000000000000005,
                    1.7000000000000006,
                    1.8000000000000007,
                    1.9000000000000008,
                    2.000000000000001,
                    2.100000000000001,
                    2.200000000000001,
                    2.300000000000001,
                    2.4000000000000012,
                    2.5000000000000013,
                    2.6000000000000014,
                    2.7000000000000015,
                    2.8000000000000016,
                    2.9000000000000017,
                    3.0000000000000018,
                    3.100000000000002,
                    3.200000000000002,
                    3.300000000000002,
                    3.400000000000002,
                    3.500000000000002,
                    3.6000000000000023,
                    3.7000000000000024,
                    3.8000000000000025,
                    3.9000000000000026,
                    4.000000000000003,
                    4.100000000000003,
                    4.200000000000003,
                    4.3000000000000025,
                    4.400000000000003,
                    4.5000000000000036,
                    4.600000000000003,
                    4.700000000000003,
                    4.800000000000003,
                    4.900000000000004,
                    5.0000000000000036,
                    5.100000000000003,
                    5.200000000000004,
                    5.300000000000004,
                    5.400000000000004,
                    5.5000000000000036,
                    5.600000000000004,
                    5.700000000000005,
                    5.800000000000004,
                    5.900000000000004,
                    6.000000000000004,
                    6.100000000000005,
                    6.200000000000005,
                    6.300000000000004,
                    6.400000000000005,
                    6.500000000000005,
                    6.600000000000005,
                    6.700000000000005,
                    6.800000000000005,
                    6.900000000000006,
                    7.000000000000005,
                    7.100000000000005,
                    7.2000000000000055,
                    7.300000000000006,
                    7.400000000000006,
                    7.500000000000005,
                    7.600000000000006,
                    7.700000000000006,
                    7.800000000000006,
                    7.900000000000006
                  ],
                  "y": [
                    23.44661910139257,
                    16.02625786367571,
                    10.86464511527447,
                    7.261863985506352,
                    4.750251188466791,
                    3.0084910693694837,
                    1.8115038937539794,
                    0.9993295399472117,
                    0.45737342903157696,
                    0.10365730948979035,
                    -0.11999289394589141,
                    -0.25459122110623866,
                    -0.3290141709148884,
                    -0.36338340677320957,
                    -0.3717139048385434,
                    -0.3636955244583078,
                    -0.34596879087621346,
                    -0.3230169443413615,
                    -0.2978050887468271,
                    -0.272217522142455,
                    -0.24740707979071885,
                    -0.22403990442398936,
                    -0.20244138879934326,
                    -0.18271525122690946,
                    -0.16485048132017255,
                    -0.14875029941322282,
                    -0.13427378964843228,
                    -0.12131041218526661,
                    -0.1096497603575699,
                    -0.09919180494034663,
                    -0.08980576362228021,
                    -0.08137948898365721,
                    -0.07380452583311126,
                    -0.06699696375289932,
                    -0.060867576976306736,
                    -0.055345739296171814,
                    -0.05036140029551461,
                    -0.04586455330718309,
                    -0.0418034439207986,
                    -0.03812849899986759,
                    -0.03480305668199435,
                    -0.031790407258085907,
                    -0.0290597056155093,
                    -0.02658222266472876,
                    -0.0243358658044599,
                    -0.022296760173048824,
                    -0.02044137811753899,
                    -0.01876119035296142,
                    -0.017230859433766454,
                    -0.015839643019717187,
                    -0.014575463195797056,
                    -0.013422264077235013,
                    -0.0123773209634237,
                    -0.01142265205271542,
                    -0.010554251784924418,
                    -0.009759579494129866,
                    -0.009035579510964453,
                    -0.008370801224373281,
                    -0.007764777808915824,
                    -0.007208169088698924,
                    -0.006694815761875361,
                    -0.006224956596270204,
                    -0.0057897192891687155,
                    -0.005388575838878751,
                    -0.0050193912466056645,
                    -0.004679434990976006,
                    -0.004359546408522874,
                    -0.00406809471314773,
                    -0.0037931781844235957,
                    -0.003541124169714749,
                    -0.003306149854324758
                  ]
                },
                {
                  "line": {
                    "width": 5
                  },
                  "marker": {
                    "size": 13
                  },
                  "mode": "lines+markers",
                  "name": "wb97x-d3/aug-cc-pvdz",
                  "type": "scatter",
                  "x": [
                    1,
                    1.1,
                    1.2000000000000002,
                    1.3000000000000003,
                    1.4000000000000004,
                    1.5000000000000004,
                    1.6000000000000005,
                    1.7000000000000006,
                    1.8000000000000007,
                    1.9000000000000008,
                    2.000000000000001,
                    2.100000000000001,
                    2.200000000000001,
                    2.300000000000001,
                    2.4000000000000012,
                    2.5000000000000013,
                    2.6000000000000014,
                    2.7000000000000015,
                    2.8000000000000016,
                    2.9000000000000017,
                    3.0000000000000018,
                    3.100000000000002,
                    3.200000000000002,
                    3.300000000000002,
                    3.400000000000002,
                    3.500000000000002,
                    3.6000000000000023,
                    3.7000000000000024,
                    3.8000000000000025,
                    3.9000000000000026,
                    4.000000000000003,
                    4.100000000000003,
                    4.200000000000003,
                    4.3000000000000025,
                    4.400000000000003,
                    4.5000000000000036,
                    4.600000000000003,
                    4.700000000000003,
                    4.800000000000003,
                    4.900000000000004,
                    5.0000000000000036,
                    5.100000000000003,
                    5.200000000000004,
                    5.300000000000004,
                    5.400000000000004,
                    5.5000000000000036,
                    5.600000000000004,
                    5.700000000000005,
                    5.800000000000004,
                    5.900000000000004,
                    6.000000000000004,
                    6.100000000000005,
                    6.200000000000005,
                    6.300000000000004,
                    6.400000000000005,
                    6.500000000000005,
                    6.600000000000005,
                    6.700000000000005,
                    6.800000000000005,
                    6.900000000000006,
                    7.000000000000005,
                    7.100000000000005,
                    7.2000000000000055,
                    7.300000000000006,
                    7.400000000000006,
                    7.500000000000005,
                    7.600000000000006,
                    7.700000000000006,
                    7.800000000000006,
                    7.900000000000006
                  ],
                  "y": [
                    23.808640150818974,
                    16.061308005126193,
                    10.687071000167634,
                    6.962051626993343,
                    4.3950219948310405,
                    2.637932234501932,
                    1.4378648391575553,
                    0.6447351667447947,
                    0.1147515777265653,
                    -0.21351465780753642,
                    -0.40537031361600384,
                    -0.5039409755263478,
                    -0.5592215647920966,
                    -0.577888845349662,
                    -0.5642048600129783,
                    -0.5625440832809545,
                    -0.5364538780995645,
                    -0.520410121534951,
                    -0.48309641773812473,
                    -0.45127404370578006,
                    -0.40948254481190816,
                    -0.3795176543062553,
                    -0.34448447881732136,
                    -0.31774244154803455,
                    -0.2742564604850486,
                    -0.25383581302594393,
                    -0.2304372861981392,
                    -0.20658207451924682,
                    -0.18124924442963675,
                    -0.1521588967880234,
                    -0.1519731325097382,
                    -0.1281288146856241,
                    -0.11814388138009235,
                    -0.10535260947654024,
                    -0.09688447712687775,
                    -0.09075440582819283,
                    -0.07624027802376077,
                    -0.07088040007511154,
                    -0.06901967711746693,
                    -0.0651666423655115,
                    -0.060957811190746725,
                    -0.05417593487072736,
                    -0.05219563085120171,
                    -0.04414401622489095,
                    -0.04024443554226309,
                    -0.04572746611665934,
                    -0.03873096453025937,
                    -0.028383857163134962,
                    -0.028251295792870224,
                    -0.025386591150891036,
                    -0.03040740854339674,
                    -0.02849081758176908,
                    -0.01614092680392787,
                    -0.023705638363026083,
                    -0.024326759856194258,
                    -0.01979959540767595,
                    -0.017762100032996386,
                    -0.01825287687825039,
                    -0.01637246028985828,
                    -0.016092361765913665,
                    -0.01111488661263138,
                    -0.015391418361105025,
                    -0.014305613934993744,
                    -0.013653044938109815,
                    -0.00822966464329511,
                    -0.012998106016311795,
                    -0.005476775986608118,
                    -0.010792823974043131,
                    -0.012756816111505032,
                    -0.008685452456120402,
                    -0.006946534791495651
                  ]
                },
                {
                  "line": {
                    "width": 5
                  },
                  "marker": {
                    "size": 13
                  },
                  "mode": "lines+markers",
                  "name": "mp2/aug-cc-pvdz",
                  "type": "scatter",
                  "x": [
                    1,
                    1.1,
                    1.2000000000000002,
                    1.3000000000000003,
                    1.4000000000000004,
                    1.5000000000000004,
                    1.6000000000000005,
                    1.7000000000000006,
                    1.8000000000000007,
                    1.9000000000000008,
                    2.000000000000001,
                    2.100000000000001,
                    2.200000000000001,
                    2.300000000000001,
                    2.4000000000000012,
                    2.5000000000000013,
                    2.6000000000000014,
                    2.7000000000000015,
                    2.8000000000000016,
                    2.9000000000000017,
                    3.0000000000000018,
                    3.100000000000002,
                    3.200000000000002,
                    3.300000000000002,
                    3.400000000000002,
                    3.500000000000002,
                    3.6000000000000023,
                    3.7000000000000024,
                    3.8000000000000025,
                    3.9000000000000026,
                    4.000000000000003,
                    4.100000000000003,
                    4.200000000000003,
                    4.3000000000000025,
                    4.400000000000003,
                    4.5000000000000036,
                    4.600000000000003,
                    4.700000000000003,
                    4.800000000000003,
                    4.900000000000004,
                    5.0000000000000036,
                    5.100000000000003,
                    5.200000000000004,
                    5.300000000000004,
                    5.400000000000004,
                    5.5000000000000036,
                    5.600000000000004,
                    5.700000000000005,
                    5.800000000000004,
                    5.900000000000004,
                    6.000000000000004,
                    6.100000000000005,
                    6.200000000000005,
                    6.300000000000004,
                    6.400000000000005,
                    6.500000000000005,
                    6.600000000000005,
                    6.700000000000005,
                    6.800000000000005,
                    6.900000000000006,
                    7.000000000000005,
                    7.100000000000005,
                    7.2000000000000055,
                    7.300000000000006,
                    7.400000000000006,
                    7.500000000000005,
                    7.600000000000006,
                    7.700000000000006,
                    7.800000000000006,
                    7.900000000000006
                  ],
                  "y": [
                    21.578255203261506,
                    14.136430532147642,
                    8.974452322931029,
                    5.360040427593049,
                    2.869955856585875,
                    1.189536763180513,
                    0.07269280217587948,
                    -0.6512474464252591,
                    -1.0991317371372133,
                    -1.3543341444456019,
                    -1.4774210832547396,
                    -1.512407866306603,
                    -1.4907067660824396,
                    -1.4338155542500317,
                    -1.356010866293218,
                    -1.2668732568854466,
                    -1.172735953470692,
                    -1.0779203659621999,
                    -0.9854228037875146,
                    -0.8972105050925165,
                    -0.8144793985993601,
                    -0.7378632795880549,
                    -0.667607844399754,
                    -0.6036679996177554,
                    -0.5458117579109967,
                    -0.49376928521087393,
                    -0.4472226725774817,
                    -0.4056735761696473,
                    -0.3688037791871466,
                    -0.33617021795362234,
                    -0.30733079405035824,
                    -0.28195490810321644,
                    -0.25958151527447626,
                    -0.2398162532481365,
                    -0.22227616101736203,
                    -0.2066652777721174,
                    -0.19258020858978853,
                    -0.17979304457549006,
                    -0.16808445361675695,
                    -0.15725042443955317,
                    -0.14719232090283185,
                    -0.13779110281029716,
                    -0.1290133045404218,
                    -0.12078247196041048,
                    -0.11311523587210104,
                    -0.10596652398817241,
                    -0.0992996288696304,
                    -0.09309722360922024,
                    -0.08731834485661238,
                    -0.08196022367337719,
                    -0.07695488567696884,
                    -0.07231507479446009,
                    -0.06798068701755255,
                    -0.0639434086624533,
                    -0.06016145256580785,
                    -0.056618591013830155,
                    -0.05330724501982331,
                    -0.05020793812582269,
                    -0.04729013954056427,
                    -0.044556759123224765,
                    -0.04198575433110818,
                    -0.03956696257228032,
                    -0.03729503048816696,
                    -0.03514572588028386,
                    -0.03314063401194289,
                    -0.03121555643156171,
                    -0.029409867303911597,
                    -0.027700275066308677,
                    -0.026078388618770987,
                    -0.024518684775102884,
                    -0.023062017338816077
                  ]
                }
              ],
              "layout": {
                "bargap": 0.2,
                "height": 600,
                "legend": {
                  "bordercolor": "LightSteelBlue",
                  "borderwidth": 2,
                  "font": {
                    "family": "Arial",
                    "size": 35
                  },
                  "itemsizing": "constant",
                  "orientation": "h",
                  "x": 1.05,
                  "xanchor": "right",
                  "y": 1.02,
                  "yanchor": "bottom"
                },
                "showlegend": false,
                "template": {
                  "data": {
                    "bar": [
                      {
                        "error_x": {
                          "color": "rgb(36,36,36)"
                        },
                        "error_y": {
                          "color": "rgb(36,36,36)"
                        },
                        "marker": {
                          "line": {
                            "color": "white",
                            "width": 0.5
                          },
                          "pattern": {
                            "fillmode": "overlay",
                            "size": 10,
                            "solidity": 0.2
                          }
                        },
                        "type": "bar"
                      }
                    ],
                    "barpolar": [
                      {
                        "marker": {
                          "line": {
                            "color": "white",
                            "width": 0.5
                          },
                          "pattern": {
                            "fillmode": "overlay",
                            "size": 10,
                            "solidity": 0.2
                          }
                        },
                        "type": "barpolar"
                      }
                    ],
                    "carpet": [
                      {
                        "aaxis": {
                          "endlinecolor": "rgb(36,36,36)",
                          "gridcolor": "white",
                          "linecolor": "white",
                          "minorgridcolor": "white",
                          "startlinecolor": "rgb(36,36,36)"
                        },
                        "baxis": {
                          "endlinecolor": "rgb(36,36,36)",
                          "gridcolor": "white",
                          "linecolor": "white",
                          "minorgridcolor": "white",
                          "startlinecolor": "rgb(36,36,36)"
                        },
                        "type": "carpet"
                      }
                    ],
                    "choropleth": [
                      {
                        "colorbar": {
                          "outlinewidth": 1,
                          "tickcolor": "rgb(36,36,36)",
                          "ticks": "outside"
                        },
                        "type": "choropleth"
                      }
                    ],
                    "contour": [
                      {
                        "colorbar": {
                          "outlinewidth": 1,
                          "tickcolor": "rgb(36,36,36)",
                          "ticks": "outside"
                        },
                        "colorscale": [
                          [
                            0,
                            "#440154"
                          ],
                          [
                            0.1111111111111111,
                            "#482878"
                          ],
                          [
                            0.2222222222222222,
                            "#3e4989"
                          ],
                          [
                            0.3333333333333333,
                            "#31688e"
                          ],
                          [
                            0.4444444444444444,
                            "#26828e"
                          ],
                          [
                            0.5555555555555556,
                            "#1f9e89"
                          ],
                          [
                            0.6666666666666666,
                            "#35b779"
                          ],
                          [
                            0.7777777777777778,
                            "#6ece58"
                          ],
                          [
                            0.8888888888888888,
                            "#b5de2b"
                          ],
                          [
                            1,
                            "#fde725"
                          ]
                        ],
                        "type": "contour"
                      }
                    ],
                    "contourcarpet": [
                      {
                        "colorbar": {
                          "outlinewidth": 1,
                          "tickcolor": "rgb(36,36,36)",
                          "ticks": "outside"
                        },
                        "type": "contourcarpet"
                      }
                    ],
                    "heatmap": [
                      {
                        "colorbar": {
                          "outlinewidth": 1,
                          "tickcolor": "rgb(36,36,36)",
                          "ticks": "outside"
                        },
                        "colorscale": [
                          [
                            0,
                            "#440154"
                          ],
                          [
                            0.1111111111111111,
                            "#482878"
                          ],
                          [
                            0.2222222222222222,
                            "#3e4989"
                          ],
                          [
                            0.3333333333333333,
                            "#31688e"
                          ],
                          [
                            0.4444444444444444,
                            "#26828e"
                          ],
                          [
                            0.5555555555555556,
                            "#1f9e89"
                          ],
                          [
                            0.6666666666666666,
                            "#35b779"
                          ],
                          [
                            0.7777777777777778,
                            "#6ece58"
                          ],
                          [
                            0.8888888888888888,
                            "#b5de2b"
                          ],
                          [
                            1,
                            "#fde725"
                          ]
                        ],
                        "type": "heatmap"
                      }
                    ],
                    "heatmapgl": [
                      {
                        "colorbar": {
                          "outlinewidth": 1,
                          "tickcolor": "rgb(36,36,36)",
                          "ticks": "outside"
                        },
                        "colorscale": [
                          [
                            0,
                            "#440154"
                          ],
                          [
                            0.1111111111111111,
                            "#482878"
                          ],
                          [
                            0.2222222222222222,
                            "#3e4989"
                          ],
                          [
                            0.3333333333333333,
                            "#31688e"
                          ],
                          [
                            0.4444444444444444,
                            "#26828e"
                          ],
                          [
                            0.5555555555555556,
                            "#1f9e89"
                          ],
                          [
                            0.6666666666666666,
                            "#35b779"
                          ],
                          [
                            0.7777777777777778,
                            "#6ece58"
                          ],
                          [
                            0.8888888888888888,
                            "#b5de2b"
                          ],
                          [
                            1,
                            "#fde725"
                          ]
                        ],
                        "type": "heatmapgl"
                      }
                    ],
                    "histogram": [
                      {
                        "marker": {
                          "line": {
                            "color": "white",
                            "width": 0.6
                          }
                        },
                        "type": "histogram"
                      }
                    ],
                    "histogram2d": [
                      {
                        "colorbar": {
                          "outlinewidth": 1,
                          "tickcolor": "rgb(36,36,36)",
                          "ticks": "outside"
                        },
                        "colorscale": [
                          [
                            0,
                            "#440154"
                          ],
                          [
                            0.1111111111111111,
                            "#482878"
                          ],
                          [
                            0.2222222222222222,
                            "#3e4989"
                          ],
                          [
                            0.3333333333333333,
                            "#31688e"
                          ],
                          [
                            0.4444444444444444,
                            "#26828e"
                          ],
                          [
                            0.5555555555555556,
                            "#1f9e89"
                          ],
                          [
                            0.6666666666666666,
                            "#35b779"
                          ],
                          [
                            0.7777777777777778,
                            "#6ece58"
                          ],
                          [
                            0.8888888888888888,
                            "#b5de2b"
                          ],
                          [
                            1,
                            "#fde725"
                          ]
                        ],
                        "type": "histogram2d"
                      }
                    ],
                    "histogram2dcontour": [
                      {
                        "colorbar": {
                          "outlinewidth": 1,
                          "tickcolor": "rgb(36,36,36)",
                          "ticks": "outside"
                        },
                        "colorscale": [
                          [
                            0,
                            "#440154"
                          ],
                          [
                            0.1111111111111111,
                            "#482878"
                          ],
                          [
                            0.2222222222222222,
                            "#3e4989"
                          ],
                          [
                            0.3333333333333333,
                            "#31688e"
                          ],
                          [
                            0.4444444444444444,
                            "#26828e"
                          ],
                          [
                            0.5555555555555556,
                            "#1f9e89"
                          ],
                          [
                            0.6666666666666666,
                            "#35b779"
                          ],
                          [
                            0.7777777777777778,
                            "#6ece58"
                          ],
                          [
                            0.8888888888888888,
                            "#b5de2b"
                          ],
                          [
                            1,
                            "#fde725"
                          ]
                        ],
                        "type": "histogram2dcontour"
                      }
                    ],
                    "mesh3d": [
                      {
                        "colorbar": {
                          "outlinewidth": 1,
                          "tickcolor": "rgb(36,36,36)",
                          "ticks": "outside"
                        },
                        "type": "mesh3d"
                      }
                    ],
                    "parcoords": [
                      {
                        "line": {
                          "colorbar": {
                            "outlinewidth": 1,
                            "tickcolor": "rgb(36,36,36)",
                            "ticks": "outside"
                          }
                        },
                        "type": "parcoords"
                      }
                    ],
                    "pie": [
                      {
                        "automargin": true,
                        "type": "pie"
                      }
                    ],
                    "scatter": [
                      {
                        "fillpattern": {
                          "fillmode": "overlay",
                          "size": 10,
                          "solidity": 0.2
                        },
                        "type": "scatter"
                      }
                    ],
                    "scatter3d": [
                      {
                        "line": {
                          "colorbar": {
                            "outlinewidth": 1,
                            "tickcolor": "rgb(36,36,36)",
                            "ticks": "outside"
                          }
                        },
                        "marker": {
                          "colorbar": {
                            "outlinewidth": 1,
                            "tickcolor": "rgb(36,36,36)",
                            "ticks": "outside"
                          }
                        },
                        "type": "scatter3d"
                      }
                    ],
                    "scattercarpet": [
                      {
                        "marker": {
                          "colorbar": {
                            "outlinewidth": 1,
                            "tickcolor": "rgb(36,36,36)",
                            "ticks": "outside"
                          }
                        },
                        "type": "scattercarpet"
                      }
                    ],
                    "scattergeo": [
                      {
                        "marker": {
                          "colorbar": {
                            "outlinewidth": 1,
                            "tickcolor": "rgb(36,36,36)",
                            "ticks": "outside"
                          }
                        },
                        "type": "scattergeo"
                      }
                    ],
                    "scattergl": [
                      {
                        "marker": {
                          "colorbar": {
                            "outlinewidth": 1,
                            "tickcolor": "rgb(36,36,36)",
                            "ticks": "outside"
                          }
                        },
                        "type": "scattergl"
                      }
                    ],
                    "scattermapbox": [
                      {
                        "marker": {
                          "colorbar": {
                            "outlinewidth": 1,
                            "tickcolor": "rgb(36,36,36)",
                            "ticks": "outside"
                          }
                        },
                        "type": "scattermapbox"
                      }
                    ],
                    "scatterpolar": [
                      {
                        "marker": {
                          "colorbar": {
                            "outlinewidth": 1,
                            "tickcolor": "rgb(36,36,36)",
                            "ticks": "outside"
                          }
                        },
                        "type": "scatterpolar"
                      }
                    ],
                    "scatterpolargl": [
                      {
                        "marker": {
                          "colorbar": {
                            "outlinewidth": 1,
                            "tickcolor": "rgb(36,36,36)",
                            "ticks": "outside"
                          }
                        },
                        "type": "scatterpolargl"
                      }
                    ],
                    "scatterternary": [
                      {
                        "marker": {
                          "colorbar": {
                            "outlinewidth": 1,
                            "tickcolor": "rgb(36,36,36)",
                            "ticks": "outside"
                          }
                        },
                        "type": "scatterternary"
                      }
                    ],
                    "surface": [
                      {
                        "colorbar": {
                          "outlinewidth": 1,
                          "tickcolor": "rgb(36,36,36)",
                          "ticks": "outside"
                        },
                        "colorscale": [
                          [
                            0,
                            "#440154"
                          ],
                          [
                            0.1111111111111111,
                            "#482878"
                          ],
                          [
                            0.2222222222222222,
                            "#3e4989"
                          ],
                          [
                            0.3333333333333333,
                            "#31688e"
                          ],
                          [
                            0.4444444444444444,
                            "#26828e"
                          ],
                          [
                            0.5555555555555556,
                            "#1f9e89"
                          ],
                          [
                            0.6666666666666666,
                            "#35b779"
                          ],
                          [
                            0.7777777777777778,
                            "#6ece58"
                          ],
                          [
                            0.8888888888888888,
                            "#b5de2b"
                          ],
                          [
                            1,
                            "#fde725"
                          ]
                        ],
                        "type": "surface"
                      }
                    ],
                    "table": [
                      {
                        "cells": {
                          "fill": {
                            "color": "rgb(237,237,237)"
                          },
                          "line": {
                            "color": "white"
                          }
                        },
                        "header": {
                          "fill": {
                            "color": "rgb(217,217,217)"
                          },
                          "line": {
                            "color": "white"
                          }
                        },
                        "type": "table"
                      }
                    ]
                  },
                  "layout": {
                    "annotationdefaults": {
                      "arrowhead": 0,
                      "arrowwidth": 1
                    },
                    "autotypenumbers": "strict",
                    "coloraxis": {
                      "colorbar": {
                        "outlinewidth": 1,
                        "tickcolor": "rgb(36,36,36)",
                        "ticks": "outside"
                      }
                    },
                    "colorscale": {
                      "diverging": [
                        [
                          0,
                          "rgb(103,0,31)"
                        ],
                        [
                          0.1,
                          "rgb(178,24,43)"
                        ],
                        [
                          0.2,
                          "rgb(214,96,77)"
                        ],
                        [
                          0.3,
                          "rgb(244,165,130)"
                        ],
                        [
                          0.4,
                          "rgb(253,219,199)"
                        ],
                        [
                          0.5,
                          "rgb(247,247,247)"
                        ],
                        [
                          0.6,
                          "rgb(209,229,240)"
                        ],
                        [
                          0.7,
                          "rgb(146,197,222)"
                        ],
                        [
                          0.8,
                          "rgb(67,147,195)"
                        ],
                        [
                          0.9,
                          "rgb(33,102,172)"
                        ],
                        [
                          1,
                          "rgb(5,48,97)"
                        ]
                      ],
                      "sequential": [
                        [
                          0,
                          "#440154"
                        ],
                        [
                          0.1111111111111111,
                          "#482878"
                        ],
                        [
                          0.2222222222222222,
                          "#3e4989"
                        ],
                        [
                          0.3333333333333333,
                          "#31688e"
                        ],
                        [
                          0.4444444444444444,
                          "#26828e"
                        ],
                        [
                          0.5555555555555556,
                          "#1f9e89"
                        ],
                        [
                          0.6666666666666666,
                          "#35b779"
                        ],
                        [
                          0.7777777777777778,
                          "#6ece58"
                        ],
                        [
                          0.8888888888888888,
                          "#b5de2b"
                        ],
                        [
                          1,
                          "#fde725"
                        ]
                      ],
                      "sequentialminus": [
                        [
                          0,
                          "#440154"
                        ],
                        [
                          0.1111111111111111,
                          "#482878"
                        ],
                        [
                          0.2222222222222222,
                          "#3e4989"
                        ],
                        [
                          0.3333333333333333,
                          "#31688e"
                        ],
                        [
                          0.4444444444444444,
                          "#26828e"
                        ],
                        [
                          0.5555555555555556,
                          "#1f9e89"
                        ],
                        [
                          0.6666666666666666,
                          "#35b779"
                        ],
                        [
                          0.7777777777777778,
                          "#6ece58"
                        ],
                        [
                          0.8888888888888888,
                          "#b5de2b"
                        ],
                        [
                          1,
                          "#fde725"
                        ]
                      ]
                    },
                    "colorway": [
                      "#1F77B4",
                      "#FF7F0E",
                      "#2CA02C",
                      "#D62728",
                      "#9467BD",
                      "#8C564B",
                      "#E377C2",
                      "#7F7F7F",
                      "#BCBD22",
                      "#17BECF"
                    ],
                    "font": {
                      "color": "rgb(36,36,36)"
                    },
                    "geo": {
                      "bgcolor": "white",
                      "lakecolor": "white",
                      "landcolor": "white",
                      "showlakes": true,
                      "showland": true,
                      "subunitcolor": "white"
                    },
                    "hoverlabel": {
                      "align": "left"
                    },
                    "hovermode": "closest",
                    "mapbox": {
                      "style": "light"
                    },
                    "paper_bgcolor": "white",
                    "plot_bgcolor": "white",
                    "polar": {
                      "angularaxis": {
                        "gridcolor": "rgb(232,232,232)",
                        "linecolor": "rgb(36,36,36)",
                        "showgrid": false,
                        "showline": true,
                        "ticks": "outside"
                      },
                      "bgcolor": "white",
                      "radialaxis": {
                        "gridcolor": "rgb(232,232,232)",
                        "linecolor": "rgb(36,36,36)",
                        "showgrid": false,
                        "showline": true,
                        "ticks": "outside"
                      }
                    },
                    "scene": {
                      "xaxis": {
                        "backgroundcolor": "white",
                        "gridcolor": "rgb(232,232,232)",
                        "gridwidth": 2,
                        "linecolor": "rgb(36,36,36)",
                        "showbackground": true,
                        "showgrid": false,
                        "showline": true,
                        "ticks": "outside",
                        "zeroline": false,
                        "zerolinecolor": "rgb(36,36,36)"
                      },
                      "yaxis": {
                        "backgroundcolor": "white",
                        "gridcolor": "rgb(232,232,232)",
                        "gridwidth": 2,
                        "linecolor": "rgb(36,36,36)",
                        "showbackground": true,
                        "showgrid": false,
                        "showline": true,
                        "ticks": "outside",
                        "zeroline": false,
                        "zerolinecolor": "rgb(36,36,36)"
                      },
                      "zaxis": {
                        "backgroundcolor": "white",
                        "gridcolor": "rgb(232,232,232)",
                        "gridwidth": 2,
                        "linecolor": "rgb(36,36,36)",
                        "showbackground": true,
                        "showgrid": false,
                        "showline": true,
                        "ticks": "outside",
                        "zeroline": false,
                        "zerolinecolor": "rgb(36,36,36)"
                      }
                    },
                    "shapedefaults": {
                      "fillcolor": "black",
                      "line": {
                        "width": 0
                      },
                      "opacity": 0.3
                    },
                    "ternary": {
                      "aaxis": {
                        "gridcolor": "rgb(232,232,232)",
                        "linecolor": "rgb(36,36,36)",
                        "showgrid": false,
                        "showline": true,
                        "ticks": "outside"
                      },
                      "baxis": {
                        "gridcolor": "rgb(232,232,232)",
                        "linecolor": "rgb(36,36,36)",
                        "showgrid": false,
                        "showline": true,
                        "ticks": "outside"
                      },
                      "bgcolor": "white",
                      "caxis": {
                        "gridcolor": "rgb(232,232,232)",
                        "linecolor": "rgb(36,36,36)",
                        "showgrid": false,
                        "showline": true,
                        "ticks": "outside"
                      }
                    },
                    "title": {
                      "x": 0.05
                    },
                    "xaxis": {
                      "automargin": true,
                      "gridcolor": "rgb(232,232,232)",
                      "linecolor": "rgb(36,36,36)",
                      "showgrid": false,
                      "showline": true,
                      "ticks": "outside",
                      "title": {
                        "standoff": 15
                      },
                      "zeroline": false,
                      "zerolinecolor": "rgb(36,36,36)"
                    },
                    "yaxis": {
                      "automargin": true,
                      "gridcolor": "rgb(232,232,232)",
                      "linecolor": "rgb(36,36,36)",
                      "showgrid": false,
                      "showline": true,
                      "ticks": "outside",
                      "title": {
                        "standoff": 15
                      },
                      "zeroline": false,
                      "zerolinecolor": "rgb(36,36,36)"
                    }
                  }
                },
                "width": 1350,
                "xaxis": {
                  "range": [
                    1,
                    8
                  ],
                  "tickfont": {
                    "size": 30
                  },
                  "tickformat": "i"
                },
                "yaxis": {
                  "range": [
                    -10,
                    10
                  ],
                  "tickfont": {
                    "size": 30
                  }
                }
              }
            }
          },
          "metadata": {},
          "output_type": "display_data"
        }
      ],
      "source": [
        "# Repulsion\n",
        "\n",
        "import numpy as np\n",
        "import plotly.graph_objects as go\n",
        "\n",
        "distances = np.arange(1.0, 8.0, 0.1)\n",
        "\n",
        "\n",
        "theories = {\n",
        "    'hf/6-31g*': [32.744585659587756, 23.61469999299152, 17.09053911466617, 12.398392133996822, 9.008007546537556, 6.549900779791642, 4.763898044417147, 3.4651974830776453, 2.521346783149056, 1.8365467194234952, 1.3409160786541179, 0.9831548029906116, 0.7254942212603055, 0.5401559009915218, 0.4068205178482458, 0.31072542374022305, 0.2412457976024598, 0.1907960571697913, 0.1539954612380825, 0.12704697984736413, 0.10725809435825795, 0.0927168310736306, 0.08203944517299533, 0.07420383248245344, 0.06843953242059797, 0.06415624427609146, 0.06089388480177149, 0.058297211420722306, 0.05610450834501535, 0.054117617022711784, 0.05221049254760146, 0.050301497511100024, 0.048352507525123656, 0.046350771095603704, 0.04430800600675866, 0.042240246955771, 0.04017282248241827, 0.03813318064203486, 0.036140284850262105, 0.03421477327356115, 0.032365043356548995, 0.030602450075093657, 0.028934741450939327, 0.027361740125343204, 0.02587786322692409, 0.02448679500957951, 0.023179479641839862, 0.021954578056465834, 0.020808679284527898, 0.019732652115635574, 0.018724601774010807, 0.017778702196665108, 0.016889705264475197, 0.01605399773688987, 0.015270693111233413, 0.014533482783008367, 0.013840281462762505, 0.013186472235247493, 0.012568999605719, 0.01198867306811735, 0.011440033733379096, 0.010921781824436039, 0.010430786409415305, 0.009967862104531378, 0.009529843693599105, 0.009114579996094108, 0.008720729150809348, 0.008350786927621812, 0.007996616826858371, 0.0076609746320173144, 0.007342486991547048],\n",
        "    # 'pbe0/6-31g*': [24.755365553544834, 17.248728879378177, 12.028524695488159, 8.375919269106817, 5.8093330193078145, 4.001505029154941, 2.727450863458216, 1.8314121044822969, 1.2044608826981857, 0.7697087082779035, 0.4722230094484985, 0.27241130016045645, 0.1415123235201463, 0.05858109978726134, 0.00846891273977235, -0.01966857013758272, -0.03347515041241422, -0.03817813383648172, -0.03729830059455708, -0.03313299565343186, -0.02710454777115956, -0.020146497059613466, -0.012794062437023968, -0.005403145216405392, 0.0016944733215495944, 0.008454981143586338, 0.014465998043306172, 0.01988241187063977, 0.024373824009671807, 0.02798707247711718, 0.030775889346841723, 0.03264308243524283, 0.03380031668348238, 0.03427164169261232, 0.03419832844519988, 0.03366477804956958, 0.03281467454507947, 0.03173523134319112, 0.03048158425372094, 0.02915032667806372, 0.02778085775207728, 0.026403665950056165, 0.025057929276954383, 0.023758284223731607, 0.022510721639264375, 0.02132655354216695, 0.020204477943480015, 0.019147227110806853, 0.01815466012340039, 0.017219798115547746, 0.016342634859029204, 0.015518590691499412, 0.014743425708729774, 0.01401426235679537, 0.013330959307495505, 0.012687695445492864, 0.012082850327715278, 0.01151223131455481, 0.01097312243655324, 0.010466729407198727, 0.009987849975004792, 0.009535511082503945, 0.009106752229854465, 0.008702709514182061, 0.00832040183013305, 0.007957876950968057, 0.007613987778313458, 0.007291435787919909, 0.006982166029047221, 0.006689123751129955, 0.006411076465155929],\n",
        "    # 'pbe0/aug-cc-pvdz': [23.6835538855521, 16.252660795580596, 11.117838981037494, 7.555686286475975, 5.082387254515197, 3.3641731509706005, 2.1734924478805624, 1.3540986461448483, 0.7965573960682377, 0.4225635436014272, 0.17570664745289832, 0.015563287655822933, -0.08611563930753618, -0.14817547029815614, -0.18286254291888326, -0.19839557068189606, -0.20050009072292596, -0.19344682339578867, -0.1805767273181118, -0.164488862385042, -0.146997956559062, -0.12942823790945113, -0.1126470432500355, -0.09707892994629219, -0.08308266702806577, -0.07064785156399012, -0.05996298656100407, -0.05067741376115009, -0.042879353335592896, -0.036364332714583725, -0.03082799568073824, -0.02640766277909279, -0.022641774907242507, -0.019578853622078896, -0.01704069261904806, -0.01488933531800285, -0.01305320143001154, -0.011482004541903734, -0.010077522019855678, -0.00882946525234729, -0.007699776266235858, -0.006673013849649578, -0.005769285606220365, -0.004923636093735695, -0.004192082094959915, -0.0035531491739675403, -0.002990781795233488, -0.0024961268063634634, -0.0020650194492191076, -0.001697943895123899, -0.0013755212421528995, -0.001103315851651132, -0.0008645678753964603, -0.0006588213727809489, -0.0004762086900882423, -0.00030997704016044736, -0.0001668366603553295, -4.5012158807367086e-05, 5.8833451475948095e-05, 0.0001550191082060337, 0.00023605837486684322, 0.00031192763708531857, 0.00037925271317362785, 0.00044040463399142027, 0.0004782275063917041, 0.0005345362587831914, 0.0005875147762708366, 0.0006273328326642513, 0.0006730310851708055, 0.0007323731551878154, 0.0007676073582842946],\n",
        "    # 'wb97x-d/aug-cc-pvdz': [26.186205388396047, 18.17142062273342, 12.522602087119594, 8.520200749044307, 5.680064739950467, 3.668924272817094, 2.2533092323574238, 1.2672847862704657, 0.5914511535083875, 0.13905294268624857, -0.15337767655728385, -0.3324994020513259, -0.432567166921217, -0.47865606081904843, -0.4889059071429074, -0.4762961801025085, -0.4499247826170176, -0.41603436414152384, -0.37879719235934317, -0.3409070688067004, -0.30404326564166695, -0.2691876680473797, -0.2368743502884172, -0.20735434937523678, -0.18070292996708304, -0.1568868033355102, -0.13580869685392827, -0.11732686700997874, -0.1012609038152732, -0.0874169084127061, -0.07557489053579047, -0.06550507666543126, -0.056997852050699294, -0.04983005044050515, -0.043795422301627696, -0.038713154033757746, -0.034419451490975916, -0.030771243094932288, -0.027653514232952148, -0.024966048658825457, -0.022634553781244904, -0.020593027351424098, -0.01878821657737717, -0.0171821866533719, -0.015748370613437146, -0.014455717580858618, -0.01328977890079841, -0.012231538421474397, -0.011266615358181298, -0.010388482420239598, -0.009585162159055471, -0.008850103826262057, -0.008177485375199467, -0.0075630974024534225, -0.006994146737270057, -0.006471407832577825, -0.0059896104503422976, -0.005546691187191755, -0.005139640066772699, -0.0047621046542190015, -0.004414504859596491, -0.004093525174539536, -0.0037980901543051004, -0.003523519728332758, -0.003269444510806352, -0.00303477025590837, -0.002817866625264287, -0.0026134849176742136, -0.0024272536975331604, -0.0022540907375514507, -0.002093224145937711],\n",
        "    'wb97x-d3/6-31G*': [24.800577143323608, 17.006664113607258, 11.57919869775651, 7.790032074204646, 5.144166227255482, 3.3014702785294503, 2.025870295590721, 1.152468229236547, 0.564532044925727, 0.17853042401839048, -0.06555699644377455, -0.2133390320232138, -0.29932312556775287, -0.3454831020790152, -0.3674852491822094, -0.37404674774734303, -0.36855394183658063, -0.355474766518455, -0.3365217274404131, -0.31344674300635234, -0.2893384781200439, -0.2641494097188115, -0.23918439378030598, -0.214997791510541, -0.19071104959584773, -0.16848922026110813, -0.14713054697494954, -0.12808515498181805, -0.11117181507870555, -0.09592433890793473, -0.08273099188227206, -0.07166601333301514, -0.06209912023041397, -0.053610170201864094, -0.046887494856491685, -0.04107963346177712, -0.03614245401695371, -0.03197969769826159, -0.02831668348517269, -0.02516907372046262, -0.02255985263036564, -0.020293764013331383, -0.018054637941531837, -0.016311966523062438, -0.014653933059889823, -0.013390567619353533, -0.012349620054010302, -0.01081675325985998, -0.009818320628255606, -0.00891982507891953, -0.00789570074994117, -0.007239822356496006, -0.0066221681190654635, -0.005974431696813554, -0.0054503484279848635, -0.00504892593016848, -0.004477804934140295, -0.004296287486795336, -0.0035167261958122253, -0.003365954849869013, -0.0031004169723019004, -0.002497742185369134, -0.0025172524619847536, -0.0021593657438643277, -0.00200640776893124, -0.0018575746798887849, -0.001714325975626707, -0.0013288403861224651, -0.0013372903340496123, -0.0010209394386038184, -0.0009212365257553756],\n",
        "    'mp2/6-31g*': [23.44661910139257, 16.02625786367571, 10.86464511527447, 7.261863985506352, 4.750251188466791, 3.0084910693694837, 1.8115038937539794, 0.9993295399472117, 0.45737342903157696, 0.10365730948979035, -0.11999289394589141, -0.25459122110623866, -0.3290141709148884, -0.36338340677320957, -0.3717139048385434, -0.3636955244583078, -0.34596879087621346, -0.3230169443413615, -0.2978050887468271, -0.272217522142455, -0.24740707979071885, -0.22403990442398936, -0.20244138879934326, -0.18271525122690946, -0.16485048132017255, -0.14875029941322282, -0.13427378964843228, -0.12131041218526661, -0.1096497603575699, -0.09919180494034663, -0.08980576362228021, -0.08137948898365721, -0.07380452583311126, -0.06699696375289932, -0.060867576976306736, -0.055345739296171814, -0.05036140029551461, -0.04586455330718309, -0.0418034439207986, -0.03812849899986759, -0.03480305668199435, -0.031790407258085907, -0.0290597056155093, -0.02658222266472876, -0.0243358658044599, -0.022296760173048824, -0.02044137811753899, -0.01876119035296142, -0.017230859433766454, -0.015839643019717187, -0.014575463195797056, -0.013422264077235013, -0.0123773209634237, -0.01142265205271542, -0.010554251784924418, -0.009759579494129866, -0.009035579510964453, -0.008370801224373281, -0.007764777808915824, -0.007208169088698924, -0.006694815761875361, -0.006224956596270204, -0.0057897192891687155, -0.005388575838878751, -0.0050193912466056645, -0.004679434990976006, -0.004359546408522874, -0.00406809471314773, -0.0037931781844235957, -0.003541124169714749, -0.003306149854324758],\n",
        "    'wb97x-d3/aug-cc-pvdz': [23.808640150818974, 16.061308005126193, 10.687071000167634, 6.962051626993343, 4.3950219948310405, 2.637932234501932, 1.4378648391575553, 0.6447351667447947, 0.1147515777265653, -0.21351465780753642, -0.40537031361600384, -0.5039409755263478, -0.5592215647920966, -0.577888845349662, -0.5642048600129783, -0.5625440832809545, -0.5364538780995645, -0.520410121534951, -0.48309641773812473, -0.45127404370578006, -0.40948254481190816, -0.3795176543062553, -0.34448447881732136, -0.31774244154803455, -0.2742564604850486, -0.25383581302594393, -0.2304372861981392, -0.20658207451924682, -0.18124924442963675, -0.1521588967880234, -0.1519731325097382, -0.1281288146856241, -0.11814388138009235, -0.10535260947654024, -0.09688447712687775, -0.09075440582819283, -0.07624027802376077, -0.07088040007511154, -0.06901967711746693, -0.0651666423655115, -0.060957811190746725, -0.05417593487072736, -0.05219563085120171, -0.04414401622489095, -0.04024443554226309, -0.04572746611665934, -0.03873096453025937, -0.028383857163134962, -0.028251295792870224, -0.025386591150891036, -0.03040740854339674, -0.02849081758176908, -0.01614092680392787, -0.023705638363026083, -0.024326759856194258, -0.01979959540767595, -0.017762100032996386, -0.01825287687825039, -0.01637246028985828, -0.016092361765913665, -0.01111488661263138, -0.015391418361105025, -0.014305613934993744, -0.013653044938109815, -0.00822966464329511, -0.012998106016311795, -0.005476775986608118, -0.010792823974043131, -0.012756816111505032, -0.008685452456120402, -0.006946534791495651],\n",
        "    'mp2/aug-cc-pvdz': [21.578255203261506, 14.136430532147642, 8.974452322931029, 5.360040427593049, 2.869955856585875, 1.189536763180513, 0.07269280217587948, -0.6512474464252591, -1.0991317371372133, -1.3543341444456019, -1.4774210832547396, -1.512407866306603, -1.4907067660824396, -1.4338155542500317, -1.356010866293218, -1.2668732568854466, -1.172735953470692, -1.0779203659621999, -0.9854228037875146, -0.8972105050925165, -0.8144793985993601, -0.7378632795880549, -0.667607844399754, -0.6036679996177554, -0.5458117579109967, -0.49376928521087393, -0.4472226725774817, -0.4056735761696473, -0.3688037791871466, -0.33617021795362234, -0.30733079405035824, -0.28195490810321644, -0.25958151527447626, -0.2398162532481365, -0.22227616101736203, -0.2066652777721174, -0.19258020858978853, -0.17979304457549006, -0.16808445361675695, -0.15725042443955317, -0.14719232090283185, -0.13779110281029716, -0.1290133045404218, -0.12078247196041048, -0.11311523587210104, -0.10596652398817241, -0.0992996288696304, -0.09309722360922024, -0.08731834485661238, -0.08196022367337719, -0.07695488567696884, -0.07231507479446009, -0.06798068701755255, -0.0639434086624533, -0.06016145256580785, -0.056618591013830155, -0.05330724501982331, -0.05020793812582269, -0.04729013954056427, -0.044556759123224765, -0.04198575433110818, -0.03956696257228032, -0.03729503048816696, -0.03514572588028386, -0.03314063401194289, -0.03121555643156171, -0.029409867303911597, -0.027700275066308677, -0.026078388618770987, -0.024518684775102884, -0.023062017338816077],\n",
        "}\n",
        "\n",
        "fig = go.Figure()\n",
        "\n",
        "for key,value in theories.items():\n",
        "\n",
        "    fig.add_trace(\n",
        "        go.Scatter(\n",
        "            x=list(distances), y=value,\n",
        "            mode='lines+markers',\n",
        "            name=key,\n",
        "            marker=dict(size=13)\n",
        "        )\n",
        "    )\n",
        "\n",
        "fig.update_layout(legend=dict(itemsizing='constant'))\n",
        "fig.update_layout(legend=dict(\n",
        "        orientation=\"h\",\n",
        "        yanchor=\"bottom\",\n",
        "        y=1.02,\n",
        "        xanchor=\"right\",\n",
        "        x=1.05,\n",
        "        font = dict(family = \"Arial\", size = 35),\n",
        "        bordercolor=\"LightSteelBlue\",\n",
        "        borderwidth=2,\n",
        "    ),\n",
        ")\n",
        "fig.update_traces(line=dict(width=5))\n",
        "\n",
        "fig.update_layout(\n",
        "    template='simple_white',\n",
        "    xaxis_tickformat = 'i',\n",
        "    bargap=0.2, # gap between bars of adjacent location coordinates,\n",
        "    height=600,\n",
        "    width=1350,\n",
        "    showlegend=False,\n",
        ")\n",
        "\n",
        "fig.update_yaxes(range=[-10, 10.0], tickfont = dict(size=30))\n",
        "fig.update_xaxes(range=[1.0, 8.0], tickfont = dict(size=30))\n",
        "\n",
        "fig.show()\n"
      ]
    },
    {
      "cell_type": "code",
      "execution_count": 7,
      "metadata": {
        "colab": {
          "base_uri": "https://localhost:8080/",
          "height": 617
        },
        "id": "Q6YCgIT9y9xa",
        "outputId": "bf94c671-81ae-435c-daf0-0e4ca7a047e2"
      },
      "outputs": [
        {
          "data": {
            "application/vnd.plotly.v1+json": {
              "config": {
                "plotlyServerURL": "https://plot.ly"
              },
              "data": [
                {
                  "line": {
                    "width": 5
                  },
                  "marker": {
                    "size": 13
                  },
                  "mode": "lines+markers",
                  "name": "hf/6-31g*",
                  "type": "scatter",
                  "x": [
                    1,
                    1.1,
                    1.2000000000000002,
                    1.3000000000000003,
                    1.4000000000000004,
                    1.5000000000000004,
                    1.6000000000000005,
                    1.7000000000000006,
                    1.8000000000000007,
                    1.9000000000000008,
                    2.000000000000001,
                    2.100000000000001,
                    2.200000000000001,
                    2.300000000000001,
                    2.4000000000000012,
                    2.5000000000000013,
                    2.6000000000000014,
                    2.7000000000000015,
                    2.8000000000000016,
                    2.9000000000000017,
                    3.0000000000000018,
                    3.100000000000002,
                    3.200000000000002,
                    3.300000000000002,
                    3.400000000000002,
                    3.500000000000002,
                    3.6000000000000023,
                    3.7000000000000024,
                    3.8000000000000025,
                    3.9000000000000026,
                    4.000000000000003,
                    4.100000000000003,
                    4.200000000000003,
                    4.3000000000000025,
                    4.400000000000003,
                    4.5000000000000036,
                    4.600000000000003,
                    4.700000000000003,
                    4.800000000000003,
                    4.900000000000004,
                    5.0000000000000036,
                    5.100000000000003,
                    5.200000000000004,
                    5.300000000000004,
                    5.400000000000004,
                    5.5000000000000036,
                    5.600000000000004,
                    5.700000000000005,
                    5.800000000000004,
                    5.900000000000004,
                    6.000000000000004,
                    6.100000000000005,
                    6.200000000000005,
                    6.300000000000004,
                    6.400000000000005,
                    6.500000000000005,
                    6.600000000000005,
                    6.700000000000005,
                    6.800000000000005,
                    6.900000000000006,
                    7.000000000000005,
                    7.100000000000005,
                    7.2000000000000055,
                    7.300000000000006,
                    7.400000000000006,
                    7.500000000000005,
                    7.600000000000006,
                    7.700000000000006,
                    7.800000000000006,
                    7.900000000000006
                  ],
                  "y": [
                    122.6608768546721,
                    96.3046756858239,
                    74.89561582787428,
                    57.68624032504158,
                    43.98810162866721,
                    33.18557082803454,
                    24.74233422218822,
                    18.201298664906062,
                    13.180095530988183,
                    9.363115614920389,
                    6.492512694909237,
                    4.359251491143368,
                    2.795039586140774,
                    1.6653063138364814,
                    0.8634820437291637,
                    0.30592265212908387,
                    -0.07224435219541192,
                    -0.3206879125791602,
                    -0.4768539136275649,
                    -0.5684689198387787,
                    -0.6156375907012261,
                    -0.6325989621109329,
                    -0.6291866364190355,
                    -0.6120553169748746,
                    -0.5856769801466726,
                    -0.5531093750614673,
                    -0.5165415415540338,
                    -0.4776616176823154,
                    -0.4378736252547242,
                    -0.39837007998721674,
                    -0.36016302701318637,
                    -0.32406752003589645,
                    -0.2906785687082447,
                    -0.2603655911516398,
                    -0.23328775743721053,
                    -0.20942758780438453,
                    -0.18861705675954,
                    -0.17059452226385474,
                    -0.15504287520889193,
                    -0.14162901940289885,
                    -0.1300196354277432,
                    -0.11992291861679405,
                    -0.11107245768653229,
                    -0.1032479569548741,
                    -0.09627285634633154,
                    -0.08999374532140791,
                    -0.0843009336385876,
                    -0.0791053349385038,
                    -0.07433527248213068,
                    -0.06993608071934432,
                    -0.06586527591571212,
                    -0.06208754767430946,
                    -0.05857160349842161,
                    -0.05529843032127246,
                    -0.05224379600258544,
                    -0.04938985884655267,
                    -0.04672384774312377,
                    -0.044225905323401093,
                    -0.04188833269290626,
                    -0.039697710308246315,
                    -0.037642796407453716,
                    -0.03571518696844578,
                    -0.03390260715968907,
                    -0.03220183576922864,
                    -0.03060000337427482,
                    -0.029095335106831044,
                    -0.027676913829054683,
                    -0.026343222183641046,
                    -0.025083393848035485,
                    -0.02389558550203219,
                    -0.022774973418563604
                  ]
                },
                {
                  "line": {
                    "width": 5
                  },
                  "marker": {
                    "size": 13
                  },
                  "mode": "lines+markers",
                  "name": "mp2/6-31g*",
                  "type": "scatter",
                  "x": [
                    1,
                    1.1,
                    1.2000000000000002,
                    1.3000000000000003,
                    1.4000000000000004,
                    1.5000000000000004,
                    1.6000000000000005,
                    1.7000000000000006,
                    1.8000000000000007,
                    1.9000000000000008,
                    2.000000000000001,
                    2.100000000000001,
                    2.200000000000001,
                    2.300000000000001,
                    2.4000000000000012,
                    2.5000000000000013,
                    2.6000000000000014,
                    2.7000000000000015,
                    2.8000000000000016,
                    2.9000000000000017,
                    3.0000000000000018,
                    3.100000000000002,
                    3.200000000000002,
                    3.300000000000002,
                    3.400000000000002,
                    3.500000000000002,
                    3.6000000000000023,
                    3.7000000000000024,
                    3.8000000000000025,
                    3.9000000000000026,
                    4.000000000000003,
                    4.100000000000003,
                    4.200000000000003,
                    4.3000000000000025,
                    4.400000000000003,
                    4.5000000000000036,
                    4.600000000000003,
                    4.700000000000003,
                    4.800000000000003,
                    4.900000000000004,
                    5.0000000000000036,
                    5.100000000000003,
                    5.200000000000004,
                    5.300000000000004,
                    5.400000000000004,
                    5.5000000000000036,
                    5.600000000000004,
                    5.700000000000005,
                    5.800000000000004,
                    5.900000000000004,
                    6.000000000000004,
                    6.100000000000005,
                    6.200000000000005,
                    6.300000000000004,
                    6.400000000000005,
                    6.500000000000005,
                    6.600000000000005,
                    6.700000000000005,
                    6.800000000000005,
                    6.900000000000006,
                    7.000000000000005,
                    7.100000000000005,
                    7.2000000000000055,
                    7.300000000000006,
                    7.400000000000006,
                    7.500000000000005,
                    7.600000000000006,
                    7.700000000000006,
                    7.800000000000006,
                    7.900000000000006
                  ],
                  "y": [
                    77.66816222399939,
                    57.72571282449644,
                    41.92814487160649,
                    29.594079107861035,
                    20.106382252066396,
                    12.921868018223904,
                    7.574976686562877,
                    3.674809507036116,
                    0.8980837714043446,
                    -1.0190187401603907,
                    -2.288665492844302,
                    -3.07879175117705,
                    -3.520157214894425,
                    -3.712982454977464,
                    -3.733047574700322,
                    -3.6369897237746045,
                    -3.4667032962315716,
                    -3.252776032371912,
                    -3.0170956651563756,
                    -2.7748825462185778,
                    -2.536280291969888,
                    -2.3077112258179113,
                    -2.092930294049438,
                    -1.893859276548028,
                    -1.7111667055869475,
                    -1.5447126551298425,
                    -1.3938563441042788,
                    -1.257650830608327,
                    -1.1350282708299346,
                    -1.0248620748170651,
                    -0.9260571470949799,
                    -0.8375478692469187,
                    -0.7583234393387102,
                    -0.6874395154882222,
                    -0.6240075181121938,
                    -0.5672121740644798,
                    -0.5163223202689551,
                    -0.4706780925625935,
                    -0.4296979926293716,
                    -0.3929177255486138,
                    -0.35978033777792007,
                    -0.329935138754081,
                    -0.3030258429935202,
                    -0.27873108064522967,
                    -0.25676416320493445,
                    -0.2368675647303462,
                    -0.21881609974661842,
                    -0.2024044808349572,
                    -0.18745590461185202,
                    -0.17381454148562625,
                    -0.16134421428432688,
                    -0.14993264799704775,
                    -0.13947042101062834,
                    -0.12987220054492354,
                    -0.12105779134435579,
                    -0.11295661935582757,
                    -0.10550561116542667,
                    -0.09864856151398271,
                    -0.09233189013320953,
                    -0.08650707692140713,
                    -0.08113437035353854,
                    -0.07617147709243,
                    -0.0715801443438977,
                    -0.06732843746431172,
                    -0.06338796118507162,
                    -0.059729676810093224,
                    -0.05632880824850872,
                    -0.05316307651810348,
                    -0.05021323659457266,
                    -0.047462646674830467,
                    -0.04489442519843578
                  ]
                },
                {
                  "line": {
                    "width": 5
                  },
                  "marker": {
                    "size": 13
                  },
                  "mode": "lines+markers",
                  "name": "wb97x-d3/6-31g*",
                  "type": "scatter",
                  "x": [
                    1,
                    1.1,
                    1.2000000000000002,
                    1.3000000000000003,
                    1.4000000000000004,
                    1.5000000000000004,
                    1.6000000000000005,
                    1.7000000000000006,
                    1.8000000000000007,
                    1.9000000000000008,
                    2.000000000000001,
                    2.100000000000001,
                    2.200000000000001,
                    2.300000000000001,
                    2.4000000000000012,
                    2.5000000000000013,
                    2.6000000000000014,
                    2.7000000000000015,
                    2.8000000000000016,
                    2.9000000000000017,
                    3.0000000000000018,
                    3.100000000000002,
                    3.200000000000002,
                    3.300000000000002,
                    3.400000000000002,
                    3.500000000000002,
                    3.6000000000000023,
                    3.7000000000000024,
                    3.8000000000000025,
                    3.9000000000000026,
                    4.000000000000003,
                    4.100000000000003,
                    4.200000000000003,
                    4.3000000000000025,
                    4.400000000000003,
                    4.5000000000000036,
                    4.600000000000003,
                    4.700000000000003,
                    4.800000000000003,
                    4.900000000000004,
                    5.0000000000000036,
                    5.100000000000003,
                    5.200000000000004,
                    5.300000000000004,
                    5.400000000000004,
                    5.5000000000000036,
                    5.600000000000004,
                    5.700000000000005,
                    5.800000000000004,
                    5.900000000000004,
                    6.000000000000004,
                    6.100000000000005,
                    6.200000000000005,
                    6.300000000000004,
                    6.400000000000005,
                    6.500000000000005,
                    6.600000000000005,
                    6.700000000000005,
                    6.800000000000005,
                    6.900000000000006,
                    7.000000000000005,
                    7.100000000000005,
                    7.2000000000000055,
                    7.300000000000006,
                    7.400000000000006,
                    7.500000000000005,
                    7.600000000000006,
                    7.700000000000006,
                    7.800000000000006,
                    7.900000000000006
                  ],
                  "y": [
                    96.03405720472801,
                    73.25257412303472,
                    54.950022099597845,
                    40.35591625823872,
                    28.893905372708105,
                    20.022465876943897,
                    13.212304928223602,
                    8.095280263456516,
                    4.306861428951379,
                    1.563375783560332,
                    -0.35173437104094774,
                    -1.6602347040898167,
                    -2.49213667656295,
                    -2.9931458182400092,
                    -3.2355455802753568,
                    -3.3128691939637065,
                    -3.262811632361263,
                    -3.1395708610652946,
                    -2.961916856234893,
                    -2.764708671893459,
                    -2.5545726381242275,
                    -2.351163794635795,
                    -2.1501117917359807,
                    -1.964767853380181,
                    -1.783255433139857,
                    -1.6179359766538255,
                    -1.459811886830721,
                    -1.3144060022896156,
                    -1.1804246696992777,
                    -1.0571041998337023,
                    -0.9447392305592075,
                    -0.8431640305207111,
                    -0.7517410202417523,
                    -0.6711084234993905,
                    -0.6002384737948887,
                    -0.5372005056124181,
                    -0.4827706642681733,
                    -0.4351387285278179,
                    -0.3940692549222149,
                    -0.3577720625908114,
                    -0.32574807992205024,
                    -0.2977883580024354,
                    -0.27306578343268484,
                    -0.25088006135774776,
                    -0.23106544057372957,
                    -0.21323003724683076,
                    -0.19724142213817686,
                    -0.18264531902968884,
                    -0.1695660746190697,
                    -0.15754987858235836,
                    -0.1464566737995483,
                    -0.13617316563613713,
                    -0.12709526694379747,
                    -0.1186297038802877,
                    -0.11068253096891567,
                    -0.10342696215957403,
                    -0.09687614481663331,
                    -0.09080902504501864,
                    -0.08512882853392512,
                    -0.07990181486820802,
                    -0.07504646328743547,
                    -0.07038948044646531,
                    -0.06638491235207766,
                    -0.062410259910393506,
                    -0.058591687702573836,
                    -0.05551528895739466,
                    -0.05224726686719805,
                    -0.04943333280971274,
                    -0.04665012570330873,
                    -0.044149706372991204,
                    -0.04169669805560261
                  ]
                },
                {
                  "line": {
                    "width": 5
                  },
                  "marker": {
                    "size": 13
                  },
                  "mode": "lines+markers",
                  "name": "wb97x-d3/aug-cc-pvdz",
                  "type": "scatter",
                  "x": [
                    1,
                    1.1,
                    1.2000000000000002,
                    1.3000000000000003,
                    1.4000000000000004,
                    1.5000000000000004,
                    1.6000000000000005,
                    1.7000000000000006,
                    1.8000000000000007,
                    1.9000000000000008,
                    2.000000000000001,
                    2.100000000000001,
                    2.200000000000001,
                    2.300000000000001,
                    2.4000000000000012,
                    2.5000000000000013,
                    2.6000000000000014,
                    2.7000000000000015,
                    2.8000000000000016,
                    2.9000000000000017,
                    3.0000000000000018,
                    3.100000000000002,
                    3.200000000000002,
                    3.300000000000002,
                    3.400000000000002,
                    3.500000000000002,
                    3.6000000000000023,
                    3.7000000000000024,
                    3.8000000000000025,
                    3.9000000000000026,
                    4.000000000000003,
                    4.100000000000003,
                    4.200000000000003,
                    4.3000000000000025,
                    4.400000000000003,
                    4.5000000000000036,
                    4.600000000000003,
                    4.700000000000003,
                    4.800000000000003,
                    4.900000000000004,
                    5.0000000000000036,
                    5.100000000000003,
                    5.200000000000004,
                    5.300000000000004,
                    5.400000000000004,
                    5.5000000000000036,
                    5.600000000000004,
                    5.700000000000005,
                    5.800000000000004,
                    5.900000000000004,
                    6.000000000000004,
                    6.100000000000005,
                    6.200000000000005,
                    6.300000000000004,
                    6.400000000000005,
                    6.500000000000005,
                    6.600000000000005,
                    6.700000000000005,
                    6.800000000000005,
                    6.900000000000006,
                    7.000000000000005,
                    7.100000000000005,
                    7.2000000000000055,
                    7.300000000000006,
                    7.400000000000006,
                    7.500000000000005,
                    7.600000000000006,
                    7.700000000000006,
                    7.800000000000006,
                    7.900000000000006
                  ],
                  "y": [
                    90.7611775912228,
                    68.7997716210084,
                    51.230302636220586,
                    37.31995597417699,
                    26.470342282846104,
                    18.116783429053612,
                    11.753923080512322,
                    6.993022601644043,
                    3.458231746975798,
                    0.9007332776091062,
                    -0.892103563353885,
                    -2.1319588330225088,
                    -2.911400765005965,
                    -3.3862123358412646,
                    -3.6081917894189246,
                    -3.6705956251826137,
                    -3.598708605277352,
                    -3.4608471168321557,
                    -3.249488294997718,
                    -3.045635975780897,
                    -2.788396052084863,
                    -2.5569768621353433,
                    -2.326693687122315,
                    -2.1134353452944197,
                    -1.9222894216654822,
                    -1.7401832436444238,
                    -1.5716654031421058,
                    -1.4227368300780654,
                    -1.28859138028929,
                    -1.1642143364879303,
                    -1.0584320963243954,
                    -0.9619481640984304,
                    -0.8748642332502641,
                    -0.7939418877358548,
                    -0.7253391405683942,
                    -0.6557778266142122,
                    -0.6011854102252983,
                    -0.5456745773553848,
                    -0.5017179389833473,
                    -0.4556194767355919,
                    -0.41465551155852154,
                    -0.37868121825158596,
                    -0.34952775231795385,
                    -0.32153500604908913,
                    -0.29672184301307425,
                    -0.2762060984969139,
                    -0.25412199465790763,
                    -0.2364987187902443,
                    -0.22312942380085588,
                    -0.20767301035812125,
                    -0.19697015680139884,
                    -0.17926014529075474,
                    -0.16584139212500304,
                    -0.1538191121071577,
                    -0.15090002020588145,
                    -0.13559594500111416,
                    -0.12467053713044152,
                    -0.12059821718139574,
                    -0.11360304709523916,
                    -0.10317121265688911,
                    -0.09520357614383101,
                    -0.0919679511571303,
                    -0.08192949276417494,
                    -0.08183575537987053,
                    -0.06942708540009335,
                    -0.07407851703464985,
                    -0.06509187445044518,
                    -0.06585444591473788,
                    -0.059372719551902264,
                    -0.05492266087094322,
                    -0.05581760918721557
                  ]
                },
                {
                  "line": {
                    "width": 5
                  },
                  "marker": {
                    "size": 13
                  },
                  "mode": "lines+markers",
                  "name": "mp2/aug-cc-pvdz",
                  "type": "scatter",
                  "x": [
                    1,
                    1.1,
                    1.2000000000000002,
                    1.3000000000000003,
                    1.4000000000000004,
                    1.5000000000000004,
                    1.6000000000000005,
                    1.7000000000000006,
                    1.8000000000000007,
                    1.9000000000000008,
                    2.000000000000001,
                    2.100000000000001,
                    2.200000000000001,
                    2.300000000000001,
                    2.4000000000000012,
                    2.5000000000000013,
                    2.6000000000000014,
                    2.7000000000000015,
                    2.8000000000000016,
                    2.9000000000000017,
                    3.0000000000000018,
                    3.100000000000002,
                    3.200000000000002,
                    3.300000000000002,
                    3.400000000000002,
                    3.500000000000002,
                    3.6000000000000023,
                    3.7000000000000024,
                    3.8000000000000025,
                    3.9000000000000026,
                    4.000000000000003,
                    4.100000000000003,
                    4.200000000000003,
                    4.3000000000000025,
                    4.400000000000003,
                    4.5000000000000036,
                    4.600000000000003,
                    4.700000000000003,
                    4.800000000000003,
                    4.900000000000004,
                    5.0000000000000036,
                    5.100000000000003,
                    5.200000000000004,
                    5.300000000000004,
                    5.400000000000004,
                    5.5000000000000036,
                    5.600000000000004,
                    5.700000000000005,
                    5.800000000000004,
                    5.900000000000004,
                    6.000000000000004,
                    6.100000000000005,
                    6.200000000000005,
                    6.300000000000004,
                    6.400000000000005,
                    6.500000000000005,
                    6.600000000000005,
                    6.700000000000005,
                    6.800000000000005,
                    6.900000000000006,
                    7.000000000000005,
                    7.100000000000005,
                    7.2000000000000055,
                    7.300000000000006,
                    7.400000000000006,
                    7.500000000000005,
                    7.600000000000006,
                    7.700000000000006,
                    7.800000000000006,
                    7.900000000000006
                  ],
                  "y": [
                    74.9816945103812,
                    54.573972108308226,
                    38.42094234540127,
                    25.841585219139233,
                    16.216894203273114,
                    8.990619263786357,
                    3.6739093011710793,
                    -0.14911619335180148,
                    -2.8207008872996084,
                    -4.615016955474857,
                    -5.7481608359958045,
                    -6.389132832351606,
                    -6.66972612432437,
                    -6.6921182431979105,
                    -6.5347861524205655,
                    -6.256904081674293,
                    -5.902447908942122,
                    -5.503577661293093,
                    -5.083718445326667,
                    -4.659715815563686,
                    -4.243821598007344,
                    -3.844907721853815,
                    -3.46921329916222,
                    -3.1210955232963897,
                    -2.8033267993596382,
                    -2.517241910099983,
                    -2.262949228170328,
                    -2.039204131346196,
                    -1.8437745501869358,
                    -1.6734382240101695,
                    -1.5246219005202875,
                    -1.3936089500784874,
                    -1.2769831229234114,
                    -1.1719818590790965,
                    -1.076473581022583,
                    -0.9890354286180809,
                    -0.9087589022237808,
                    -0.8351181024918333,
                    -0.7677894555963576,
                    -0.7065182005753741,
                    -0.6509900427772664,
                    -0.6008643865352497,
                    -0.5557404310675338,
                    -0.5150372295756824,
                    -0.4783134002937004,
                    -0.4449854983831756,
                    -0.4146306383772753,
                    -0.38682391948532313,
                    -0.36121342924889177,
                    -0.33755596447736025,
                    -0.3155924214515835,
                    -0.29516575392335653,
                    -0.2761582914390601,
                    -0.2584516167989932,
                    -0.24194725905545056,
                    -0.22655200370354578,
                    -0.21219291706802323,
                    -0.19881071214331314,
                    -0.18629055860219523,
                    -0.1745803484809585,
                    -0.16363287542480975,
                    -0.15336286852834746,
                    -0.14371732185827568,
                    -0.13465100835310295,
                    -0.12611163692781702,
                    -0.11807539721485227,
                    -0.11049961484968662,
                    -0.10336646804353222,
                    -0.0966437149909325,
                    -0.09032342658611014,
                    -0.08437644568039104
                  ]
                }
              ],
              "layout": {
                "bargap": 0.2,
                "height": 600,
                "legend": {
                  "bordercolor": "LightSteelBlue",
                  "borderwidth": 2,
                  "font": {
                    "family": "Arial",
                    "size": 35
                  },
                  "itemsizing": "constant",
                  "orientation": "h",
                  "x": 1.05,
                  "xanchor": "right",
                  "y": 1.02,
                  "yanchor": "bottom"
                },
                "showlegend": false,
                "template": {
                  "data": {
                    "bar": [
                      {
                        "error_x": {
                          "color": "rgb(36,36,36)"
                        },
                        "error_y": {
                          "color": "rgb(36,36,36)"
                        },
                        "marker": {
                          "line": {
                            "color": "white",
                            "width": 0.5
                          },
                          "pattern": {
                            "fillmode": "overlay",
                            "size": 10,
                            "solidity": 0.2
                          }
                        },
                        "type": "bar"
                      }
                    ],
                    "barpolar": [
                      {
                        "marker": {
                          "line": {
                            "color": "white",
                            "width": 0.5
                          },
                          "pattern": {
                            "fillmode": "overlay",
                            "size": 10,
                            "solidity": 0.2
                          }
                        },
                        "type": "barpolar"
                      }
                    ],
                    "carpet": [
                      {
                        "aaxis": {
                          "endlinecolor": "rgb(36,36,36)",
                          "gridcolor": "white",
                          "linecolor": "white",
                          "minorgridcolor": "white",
                          "startlinecolor": "rgb(36,36,36)"
                        },
                        "baxis": {
                          "endlinecolor": "rgb(36,36,36)",
                          "gridcolor": "white",
                          "linecolor": "white",
                          "minorgridcolor": "white",
                          "startlinecolor": "rgb(36,36,36)"
                        },
                        "type": "carpet"
                      }
                    ],
                    "choropleth": [
                      {
                        "colorbar": {
                          "outlinewidth": 1,
                          "tickcolor": "rgb(36,36,36)",
                          "ticks": "outside"
                        },
                        "type": "choropleth"
                      }
                    ],
                    "contour": [
                      {
                        "colorbar": {
                          "outlinewidth": 1,
                          "tickcolor": "rgb(36,36,36)",
                          "ticks": "outside"
                        },
                        "colorscale": [
                          [
                            0,
                            "#440154"
                          ],
                          [
                            0.1111111111111111,
                            "#482878"
                          ],
                          [
                            0.2222222222222222,
                            "#3e4989"
                          ],
                          [
                            0.3333333333333333,
                            "#31688e"
                          ],
                          [
                            0.4444444444444444,
                            "#26828e"
                          ],
                          [
                            0.5555555555555556,
                            "#1f9e89"
                          ],
                          [
                            0.6666666666666666,
                            "#35b779"
                          ],
                          [
                            0.7777777777777778,
                            "#6ece58"
                          ],
                          [
                            0.8888888888888888,
                            "#b5de2b"
                          ],
                          [
                            1,
                            "#fde725"
                          ]
                        ],
                        "type": "contour"
                      }
                    ],
                    "contourcarpet": [
                      {
                        "colorbar": {
                          "outlinewidth": 1,
                          "tickcolor": "rgb(36,36,36)",
                          "ticks": "outside"
                        },
                        "type": "contourcarpet"
                      }
                    ],
                    "heatmap": [
                      {
                        "colorbar": {
                          "outlinewidth": 1,
                          "tickcolor": "rgb(36,36,36)",
                          "ticks": "outside"
                        },
                        "colorscale": [
                          [
                            0,
                            "#440154"
                          ],
                          [
                            0.1111111111111111,
                            "#482878"
                          ],
                          [
                            0.2222222222222222,
                            "#3e4989"
                          ],
                          [
                            0.3333333333333333,
                            "#31688e"
                          ],
                          [
                            0.4444444444444444,
                            "#26828e"
                          ],
                          [
                            0.5555555555555556,
                            "#1f9e89"
                          ],
                          [
                            0.6666666666666666,
                            "#35b779"
                          ],
                          [
                            0.7777777777777778,
                            "#6ece58"
                          ],
                          [
                            0.8888888888888888,
                            "#b5de2b"
                          ],
                          [
                            1,
                            "#fde725"
                          ]
                        ],
                        "type": "heatmap"
                      }
                    ],
                    "heatmapgl": [
                      {
                        "colorbar": {
                          "outlinewidth": 1,
                          "tickcolor": "rgb(36,36,36)",
                          "ticks": "outside"
                        },
                        "colorscale": [
                          [
                            0,
                            "#440154"
                          ],
                          [
                            0.1111111111111111,
                            "#482878"
                          ],
                          [
                            0.2222222222222222,
                            "#3e4989"
                          ],
                          [
                            0.3333333333333333,
                            "#31688e"
                          ],
                          [
                            0.4444444444444444,
                            "#26828e"
                          ],
                          [
                            0.5555555555555556,
                            "#1f9e89"
                          ],
                          [
                            0.6666666666666666,
                            "#35b779"
                          ],
                          [
                            0.7777777777777778,
                            "#6ece58"
                          ],
                          [
                            0.8888888888888888,
                            "#b5de2b"
                          ],
                          [
                            1,
                            "#fde725"
                          ]
                        ],
                        "type": "heatmapgl"
                      }
                    ],
                    "histogram": [
                      {
                        "marker": {
                          "line": {
                            "color": "white",
                            "width": 0.6
                          }
                        },
                        "type": "histogram"
                      }
                    ],
                    "histogram2d": [
                      {
                        "colorbar": {
                          "outlinewidth": 1,
                          "tickcolor": "rgb(36,36,36)",
                          "ticks": "outside"
                        },
                        "colorscale": [
                          [
                            0,
                            "#440154"
                          ],
                          [
                            0.1111111111111111,
                            "#482878"
                          ],
                          [
                            0.2222222222222222,
                            "#3e4989"
                          ],
                          [
                            0.3333333333333333,
                            "#31688e"
                          ],
                          [
                            0.4444444444444444,
                            "#26828e"
                          ],
                          [
                            0.5555555555555556,
                            "#1f9e89"
                          ],
                          [
                            0.6666666666666666,
                            "#35b779"
                          ],
                          [
                            0.7777777777777778,
                            "#6ece58"
                          ],
                          [
                            0.8888888888888888,
                            "#b5de2b"
                          ],
                          [
                            1,
                            "#fde725"
                          ]
                        ],
                        "type": "histogram2d"
                      }
                    ],
                    "histogram2dcontour": [
                      {
                        "colorbar": {
                          "outlinewidth": 1,
                          "tickcolor": "rgb(36,36,36)",
                          "ticks": "outside"
                        },
                        "colorscale": [
                          [
                            0,
                            "#440154"
                          ],
                          [
                            0.1111111111111111,
                            "#482878"
                          ],
                          [
                            0.2222222222222222,
                            "#3e4989"
                          ],
                          [
                            0.3333333333333333,
                            "#31688e"
                          ],
                          [
                            0.4444444444444444,
                            "#26828e"
                          ],
                          [
                            0.5555555555555556,
                            "#1f9e89"
                          ],
                          [
                            0.6666666666666666,
                            "#35b779"
                          ],
                          [
                            0.7777777777777778,
                            "#6ece58"
                          ],
                          [
                            0.8888888888888888,
                            "#b5de2b"
                          ],
                          [
                            1,
                            "#fde725"
                          ]
                        ],
                        "type": "histogram2dcontour"
                      }
                    ],
                    "mesh3d": [
                      {
                        "colorbar": {
                          "outlinewidth": 1,
                          "tickcolor": "rgb(36,36,36)",
                          "ticks": "outside"
                        },
                        "type": "mesh3d"
                      }
                    ],
                    "parcoords": [
                      {
                        "line": {
                          "colorbar": {
                            "outlinewidth": 1,
                            "tickcolor": "rgb(36,36,36)",
                            "ticks": "outside"
                          }
                        },
                        "type": "parcoords"
                      }
                    ],
                    "pie": [
                      {
                        "automargin": true,
                        "type": "pie"
                      }
                    ],
                    "scatter": [
                      {
                        "fillpattern": {
                          "fillmode": "overlay",
                          "size": 10,
                          "solidity": 0.2
                        },
                        "type": "scatter"
                      }
                    ],
                    "scatter3d": [
                      {
                        "line": {
                          "colorbar": {
                            "outlinewidth": 1,
                            "tickcolor": "rgb(36,36,36)",
                            "ticks": "outside"
                          }
                        },
                        "marker": {
                          "colorbar": {
                            "outlinewidth": 1,
                            "tickcolor": "rgb(36,36,36)",
                            "ticks": "outside"
                          }
                        },
                        "type": "scatter3d"
                      }
                    ],
                    "scattercarpet": [
                      {
                        "marker": {
                          "colorbar": {
                            "outlinewidth": 1,
                            "tickcolor": "rgb(36,36,36)",
                            "ticks": "outside"
                          }
                        },
                        "type": "scattercarpet"
                      }
                    ],
                    "scattergeo": [
                      {
                        "marker": {
                          "colorbar": {
                            "outlinewidth": 1,
                            "tickcolor": "rgb(36,36,36)",
                            "ticks": "outside"
                          }
                        },
                        "type": "scattergeo"
                      }
                    ],
                    "scattergl": [
                      {
                        "marker": {
                          "colorbar": {
                            "outlinewidth": 1,
                            "tickcolor": "rgb(36,36,36)",
                            "ticks": "outside"
                          }
                        },
                        "type": "scattergl"
                      }
                    ],
                    "scattermapbox": [
                      {
                        "marker": {
                          "colorbar": {
                            "outlinewidth": 1,
                            "tickcolor": "rgb(36,36,36)",
                            "ticks": "outside"
                          }
                        },
                        "type": "scattermapbox"
                      }
                    ],
                    "scatterpolar": [
                      {
                        "marker": {
                          "colorbar": {
                            "outlinewidth": 1,
                            "tickcolor": "rgb(36,36,36)",
                            "ticks": "outside"
                          }
                        },
                        "type": "scatterpolar"
                      }
                    ],
                    "scatterpolargl": [
                      {
                        "marker": {
                          "colorbar": {
                            "outlinewidth": 1,
                            "tickcolor": "rgb(36,36,36)",
                            "ticks": "outside"
                          }
                        },
                        "type": "scatterpolargl"
                      }
                    ],
                    "scatterternary": [
                      {
                        "marker": {
                          "colorbar": {
                            "outlinewidth": 1,
                            "tickcolor": "rgb(36,36,36)",
                            "ticks": "outside"
                          }
                        },
                        "type": "scatterternary"
                      }
                    ],
                    "surface": [
                      {
                        "colorbar": {
                          "outlinewidth": 1,
                          "tickcolor": "rgb(36,36,36)",
                          "ticks": "outside"
                        },
                        "colorscale": [
                          [
                            0,
                            "#440154"
                          ],
                          [
                            0.1111111111111111,
                            "#482878"
                          ],
                          [
                            0.2222222222222222,
                            "#3e4989"
                          ],
                          [
                            0.3333333333333333,
                            "#31688e"
                          ],
                          [
                            0.4444444444444444,
                            "#26828e"
                          ],
                          [
                            0.5555555555555556,
                            "#1f9e89"
                          ],
                          [
                            0.6666666666666666,
                            "#35b779"
                          ],
                          [
                            0.7777777777777778,
                            "#6ece58"
                          ],
                          [
                            0.8888888888888888,
                            "#b5de2b"
                          ],
                          [
                            1,
                            "#fde725"
                          ]
                        ],
                        "type": "surface"
                      }
                    ],
                    "table": [
                      {
                        "cells": {
                          "fill": {
                            "color": "rgb(237,237,237)"
                          },
                          "line": {
                            "color": "white"
                          }
                        },
                        "header": {
                          "fill": {
                            "color": "rgb(217,217,217)"
                          },
                          "line": {
                            "color": "white"
                          }
                        },
                        "type": "table"
                      }
                    ]
                  },
                  "layout": {
                    "annotationdefaults": {
                      "arrowhead": 0,
                      "arrowwidth": 1
                    },
                    "autotypenumbers": "strict",
                    "coloraxis": {
                      "colorbar": {
                        "outlinewidth": 1,
                        "tickcolor": "rgb(36,36,36)",
                        "ticks": "outside"
                      }
                    },
                    "colorscale": {
                      "diverging": [
                        [
                          0,
                          "rgb(103,0,31)"
                        ],
                        [
                          0.1,
                          "rgb(178,24,43)"
                        ],
                        [
                          0.2,
                          "rgb(214,96,77)"
                        ],
                        [
                          0.3,
                          "rgb(244,165,130)"
                        ],
                        [
                          0.4,
                          "rgb(253,219,199)"
                        ],
                        [
                          0.5,
                          "rgb(247,247,247)"
                        ],
                        [
                          0.6,
                          "rgb(209,229,240)"
                        ],
                        [
                          0.7,
                          "rgb(146,197,222)"
                        ],
                        [
                          0.8,
                          "rgb(67,147,195)"
                        ],
                        [
                          0.9,
                          "rgb(33,102,172)"
                        ],
                        [
                          1,
                          "rgb(5,48,97)"
                        ]
                      ],
                      "sequential": [
                        [
                          0,
                          "#440154"
                        ],
                        [
                          0.1111111111111111,
                          "#482878"
                        ],
                        [
                          0.2222222222222222,
                          "#3e4989"
                        ],
                        [
                          0.3333333333333333,
                          "#31688e"
                        ],
                        [
                          0.4444444444444444,
                          "#26828e"
                        ],
                        [
                          0.5555555555555556,
                          "#1f9e89"
                        ],
                        [
                          0.6666666666666666,
                          "#35b779"
                        ],
                        [
                          0.7777777777777778,
                          "#6ece58"
                        ],
                        [
                          0.8888888888888888,
                          "#b5de2b"
                        ],
                        [
                          1,
                          "#fde725"
                        ]
                      ],
                      "sequentialminus": [
                        [
                          0,
                          "#440154"
                        ],
                        [
                          0.1111111111111111,
                          "#482878"
                        ],
                        [
                          0.2222222222222222,
                          "#3e4989"
                        ],
                        [
                          0.3333333333333333,
                          "#31688e"
                        ],
                        [
                          0.4444444444444444,
                          "#26828e"
                        ],
                        [
                          0.5555555555555556,
                          "#1f9e89"
                        ],
                        [
                          0.6666666666666666,
                          "#35b779"
                        ],
                        [
                          0.7777777777777778,
                          "#6ece58"
                        ],
                        [
                          0.8888888888888888,
                          "#b5de2b"
                        ],
                        [
                          1,
                          "#fde725"
                        ]
                      ]
                    },
                    "colorway": [
                      "#1F77B4",
                      "#FF7F0E",
                      "#2CA02C",
                      "#D62728",
                      "#9467BD",
                      "#8C564B",
                      "#E377C2",
                      "#7F7F7F",
                      "#BCBD22",
                      "#17BECF"
                    ],
                    "font": {
                      "color": "rgb(36,36,36)"
                    },
                    "geo": {
                      "bgcolor": "white",
                      "lakecolor": "white",
                      "landcolor": "white",
                      "showlakes": true,
                      "showland": true,
                      "subunitcolor": "white"
                    },
                    "hoverlabel": {
                      "align": "left"
                    },
                    "hovermode": "closest",
                    "mapbox": {
                      "style": "light"
                    },
                    "paper_bgcolor": "white",
                    "plot_bgcolor": "white",
                    "polar": {
                      "angularaxis": {
                        "gridcolor": "rgb(232,232,232)",
                        "linecolor": "rgb(36,36,36)",
                        "showgrid": false,
                        "showline": true,
                        "ticks": "outside"
                      },
                      "bgcolor": "white",
                      "radialaxis": {
                        "gridcolor": "rgb(232,232,232)",
                        "linecolor": "rgb(36,36,36)",
                        "showgrid": false,
                        "showline": true,
                        "ticks": "outside"
                      }
                    },
                    "scene": {
                      "xaxis": {
                        "backgroundcolor": "white",
                        "gridcolor": "rgb(232,232,232)",
                        "gridwidth": 2,
                        "linecolor": "rgb(36,36,36)",
                        "showbackground": true,
                        "showgrid": false,
                        "showline": true,
                        "ticks": "outside",
                        "zeroline": false,
                        "zerolinecolor": "rgb(36,36,36)"
                      },
                      "yaxis": {
                        "backgroundcolor": "white",
                        "gridcolor": "rgb(232,232,232)",
                        "gridwidth": 2,
                        "linecolor": "rgb(36,36,36)",
                        "showbackground": true,
                        "showgrid": false,
                        "showline": true,
                        "ticks": "outside",
                        "zeroline": false,
                        "zerolinecolor": "rgb(36,36,36)"
                      },
                      "zaxis": {
                        "backgroundcolor": "white",
                        "gridcolor": "rgb(232,232,232)",
                        "gridwidth": 2,
                        "linecolor": "rgb(36,36,36)",
                        "showbackground": true,
                        "showgrid": false,
                        "showline": true,
                        "ticks": "outside",
                        "zeroline": false,
                        "zerolinecolor": "rgb(36,36,36)"
                      }
                    },
                    "shapedefaults": {
                      "fillcolor": "black",
                      "line": {
                        "width": 0
                      },
                      "opacity": 0.3
                    },
                    "ternary": {
                      "aaxis": {
                        "gridcolor": "rgb(232,232,232)",
                        "linecolor": "rgb(36,36,36)",
                        "showgrid": false,
                        "showline": true,
                        "ticks": "outside"
                      },
                      "baxis": {
                        "gridcolor": "rgb(232,232,232)",
                        "linecolor": "rgb(36,36,36)",
                        "showgrid": false,
                        "showline": true,
                        "ticks": "outside"
                      },
                      "bgcolor": "white",
                      "caxis": {
                        "gridcolor": "rgb(232,232,232)",
                        "linecolor": "rgb(36,36,36)",
                        "showgrid": false,
                        "showline": true,
                        "ticks": "outside"
                      }
                    },
                    "title": {
                      "x": 0.05
                    },
                    "xaxis": {
                      "automargin": true,
                      "gridcolor": "rgb(232,232,232)",
                      "linecolor": "rgb(36,36,36)",
                      "showgrid": false,
                      "showline": true,
                      "ticks": "outside",
                      "title": {
                        "standoff": 15
                      },
                      "zeroline": false,
                      "zerolinecolor": "rgb(36,36,36)"
                    },
                    "yaxis": {
                      "automargin": true,
                      "gridcolor": "rgb(232,232,232)",
                      "linecolor": "rgb(36,36,36)",
                      "showgrid": false,
                      "showline": true,
                      "ticks": "outside",
                      "title": {
                        "standoff": 15
                      },
                      "zeroline": false,
                      "zerolinecolor": "rgb(36,36,36)"
                    }
                  }
                },
                "width": 1350,
                "xaxis": {
                  "range": [
                    1,
                    8
                  ],
                  "tickfont": {
                    "size": 30
                  },
                  "tickformat": "i"
                },
                "yaxis": {
                  "range": [
                    -10,
                    10
                  ],
                  "tickfont": {
                    "size": 30
                  }
                }
              }
            }
          },
          "metadata": {},
          "output_type": "display_data"
        }
      ],
      "source": [
        "# T Shaped\n",
        "\n",
        "import numpy as np\n",
        "import plotly.graph_objects as go\n",
        "\n",
        "distances = np.arange(1.0, 8.0, 0.1)\n",
        "\n",
        "theories = {\n",
        "    'hf/6-31g*': [122.6608768546721, 96.3046756858239, 74.89561582787428, 57.68624032504158, 43.98810162866721, 33.18557082803454, 24.74233422218822, 18.201298664906062, 13.180095530988183, 9.363115614920389, 6.492512694909237, 4.359251491143368, 2.795039586140774, 1.6653063138364814, 0.8634820437291637, 0.30592265212908387, -0.07224435219541192, -0.3206879125791602, -0.4768539136275649, -0.5684689198387787, -0.6156375907012261, -0.6325989621109329, -0.6291866364190355, -0.6120553169748746, -0.5856769801466726, -0.5531093750614673, -0.5165415415540338, -0.4776616176823154, -0.4378736252547242, -0.39837007998721674, -0.36016302701318637, -0.32406752003589645, -0.2906785687082447, -0.2603655911516398, -0.23328775743721053, -0.20942758780438453, -0.18861705675954, -0.17059452226385474, -0.15504287520889193, -0.14162901940289885, -0.1300196354277432, -0.11992291861679405, -0.11107245768653229, -0.1032479569548741, -0.09627285634633154, -0.08999374532140791, -0.0843009336385876, -0.0791053349385038, -0.07433527248213068, -0.06993608071934432, -0.06586527591571212, -0.06208754767430946, -0.05857160349842161, -0.05529843032127246, -0.05224379600258544, -0.04938985884655267, -0.04672384774312377, -0.044225905323401093, -0.04188833269290626, -0.039697710308246315, -0.037642796407453716, -0.03571518696844578, -0.03390260715968907, -0.03220183576922864, -0.03060000337427482, -0.029095335106831044, -0.027676913829054683, -0.026343222183641046, -0.025083393848035485, -0.02389558550203219, -0.022774973418563604],\n",
        "    # 'pbe0/6-31g*': [94.94398267997894, 73.08787159813801, 55.531871646875516, 41.57994072866859, 30.63186438253615, 22.160036357294302, 15.672722945921123, 10.757735683873761, 7.0856254759128205, 4.389630041492637, 2.4460299588390626, 1.0731847674469464, 0.13039375538937747, -0.49182766809826717, -0.8794767227373086, -1.0986220191116445, -1.200792147370521, -1.225334720336832, -1.2016018859576434, -1.1494762092479505, -1.0816784547059797, -1.0070656752795912, -0.9299985541729257, -0.8533816074486822, -0.7793344288947992, -0.7070512322243303, -0.6381605941569433, -0.573056714143604, -0.5103975128149614, -0.4526643566787243, -0.39909697644179687, -0.35045755066676065, -0.30669743166072294, -0.2682915659388527, -0.2349881536210887, -0.20627073099603876, -0.18220524245407432, -0.1616531991166994, -0.14455242012627423, -0.13025464490056038, -0.1182468276238069, -0.10804023023229092, -0.09932210872648284, -0.09183311311062425, -0.08527007949305698, -0.079458084248472, -0.07426122651668265, -0.06956974801141769, -0.0652986143832095, -0.061381817678920925, -0.05777252226835117, -0.05443379282951355, -0.051332983130123466, -0.048451342969201505, -0.04576505796285346, -0.04325698647880927, -0.040915800142101943, -0.03872288920683786, -0.03667177201714367, -0.034750198712572455, -0.032948001637123525, -0.03125796793028712, -0.02966878574807197, -0.028178276494145393, -0.026774319470860064, -0.025456085975747555, -0.024213344615418464, -0.02304534666473046, -0.021941783430520445, -0.020901486393995583, -0.019920200400520116],\n",
        "    # 'pbe0/aug-cc-pvdz': [89.99634208495263, 68.94214328099042, 52.125570189382415, 38.84093610965647, 28.48484261421254, 20.525302794529125, 14.462488923047204, 9.881860981753562, 6.4601401292020455, 3.94239743729122, 2.118332607904449, 0.8193620616220869, -0.08328507660189644, -0.6892408498679288, -1.0761370476102456, -1.303370377572719, -1.4164711494813673, -1.4501730242045596, -1.4300113728968427, -1.3746168577927165, -1.2966836300911382, -1.2063332121470012, -1.109957406995818, -1.013235429301858, -0.9205761316698045, -0.8334387816139497, -0.7554991145152599, -0.6856473329826258, -0.6247021891176701, -0.5717594385496341, -0.5251806562300771, -0.48321231605950743, -0.4454053152585402, -0.4101258749724366, -0.37637785682454705, -0.3451506123528816, -0.3155508416821249, -0.2879735173773952, -0.26278809062205255, -0.23993704724125564, -0.21975052898051217, -0.20174794091144577, -0.1860139412456192, -0.17216369189554825, -0.1599467764608562, -0.1490119984955527, -0.13917252834653482, -0.13017144659534097, -0.12186526227742434, -0.1141698473948054, -0.10697552119381726, -0.10024450207129121, -0.09396109805675223, -0.08809550374280661, -0.08262935245875269, -0.07753558515105397, -0.07278159516863525, -0.06836867617676035, -0.06423902342794463, -0.06037058896617964, -0.056752602802589536, -0.05335304979234934, -0.05015759327216074, -0.0471522873849608, -0.04430494335247204, -0.0416333565954119, -0.03910023730713874, -0.036728227394632995, -0.03449684369843453, -0.032414523186162114, -0.0304646177100949],\n",
        "    # 'wb97x-d/aug-cc-pvdz': [87.17967781424522, 65.4493358884356, 48.12503916485002, 34.51033164304681, 23.967187133501284, 15.928148872219026, 9.90133908909047, 5.4695795273873955, 2.2852827988681383, 0.06308739323867485, -1.4283433406963013, -2.3743012413033284, -2.9213325157761574, -3.18370264332043, -3.249095128150657, -3.1835987496888265, -3.036014379991684, -2.841502225957811, -2.6246212850674056, -2.401836567965802, -2.183572376088705, -1.9758831034996547, -1.781792068388313, -1.6023669175338, -1.4375431116204709, -1.2867098986753263, -1.1490773520781659, -1.0238831652095541, -0.9104759285110049, -0.8082864236785099, -0.7167887459509075, -0.635440094221849, -0.5636330479173921, -0.5006767581216991, -0.4458044689381495, -0.3982002679258585, -0.35701716429321095, -0.3214239935041405, -0.29063178406795487, -0.2639204580918886, -0.24064163625007495, -0.22024814295582473, -0.2022667026030831, -0.18630908452905715, -0.1720616371021606, -0.1592581436270848, -0.14769524469738826, -0.13719528989167884, -0.12764007516670972, -0.1189077336457558, -0.11090652120765299, -0.10355829063337296, -0.09679424768546596, -0.09056241676444188, -0.08480943401809782, -0.0794916552840732, -0.07457338774111122, -0.07001434406265616, -0.06578861433081329, -0.061866492847912014, -0.05822214868385345, -0.05483411729801446, -0.05167837196495384, -0.04874115809798241, -0.04600008839042857, -0.043444836337585, -0.0410670522833243, -0.03883718966972083, -0.036748831218574196, -0.03479442768730223, -0.03296396922087297],\n",
        "    'mp2/6-31g*': [77.66816222399939, 57.72571282449644, 41.92814487160649, 29.594079107861035, 20.106382252066396, 12.921868018223904, 7.574976686562877, 3.674809507036116, 0.8980837714043446, -1.0190187401603907, -2.288665492844302, -3.07879175117705, -3.520157214894425, -3.712982454977464, -3.733047574700322, -3.6369897237746045, -3.4667032962315716, -3.252776032371912, -3.0170956651563756, -2.7748825462185778, -2.536280291969888, -2.3077112258179113, -2.092930294049438, -1.893859276548028, -1.7111667055869475, -1.5447126551298425, -1.3938563441042788, -1.257650830608327, -1.1350282708299346, -1.0248620748170651, -0.9260571470949799, -0.8375478692469187, -0.7583234393387102, -0.6874395154882222, -0.6240075181121938, -0.5672121740644798, -0.5163223202689551, -0.4706780925625935, -0.4296979926293716, -0.3929177255486138, -0.35978033777792007, -0.329935138754081, -0.3030258429935202, -0.27873108064522967, -0.25676416320493445, -0.2368675647303462, -0.21881609974661842, -0.2024044808349572, -0.18745590461185202, -0.17381454148562625, -0.16134421428432688, -0.14993264799704775, -0.13947042101062834, -0.12987220054492354, -0.12105779134435579, -0.11295661935582757, -0.10550561116542667, -0.09864856151398271, -0.09233189013320953, -0.08650707692140713, -0.08113437035353854, -0.07617147709243, -0.0715801443438977, -0.06732843746431172, -0.06338796118507162, -0.059729676810093224, -0.05632880824850872, -0.05316307651810348, -0.05021323659457266, -0.047462646674830467, -0.04489442519843578],\n",
        "    'wb97x-d3/6-31g*': [96.03405720472801, 73.25257412303472, 54.950022099597845, 40.35591625823872, 28.893905372708105, 20.022465876943897, 13.212304928223602, 8.095280263456516, 4.306861428951379, 1.563375783560332, -0.35173437104094774, -1.6602347040898167, -2.49213667656295, -2.9931458182400092, -3.2355455802753568, -3.3128691939637065, -3.262811632361263, -3.1395708610652946, -2.961916856234893, -2.764708671893459, -2.5545726381242275, -2.351163794635795, -2.1501117917359807, -1.964767853380181, -1.783255433139857, -1.6179359766538255, -1.459811886830721, -1.3144060022896156, -1.1804246696992777, -1.0571041998337023, -0.9447392305592075, -0.8431640305207111, -0.7517410202417523, -0.6711084234993905, -0.6002384737948887, -0.5372005056124181, -0.4827706642681733, -0.4351387285278179, -0.3940692549222149, -0.3577720625908114, -0.32574807992205024, -0.2977883580024354, -0.27306578343268484, -0.25088006135774776, -0.23106544057372957, -0.21323003724683076, -0.19724142213817686, -0.18264531902968884, -0.1695660746190697, -0.15754987858235836, -0.1464566737995483, -0.13617316563613713, -0.12709526694379747, -0.1186297038802877, -0.11068253096891567, -0.10342696215957403, -0.09687614481663331, -0.09080902504501864, -0.08512882853392512, -0.07990181486820802, -0.07504646328743547, -0.07038948044646531, -0.06638491235207766, -0.062410259910393506, -0.058591687702573836, -0.05551528895739466, -0.05224726686719805, -0.04943333280971274, -0.04665012570330873, -0.044149706372991204, -0.04169669805560261],\n",
        "    'wb97x-d3/aug-cc-pvdz': [90.7611775912228, 68.7997716210084, 51.230302636220586, 37.31995597417699, 26.470342282846104, 18.116783429053612, 11.753923080512322, 6.993022601644043, 3.458231746975798, 0.9007332776091062, -0.892103563353885, -2.1319588330225088, -2.911400765005965, -3.3862123358412646, -3.6081917894189246, -3.6705956251826137, -3.598708605277352, -3.4608471168321557, -3.249488294997718, -3.045635975780897, -2.788396052084863, -2.5569768621353433, -2.326693687122315, -2.1134353452944197, -1.9222894216654822, -1.7401832436444238, -1.5716654031421058, -1.4227368300780654, -1.28859138028929, -1.1642143364879303, -1.0584320963243954, -0.9619481640984304, -0.8748642332502641, -0.7939418877358548, -0.7253391405683942, -0.6557778266142122, -0.6011854102252983, -0.5456745773553848, -0.5017179389833473, -0.4556194767355919, -0.41465551155852154, -0.37868121825158596, -0.34952775231795385, -0.32153500604908913, -0.29672184301307425, -0.2762060984969139, -0.25412199465790763, -0.2364987187902443, -0.22312942380085588, -0.20767301035812125, -0.19697015680139884, -0.17926014529075474, -0.16584139212500304, -0.1538191121071577, -0.15090002020588145, -0.13559594500111416, -0.12467053713044152, -0.12059821718139574, -0.11360304709523916, -0.10317121265688911, -0.09520357614383101, -0.0919679511571303, -0.08192949276417494, -0.08183575537987053, -0.06942708540009335, -0.07407851703464985, -0.06509187445044518, -0.06585444591473788, -0.059372719551902264, -0.05492266087094322, -0.05581760918721557],\n",
        "    'mp2/aug-cc-pvdz': [74.9816945103812, 54.573972108308226, 38.42094234540127, 25.841585219139233, 16.216894203273114, 8.990619263786357, 3.6739093011710793, -0.14911619335180148, -2.8207008872996084, -4.615016955474857, -5.7481608359958045, -6.389132832351606, -6.66972612432437, -6.6921182431979105, -6.5347861524205655, -6.256904081674293, -5.902447908942122, -5.503577661293093, -5.083718445326667, -4.659715815563686, -4.243821598007344, -3.844907721853815, -3.46921329916222, -3.1210955232963897, -2.8033267993596382, -2.517241910099983, -2.262949228170328, -2.039204131346196, -1.8437745501869358, -1.6734382240101695, -1.5246219005202875, -1.3936089500784874, -1.2769831229234114, -1.1719818590790965, -1.076473581022583, -0.9890354286180809, -0.9087589022237808, -0.8351181024918333, -0.7677894555963576, -0.7065182005753741, -0.6509900427772664, -0.6008643865352497, -0.5557404310675338, -0.5150372295756824, -0.4783134002937004, -0.4449854983831756, -0.4146306383772753, -0.38682391948532313, -0.36121342924889177, -0.33755596447736025, -0.3155924214515835, -0.29516575392335653, -0.2761582914390601, -0.2584516167989932, -0.24194725905545056, -0.22655200370354578, -0.21219291706802323, -0.19881071214331314, -0.18629055860219523, -0.1745803484809585, -0.16363287542480975, -0.15336286852834746, -0.14371732185827568, -0.13465100835310295, -0.12611163692781702, -0.11807539721485227, -0.11049961484968662, -0.10336646804353222, -0.0966437149909325, -0.09032342658611014, -0.08437644568039104],\n",
        "}\n",
        "\n",
        "fig = go.Figure()\n",
        "\n",
        "for key,value in theories.items():\n",
        "\n",
        "    fig.add_trace(\n",
        "        go.Scatter(\n",
        "            x=list(distances), y=value,\n",
        "            mode='lines+markers',\n",
        "            name=key,\n",
        "            marker=dict(size=13)\n",
        "        )\n",
        "    )\n",
        "\n",
        "fig.update_layout(legend=dict(itemsizing='constant'))\n",
        "fig.update_layout(legend=dict(\n",
        "        orientation=\"h\",\n",
        "        yanchor=\"bottom\",\n",
        "        y=1.02,\n",
        "        xanchor=\"right\",\n",
        "        x=1.05,\n",
        "        font = dict(family = \"Arial\", size = 35),\n",
        "        bordercolor=\"LightSteelBlue\",\n",
        "        borderwidth=2,\n",
        "    ),\n",
        ")\n",
        "fig.update_traces(line=dict(width=5))\n",
        "\n",
        "fig.update_layout(\n",
        "    template='simple_white',\n",
        "    xaxis_tickformat = 'i',\n",
        "    bargap=0.2, # gap between bars of adjacent location coordinates,\n",
        "    height=600,\n",
        "    width=1350,\n",
        "    showlegend=False,\n",
        ")\n",
        "\n",
        "fig.update_yaxes(range=[-10, 10.0], tickfont = dict(size=30))\n",
        "fig.update_xaxes(range=[1.0, 8.0], tickfont = dict(size=30))\n",
        "\n",
        "fig.show()\n"
      ]
    },
    {
      "cell_type": "code",
      "execution_count": 8,
      "metadata": {
        "colab": {
          "base_uri": "https://localhost:8080/",
          "height": 617
        },
        "id": "ncFatiTWDcuc",
        "outputId": "19856411-1ad3-461d-a1c9-b00a52706287"
      },
      "outputs": [
        {
          "data": {
            "application/vnd.plotly.v1+json": {
              "config": {
                "plotlyServerURL": "https://plot.ly"
              },
              "data": [
                {
                  "line": {
                    "width": 5
                  },
                  "marker": {
                    "size": 10
                  },
                  "mode": "lines+markers",
                  "name": "hf/6-31g*",
                  "type": "scatter",
                  "x": [
                    1,
                    1.1,
                    1.2000000000000002,
                    1.3000000000000003,
                    1.4000000000000004,
                    1.5000000000000004,
                    1.6000000000000005,
                    1.7000000000000006,
                    1.8000000000000007,
                    1.9000000000000008,
                    2.000000000000001,
                    2.100000000000001,
                    2.200000000000001,
                    2.300000000000001,
                    2.4000000000000012,
                    2.5000000000000013,
                    2.6000000000000014,
                    2.7000000000000015,
                    2.8000000000000016,
                    2.9000000000000017,
                    3.0000000000000018,
                    3.100000000000002,
                    3.200000000000002,
                    3.300000000000002,
                    3.400000000000002,
                    3.500000000000002,
                    3.6000000000000023,
                    3.7000000000000024,
                    3.8000000000000025,
                    3.9000000000000026,
                    4.000000000000003,
                    4.100000000000003,
                    4.200000000000003,
                    4.3000000000000025,
                    4.400000000000003,
                    4.5000000000000036,
                    4.600000000000003,
                    4.700000000000003,
                    4.800000000000003,
                    4.900000000000004,
                    5.0000000000000036,
                    5.100000000000003,
                    5.200000000000004,
                    5.300000000000004,
                    5.400000000000004,
                    5.5000000000000036,
                    5.600000000000004,
                    5.700000000000005,
                    5.800000000000004,
                    5.900000000000004,
                    6.000000000000004,
                    6.100000000000005,
                    6.200000000000005,
                    6.300000000000004,
                    6.400000000000005,
                    6.500000000000005,
                    6.600000000000005,
                    6.700000000000005,
                    6.800000000000005,
                    6.900000000000006,
                    7.000000000000005,
                    7.100000000000005,
                    7.2000000000000055,
                    7.300000000000006,
                    7.400000000000006,
                    7.500000000000005,
                    7.600000000000006,
                    7.700000000000006,
                    7.800000000000006,
                    7.900000000000006
                  ],
                  "y": [
                    81.05613410769729,
                    52.262859231210314,
                    32.79515085829189,
                    19.445226660987828,
                    10.243668578215875,
                    3.941831801144872,
                    -0.2884735291590914,
                    -3.029347987321671,
                    -4.71058651083149,
                    -5.655778141634073,
                    -6.105465333792381,
                    -6.232615488523152,
                    -6.156926404335536,
                    -5.958495659462642,
                    -5.689783021458425,
                    -5.384644241596106,
                    -5.064619247685187,
                    -4.743135867000092,
                    -4.428366569220088,
                    -4.125220844114665,
                    -3.8366446222062223,
                    -3.5645484894048423,
                    -3.3102000299841166,
                    -3.0744076595874503,
                    -2.8575418423861265,
                    -2.65951263171155,
                    -2.479768462362699,
                    -2.3173431114992127,
                    -2.170946057594847,
                    -2.0390798313892446,
                    -1.9201640613609925,
                    -1.8126305108889937,
                    -1.7149977453518659,
                    -1.6259687721612863,
                    -1.5443736185552552,
                    -1.4692277371068485,
                    -1.3997093762736768,
                    -1.3351365680573508,
                    -1.2749457577010617,
                    -1.2186761980992742,
                    -1.1659376234165393,
                    -1.1164095513522625,
                    -1.0698109330842271,
                    -1.0259039753000252,
                    -0.9844789304770529,
                    -0.9453502174583264,
                    -0.9083498718682677,
                    -0.8733302457258105,
                    -0.8401522058411501,
                    -0.8086923589580692,
                    -0.7788372769136913,
                    -0.7504836285370402,
                    -0.7235322295455262,
                    -0.6978968852199614,
                    -0.6734956662985496,
                    -0.6502533201128244,
                    -0.6280975537374616,
                    -0.6069665629183874,
                    -0.5867982804775238,
                    -0.5675389576936141,
                    -0.5491349013755098,
                    -0.5315385528374463,
                    -0.5147047222126275,
                    -0.4985920485923998,
                    -0.4831611711997539,
                    -0.468374609015882,
                    -0.4541992732556537,
                    -0.44060335267568007,
                    -0.427556412294507,
                    -0.4150304951472208,
                    -0.4029982243082486
                  ]
                },
                {
                  "line": {
                    "width": 5
                  },
                  "marker": {
                    "size": 10
                  },
                  "mode": "lines+markers",
                  "name": "mp2/6-31g*",
                  "type": "scatter",
                  "x": [
                    1,
                    1.1,
                    1.2000000000000002,
                    1.3000000000000003,
                    1.4000000000000004,
                    1.5000000000000004,
                    1.6000000000000005,
                    1.7000000000000006,
                    1.8000000000000007,
                    1.9000000000000008,
                    2.000000000000001,
                    2.100000000000001,
                    2.200000000000001,
                    2.300000000000001,
                    2.4000000000000012,
                    2.5000000000000013,
                    2.6000000000000014,
                    2.7000000000000015,
                    2.8000000000000016,
                    2.9000000000000017,
                    3.0000000000000018,
                    3.100000000000002,
                    3.200000000000002,
                    3.300000000000002,
                    3.400000000000002,
                    3.500000000000002,
                    3.6000000000000023,
                    3.7000000000000024,
                    3.8000000000000025,
                    3.9000000000000026,
                    4.000000000000003,
                    4.100000000000003,
                    4.200000000000003,
                    4.3000000000000025,
                    4.400000000000003,
                    4.5000000000000036,
                    4.600000000000003,
                    4.700000000000003,
                    4.800000000000003,
                    4.900000000000004,
                    5.0000000000000036,
                    5.100000000000003,
                    5.200000000000004,
                    5.300000000000004,
                    5.400000000000004,
                    5.5000000000000036,
                    5.600000000000004,
                    5.700000000000005,
                    5.800000000000004,
                    5.900000000000004,
                    6.000000000000004,
                    6.100000000000005,
                    6.200000000000005,
                    6.300000000000004,
                    6.400000000000005,
                    6.500000000000005,
                    6.600000000000005,
                    6.700000000000005,
                    6.800000000000005,
                    6.900000000000006,
                    7.000000000000005,
                    7.100000000000005,
                    7.2000000000000055,
                    7.300000000000006,
                    7.400000000000006,
                    7.500000000000005,
                    7.600000000000006,
                    7.700000000000006,
                    7.800000000000006,
                    7.900000000000006
                  ],
                  "y": [
                    73.62414039700525,
                    45.7305026059621,
                    27.151499214116484,
                    14.63544424349675,
                    6.1761453243670985,
                    0.5060957774403505,
                    -3.20275661960477,
                    -5.518570831744,
                    -6.850823613931425,
                    -7.502956781769171,
                    -7.699446474493016,
                    -7.602348481013905,
                    -7.324758280767128,
                    -6.943127624457702,
                    -6.507883786631282,
                    -6.051634571515024,
                    -5.595026089344174,
                    -5.150771162181627,
                    -4.726462729624473,
                    -4.326521065551788,
                    -3.953509080049116,
                    -3.6088980623171665,
                    -3.2934406269341707,
                    -3.0072766718803905,
                    -2.7499290069099516,
                    -2.5202969271340407,
                    -2.3167044575093314,
                    -2.137011304264888,
                    -1.9787788663525134,
                    -1.8394359539961442,
                    -1.7164494878961705,
                    -1.6074394661118276,
                    -1.5102688517654315,
                    -1.42308219964616,
                    -1.3443123142351396,
                    -1.2726645590155385,
                    -1.207088042399846,
                    -1.1467369641759433,
                    -1.090927995275706,
                    -1.0391179933794774,
                    -0.9908595282468013,
                    -0.9457924998714589,
                    -0.9036077380878851,
                    -0.8640481797629036,
                    -0.8268911401391961,
                    -0.7919418032979593,
                    -0.7590264800819568,
                    -0.7279930360964499,
                    -0.6987005390110426,
                    -0.6710248762974516,
                    -0.6448497981764376,
                    -0.6200739706400782,
                    -0.5966000197804533,
                    -0.5743405702523887,
                    -0.5532165030599572,
                    -0.5331538097234443,
                    -0.5140826317947358,
                    -0.49594344274373725,
                    -0.4786759862327017,
                    -0.46222917624982074,
                    -0.4465519142104313,
                    -0.43159753584768623,
                    -0.4173252962063998,
                    -0.40369556087534875,
                    -0.39067024883115664,
                    -0.37821624148637056,
                    -0.366301188361831,
                    -0.3548957343446091,
                    -0.34397244412684813,
                    -0.33350627118488774,
                    -0.32346962799783796
                  ]
                },
                {
                  "line": {
                    "width": 5
                  },
                  "marker": {
                    "size": 10
                  },
                  "mode": "lines+markers",
                  "name": "wb97x-d3/6-31g*",
                  "type": "scatter",
                  "x": [
                    1,
                    1.1,
                    1.2000000000000002,
                    1.3000000000000003,
                    1.4000000000000004,
                    1.5000000000000004,
                    1.6000000000000005,
                    1.7000000000000006,
                    1.8000000000000007,
                    1.9000000000000008,
                    2.000000000000001,
                    2.100000000000001,
                    2.200000000000001,
                    2.300000000000001,
                    2.4000000000000012,
                    2.5000000000000013,
                    2.6000000000000014,
                    2.7000000000000015,
                    2.8000000000000016,
                    2.9000000000000017,
                    3.0000000000000018,
                    3.100000000000002,
                    3.200000000000002,
                    3.300000000000002,
                    3.400000000000002,
                    3.500000000000002,
                    3.6000000000000023,
                    3.7000000000000024,
                    3.8000000000000025,
                    3.9000000000000026,
                    4.000000000000003,
                    4.100000000000003,
                    4.200000000000003,
                    4.3000000000000025,
                    4.400000000000003,
                    4.5000000000000036,
                    4.600000000000003,
                    4.700000000000003,
                    4.800000000000003,
                    4.900000000000004,
                    5.0000000000000036,
                    5.100000000000003,
                    5.200000000000004,
                    5.300000000000004,
                    5.400000000000004,
                    5.5000000000000036,
                    5.600000000000004,
                    5.700000000000005,
                    5.800000000000004,
                    5.900000000000004,
                    6.000000000000004,
                    6.100000000000005,
                    6.200000000000005,
                    6.300000000000004,
                    6.400000000000005,
                    6.500000000000005,
                    6.600000000000005,
                    6.700000000000005,
                    6.800000000000005,
                    6.900000000000006,
                    7.000000000000005,
                    7.100000000000005,
                    7.2000000000000055,
                    7.300000000000006,
                    7.400000000000006,
                    7.500000000000005,
                    7.600000000000006,
                    7.700000000000006,
                    7.800000000000006,
                    7.900000000000006
                  ],
                  "y": [
                    69.66080663897446,
                    42.68466059115599,
                    24.752069187379675,
                    12.65768083705916,
                    4.5202094829001,
                    -0.8634880230238196,
                    -4.317661383567611,
                    -6.4004482443851884,
                    -7.5207671729440335,
                    -7.986172604811145,
                    -8.027981017978163,
                    -7.805353572388412,
                    -7.43825021959492,
                    -6.999596712907078,
                    -6.540784048760543,
                    -6.0822241058631334,
                    -5.643042772746412,
                    -5.223890834808117,
                    -4.827548270084662,
                    -4.453937592828879,
                    -4.10187443162431,
                    -3.7725887705746572,
                    -3.4659259562322404,
                    -3.1822263110952917,
                    -2.92174787123804,
                    -2.6857314565277193,
                    -2.473375890083844,
                    -2.284256473329151,
                    -2.116648422233993,
                    -1.968687712593237,
                    -1.8379009016498458,
                    -1.7217687424563337,
                    -1.6182549523946363,
                    -1.5253872972389217,
                    -1.4416098877845798,
                    -1.3654620859015267,
                    -1.2958191100333352,
                    -1.231730956613319,
                    -1.172551815659972,
                    -1.117650700995,
                    -1.0665569214324933,
                    -1.0188553305051755,
                    -0.9743060346518178,
                    -0.9324942066741642,
                    -0.8932613515353296,
                    -0.8563848798221443,
                    -0.8216756900364999,
                    -0.7889590176928323,
                    -0.7581456445332151,
                    -0.7289871964312624,
                    -0.7014039104396943,
                    -0.6753234390926082,
                    -0.6506318853644188,
                    -0.6272312410001177,
                    -0.6050561285519507,
                    -0.5839118263975251,
                    -0.5638791013334412,
                    -0.5448454374854919,
                    -0.5266890452767257,
                    -0.5094039959076326,
                    -0.492931673215935,
                    -0.47718579330830835,
                    -0.462226463627303,
                    -0.4479109536332544,
                    -0.4342494571174029,
                    -0.4211554378562141,
                    -0.408662475674646,
                    -0.3966333244170528,
                    -0.3851878735877108,
                    -0.3742078003415372,
                    -0.3636463324946817
                  ]
                },
                {
                  "line": {
                    "width": 5
                  },
                  "marker": {
                    "size": 10
                  },
                  "mode": "lines+markers",
                  "name": "wb97x-d3/aug-cc-pvdz",
                  "type": "scatter",
                  "x": [
                    1,
                    1.1,
                    1.2000000000000002,
                    1.3000000000000003,
                    1.4000000000000004,
                    1.5000000000000004,
                    1.6000000000000005,
                    1.7000000000000006,
                    1.8000000000000007,
                    1.9000000000000008,
                    2.000000000000001,
                    2.100000000000001,
                    2.200000000000001,
                    2.300000000000001,
                    2.4000000000000012,
                    2.5000000000000013,
                    2.6000000000000014,
                    2.7000000000000015,
                    2.8000000000000016,
                    2.9000000000000017,
                    3.0000000000000018,
                    3.100000000000002,
                    3.200000000000002,
                    3.300000000000002,
                    3.400000000000002,
                    3.500000000000002,
                    3.6000000000000023,
                    3.7000000000000024,
                    3.8000000000000025,
                    3.9000000000000026,
                    4.000000000000003,
                    4.100000000000003,
                    4.200000000000003,
                    4.3000000000000025,
                    4.400000000000003,
                    4.5000000000000036,
                    4.600000000000003,
                    4.700000000000003,
                    4.800000000000003,
                    4.900000000000004,
                    5.0000000000000036,
                    5.100000000000003,
                    5.200000000000004,
                    5.300000000000004,
                    5.400000000000004,
                    5.5000000000000036,
                    5.600000000000004,
                    5.700000000000005,
                    5.800000000000004,
                    5.900000000000004,
                    6.000000000000004,
                    6.100000000000005,
                    6.200000000000005,
                    6.300000000000004,
                    6.400000000000005,
                    6.500000000000005,
                    6.600000000000005,
                    6.700000000000005,
                    6.800000000000005,
                    6.900000000000006,
                    7.000000000000005,
                    7.100000000000005,
                    7.2000000000000055,
                    7.300000000000006,
                    7.400000000000006,
                    7.500000000000005,
                    7.600000000000006,
                    7.700000000000006,
                    7.800000000000006,
                    7.900000000000006
                  ],
                  "y": [
                    68.79520598813542,
                    42.01544240457588,
                    24.276502511958824,
                    12.438114137592493,
                    4.617026515043108,
                    -0.4430635397147853,
                    -3.6219326212012675,
                    -5.514770257024793,
                    -6.539764025219483,
                    -6.9880729115975555,
                    -7.065059718879638,
                    -6.913116609299323,
                    -6.631374781456543,
                    -6.2831931221007835,
                    -5.908665446710074,
                    -5.527427908353275,
                    -5.157663400081219,
                    -4.803882410778897,
                    -4.472136583674001,
                    -4.165368453977862,
                    -3.8821664780552965,
                    -3.6223023268103134,
                    -3.3829712284787092,
                    -3.1615906145598274,
                    -2.956489727454027,
                    -2.766683855879819,
                    -2.5903627901279833,
                    -2.4278251773503143,
                    -2.277564081217861,
                    -2.1393648393277545,
                    -2.0120927629468497,
                    -1.8951383676903788,
                    -1.7876992879027966,
                    -1.6885573299077805,
                    -1.597206543869106,
                    -1.5131414818752091,
                    -1.4352948897576425,
                    -1.363557292992482,
                    -1.2970362011401448,
                    -1.235146163351601,
                    -1.177843010314973,
                    -1.1243798457144294,
                    -1.0746456694614608,
                    -1.0279219745716546,
                    -0.9842260016303044,
                    -0.9434522121737245,
                    -0.9051121550437529,
                    -0.868920298787998,
                    -0.834816253540339,
                    -0.8026039792748634,
                    -0.7720779450901318,
                    -0.7432848967437167,
                    -0.7158996840298641,
                    -0.6899455052043777,
                    -0.665258079970954,
                    -0.6418153579870705,
                    -0.6194570816296618,
                    -0.5981872991251294,
                    -0.5778971745457966,
                    -0.5587361231155228,
                    -0.5401609608961735,
                    -0.5225769892858807,
                    -0.5056877991592046,
                    -0.48982139889267273,
                    -0.4745308322890196,
                    -0.459883206669474,
                    -0.4459651459765155,
                    -0.4325059360417072,
                    -0.41975133671076037,
                    -0.4075714149221312,
                    -0.3956586243293714
                  ]
                },
                {
                  "line": {
                    "width": 5
                  },
                  "marker": {
                    "size": 10
                  },
                  "mode": "lines+markers",
                  "name": "mp2/aug-cc-pvdz",
                  "type": "scatter",
                  "x": [
                    1,
                    1.1,
                    1.2000000000000002,
                    1.3000000000000003,
                    1.4000000000000004,
                    1.5000000000000004,
                    1.6000000000000005,
                    1.7000000000000006,
                    1.8000000000000007,
                    1.9000000000000008,
                    2.000000000000001,
                    2.100000000000001,
                    2.200000000000001,
                    2.300000000000001,
                    2.4000000000000012,
                    2.5000000000000013,
                    2.6000000000000014,
                    2.7000000000000015,
                    2.8000000000000016,
                    2.9000000000000017,
                    3.0000000000000018,
                    3.100000000000002,
                    3.200000000000002,
                    3.300000000000002,
                    3.400000000000002,
                    3.500000000000002,
                    3.6000000000000023,
                    3.7000000000000024,
                    3.8000000000000025,
                    3.9000000000000026,
                    4.000000000000003,
                    4.100000000000003,
                    4.200000000000003,
                    4.3000000000000025,
                    4.400000000000003,
                    4.5000000000000036,
                    4.600000000000003,
                    4.700000000000003,
                    4.800000000000003,
                    4.900000000000004,
                    5.0000000000000036,
                    5.100000000000003,
                    5.200000000000004,
                    5.300000000000004,
                    5.400000000000004,
                    5.5000000000000036,
                    5.600000000000004,
                    5.700000000000005,
                    5.800000000000004,
                    5.900000000000004,
                    6.000000000000004,
                    6.100000000000005,
                    6.200000000000005,
                    6.300000000000004,
                    6.400000000000005,
                    6.500000000000005,
                    6.600000000000005,
                    6.700000000000005,
                    6.800000000000005,
                    6.900000000000006,
                    7.000000000000005,
                    7.100000000000005,
                    7.2000000000000055,
                    7.300000000000006,
                    7.400000000000006,
                    7.500000000000005,
                    7.600000000000006,
                    7.700000000000006,
                    7.800000000000006,
                    7.900000000000006
                  ],
                  "y": [
                    68.47056388083729,
                    41.424905065476196,
                    23.558631142805098,
                    11.706282485538395,
                    3.889778329845285,
                    -1.1746363714628387,
                    -4.350052684225375,
                    -6.234061185823521,
                    -7.246060042903991,
                    -7.680156139686005,
                    -7.741150518500945,
                    -7.569698227132903,
                    -7.259797629289096,
                    -6.8723396690620575,
                    -6.4464329178154,
                    -6.0080663099943195,
                    -5.575207182759186,
                    -5.160263780591777,
                    -4.771125008730451,
                    -4.411850870092167,
                    -4.083507036295487,
                    -3.785062141454546,
                    -3.5142538143263664,
                    -3.268307615449885,
                    -3.0444201126520056,
                    -2.8400285881652962,
                    -2.652915609331103,
                    -2.481222872651415,
                    -2.3233890710689593,
                    -2.1781119588122237,
                    -2.044268007070059,
                    -1.9208755580184516,
                    -1.8070620420912746,
                    -1.7020361345203128,
                    -1.6050805311242584,
                    -1.5155306738161016,
                    -1.4327828286623117,
                    -1.3562707361124922,
                    -1.2854818805644754,
                    -1.2199330871517304,
                    -1.1591847839590628,
                    -1.102823931229068,
                    -1.0504763670905959,
                    -1.0017754981236067,
                    -0.9563975761120673,
                    -0.9140340459707659,
                    -0.8744000822480302,
                    -0.837241033121245,
                    -0.8023187540529761,
                    -0.769423258578172,
                    -0.7383703483792488,
                    -0.708990727289347,
                    -0.6811453480331693,
                    -0.6547120460600127,
                    -0.6295850583992433,
                    -0.6056747110851575,
                    -0.5828999196237419,
                    -0.5611983756243717,
                    -0.5405068124819081,
                    -0.5207764787191991,
                    -0.5019552248704713,
                    -0.48400296943145804,
                    -0.4668788000999484,
                    -0.45054573568631895,
                    -0.43496011340175755,
                    -0.42009323873207904,
                    -0.4059101830061991,
                    -0.3923766750085633,
                    -0.3794592678605113,
                    -0.36713010203675367,
                    -0.3553596541460138
                  ]
                }
              ],
              "layout": {
                "bargap": 0.2,
                "height": 600,
                "legend": {
                  "bordercolor": "LightSteelBlue",
                  "borderwidth": 2,
                  "font": {
                    "family": "Arial",
                    "size": 35
                  },
                  "itemsizing": "constant",
                  "orientation": "h",
                  "x": 1.05,
                  "xanchor": "right",
                  "y": 1.02,
                  "yanchor": "bottom"
                },
                "showlegend": false,
                "template": {
                  "data": {
                    "bar": [
                      {
                        "error_x": {
                          "color": "rgb(36,36,36)"
                        },
                        "error_y": {
                          "color": "rgb(36,36,36)"
                        },
                        "marker": {
                          "line": {
                            "color": "white",
                            "width": 0.5
                          },
                          "pattern": {
                            "fillmode": "overlay",
                            "size": 10,
                            "solidity": 0.2
                          }
                        },
                        "type": "bar"
                      }
                    ],
                    "barpolar": [
                      {
                        "marker": {
                          "line": {
                            "color": "white",
                            "width": 0.5
                          },
                          "pattern": {
                            "fillmode": "overlay",
                            "size": 10,
                            "solidity": 0.2
                          }
                        },
                        "type": "barpolar"
                      }
                    ],
                    "carpet": [
                      {
                        "aaxis": {
                          "endlinecolor": "rgb(36,36,36)",
                          "gridcolor": "white",
                          "linecolor": "white",
                          "minorgridcolor": "white",
                          "startlinecolor": "rgb(36,36,36)"
                        },
                        "baxis": {
                          "endlinecolor": "rgb(36,36,36)",
                          "gridcolor": "white",
                          "linecolor": "white",
                          "minorgridcolor": "white",
                          "startlinecolor": "rgb(36,36,36)"
                        },
                        "type": "carpet"
                      }
                    ],
                    "choropleth": [
                      {
                        "colorbar": {
                          "outlinewidth": 1,
                          "tickcolor": "rgb(36,36,36)",
                          "ticks": "outside"
                        },
                        "type": "choropleth"
                      }
                    ],
                    "contour": [
                      {
                        "colorbar": {
                          "outlinewidth": 1,
                          "tickcolor": "rgb(36,36,36)",
                          "ticks": "outside"
                        },
                        "colorscale": [
                          [
                            0,
                            "#440154"
                          ],
                          [
                            0.1111111111111111,
                            "#482878"
                          ],
                          [
                            0.2222222222222222,
                            "#3e4989"
                          ],
                          [
                            0.3333333333333333,
                            "#31688e"
                          ],
                          [
                            0.4444444444444444,
                            "#26828e"
                          ],
                          [
                            0.5555555555555556,
                            "#1f9e89"
                          ],
                          [
                            0.6666666666666666,
                            "#35b779"
                          ],
                          [
                            0.7777777777777778,
                            "#6ece58"
                          ],
                          [
                            0.8888888888888888,
                            "#b5de2b"
                          ],
                          [
                            1,
                            "#fde725"
                          ]
                        ],
                        "type": "contour"
                      }
                    ],
                    "contourcarpet": [
                      {
                        "colorbar": {
                          "outlinewidth": 1,
                          "tickcolor": "rgb(36,36,36)",
                          "ticks": "outside"
                        },
                        "type": "contourcarpet"
                      }
                    ],
                    "heatmap": [
                      {
                        "colorbar": {
                          "outlinewidth": 1,
                          "tickcolor": "rgb(36,36,36)",
                          "ticks": "outside"
                        },
                        "colorscale": [
                          [
                            0,
                            "#440154"
                          ],
                          [
                            0.1111111111111111,
                            "#482878"
                          ],
                          [
                            0.2222222222222222,
                            "#3e4989"
                          ],
                          [
                            0.3333333333333333,
                            "#31688e"
                          ],
                          [
                            0.4444444444444444,
                            "#26828e"
                          ],
                          [
                            0.5555555555555556,
                            "#1f9e89"
                          ],
                          [
                            0.6666666666666666,
                            "#35b779"
                          ],
                          [
                            0.7777777777777778,
                            "#6ece58"
                          ],
                          [
                            0.8888888888888888,
                            "#b5de2b"
                          ],
                          [
                            1,
                            "#fde725"
                          ]
                        ],
                        "type": "heatmap"
                      }
                    ],
                    "heatmapgl": [
                      {
                        "colorbar": {
                          "outlinewidth": 1,
                          "tickcolor": "rgb(36,36,36)",
                          "ticks": "outside"
                        },
                        "colorscale": [
                          [
                            0,
                            "#440154"
                          ],
                          [
                            0.1111111111111111,
                            "#482878"
                          ],
                          [
                            0.2222222222222222,
                            "#3e4989"
                          ],
                          [
                            0.3333333333333333,
                            "#31688e"
                          ],
                          [
                            0.4444444444444444,
                            "#26828e"
                          ],
                          [
                            0.5555555555555556,
                            "#1f9e89"
                          ],
                          [
                            0.6666666666666666,
                            "#35b779"
                          ],
                          [
                            0.7777777777777778,
                            "#6ece58"
                          ],
                          [
                            0.8888888888888888,
                            "#b5de2b"
                          ],
                          [
                            1,
                            "#fde725"
                          ]
                        ],
                        "type": "heatmapgl"
                      }
                    ],
                    "histogram": [
                      {
                        "marker": {
                          "line": {
                            "color": "white",
                            "width": 0.6
                          }
                        },
                        "type": "histogram"
                      }
                    ],
                    "histogram2d": [
                      {
                        "colorbar": {
                          "outlinewidth": 1,
                          "tickcolor": "rgb(36,36,36)",
                          "ticks": "outside"
                        },
                        "colorscale": [
                          [
                            0,
                            "#440154"
                          ],
                          [
                            0.1111111111111111,
                            "#482878"
                          ],
                          [
                            0.2222222222222222,
                            "#3e4989"
                          ],
                          [
                            0.3333333333333333,
                            "#31688e"
                          ],
                          [
                            0.4444444444444444,
                            "#26828e"
                          ],
                          [
                            0.5555555555555556,
                            "#1f9e89"
                          ],
                          [
                            0.6666666666666666,
                            "#35b779"
                          ],
                          [
                            0.7777777777777778,
                            "#6ece58"
                          ],
                          [
                            0.8888888888888888,
                            "#b5de2b"
                          ],
                          [
                            1,
                            "#fde725"
                          ]
                        ],
                        "type": "histogram2d"
                      }
                    ],
                    "histogram2dcontour": [
                      {
                        "colorbar": {
                          "outlinewidth": 1,
                          "tickcolor": "rgb(36,36,36)",
                          "ticks": "outside"
                        },
                        "colorscale": [
                          [
                            0,
                            "#440154"
                          ],
                          [
                            0.1111111111111111,
                            "#482878"
                          ],
                          [
                            0.2222222222222222,
                            "#3e4989"
                          ],
                          [
                            0.3333333333333333,
                            "#31688e"
                          ],
                          [
                            0.4444444444444444,
                            "#26828e"
                          ],
                          [
                            0.5555555555555556,
                            "#1f9e89"
                          ],
                          [
                            0.6666666666666666,
                            "#35b779"
                          ],
                          [
                            0.7777777777777778,
                            "#6ece58"
                          ],
                          [
                            0.8888888888888888,
                            "#b5de2b"
                          ],
                          [
                            1,
                            "#fde725"
                          ]
                        ],
                        "type": "histogram2dcontour"
                      }
                    ],
                    "mesh3d": [
                      {
                        "colorbar": {
                          "outlinewidth": 1,
                          "tickcolor": "rgb(36,36,36)",
                          "ticks": "outside"
                        },
                        "type": "mesh3d"
                      }
                    ],
                    "parcoords": [
                      {
                        "line": {
                          "colorbar": {
                            "outlinewidth": 1,
                            "tickcolor": "rgb(36,36,36)",
                            "ticks": "outside"
                          }
                        },
                        "type": "parcoords"
                      }
                    ],
                    "pie": [
                      {
                        "automargin": true,
                        "type": "pie"
                      }
                    ],
                    "scatter": [
                      {
                        "fillpattern": {
                          "fillmode": "overlay",
                          "size": 10,
                          "solidity": 0.2
                        },
                        "type": "scatter"
                      }
                    ],
                    "scatter3d": [
                      {
                        "line": {
                          "colorbar": {
                            "outlinewidth": 1,
                            "tickcolor": "rgb(36,36,36)",
                            "ticks": "outside"
                          }
                        },
                        "marker": {
                          "colorbar": {
                            "outlinewidth": 1,
                            "tickcolor": "rgb(36,36,36)",
                            "ticks": "outside"
                          }
                        },
                        "type": "scatter3d"
                      }
                    ],
                    "scattercarpet": [
                      {
                        "marker": {
                          "colorbar": {
                            "outlinewidth": 1,
                            "tickcolor": "rgb(36,36,36)",
                            "ticks": "outside"
                          }
                        },
                        "type": "scattercarpet"
                      }
                    ],
                    "scattergeo": [
                      {
                        "marker": {
                          "colorbar": {
                            "outlinewidth": 1,
                            "tickcolor": "rgb(36,36,36)",
                            "ticks": "outside"
                          }
                        },
                        "type": "scattergeo"
                      }
                    ],
                    "scattergl": [
                      {
                        "marker": {
                          "colorbar": {
                            "outlinewidth": 1,
                            "tickcolor": "rgb(36,36,36)",
                            "ticks": "outside"
                          }
                        },
                        "type": "scattergl"
                      }
                    ],
                    "scattermapbox": [
                      {
                        "marker": {
                          "colorbar": {
                            "outlinewidth": 1,
                            "tickcolor": "rgb(36,36,36)",
                            "ticks": "outside"
                          }
                        },
                        "type": "scattermapbox"
                      }
                    ],
                    "scatterpolar": [
                      {
                        "marker": {
                          "colorbar": {
                            "outlinewidth": 1,
                            "tickcolor": "rgb(36,36,36)",
                            "ticks": "outside"
                          }
                        },
                        "type": "scatterpolar"
                      }
                    ],
                    "scatterpolargl": [
                      {
                        "marker": {
                          "colorbar": {
                            "outlinewidth": 1,
                            "tickcolor": "rgb(36,36,36)",
                            "ticks": "outside"
                          }
                        },
                        "type": "scatterpolargl"
                      }
                    ],
                    "scatterternary": [
                      {
                        "marker": {
                          "colorbar": {
                            "outlinewidth": 1,
                            "tickcolor": "rgb(36,36,36)",
                            "ticks": "outside"
                          }
                        },
                        "type": "scatterternary"
                      }
                    ],
                    "surface": [
                      {
                        "colorbar": {
                          "outlinewidth": 1,
                          "tickcolor": "rgb(36,36,36)",
                          "ticks": "outside"
                        },
                        "colorscale": [
                          [
                            0,
                            "#440154"
                          ],
                          [
                            0.1111111111111111,
                            "#482878"
                          ],
                          [
                            0.2222222222222222,
                            "#3e4989"
                          ],
                          [
                            0.3333333333333333,
                            "#31688e"
                          ],
                          [
                            0.4444444444444444,
                            "#26828e"
                          ],
                          [
                            0.5555555555555556,
                            "#1f9e89"
                          ],
                          [
                            0.6666666666666666,
                            "#35b779"
                          ],
                          [
                            0.7777777777777778,
                            "#6ece58"
                          ],
                          [
                            0.8888888888888888,
                            "#b5de2b"
                          ],
                          [
                            1,
                            "#fde725"
                          ]
                        ],
                        "type": "surface"
                      }
                    ],
                    "table": [
                      {
                        "cells": {
                          "fill": {
                            "color": "rgb(237,237,237)"
                          },
                          "line": {
                            "color": "white"
                          }
                        },
                        "header": {
                          "fill": {
                            "color": "rgb(217,217,217)"
                          },
                          "line": {
                            "color": "white"
                          }
                        },
                        "type": "table"
                      }
                    ]
                  },
                  "layout": {
                    "annotationdefaults": {
                      "arrowhead": 0,
                      "arrowwidth": 1
                    },
                    "autotypenumbers": "strict",
                    "coloraxis": {
                      "colorbar": {
                        "outlinewidth": 1,
                        "tickcolor": "rgb(36,36,36)",
                        "ticks": "outside"
                      }
                    },
                    "colorscale": {
                      "diverging": [
                        [
                          0,
                          "rgb(103,0,31)"
                        ],
                        [
                          0.1,
                          "rgb(178,24,43)"
                        ],
                        [
                          0.2,
                          "rgb(214,96,77)"
                        ],
                        [
                          0.3,
                          "rgb(244,165,130)"
                        ],
                        [
                          0.4,
                          "rgb(253,219,199)"
                        ],
                        [
                          0.5,
                          "rgb(247,247,247)"
                        ],
                        [
                          0.6,
                          "rgb(209,229,240)"
                        ],
                        [
                          0.7,
                          "rgb(146,197,222)"
                        ],
                        [
                          0.8,
                          "rgb(67,147,195)"
                        ],
                        [
                          0.9,
                          "rgb(33,102,172)"
                        ],
                        [
                          1,
                          "rgb(5,48,97)"
                        ]
                      ],
                      "sequential": [
                        [
                          0,
                          "#440154"
                        ],
                        [
                          0.1111111111111111,
                          "#482878"
                        ],
                        [
                          0.2222222222222222,
                          "#3e4989"
                        ],
                        [
                          0.3333333333333333,
                          "#31688e"
                        ],
                        [
                          0.4444444444444444,
                          "#26828e"
                        ],
                        [
                          0.5555555555555556,
                          "#1f9e89"
                        ],
                        [
                          0.6666666666666666,
                          "#35b779"
                        ],
                        [
                          0.7777777777777778,
                          "#6ece58"
                        ],
                        [
                          0.8888888888888888,
                          "#b5de2b"
                        ],
                        [
                          1,
                          "#fde725"
                        ]
                      ],
                      "sequentialminus": [
                        [
                          0,
                          "#440154"
                        ],
                        [
                          0.1111111111111111,
                          "#482878"
                        ],
                        [
                          0.2222222222222222,
                          "#3e4989"
                        ],
                        [
                          0.3333333333333333,
                          "#31688e"
                        ],
                        [
                          0.4444444444444444,
                          "#26828e"
                        ],
                        [
                          0.5555555555555556,
                          "#1f9e89"
                        ],
                        [
                          0.6666666666666666,
                          "#35b779"
                        ],
                        [
                          0.7777777777777778,
                          "#6ece58"
                        ],
                        [
                          0.8888888888888888,
                          "#b5de2b"
                        ],
                        [
                          1,
                          "#fde725"
                        ]
                      ]
                    },
                    "colorway": [
                      "#1F77B4",
                      "#FF7F0E",
                      "#2CA02C",
                      "#D62728",
                      "#9467BD",
                      "#8C564B",
                      "#E377C2",
                      "#7F7F7F",
                      "#BCBD22",
                      "#17BECF"
                    ],
                    "font": {
                      "color": "rgb(36,36,36)"
                    },
                    "geo": {
                      "bgcolor": "white",
                      "lakecolor": "white",
                      "landcolor": "white",
                      "showlakes": true,
                      "showland": true,
                      "subunitcolor": "white"
                    },
                    "hoverlabel": {
                      "align": "left"
                    },
                    "hovermode": "closest",
                    "mapbox": {
                      "style": "light"
                    },
                    "paper_bgcolor": "white",
                    "plot_bgcolor": "white",
                    "polar": {
                      "angularaxis": {
                        "gridcolor": "rgb(232,232,232)",
                        "linecolor": "rgb(36,36,36)",
                        "showgrid": false,
                        "showline": true,
                        "ticks": "outside"
                      },
                      "bgcolor": "white",
                      "radialaxis": {
                        "gridcolor": "rgb(232,232,232)",
                        "linecolor": "rgb(36,36,36)",
                        "showgrid": false,
                        "showline": true,
                        "ticks": "outside"
                      }
                    },
                    "scene": {
                      "xaxis": {
                        "backgroundcolor": "white",
                        "gridcolor": "rgb(232,232,232)",
                        "gridwidth": 2,
                        "linecolor": "rgb(36,36,36)",
                        "showbackground": true,
                        "showgrid": false,
                        "showline": true,
                        "ticks": "outside",
                        "zeroline": false,
                        "zerolinecolor": "rgb(36,36,36)"
                      },
                      "yaxis": {
                        "backgroundcolor": "white",
                        "gridcolor": "rgb(232,232,232)",
                        "gridwidth": 2,
                        "linecolor": "rgb(36,36,36)",
                        "showbackground": true,
                        "showgrid": false,
                        "showline": true,
                        "ticks": "outside",
                        "zeroline": false,
                        "zerolinecolor": "rgb(36,36,36)"
                      },
                      "zaxis": {
                        "backgroundcolor": "white",
                        "gridcolor": "rgb(232,232,232)",
                        "gridwidth": 2,
                        "linecolor": "rgb(36,36,36)",
                        "showbackground": true,
                        "showgrid": false,
                        "showline": true,
                        "ticks": "outside",
                        "zeroline": false,
                        "zerolinecolor": "rgb(36,36,36)"
                      }
                    },
                    "shapedefaults": {
                      "fillcolor": "black",
                      "line": {
                        "width": 0
                      },
                      "opacity": 0.3
                    },
                    "ternary": {
                      "aaxis": {
                        "gridcolor": "rgb(232,232,232)",
                        "linecolor": "rgb(36,36,36)",
                        "showgrid": false,
                        "showline": true,
                        "ticks": "outside"
                      },
                      "baxis": {
                        "gridcolor": "rgb(232,232,232)",
                        "linecolor": "rgb(36,36,36)",
                        "showgrid": false,
                        "showline": true,
                        "ticks": "outside"
                      },
                      "bgcolor": "white",
                      "caxis": {
                        "gridcolor": "rgb(232,232,232)",
                        "linecolor": "rgb(36,36,36)",
                        "showgrid": false,
                        "showline": true,
                        "ticks": "outside"
                      }
                    },
                    "title": {
                      "x": 0.05
                    },
                    "xaxis": {
                      "automargin": true,
                      "gridcolor": "rgb(232,232,232)",
                      "linecolor": "rgb(36,36,36)",
                      "showgrid": false,
                      "showline": true,
                      "ticks": "outside",
                      "title": {
                        "standoff": 15
                      },
                      "zeroline": false,
                      "zerolinecolor": "rgb(36,36,36)"
                    },
                    "yaxis": {
                      "automargin": true,
                      "gridcolor": "rgb(232,232,232)",
                      "linecolor": "rgb(36,36,36)",
                      "showgrid": false,
                      "showline": true,
                      "ticks": "outside",
                      "title": {
                        "standoff": 15
                      },
                      "zeroline": false,
                      "zerolinecolor": "rgb(36,36,36)"
                    }
                  }
                },
                "width": 1350,
                "xaxis": {
                  "range": [
                    1,
                    8
                  ],
                  "tickfont": {
                    "size": 30
                  },
                  "tickformat": "i"
                },
                "yaxis": {
                  "range": [
                    -10,
                    10
                  ],
                  "tickfont": {
                    "size": 30
                  }
                }
              }
            }
          },
          "metadata": {},
          "output_type": "display_data"
        }
      ],
      "source": [
        "# Methylacetamide Azetidinone\n",
        "\n",
        "import numpy as np\n",
        "import plotly.graph_objects as go\n",
        "\n",
        "distances = np.arange(1.0, 8.0, 0.1)\n",
        "\n",
        "theories = {\n",
        "    'hf/6-31g*': [81.05613410769729, 52.262859231210314, 32.79515085829189, 19.445226660987828, 10.243668578215875, 3.941831801144872, -0.2884735291590914, -3.029347987321671, -4.71058651083149, -5.655778141634073, -6.105465333792381, -6.232615488523152, -6.156926404335536, -5.958495659462642, -5.689783021458425, -5.384644241596106, -5.064619247685187, -4.743135867000092, -4.428366569220088, -4.125220844114665, -3.8366446222062223, -3.5645484894048423, -3.3102000299841166, -3.0744076595874503, -2.8575418423861265, -2.65951263171155, -2.479768462362699, -2.3173431114992127, -2.170946057594847, -2.0390798313892446, -1.9201640613609925, -1.8126305108889937, -1.7149977453518659, -1.6259687721612863, -1.5443736185552552, -1.4692277371068485, -1.3997093762736768, -1.3351365680573508, -1.2749457577010617, -1.2186761980992742, -1.1659376234165393, -1.1164095513522625, -1.0698109330842271, -1.0259039753000252, -0.9844789304770529, -0.9453502174583264, -0.9083498718682677, -0.8733302457258105, -0.8401522058411501, -0.8086923589580692, -0.7788372769136913, -0.7504836285370402, -0.7235322295455262, -0.6978968852199614, -0.6734956662985496, -0.6502533201128244, -0.6280975537374616, -0.6069665629183874, -0.5867982804775238, -0.5675389576936141, -0.5491349013755098, -0.5315385528374463, -0.5147047222126275, -0.4985920485923998, -0.4831611711997539, -0.468374609015882, -0.4541992732556537, -0.44060335267568007, -0.427556412294507, -0.4150304951472208, -0.4029982243082486],\n",
        "    # 'pbe0/6-31g*': [68.56469822686631, 42.12414483225439, 24.6626269944245, 12.994298846460879, 5.1687229159870185, -0.030292934272438288, -3.387101171014365, -5.438394369906746, -6.574103841208853, -7.0859439263585955, -7.190384583256673, -7.043011604109779, -6.750383903796319, -6.381030405522324, -5.976375581638422, -5.561892054625787, -5.15321620053146, -4.758184528676793, -4.380916772526689, -4.023526891542133, -3.687891060777474, -3.3752773349988274, -3.08703427342698, -2.8232477823039517, -2.5849602388916537, -2.371902797196526, -2.1825161092565395, -2.0156488177599385, -1.868998792662751, -1.740235704521183, -1.626994784513954, -1.527001740585547, -1.4381423700833693, -1.3586250403313898, -1.286854196107015, -1.2215987365343608, -1.1618436527205631, -1.1067745156469755, -1.0557315142941661, -1.008219025854487, -0.9638284214306623, -0.9222392173833214, -0.8831762643530965, -0.8464183393516578, -0.8117746356292628, -0.7790798373171128, -0.7481862990534864, -0.7189662710297853, -0.691299565078225, -0.6650806858669966, -0.6402129408088513, -0.6166085656150244, -0.5941827596980147, -0.5728627987555228, -0.552579200535547, -0.5332682628650218, -0.5148683595471084, -0.4973277478129603, -0.4805935645708814, -0.46462080004857853, -0.44936371338553727, -0.4347823396092281, -0.42083847848698497, -0.4074973636888899, -0.39472577237756923, -0.3824919348116964, -0.3707682104432024, -0.3595278484863229, -0.3487451584660448, -0.33839665341656655, -0.32845909852767363],\n",
        "    # 'wb97x-d/aug-cc-pvdz':  [68.43952772332705, 41.856898125697626, 24.259334113186924, 12.555337890371447, 4.817303165065823, -0.2123927563370671, -3.3757108504360076, -5.257988724828465, -6.277677145524649, -6.7239903967420105, -6.80567381446599, -6.6645736099162605, -6.396757192880614, -6.064904165017651, -5.706045210215962, -5.340770083916141, -4.988382120296592, -4.654557079513324, -4.3445405770034995, -4.058831230999203, -3.794834609114332, -3.5509548406407703, -3.3251768404443283, -3.11519241091446, -2.919603011891013, -2.7378717828833032, -2.5680857670668047, -2.4108010909694713, -2.2647292837209534, -2.1297022357175592, -2.0048506304447073, -1.889824142534053, -1.783825862017693, -1.6859263566730078, -1.5955145306361374, -1.5121479523659218, -1.4349358968029264, -1.3636785278504249, -1.2976913777238224, -1.236205759953009, -1.17924787584343, -1.1261005137639586, -1.0766673602338415, -1.0302648024226073, -0.9868360883847345, -0.9462969208543655, -0.9081545825756621, -0.8722446568717714, -0.8382006378087681, -0.806220138532808, -0.775820580747677, -0.7472025768074673, -0.7199201801849995, -0.6940756572003011, -0.6694964019989129, -0.646192454296397, -0.6239266600750852, -0.6027847905934323, -0.5824988088279497, -0.5634371718333568, -0.5449505507422145, -0.5274178753898013, -0.5107146846421529, -0.49483665826846845, -0.4796279826259706, -0.464960365294246, -0.451162417040905, -0.437776416685665, -0.4250534593302291, -0.4129235013097059, -0.4011081935313996],\n",
        "    'mp2/6-31g*': [73.62414039700525, 45.7305026059621, 27.151499214116484, 14.63544424349675, 6.1761453243670985, 0.5060957774403505, -3.20275661960477, -5.518570831744, -6.850823613931425, -7.502956781769171, -7.699446474493016, -7.602348481013905, -7.324758280767128, -6.943127624457702, -6.507883786631282, -6.051634571515024, -5.595026089344174, -5.150771162181627, -4.726462729624473, -4.326521065551788, -3.953509080049116, -3.6088980623171665, -3.2934406269341707, -3.0072766718803905, -2.7499290069099516, -2.5202969271340407, -2.3167044575093314, -2.137011304264888, -1.9787788663525134, -1.8394359539961442, -1.7164494878961705, -1.6074394661118276, -1.5102688517654315, -1.42308219964616, -1.3443123142351396, -1.2726645590155385, -1.207088042399846, -1.1467369641759433, -1.090927995275706, -1.0391179933794774, -0.9908595282468013, -0.9457924998714589, -0.9036077380878851, -0.8640481797629036, -0.8268911401391961, -0.7919418032979593, -0.7590264800819568, -0.7279930360964499, -0.6987005390110426, -0.6710248762974516, -0.6448497981764376, -0.6200739706400782, -0.5966000197804533, -0.5743405702523887, -0.5532165030599572, -0.5331538097234443, -0.5140826317947358, -0.49594344274373725, -0.4786759862327017, -0.46222917624982074, -0.4465519142104313, -0.43159753584768623, -0.4173252962063998, -0.40369556087534875, -0.39067024883115664, -0.37821624148637056, -0.366301188361831, -0.3548957343446091, -0.34397244412684813, -0.33350627118488774, -0.32346962799783796],\n",
        "    'wb97x-d3/6-31g*': [69.66080663897446, 42.68466059115599, 24.752069187379675, 12.65768083705916, 4.5202094829001, -0.8634880230238196, -4.317661383567611, -6.4004482443851884, -7.5207671729440335, -7.986172604811145, -8.027981017978163, -7.805353572388412, -7.43825021959492, -6.999596712907078, -6.540784048760543, -6.0822241058631334, -5.643042772746412, -5.223890834808117, -4.827548270084662, -4.453937592828879, -4.10187443162431, -3.7725887705746572, -3.4659259562322404, -3.1822263110952917, -2.92174787123804, -2.6857314565277193, -2.473375890083844, -2.284256473329151, -2.116648422233993, -1.968687712593237, -1.8379009016498458, -1.7217687424563337, -1.6182549523946363, -1.5253872972389217, -1.4416098877845798, -1.3654620859015267, -1.2958191100333352, -1.231730956613319, -1.172551815659972, -1.117650700995, -1.0665569214324933, -1.0188553305051755, -0.9743060346518178, -0.9324942066741642, -0.8932613515353296, -0.8563848798221443, -0.8216756900364999, -0.7889590176928323, -0.7581456445332151, -0.7289871964312624, -0.7014039104396943, -0.6753234390926082, -0.6506318853644188, -0.6272312410001177, -0.6050561285519507, -0.5839118263975251, -0.5638791013334412, -0.5448454374854919, -0.5266890452767257, -0.5094039959076326, -0.492931673215935, -0.47718579330830835, -0.462226463627303, -0.4479109536332544, -0.4342494571174029, -0.4211554378562141, -0.408662475674646, -0.3966333244170528, -0.3851878735877108, -0.3742078003415372, -0.3636463324946817],\n",
        "    'wb97x-d3/aug-cc-pvdz': [68.79520598813542, 42.01544240457588, 24.276502511958824, 12.438114137592493, 4.617026515043108, -0.4430635397147853, -3.6219326212012675, -5.514770257024793, -6.539764025219483, -6.9880729115975555, -7.065059718879638, -6.913116609299323, -6.631374781456543, -6.2831931221007835, -5.908665446710074, -5.527427908353275, -5.157663400081219, -4.803882410778897, -4.472136583674001, -4.165368453977862, -3.8821664780552965, -3.6223023268103134, -3.3829712284787092, -3.1615906145598274, -2.956489727454027, -2.766683855879819, -2.5903627901279833, -2.4278251773503143, -2.277564081217861, -2.1393648393277545, -2.0120927629468497, -1.8951383676903788, -1.7876992879027966, -1.6885573299077805, -1.597206543869106, -1.5131414818752091, -1.4352948897576425, -1.363557292992482, -1.2970362011401448, -1.235146163351601, -1.177843010314973, -1.1243798457144294, -1.0746456694614608, -1.0279219745716546, -0.9842260016303044, -0.9434522121737245, -0.9051121550437529, -0.868920298787998, -0.834816253540339, -0.8026039792748634, -0.7720779450901318, -0.7432848967437167, -0.7158996840298641, -0.6899455052043777, -0.665258079970954, -0.6418153579870705, -0.6194570816296618, -0.5981872991251294, -0.5778971745457966, -0.5587361231155228, -0.5401609608961735, -0.5225769892858807, -0.5056877991592046, -0.48982139889267273, -0.4745308322890196, -0.459883206669474, -0.4459651459765155, -0.4325059360417072, -0.41975133671076037, -0.4075714149221312, -0.3956586243293714],\n",
        "    'mp2/aug-cc-pvdz':  [68.47056388083729, 41.424905065476196, 23.558631142805098, 11.706282485538395, 3.889778329845285, -1.1746363714628387, -4.350052684225375, -6.234061185823521, -7.246060042903991, -7.680156139686005, -7.741150518500945, -7.569698227132903, -7.259797629289096, -6.8723396690620575, -6.4464329178154, -6.0080663099943195, -5.575207182759186, -5.160263780591777, -4.771125008730451, -4.411850870092167, -4.083507036295487, -3.785062141454546, -3.5142538143263664, -3.268307615449885, -3.0444201126520056, -2.8400285881652962, -2.652915609331103, -2.481222872651415, -2.3233890710689593, -2.1781119588122237, -2.044268007070059, -1.9208755580184516, -1.8070620420912746, -1.7020361345203128, -1.6050805311242584, -1.5155306738161016, -1.4327828286623117, -1.3562707361124922, -1.2854818805644754, -1.2199330871517304, -1.1591847839590628, -1.102823931229068, -1.0504763670905959, -1.0017754981236067, -0.9563975761120673, -0.9140340459707659, -0.8744000822480302, -0.837241033121245, -0.8023187540529761, -0.769423258578172, -0.7383703483792488, -0.708990727289347, -0.6811453480331693, -0.6547120460600127, -0.6295850583992433, -0.6056747110851575, -0.5828999196237419, -0.5611983756243717, -0.5405068124819081, -0.5207764787191991, -0.5019552248704713, -0.48400296943145804, -0.4668788000999484, -0.45054573568631895, -0.43496011340175755, -0.42009323873207904, -0.4059101830061991, -0.3923766750085633, -0.3794592678605113, -0.36713010203675367, -0.3553596541460138]\n",
        "}\n",
        "\n",
        "fig = go.Figure()\n",
        "\n",
        "for key,value in theories.items():\n",
        "\n",
        "    fig.add_trace(\n",
        "        go.Scatter(\n",
        "            x=list(distances), y=value,\n",
        "            mode='lines+markers',\n",
        "            name=key,\n",
        "            marker=dict(size=10)\n",
        "        )\n",
        "    )\n",
        "\n",
        "fig.update_layout(legend=dict(itemsizing='constant'))\n",
        "fig.update_layout(legend=dict(\n",
        "        orientation=\"h\",\n",
        "        yanchor=\"bottom\",\n",
        "        y=1.02,\n",
        "        xanchor=\"right\",\n",
        "        x=1.05,\n",
        "        font = dict(family = \"Arial\", size = 35),\n",
        "        bordercolor=\"LightSteelBlue\",\n",
        "        borderwidth=2,\n",
        "    ),\n",
        ")\n",
        "fig.update_traces(line=dict(width=5))\n",
        "\n",
        "fig.update_layout(\n",
        "    template='simple_white',\n",
        "    xaxis_tickformat = 'i',\n",
        "    bargap=0.2, # gap between bars of adjacent location coordinates,\n",
        "    height=600,\n",
        "    width=1350,\n",
        "    showlegend=False,\n",
        ")\n",
        "\n",
        "fig.update_yaxes(range=[-10, 10.0], tickfont = dict(size=30))\n",
        "fig.update_xaxes(range=[1.0, 8.0], tickfont = dict(size=30))\n",
        "\n",
        "fig.show()"
      ]
    },
    {
      "cell_type": "code",
      "execution_count": 9,
      "metadata": {
        "colab": {
          "base_uri": "https://localhost:8080/",
          "height": 617
        },
        "id": "xhYfpzbIyyC3",
        "outputId": "be7ba8bc-5505-4b03-c293-bea11e1e1aab"
      },
      "outputs": [
        {
          "data": {
            "application/vnd.plotly.v1+json": {
              "config": {
                "plotlyServerURL": "https://plot.ly"
              },
              "data": [
                {
                  "line": {
                    "width": 5
                  },
                  "marker": {
                    "size": 13
                  },
                  "mode": "lines+markers",
                  "name": "hf/6-31g*",
                  "type": "scatter",
                  "x": [
                    1,
                    1.1,
                    1.2000000000000002,
                    1.3000000000000003,
                    1.4000000000000004,
                    1.5000000000000004,
                    1.6000000000000005,
                    1.7000000000000006,
                    1.8000000000000007,
                    1.9000000000000008,
                    2.000000000000001,
                    2.100000000000001,
                    2.200000000000001,
                    2.300000000000001,
                    2.4000000000000012,
                    2.5000000000000013,
                    2.6000000000000014,
                    2.7000000000000015,
                    2.8000000000000016,
                    2.9000000000000017,
                    3.0000000000000018,
                    3.100000000000002,
                    3.200000000000002,
                    3.300000000000002,
                    3.400000000000002,
                    3.500000000000002,
                    3.6000000000000023,
                    3.7000000000000024,
                    3.8000000000000025,
                    3.9000000000000026,
                    4.000000000000003,
                    4.100000000000003,
                    4.200000000000003,
                    4.3000000000000025,
                    4.400000000000003,
                    4.5000000000000036,
                    4.600000000000003,
                    4.700000000000003,
                    4.800000000000003,
                    4.900000000000004,
                    5.0000000000000036,
                    5.100000000000003,
                    5.200000000000004,
                    5.300000000000004,
                    5.400000000000004,
                    5.5000000000000036,
                    5.600000000000004,
                    5.700000000000005,
                    5.800000000000004,
                    5.900000000000004,
                    6.000000000000004,
                    6.100000000000005,
                    6.200000000000005,
                    6.300000000000004,
                    6.400000000000005,
                    6.500000000000005,
                    6.600000000000005,
                    6.700000000000005,
                    6.800000000000005,
                    6.900000000000006,
                    7.000000000000005,
                    7.100000000000005,
                    7.2000000000000055,
                    7.300000000000006,
                    7.400000000000006,
                    7.500000000000005,
                    7.600000000000006,
                    7.700000000000006,
                    7.800000000000006,
                    7.900000000000006
                  ],
                  "y": [
                    625.2222657459206,
                    467.4601275777095,
                    365.35405364091275,
                    296.4180546310963,
                    246.85945263243048,
                    208.29098953789799,
                    175.9011353739188,
                    147.3180072378018,
                    121.69345318945125,
                    98.91510348970769,
                    79.06660178268794,
                    62.16496687097242,
                    48.08790937275626,
                    36.59367183462018,
                    27.370273490378167,
                    20.082228455634322,
                    14.40335244248854,
                    10.035533541347831,
                    6.717367884004489,
                    4.2267141247866675,
                    2.3797942782985047,
                    1.0282297898666002,
                    0.05475889431545511,
                    -0.6317612946149893,
                    -1.1014245756086893,
                    -1.4078994378796779,
                    -1.5922906646155752,
                    -1.6861254235263914,
                    -1.7135994589189067,
                    -1.6932420207303949,
                    -1.6392016726313159,
                    -1.562263190979138,
                    -1.4706619495991617,
                    -1.3707247850252315,
                    -1.2673416330944747,
                    -1.1642904315376654,
                    -1.0644529075943865,
                    -0.9699410414323211,
                    -0.8821917686727829,
                    -0.8020505963359028,
                    -0.7298492345144041,
                    -0.6655092623550445,
                    -0.6086370522389188,
                    -0.5586317391134799,
                    -0.5147690810845234,
                    -0.47628211620030925,
                    -0.44242109451442957,
                    -0.41248712997185066,
                    -0.3858642959385179,
                    -0.36202050192514434,
                    -0.340513727045618,
                    -0.3209780311444774,
                    -0.30312230705749243,
                    -0.28671018325258046,
                    -0.2715540561475791,
                    -0.2575042560347356,
                    -0.24443747627083212,
                    -0.23225486662704498,
                    -0.22087175823980942,
                    -0.2102199326036498,
                    -0.20023614744422957,
                    -0.19086717732716352,
                    -0.18206625315360725,
                    -0.17379015177721158,
                    -0.16600145533448085,
                    -0.1586644968483597,
                    -0.15174792183097452,
                    -0.14522211451549083,
                    -0.13906041835434735,
                    -0.13323780993232504,
                    -0.12773276068037376
                  ]
                },
                {
                  "line": {
                    "width": 5
                  },
                  "marker": {
                    "size": 13
                  },
                  "mode": "lines+markers",
                  "name": "wb97x-d3/6-31g*",
                  "type": "scatter",
                  "x": [
                    1,
                    1.1,
                    1.2000000000000002,
                    1.3000000000000003,
                    1.4000000000000004,
                    1.5000000000000004,
                    1.6000000000000005,
                    1.7000000000000006,
                    1.8000000000000007,
                    1.9000000000000008,
                    2.000000000000001,
                    2.100000000000001,
                    2.200000000000001,
                    2.300000000000001,
                    2.4000000000000012,
                    2.5000000000000013,
                    2.6000000000000014,
                    2.7000000000000015,
                    2.8000000000000016,
                    2.9000000000000017,
                    3.0000000000000018,
                    3.100000000000002,
                    3.200000000000002,
                    3.300000000000002,
                    3.400000000000002,
                    3.500000000000002,
                    3.6000000000000023,
                    3.7000000000000024,
                    3.8000000000000025,
                    3.9000000000000026,
                    4.000000000000003,
                    4.100000000000003,
                    4.200000000000003,
                    4.3000000000000025,
                    4.400000000000003,
                    4.5000000000000036,
                    4.600000000000003,
                    4.700000000000003,
                    4.800000000000003,
                    4.900000000000004,
                    5.0000000000000036,
                    5.100000000000003,
                    5.200000000000004,
                    5.300000000000004,
                    5.400000000000004,
                    5.5000000000000036,
                    5.600000000000004,
                    5.700000000000005,
                    5.800000000000004,
                    5.900000000000004,
                    6.000000000000004,
                    6.100000000000005,
                    6.200000000000005,
                    6.300000000000004,
                    6.400000000000005,
                    6.500000000000005,
                    6.600000000000005,
                    6.700000000000005,
                    6.800000000000005,
                    6.900000000000006,
                    7.000000000000005,
                    7.100000000000005,
                    7.2000000000000055,
                    7.300000000000006,
                    7.400000000000006,
                    7.500000000000005,
                    7.600000000000006,
                    7.700000000000006,
                    7.800000000000006,
                    7.900000000000006
                  ],
                  "y": [
                    561.0829878336517,
                    410.3559514505905,
                    314.01274484413443,
                    249.90074811241357,
                    204.58196674857754,
                    169.94316162035102,
                    141.3428783872514,
                    116.51888285327004,
                    94.58594490314135,
                    75.3780233693542,
                    58.75537453847937,
                    44.67197256081272,
                    33.03087726829108,
                    23.564265015360434,
                    16.055880137369968,
                    10.213449570466764,
                    5.752946176799014,
                    2.4316971344524063,
                    0.015573574404697865,
                    -1.6919430948328227,
                    -2.8504246546071954,
                    -3.598205865942873,
                    -4.038378870871384,
                    -4.251862792763859,
                    -4.296915788727347,
                    -4.22544844285585,
                    -4.065156766737346,
                    -3.852070734545123,
                    -3.6065436371718533,
                    -3.3463086717529222,
                    -3.085514319711365,
                    -2.827969518955797,
                    -2.5791795100667514,
                    -2.341620262770448,
                    -2.117432600876782,
                    -1.9070742289768532,
                    -1.7115273439558223,
                    -1.531406651774887,
                    -1.3675212015514262,
                    -1.2202989685465582,
                    -1.0894012210192159,
                    -0.9736413117498159,
                    -0.8728936216793954,
                    -0.7864223176147789,
                    -0.7107076797983609,
                    -0.6451244645868428,
                    -0.5886056128656492,
                    -0.5395039943396114,
                    -0.4961498304619454,
                    -0.4578456227318384,
                    -0.42387110652634874,
                    -0.39353391504846513,
                    -0.36613826802931726,
                    -0.3412707934039645,
                    -0.31866737524978817,
                    -0.29806015541544184,
                    -0.2791437910636887,
                    -0.2617003186605871,
                    -0.24563083809334785,
                    -0.23077884770464152,
                    -0.2170612295740284,
                    -0.20434378390200436,
                    -0.1925292214145884,
                    -0.18149661255301908,
                    -0.17129135131835938,
                    -0.16175881098024547,
                    -0.15285929606761783,
                    -0.1445436814101413,
                    -0.13679873978253454,
                    -0.12954770494252443,
                    -0.12264589697588235
                  ]
                },
                {
                  "line": {
                    "width": 5
                  },
                  "marker": {
                    "size": 13
                  },
                  "mode": "lines+markers",
                  "name": "mp2/6-31g*",
                  "type": "scatter",
                  "x": [
                    1,
                    1.1,
                    1.2000000000000002,
                    1.3000000000000003,
                    1.4000000000000004,
                    1.5000000000000004,
                    1.6000000000000005,
                    1.7000000000000006,
                    1.8000000000000007,
                    1.9000000000000008,
                    2.000000000000001,
                    2.100000000000001,
                    2.200000000000001,
                    2.300000000000001,
                    2.4000000000000012,
                    2.5000000000000013,
                    2.6000000000000014,
                    2.7000000000000015,
                    2.8000000000000016,
                    2.9000000000000017,
                    3.0000000000000018,
                    3.100000000000002,
                    3.200000000000002,
                    3.300000000000002,
                    3.400000000000002,
                    3.500000000000002,
                    3.6000000000000023,
                    3.7000000000000024,
                    3.8000000000000025,
                    3.9000000000000026,
                    4.000000000000003,
                    4.100000000000003,
                    4.200000000000003,
                    4.3000000000000025,
                    4.400000000000003,
                    4.5000000000000036,
                    4.600000000000003,
                    4.700000000000003,
                    4.800000000000003,
                    4.900000000000004,
                    5.0000000000000036,
                    5.100000000000003,
                    5.200000000000004,
                    5.300000000000004,
                    5.400000000000004,
                    5.5000000000000036,
                    5.600000000000004,
                    5.700000000000005,
                    5.800000000000004,
                    5.900000000000004,
                    6.000000000000004,
                    6.100000000000005,
                    6.200000000000005,
                    6.300000000000004,
                    6.400000000000005,
                    6.500000000000005,
                    6.600000000000005,
                    6.700000000000005,
                    6.800000000000005,
                    6.900000000000006,
                    7.000000000000005,
                    7.100000000000005,
                    7.2000000000000055,
                    7.300000000000006,
                    7.400000000000006,
                    7.500000000000005,
                    7.600000000000006,
                    7.700000000000006,
                    7.800000000000006,
                    7.900000000000006
                  ],
                  "y": [
                    562.2459200633748,
                    410.32072508861893,
                    313.558856536838,
                    249.19946124221315,
                    203.49475012844778,
                    168.30506331266952,
                    139.17517324347864,
                    114.02180901545216,
                    92.04079296215787,
                    72.94360750648775,
                    56.589680397795746,
                    42.846791482850676,
                    31.53728262722143,
                    22.426783326052828,
                    15.239834012551,
                    9.685368869715603,
                    5.479645407554926,
                    2.362077055644477,
                    0.10412980106775649,
                    -1.4872489164990839,
                    -2.5699297421670053,
                    -3.2695319204649422,
                    -3.6838763493287843,
                    -3.8880379923211876,
                    -3.939207371935481,
                    -3.8808681404043455,
                    -3.7461028945690487,
                    -3.5600358981464524,
                    -3.3416404050949495,
                    -3.1050893852079753,
                    -2.8608615097764414,
                    -2.616635695187142,
                    -2.3780369113374036,
                    -2.1492049764783587,
                    -1.9331842655374203,
                    -1.7321641999005806,
                    -1.5476119031955022,
                    -1.3803260238200892,
                    -1.2304883202596102,
                    -1.0977270311850589,
                    -0.9811945728433784,
                    -0.8796831681684125,
                    -0.7917421899910551,
                    -0.7158050564758014,
                    -0.6502847906958777,
                    -0.5936655351251829,
                    -0.5445592992764432,
                    -0.5017368352564517,
                    -0.4641458176483866,
                    -0.43090199734433554,
                    -0.4012813248846214,
                    -0.37469549567322247,
                    -0.3506748058425728,
                    -0.32884326550993137,
                    -0.30889953547739424,
                    -0.2906060094537679,
                    -0.2737649405898992,
                    -0.25821742476546206,
                    -0.24382748155039735,
                    -0.23048409799230285,
                    -0.2180902898835484,
                    -0.20655837320373394,
                    -0.19581553383613937,
                    -0.18579596144263633,
                    -0.1764397794904653,
                    -0.16769247254705988,
                    -0.15950786430039443,
                    -0.1518402649962809,
                    -0.14465178819955327,
                    -0.13790425143088214,
                    -0.13156707686721347
                  ]
                },
                {
                  "line": {
                    "width": 5
                  },
                  "marker": {
                    "size": 13
                  },
                  "mode": "lines+markers",
                  "name": "wb97x-d3/aug-cc-pvdz",
                  "type": "scatter",
                  "x": [
                    1,
                    1.1,
                    1.2000000000000002,
                    1.3000000000000003,
                    1.4000000000000004,
                    1.5000000000000004,
                    1.6000000000000005,
                    1.7000000000000006,
                    1.8000000000000007,
                    1.9000000000000008,
                    2.000000000000001,
                    2.100000000000001,
                    2.200000000000001,
                    2.300000000000001,
                    2.4000000000000012,
                    2.5000000000000013,
                    2.6000000000000014,
                    2.7000000000000015,
                    2.8000000000000016,
                    2.9000000000000017,
                    3.0000000000000018,
                    3.100000000000002,
                    3.200000000000002,
                    3.300000000000002,
                    3.400000000000002,
                    3.500000000000002,
                    3.6000000000000023,
                    3.7000000000000024,
                    3.8000000000000025,
                    3.9000000000000026,
                    4.000000000000003,
                    4.100000000000003,
                    4.200000000000003,
                    4.3000000000000025,
                    4.400000000000003,
                    4.5000000000000036,
                    4.600000000000003,
                    4.700000000000003,
                    4.800000000000003,
                    4.900000000000004,
                    5.0000000000000036,
                    5.100000000000003,
                    5.200000000000004,
                    5.300000000000004,
                    5.400000000000004,
                    5.5000000000000036,
                    5.600000000000004,
                    5.700000000000005,
                    5.800000000000004,
                    5.900000000000004,
                    6.000000000000004,
                    6.100000000000005,
                    6.200000000000005,
                    6.300000000000004,
                    6.400000000000005,
                    6.500000000000005,
                    6.600000000000005,
                    6.700000000000005,
                    6.800000000000005,
                    6.900000000000006,
                    7.000000000000005,
                    7.100000000000005,
                    7.2000000000000055,
                    7.300000000000006,
                    7.400000000000006,
                    7.500000000000005,
                    7.600000000000006,
                    7.700000000000006,
                    7.800000000000006,
                    7.900000000000006
                  ],
                  "y": [
                    552.8932677042321,
                    403.77145929366816,
                    308.12369401886826,
                    244.3206964742276,
                    199.28908842033707,
                    165.11022240872262,
                    137.14479629392736,
                    113.05901955754962,
                    91.88136425882112,
                    73.37126950331731,
                    57.40788310091011,
                    43.89238849544199,
                    32.719887108774856,
                    23.622838537732605,
                    16.37510497920448,
                    10.704025122395251,
                    6.3443413152126595,
                    3.0582232421729714,
                    0.6405858115758747,
                    -1.0970581509172916,
                    -2.2972850813530385,
                    -3.095416208030656,
                    -3.582044377049897,
                    -3.8401883507613093,
                    -3.9259063407662325,
                    -3.895367690711282,
                    -3.771659531397745,
                    -3.5942231529043056,
                    -3.385621694207657,
                    -3.1597428235108964,
                    -2.933629518665839,
                    -2.7109842381905764,
                    -2.498379725497216,
                    -2.296679297753144,
                    -2.1093244190560654,
                    -1.9344219046179205,
                    -1.772896001872141,
                    -1.6254371270770207,
                    -1.488778781495057,
                    -1.3651723986840807,
                    -1.2528410864179023,
                    -1.1503259355667979,
                    -1.0571414557052776,
                    -0.9724780481192283,
                    -0.895638850342948,
                    -0.8265946119790897,
                    -0.7623769113561139,
                    -0.7051475311163813,
                    -0.653638738556765,
                    -0.6054740910767578,
                    -0.5627356339246035,
                    -0.5233997185132466,
                    -0.4881371142109856,
                    -0.4551461440278217,
                    -0.4253422648180276,
                    -0.39792785845929757,
                    -0.37244143296265975,
                    -0.34943731751991436,
                    -0.32788490294478834,
                    -0.3082750679459423,
                    -0.29000784462550655,
                    -0.27345002233050764,
                    -0.2578576884116046,
                    -0.2432605373323895,
                    -0.22959469998022541,
                    -0.21679337660316378,
                    -0.20529874856583774,
                    -0.1938396985642612,
                    -0.18445426155813038,
                    -0.17429610155522823,
                    -0.16490066138794646
                  ]
                },
                {
                  "line": {
                    "width": 5
                  },
                  "marker": {
                    "size": 13
                  },
                  "mode": "lines+markers",
                  "name": "mp2/aug-cc-pvdz",
                  "type": "scatter",
                  "x": [
                    1,
                    1.1,
                    1.2000000000000002,
                    1.3000000000000003,
                    1.4000000000000004,
                    1.5000000000000004,
                    1.6000000000000005,
                    1.7000000000000006,
                    1.8000000000000007,
                    1.9000000000000008,
                    2.000000000000001,
                    2.100000000000001,
                    2.200000000000001,
                    2.300000000000001,
                    2.4000000000000012,
                    2.5000000000000013,
                    2.6000000000000014,
                    2.7000000000000015,
                    2.8000000000000016,
                    2.9000000000000017,
                    3.0000000000000018,
                    3.100000000000002,
                    3.200000000000002,
                    3.300000000000002,
                    3.400000000000002,
                    3.500000000000002,
                    3.6000000000000023,
                    3.7000000000000024,
                    3.8000000000000025,
                    3.9000000000000026,
                    4.000000000000003,
                    4.100000000000003,
                    4.200000000000003,
                    4.3000000000000025,
                    4.400000000000003,
                    4.5000000000000036,
                    4.600000000000003,
                    4.700000000000003,
                    4.800000000000003,
                    4.900000000000004,
                    5.0000000000000036,
                    5.100000000000003,
                    5.200000000000004,
                    5.300000000000004,
                    5.400000000000004,
                    5.5000000000000036,
                    5.600000000000004,
                    5.700000000000005,
                    5.800000000000004,
                    5.900000000000004,
                    6.000000000000004,
                    6.100000000000005,
                    6.200000000000005,
                    6.300000000000004,
                    6.400000000000005,
                    6.500000000000005,
                    6.600000000000005,
                    6.700000000000005,
                    6.800000000000005,
                    6.900000000000006,
                    7.000000000000005,
                    7.100000000000005,
                    7.2000000000000055,
                    7.300000000000006,
                    7.400000000000006,
                    7.500000000000005,
                    7.600000000000006,
                    7.700000000000006,
                    7.800000000000006,
                    7.900000000000006
                  ],
                  "y": [
                    547.684120138525,
                    396.8533368142671,
                    300.45269320334774,
                    236.1873053040472,
                    190.67842225689674,
                    155.97229680087185,
                    127.62354164931457,
                    103.46085518505424,
                    82.57893310376676,
                    64.6118053541868,
                    49.360693401424214,
                    36.64476584439399,
                    26.250848194758873,
                    17.927037608460523,
                    11.397092726023402,
                    6.380285512947012,
                    2.609134089027066,
                    -0.15799051657086238,
                    -2.13045092637185,
                    -3.4839246015180834,
                    -4.362516536959447,
                    -4.882432115322445,
                    -5.13607944897376,
                    -5.195948529057205,
                    -5.1182581263710745,
                    -4.946200751524884,
                    -4.712644414277747,
                    -4.442299805523362,
                    -4.153502530883998,
                    -3.85955927032046,
                    -3.569851727981586,
                    -3.2907634299481288,
                    -3.026386796438601,
                    -2.7791074257693253,
                    -2.5500800010049716,
                    -2.3394983936450444,
                    -2.1469251065864228,
                    -1.9714700517361052,
                    -1.8119451613165438,
                    -1.6670484559144825,
                    -1.535418012586888,
                    -1.4157392048509791,
                    -1.3067750902846456,
                    -1.207403841719497,
                    -1.1166388757992536,
                    -1.0336106235045008,
                    -0.9575753890676424,
                    -0.8878785918932408,
                    -0.8239676602534018,
                    -0.7653424329473637,
                    -0.7115475085447542,
                    -0.6621995606692508,
                    -0.6169182867743075,
                    -0.5753523292951286,
                    -0.537194972333964,
                    -0.5021312338649295,
                    -0.46989521669456735,
                    -0.4402290487778373,
                    -0.4128963461262174,
                    -0.3876927409437485,
                    -0.3644278810825199,
                    -0.34291672689141706,
                    -0.3230081155197695,
                    -0.3045606979285367,
                    -0.28744105115765706,
                    -0.2715370067744516,
                    -0.25673808669671416,
                    -0.24294428568100557,
                    -0.2300719713093713,
                    -0.2180372427101247,
                    -0.20677051943494007
                  ]
                }
              ],
              "layout": {
                "bargap": 0.2,
                "height": 600,
                "legend": {
                  "bordercolor": "LightSteelBlue",
                  "borderwidth": 2,
                  "font": {
                    "family": "Arial",
                    "size": 35
                  },
                  "itemsizing": "constant",
                  "orientation": "h",
                  "x": 1.05,
                  "xanchor": "right",
                  "y": 1.02,
                  "yanchor": "bottom"
                },
                "showlegend": false,
                "template": {
                  "data": {
                    "bar": [
                      {
                        "error_x": {
                          "color": "rgb(36,36,36)"
                        },
                        "error_y": {
                          "color": "rgb(36,36,36)"
                        },
                        "marker": {
                          "line": {
                            "color": "white",
                            "width": 0.5
                          },
                          "pattern": {
                            "fillmode": "overlay",
                            "size": 10,
                            "solidity": 0.2
                          }
                        },
                        "type": "bar"
                      }
                    ],
                    "barpolar": [
                      {
                        "marker": {
                          "line": {
                            "color": "white",
                            "width": 0.5
                          },
                          "pattern": {
                            "fillmode": "overlay",
                            "size": 10,
                            "solidity": 0.2
                          }
                        },
                        "type": "barpolar"
                      }
                    ],
                    "carpet": [
                      {
                        "aaxis": {
                          "endlinecolor": "rgb(36,36,36)",
                          "gridcolor": "white",
                          "linecolor": "white",
                          "minorgridcolor": "white",
                          "startlinecolor": "rgb(36,36,36)"
                        },
                        "baxis": {
                          "endlinecolor": "rgb(36,36,36)",
                          "gridcolor": "white",
                          "linecolor": "white",
                          "minorgridcolor": "white",
                          "startlinecolor": "rgb(36,36,36)"
                        },
                        "type": "carpet"
                      }
                    ],
                    "choropleth": [
                      {
                        "colorbar": {
                          "outlinewidth": 1,
                          "tickcolor": "rgb(36,36,36)",
                          "ticks": "outside"
                        },
                        "type": "choropleth"
                      }
                    ],
                    "contour": [
                      {
                        "colorbar": {
                          "outlinewidth": 1,
                          "tickcolor": "rgb(36,36,36)",
                          "ticks": "outside"
                        },
                        "colorscale": [
                          [
                            0,
                            "#440154"
                          ],
                          [
                            0.1111111111111111,
                            "#482878"
                          ],
                          [
                            0.2222222222222222,
                            "#3e4989"
                          ],
                          [
                            0.3333333333333333,
                            "#31688e"
                          ],
                          [
                            0.4444444444444444,
                            "#26828e"
                          ],
                          [
                            0.5555555555555556,
                            "#1f9e89"
                          ],
                          [
                            0.6666666666666666,
                            "#35b779"
                          ],
                          [
                            0.7777777777777778,
                            "#6ece58"
                          ],
                          [
                            0.8888888888888888,
                            "#b5de2b"
                          ],
                          [
                            1,
                            "#fde725"
                          ]
                        ],
                        "type": "contour"
                      }
                    ],
                    "contourcarpet": [
                      {
                        "colorbar": {
                          "outlinewidth": 1,
                          "tickcolor": "rgb(36,36,36)",
                          "ticks": "outside"
                        },
                        "type": "contourcarpet"
                      }
                    ],
                    "heatmap": [
                      {
                        "colorbar": {
                          "outlinewidth": 1,
                          "tickcolor": "rgb(36,36,36)",
                          "ticks": "outside"
                        },
                        "colorscale": [
                          [
                            0,
                            "#440154"
                          ],
                          [
                            0.1111111111111111,
                            "#482878"
                          ],
                          [
                            0.2222222222222222,
                            "#3e4989"
                          ],
                          [
                            0.3333333333333333,
                            "#31688e"
                          ],
                          [
                            0.4444444444444444,
                            "#26828e"
                          ],
                          [
                            0.5555555555555556,
                            "#1f9e89"
                          ],
                          [
                            0.6666666666666666,
                            "#35b779"
                          ],
                          [
                            0.7777777777777778,
                            "#6ece58"
                          ],
                          [
                            0.8888888888888888,
                            "#b5de2b"
                          ],
                          [
                            1,
                            "#fde725"
                          ]
                        ],
                        "type": "heatmap"
                      }
                    ],
                    "heatmapgl": [
                      {
                        "colorbar": {
                          "outlinewidth": 1,
                          "tickcolor": "rgb(36,36,36)",
                          "ticks": "outside"
                        },
                        "colorscale": [
                          [
                            0,
                            "#440154"
                          ],
                          [
                            0.1111111111111111,
                            "#482878"
                          ],
                          [
                            0.2222222222222222,
                            "#3e4989"
                          ],
                          [
                            0.3333333333333333,
                            "#31688e"
                          ],
                          [
                            0.4444444444444444,
                            "#26828e"
                          ],
                          [
                            0.5555555555555556,
                            "#1f9e89"
                          ],
                          [
                            0.6666666666666666,
                            "#35b779"
                          ],
                          [
                            0.7777777777777778,
                            "#6ece58"
                          ],
                          [
                            0.8888888888888888,
                            "#b5de2b"
                          ],
                          [
                            1,
                            "#fde725"
                          ]
                        ],
                        "type": "heatmapgl"
                      }
                    ],
                    "histogram": [
                      {
                        "marker": {
                          "line": {
                            "color": "white",
                            "width": 0.6
                          }
                        },
                        "type": "histogram"
                      }
                    ],
                    "histogram2d": [
                      {
                        "colorbar": {
                          "outlinewidth": 1,
                          "tickcolor": "rgb(36,36,36)",
                          "ticks": "outside"
                        },
                        "colorscale": [
                          [
                            0,
                            "#440154"
                          ],
                          [
                            0.1111111111111111,
                            "#482878"
                          ],
                          [
                            0.2222222222222222,
                            "#3e4989"
                          ],
                          [
                            0.3333333333333333,
                            "#31688e"
                          ],
                          [
                            0.4444444444444444,
                            "#26828e"
                          ],
                          [
                            0.5555555555555556,
                            "#1f9e89"
                          ],
                          [
                            0.6666666666666666,
                            "#35b779"
                          ],
                          [
                            0.7777777777777778,
                            "#6ece58"
                          ],
                          [
                            0.8888888888888888,
                            "#b5de2b"
                          ],
                          [
                            1,
                            "#fde725"
                          ]
                        ],
                        "type": "histogram2d"
                      }
                    ],
                    "histogram2dcontour": [
                      {
                        "colorbar": {
                          "outlinewidth": 1,
                          "tickcolor": "rgb(36,36,36)",
                          "ticks": "outside"
                        },
                        "colorscale": [
                          [
                            0,
                            "#440154"
                          ],
                          [
                            0.1111111111111111,
                            "#482878"
                          ],
                          [
                            0.2222222222222222,
                            "#3e4989"
                          ],
                          [
                            0.3333333333333333,
                            "#31688e"
                          ],
                          [
                            0.4444444444444444,
                            "#26828e"
                          ],
                          [
                            0.5555555555555556,
                            "#1f9e89"
                          ],
                          [
                            0.6666666666666666,
                            "#35b779"
                          ],
                          [
                            0.7777777777777778,
                            "#6ece58"
                          ],
                          [
                            0.8888888888888888,
                            "#b5de2b"
                          ],
                          [
                            1,
                            "#fde725"
                          ]
                        ],
                        "type": "histogram2dcontour"
                      }
                    ],
                    "mesh3d": [
                      {
                        "colorbar": {
                          "outlinewidth": 1,
                          "tickcolor": "rgb(36,36,36)",
                          "ticks": "outside"
                        },
                        "type": "mesh3d"
                      }
                    ],
                    "parcoords": [
                      {
                        "line": {
                          "colorbar": {
                            "outlinewidth": 1,
                            "tickcolor": "rgb(36,36,36)",
                            "ticks": "outside"
                          }
                        },
                        "type": "parcoords"
                      }
                    ],
                    "pie": [
                      {
                        "automargin": true,
                        "type": "pie"
                      }
                    ],
                    "scatter": [
                      {
                        "fillpattern": {
                          "fillmode": "overlay",
                          "size": 10,
                          "solidity": 0.2
                        },
                        "type": "scatter"
                      }
                    ],
                    "scatter3d": [
                      {
                        "line": {
                          "colorbar": {
                            "outlinewidth": 1,
                            "tickcolor": "rgb(36,36,36)",
                            "ticks": "outside"
                          }
                        },
                        "marker": {
                          "colorbar": {
                            "outlinewidth": 1,
                            "tickcolor": "rgb(36,36,36)",
                            "ticks": "outside"
                          }
                        },
                        "type": "scatter3d"
                      }
                    ],
                    "scattercarpet": [
                      {
                        "marker": {
                          "colorbar": {
                            "outlinewidth": 1,
                            "tickcolor": "rgb(36,36,36)",
                            "ticks": "outside"
                          }
                        },
                        "type": "scattercarpet"
                      }
                    ],
                    "scattergeo": [
                      {
                        "marker": {
                          "colorbar": {
                            "outlinewidth": 1,
                            "tickcolor": "rgb(36,36,36)",
                            "ticks": "outside"
                          }
                        },
                        "type": "scattergeo"
                      }
                    ],
                    "scattergl": [
                      {
                        "marker": {
                          "colorbar": {
                            "outlinewidth": 1,
                            "tickcolor": "rgb(36,36,36)",
                            "ticks": "outside"
                          }
                        },
                        "type": "scattergl"
                      }
                    ],
                    "scattermapbox": [
                      {
                        "marker": {
                          "colorbar": {
                            "outlinewidth": 1,
                            "tickcolor": "rgb(36,36,36)",
                            "ticks": "outside"
                          }
                        },
                        "type": "scattermapbox"
                      }
                    ],
                    "scatterpolar": [
                      {
                        "marker": {
                          "colorbar": {
                            "outlinewidth": 1,
                            "tickcolor": "rgb(36,36,36)",
                            "ticks": "outside"
                          }
                        },
                        "type": "scatterpolar"
                      }
                    ],
                    "scatterpolargl": [
                      {
                        "marker": {
                          "colorbar": {
                            "outlinewidth": 1,
                            "tickcolor": "rgb(36,36,36)",
                            "ticks": "outside"
                          }
                        },
                        "type": "scatterpolargl"
                      }
                    ],
                    "scatterternary": [
                      {
                        "marker": {
                          "colorbar": {
                            "outlinewidth": 1,
                            "tickcolor": "rgb(36,36,36)",
                            "ticks": "outside"
                          }
                        },
                        "type": "scatterternary"
                      }
                    ],
                    "surface": [
                      {
                        "colorbar": {
                          "outlinewidth": 1,
                          "tickcolor": "rgb(36,36,36)",
                          "ticks": "outside"
                        },
                        "colorscale": [
                          [
                            0,
                            "#440154"
                          ],
                          [
                            0.1111111111111111,
                            "#482878"
                          ],
                          [
                            0.2222222222222222,
                            "#3e4989"
                          ],
                          [
                            0.3333333333333333,
                            "#31688e"
                          ],
                          [
                            0.4444444444444444,
                            "#26828e"
                          ],
                          [
                            0.5555555555555556,
                            "#1f9e89"
                          ],
                          [
                            0.6666666666666666,
                            "#35b779"
                          ],
                          [
                            0.7777777777777778,
                            "#6ece58"
                          ],
                          [
                            0.8888888888888888,
                            "#b5de2b"
                          ],
                          [
                            1,
                            "#fde725"
                          ]
                        ],
                        "type": "surface"
                      }
                    ],
                    "table": [
                      {
                        "cells": {
                          "fill": {
                            "color": "rgb(237,237,237)"
                          },
                          "line": {
                            "color": "white"
                          }
                        },
                        "header": {
                          "fill": {
                            "color": "rgb(217,217,217)"
                          },
                          "line": {
                            "color": "white"
                          }
                        },
                        "type": "table"
                      }
                    ]
                  },
                  "layout": {
                    "annotationdefaults": {
                      "arrowhead": 0,
                      "arrowwidth": 1
                    },
                    "autotypenumbers": "strict",
                    "coloraxis": {
                      "colorbar": {
                        "outlinewidth": 1,
                        "tickcolor": "rgb(36,36,36)",
                        "ticks": "outside"
                      }
                    },
                    "colorscale": {
                      "diverging": [
                        [
                          0,
                          "rgb(103,0,31)"
                        ],
                        [
                          0.1,
                          "rgb(178,24,43)"
                        ],
                        [
                          0.2,
                          "rgb(214,96,77)"
                        ],
                        [
                          0.3,
                          "rgb(244,165,130)"
                        ],
                        [
                          0.4,
                          "rgb(253,219,199)"
                        ],
                        [
                          0.5,
                          "rgb(247,247,247)"
                        ],
                        [
                          0.6,
                          "rgb(209,229,240)"
                        ],
                        [
                          0.7,
                          "rgb(146,197,222)"
                        ],
                        [
                          0.8,
                          "rgb(67,147,195)"
                        ],
                        [
                          0.9,
                          "rgb(33,102,172)"
                        ],
                        [
                          1,
                          "rgb(5,48,97)"
                        ]
                      ],
                      "sequential": [
                        [
                          0,
                          "#440154"
                        ],
                        [
                          0.1111111111111111,
                          "#482878"
                        ],
                        [
                          0.2222222222222222,
                          "#3e4989"
                        ],
                        [
                          0.3333333333333333,
                          "#31688e"
                        ],
                        [
                          0.4444444444444444,
                          "#26828e"
                        ],
                        [
                          0.5555555555555556,
                          "#1f9e89"
                        ],
                        [
                          0.6666666666666666,
                          "#35b779"
                        ],
                        [
                          0.7777777777777778,
                          "#6ece58"
                        ],
                        [
                          0.8888888888888888,
                          "#b5de2b"
                        ],
                        [
                          1,
                          "#fde725"
                        ]
                      ],
                      "sequentialminus": [
                        [
                          0,
                          "#440154"
                        ],
                        [
                          0.1111111111111111,
                          "#482878"
                        ],
                        [
                          0.2222222222222222,
                          "#3e4989"
                        ],
                        [
                          0.3333333333333333,
                          "#31688e"
                        ],
                        [
                          0.4444444444444444,
                          "#26828e"
                        ],
                        [
                          0.5555555555555556,
                          "#1f9e89"
                        ],
                        [
                          0.6666666666666666,
                          "#35b779"
                        ],
                        [
                          0.7777777777777778,
                          "#6ece58"
                        ],
                        [
                          0.8888888888888888,
                          "#b5de2b"
                        ],
                        [
                          1,
                          "#fde725"
                        ]
                      ]
                    },
                    "colorway": [
                      "#1F77B4",
                      "#FF7F0E",
                      "#2CA02C",
                      "#D62728",
                      "#9467BD",
                      "#8C564B",
                      "#E377C2",
                      "#7F7F7F",
                      "#BCBD22",
                      "#17BECF"
                    ],
                    "font": {
                      "color": "rgb(36,36,36)"
                    },
                    "geo": {
                      "bgcolor": "white",
                      "lakecolor": "white",
                      "landcolor": "white",
                      "showlakes": true,
                      "showland": true,
                      "subunitcolor": "white"
                    },
                    "hoverlabel": {
                      "align": "left"
                    },
                    "hovermode": "closest",
                    "mapbox": {
                      "style": "light"
                    },
                    "paper_bgcolor": "white",
                    "plot_bgcolor": "white",
                    "polar": {
                      "angularaxis": {
                        "gridcolor": "rgb(232,232,232)",
                        "linecolor": "rgb(36,36,36)",
                        "showgrid": false,
                        "showline": true,
                        "ticks": "outside"
                      },
                      "bgcolor": "white",
                      "radialaxis": {
                        "gridcolor": "rgb(232,232,232)",
                        "linecolor": "rgb(36,36,36)",
                        "showgrid": false,
                        "showline": true,
                        "ticks": "outside"
                      }
                    },
                    "scene": {
                      "xaxis": {
                        "backgroundcolor": "white",
                        "gridcolor": "rgb(232,232,232)",
                        "gridwidth": 2,
                        "linecolor": "rgb(36,36,36)",
                        "showbackground": true,
                        "showgrid": false,
                        "showline": true,
                        "ticks": "outside",
                        "zeroline": false,
                        "zerolinecolor": "rgb(36,36,36)"
                      },
                      "yaxis": {
                        "backgroundcolor": "white",
                        "gridcolor": "rgb(232,232,232)",
                        "gridwidth": 2,
                        "linecolor": "rgb(36,36,36)",
                        "showbackground": true,
                        "showgrid": false,
                        "showline": true,
                        "ticks": "outside",
                        "zeroline": false,
                        "zerolinecolor": "rgb(36,36,36)"
                      },
                      "zaxis": {
                        "backgroundcolor": "white",
                        "gridcolor": "rgb(232,232,232)",
                        "gridwidth": 2,
                        "linecolor": "rgb(36,36,36)",
                        "showbackground": true,
                        "showgrid": false,
                        "showline": true,
                        "ticks": "outside",
                        "zeroline": false,
                        "zerolinecolor": "rgb(36,36,36)"
                      }
                    },
                    "shapedefaults": {
                      "fillcolor": "black",
                      "line": {
                        "width": 0
                      },
                      "opacity": 0.3
                    },
                    "ternary": {
                      "aaxis": {
                        "gridcolor": "rgb(232,232,232)",
                        "linecolor": "rgb(36,36,36)",
                        "showgrid": false,
                        "showline": true,
                        "ticks": "outside"
                      },
                      "baxis": {
                        "gridcolor": "rgb(232,232,232)",
                        "linecolor": "rgb(36,36,36)",
                        "showgrid": false,
                        "showline": true,
                        "ticks": "outside"
                      },
                      "bgcolor": "white",
                      "caxis": {
                        "gridcolor": "rgb(232,232,232)",
                        "linecolor": "rgb(36,36,36)",
                        "showgrid": false,
                        "showline": true,
                        "ticks": "outside"
                      }
                    },
                    "title": {
                      "x": 0.05
                    },
                    "xaxis": {
                      "automargin": true,
                      "gridcolor": "rgb(232,232,232)",
                      "linecolor": "rgb(36,36,36)",
                      "showgrid": false,
                      "showline": true,
                      "ticks": "outside",
                      "title": {
                        "standoff": 15
                      },
                      "zeroline": false,
                      "zerolinecolor": "rgb(36,36,36)"
                    },
                    "yaxis": {
                      "automargin": true,
                      "gridcolor": "rgb(232,232,232)",
                      "linecolor": "rgb(36,36,36)",
                      "showgrid": false,
                      "showline": true,
                      "ticks": "outside",
                      "title": {
                        "standoff": 15
                      },
                      "zeroline": false,
                      "zerolinecolor": "rgb(36,36,36)"
                    }
                  }
                },
                "width": 1350,
                "xaxis": {
                  "range": [
                    1,
                    8
                  ],
                  "tickfont": {
                    "size": 30
                  },
                  "tickformat": "i"
                },
                "yaxis": {
                  "range": [
                    -10,
                    10
                  ],
                  "tickfont": {
                    "size": 30
                  }
                }
              }
            }
          },
          "metadata": {},
          "output_type": "display_data"
        }
      ],
      "source": [
        "# Pyridine Acetone\n",
        "\n",
        "import numpy as np\n",
        "import plotly.graph_objects as go\n",
        "\n",
        "distances = np.arange(1.0, 8.0, 0.1)\n",
        "\n",
        "theories = {\n",
        "    'hf/6-31g*': [625.2222657459206, 467.4601275777095, 365.35405364091275, 296.4180546310963, 246.85945263243048, 208.29098953789799, 175.9011353739188, 147.3180072378018, 121.69345318945125, 98.91510348970769, 79.06660178268794, 62.16496687097242, 48.08790937275626, 36.59367183462018, 27.370273490378167, 20.082228455634322, 14.40335244248854, 10.035533541347831, 6.717367884004489, 4.2267141247866675, 2.3797942782985047, 1.0282297898666002, 0.05475889431545511, -0.6317612946149893, -1.1014245756086893, -1.4078994378796779, -1.5922906646155752, -1.6861254235263914, -1.7135994589189067, -1.6932420207303949, -1.6392016726313159, -1.562263190979138, -1.4706619495991617, -1.3707247850252315, -1.2673416330944747, -1.1642904315376654, -1.0644529075943865, -0.9699410414323211, -0.8821917686727829, -0.8020505963359028, -0.7298492345144041, -0.6655092623550445, -0.6086370522389188, -0.5586317391134799, -0.5147690810845234, -0.47628211620030925, -0.44242109451442957, -0.41248712997185066, -0.3858642959385179, -0.36202050192514434, -0.340513727045618, -0.3209780311444774, -0.30312230705749243, -0.28671018325258046, -0.2715540561475791, -0.2575042560347356, -0.24443747627083212, -0.23225486662704498, -0.22087175823980942, -0.2102199326036498, -0.20023614744422957, -0.19086717732716352, -0.18206625315360725, -0.17379015177721158, -0.16600145533448085, -0.1586644968483597, -0.15174792183097452, -0.14522211451549083, -0.13906041835434735, -0.13323780993232504, -0.12773276068037376],\n",
        "    # 'pbe0/6-31g*': [546.4174327692017, 397.14861158147687, 302.22832044947427, 239.5376972645172, 195.62146161252167, 162.36772460892098, 135.14002373849507, 111.62164377066074, 90.92101677734172, 72.81594327755738, 57.25348393357126, 44.1447045544046, 33.325701687601395, 24.56840925832512, 17.602745137235615, 12.153392512816936, 7.964477797213476, 4.80115873896284, 2.456357100745663, 0.7571744898450561, -0.44233278947649524, -1.2663458781316876, -1.8125328917521983, -2.152764937723987, -2.340235218696762, -2.4162904001423158, -2.4126207659137435, -2.353189484740142, -2.255174577003345, -2.131209895014763, -1.9911799759138376, -1.8414513004245237, -1.6882062376243994, -1.5354217543499544, -1.3861949698184617, -1.243600254820194, -1.1096616629511118, -0.9860317292041145, -0.8738738053361885, -0.7740639295661822, -0.6868010968901217, -0.6108898526290432, -0.546214991947636, -0.4911797165405005, -0.44482409046031535, -0.40578226145589724, -0.3727150176418945, -0.344537309021689, -0.32047481113113463, -0.2996165932272561, -0.28129978489596397, -0.2650349303148687, -0.2504495553439483, -0.23722767707658932, -0.22513200395042077, -0.21399321442004293, -0.20367695338791236, -0.19408193411072716, -0.18512694298988208, -0.1767487392644398, -0.1688926928327419, -0.16151460469700396, -0.1545770731754601, -0.14804569585248828, -0.14189168682787567, -0.1360875004902482, -0.1306093277526088, -0.1254344914923422, -0.12054274050751701, -0.11591492779552937, -0.11153498501516879],\n",
        "    # 'wb97x-d/aug-cc-pvdz': [549.7965988869546, 401.3422810502816, 306.1620411775075, 242.64365902810823, 197.7865980672068, 163.75725445029093, 135.93675332562998, 112.04131655523088, 91.07560248364462, 72.78528155002277, 57.02645341824973, 43.66233184712473, 32.6035948562203, 23.551137113186996, 16.31939903582679, 10.639940450666472, 6.257768914219923, 2.9435329197440296, 0.5039590445230715, -1.2544782446930185, -2.458793983387295, -3.2488328178878874, -3.712819095875602, -3.9346517380326986, -3.977613703988027, -3.900683346320875, -3.7342959442175925, -3.51910185063025, -3.278877848002594, -3.029925380134955, -2.7878192744683474, -2.5566662264754996, -2.3434515850967728, -2.1478502898244187, -1.970855395135004, -1.8097873203805648, -1.663811553211417, -1.5312450552009977, -1.4099149213870987, -1.298991194460541, -1.197654442221392, -1.1039599476498552, -1.0184357013204135, -0.9401611899957061, -0.8677762300358154, -0.8023424400016665, -0.7414273918257095, -0.6863805492175743, -0.6365266230423003, -0.5899619654519483, -0.5480513704242185, -0.5094078223919496, -0.4750676656840369, -0.4427308583399281, -0.41300181538099423, -0.38595467974664643, -0.36100858956342563, -0.33823870308697224, -0.3169921627268195, -0.2973070349544287, -0.27936972805764526, -0.26257253967924044, -0.24733731005107984, -0.23278639756608754, -0.21933018846902996, -0.20655640895711258, -0.195124386518728, -0.18366599961882457, -0.17427581519586965, -0.164227626810316, -0.15499588602688164],\n",
        "    'wb97x-d3/6-31g*': [561.0829878336517, 410.3559514505905, 314.01274484413443, 249.90074811241357, 204.58196674857754, 169.94316162035102, 141.3428783872514, 116.51888285327004, 94.58594490314135, 75.3780233693542, 58.75537453847937, 44.67197256081272, 33.03087726829108, 23.564265015360434, 16.055880137369968, 10.213449570466764, 5.752946176799014, 2.4316971344524063, 0.015573574404697865, -1.6919430948328227, -2.8504246546071954, -3.598205865942873, -4.038378870871384, -4.251862792763859, -4.296915788727347, -4.22544844285585, -4.065156766737346, -3.852070734545123, -3.6065436371718533, -3.3463086717529222, -3.085514319711365, -2.827969518955797, -2.5791795100667514, -2.341620262770448, -2.117432600876782, -1.9070742289768532, -1.7115273439558223, -1.531406651774887, -1.3675212015514262, -1.2202989685465582, -1.0894012210192159, -0.9736413117498159, -0.8728936216793954, -0.7864223176147789, -0.7107076797983609, -0.6451244645868428, -0.5886056128656492, -0.5395039943396114, -0.4961498304619454, -0.4578456227318384, -0.42387110652634874, -0.39353391504846513, -0.36613826802931726, -0.3412707934039645, -0.31866737524978817, -0.29806015541544184, -0.2791437910636887, -0.2617003186605871, -0.24563083809334785, -0.23077884770464152, -0.2170612295740284, -0.20434378390200436, -0.1925292214145884, -0.18149661255301908, -0.17129135131835938, -0.16175881098024547, -0.15285929606761783, -0.1445436814101413, -0.13679873978253454, -0.12954770494252443, -0.12264589697588235],\n",
        "    'mp2/6-31g*': [562.2459200633748, 410.32072508861893, 313.558856536838, 249.19946124221315, 203.49475012844778, 168.30506331266952, 139.17517324347864, 114.02180901545216, 92.04079296215787, 72.94360750648775, 56.589680397795746, 42.846791482850676, 31.53728262722143, 22.426783326052828, 15.239834012551, 9.685368869715603, 5.479645407554926, 2.362077055644477, 0.10412980106775649, -1.4872489164990839, -2.5699297421670053, -3.2695319204649422, -3.6838763493287843, -3.8880379923211876, -3.939207371935481, -3.8808681404043455, -3.7461028945690487, -3.5600358981464524, -3.3416404050949495, -3.1050893852079753, -2.8608615097764414, -2.616635695187142, -2.3780369113374036, -2.1492049764783587, -1.9331842655374203, -1.7321641999005806, -1.5476119031955022, -1.3803260238200892, -1.2304883202596102, -1.0977270311850589, -0.9811945728433784, -0.8796831681684125, -0.7917421899910551, -0.7158050564758014, -0.6502847906958777, -0.5936655351251829, -0.5445592992764432, -0.5017368352564517, -0.4641458176483866, -0.43090199734433554, -0.4012813248846214, -0.37469549567322247, -0.3506748058425728, -0.32884326550993137, -0.30889953547739424, -0.2906060094537679, -0.2737649405898992, -0.25821742476546206, -0.24382748155039735, -0.23048409799230285, -0.2180902898835484, -0.20655837320373394, -0.19581553383613937, -0.18579596144263633, -0.1764397794904653, -0.16769247254705988, -0.15950786430039443, -0.1518402649962809, -0.14465178819955327, -0.13790425143088214, -0.13156707686721347],\n",
        "    'wb97x-d3/aug-cc-pvdz': [552.8932677042321, 403.77145929366816, 308.12369401886826, 244.3206964742276, 199.28908842033707, 165.11022240872262, 137.14479629392736, 113.05901955754962, 91.88136425882112, 73.37126950331731, 57.40788310091011, 43.89238849544199, 32.719887108774856, 23.622838537732605, 16.37510497920448, 10.704025122395251, 6.3443413152126595, 3.0582232421729714, 0.6405858115758747, -1.0970581509172916, -2.2972850813530385, -3.095416208030656, -3.582044377049897, -3.8401883507613093, -3.9259063407662325, -3.895367690711282, -3.771659531397745, -3.5942231529043056, -3.385621694207657, -3.1597428235108964, -2.933629518665839, -2.7109842381905764, -2.498379725497216, -2.296679297753144, -2.1093244190560654, -1.9344219046179205, -1.772896001872141, -1.6254371270770207, -1.488778781495057, -1.3651723986840807, -1.2528410864179023, -1.1503259355667979, -1.0571414557052776, -0.9724780481192283, -0.895638850342948, -0.8265946119790897, -0.7623769113561139, -0.7051475311163813, -0.653638738556765, -0.6054740910767578, -0.5627356339246035, -0.5233997185132466, -0.4881371142109856, -0.4551461440278217, -0.4253422648180276, -0.39792785845929757, -0.37244143296265975, -0.34943731751991436, -0.32788490294478834, -0.3082750679459423, -0.29000784462550655, -0.27345002233050764, -0.2578576884116046, -0.2432605373323895, -0.22959469998022541, -0.21679337660316378, -0.20529874856583774, -0.1938396985642612, -0.18445426155813038, -0.17429610155522823, -0.16490066138794646],\n",
        "    'mp2/aug-cc-pvdz':  [547.684120138525, 396.8533368142671, 300.45269320334774, 236.1873053040472, 190.67842225689674, 155.97229680087185, 127.62354164931457, 103.46085518505424, 82.57893310376676, 64.6118053541868, 49.360693401424214, 36.64476584439399, 26.250848194758873, 17.927037608460523, 11.397092726023402, 6.380285512947012, 2.609134089027066, -0.15799051657086238, -2.13045092637185, -3.4839246015180834, -4.362516536959447, -4.882432115322445, -5.13607944897376, -5.195948529057205, -5.1182581263710745, -4.946200751524884, -4.712644414277747, -4.442299805523362, -4.153502530883998, -3.85955927032046, -3.569851727981586, -3.2907634299481288, -3.026386796438601, -2.7791074257693253, -2.5500800010049716, -2.3394983936450444, -2.1469251065864228, -1.9714700517361052, -1.8119451613165438, -1.6670484559144825, -1.535418012586888, -1.4157392048509791, -1.3067750902846456, -1.207403841719497, -1.1166388757992536, -1.0336106235045008, -0.9575753890676424, -0.8878785918932408, -0.8239676602534018, -0.7653424329473637, -0.7115475085447542, -0.6621995606692508, -0.6169182867743075, -0.5753523292951286, -0.537194972333964, -0.5021312338649295, -0.46989521669456735, -0.4402290487778373, -0.4128963461262174, -0.3876927409437485, -0.3644278810825199, -0.34291672689141706, -0.3230081155197695, -0.3045606979285367, -0.28744105115765706, -0.2715370067744516, -0.25673808669671416, -0.24294428568100557, -0.2300719713093713, -0.2180372427101247, -0.20677051943494007],\n",
        "\n",
        "}\n",
        "\n",
        "fig = go.Figure()\n",
        "\n",
        "for key,value in theories.items():\n",
        "\n",
        "    fig.add_trace(\n",
        "        go.Scatter(\n",
        "            x=list(distances), y=value,\n",
        "            mode='lines+markers',\n",
        "            name=key,\n",
        "            marker=dict(size=13)\n",
        "        )\n",
        "    )\n",
        "\n",
        "fig.update_layout(legend=dict(itemsizing='constant'))\n",
        "fig.update_layout(legend=dict(\n",
        "        orientation=\"h\",\n",
        "        yanchor=\"bottom\",\n",
        "        y=1.02,\n",
        "        xanchor=\"right\",\n",
        "        x=1.05,\n",
        "        font = dict(family = \"Arial\", size = 35),\n",
        "        bordercolor=\"LightSteelBlue\",\n",
        "        borderwidth=2,\n",
        "    ),\n",
        ")\n",
        "fig.update_traces(line=dict(width=5))\n",
        "\n",
        "fig.update_layout(\n",
        "    template='simple_white',\n",
        "    xaxis_tickformat = 'i',\n",
        "    bargap=0.2, # gap between bars of adjacent location coordinates,\n",
        "    height=600,\n",
        "    width=1350,\n",
        "    showlegend=False,\n",
        ")\n",
        "\n",
        "fig.update_yaxes(range=[-10, 10.0], tickfont = dict(size=30))\n",
        "fig.update_xaxes(range=[1.0, 8.0], tickfont = dict(size=30))\n",
        "\n",
        "fig.show()"
      ]
    },
    {
      "cell_type": "code",
      "execution_count": 10,
      "metadata": {
        "colab": {
          "base_uri": "https://localhost:8080/",
          "height": 577
        },
        "id": "y5E8R2uI1GfL",
        "outputId": "c0ac6720-84f3-4a4d-911b-55a96fd82830"
      },
      "outputs": [
        {
          "name": "stdout",
          "output_type": "stream",
          "text": [
            "-7.222946377296466\n",
            "1052.5793187250965\n"
          ]
        },
        {
          "data": {
            "application/vnd.plotly.v1+json": {
              "config": {
                "plotlyServerURL": "https://plot.ly"
              },
              "data": [
                {
                  "isomax": 1,
                  "isomin": -1,
                  "type": "volume",
                  "value": [
                    1052.5793187250965,
                    656.423715584795,
                    233.8510784471291,
                    168.90882854291704,
                    73.00874735572143,
                    73.27335763879819,
                    232.95258585439296,
                    171.00857365416596,
                    1002.9795025247149,
                    658.2115115315537,
                    843.4087635923061,
                    577.4552626397344,
                    184.87849767075386,
                    137.47082299320027,
                    52.89115737652173,
                    53.03688617114676,
                    184.365075717913,
                    139.14225280372193,
                    818.6856113841059,
                    583.2850641452242,
                    703.7816258014645,
                    512.3865972590283,
                    144.4303996998351,
                    110.15762189595262,
                    36.965055292181205,
                    37.03313024889212,
                    144.11806286120554,
                    111.43822820280911,
                    691.3255205488531,
                    518.959331292077,
                    598.6285267636413,
                    452.37801536137704,
                    111.35352666844847,
                    86.81723161664559,
                    24.56353189382935,
                    24.58523762220284,
                    111.14193249371601,
                    87.76435958384536,
                    590.7076540954877,
                    457.0944304752629,
                    509.84841967816465,
                    393.84146816510474,
                    84.5823359003989,
                    67.1952291407506,
                    15.078228002646938,
                    15.07652135414537,
                    84.42178152885754,
                    67.87328406691086,
                    502.521206028061,
                    395.66696114389924,
                    429.7214563913876,
                    337.2462735832087,
                    63.14594038645737,
                    50.95993380283471,
                    7.962401080993004,
                    7.952506378176622,
                    63.01569855812704,
                    51.43140016455436,
                    421.6112602055655,
                    336.47194707748713,
                    355.8526570042013,
                    284.4530350895948,
                    46.17283910047263,
                    37.73293037392432,
                    2.735978464479558,
                    2.7262208394822665,
                    46.06688488234067,
                    38.05279688735027,
                    346.9524700702168,
                    281.90994167589815,
                    288.6568910814822,
                    236.80028468795354,
                    32.89148893416859,
                    27.118607935437467,
                    -1.0097372531308793,
                    -1.016219227167312,
                    32.809148225409444,
                    27.33164212544216,
                    279.664893308247,
                    233.2771509005688,
                    230.14219768159091,
                    194.8694861616823,
                    22.626086505013518,
                    18.727326124324463,
                    -3.611817034019623,
                    -3.615114828804508,
                    22.567022522969637,
                    18.86792712431634,
                    221.9479391266941,
                    190.99610848509474,
                    181.6580658876337,
                    158.8979305670946,
                    14.791743375128135,
                    12.192737031378783,
                    -5.341278380190488,
                    -5.342906097474042,
                    14.75410757609643,
                    12.285974065947812,
                    174.74492631625617,
                    155.13852061360376,
                    142.61195227963617,
                    128.61374849895947,
                    8.890335466421675,
                    7.182641376974061,
                    -6.412589150480926,
                    -6.414284040336497,
                    8.870935881568585,
                    7.246259925421327,
                    136.98896386031993,
                    125.18183668743586,
                    111.40602766885422,
                    103.24335658061318,
                    4.507197594968602,
                    3.4056969303055666,
                    -6.994365559017751,
                    -6.997237923031207,
                    4.5025313157239,
                    3.4517787536606193,
                    106.88657417218201,
                    100.18036355084041,
                    86.46139737666817,
                    81.99497485300526,
                    1.305720008793287,
                    0.6135588793549687,
                    -7.218257947824895,
                    -7.222946377296466,
                    1.3128455808619037,
                    0.6502746444894001,
                    82.83854189421982,
                    79.29943324113265,
                    66.51025204884354,
                    64.27949150616769,
                    -0.9818826802074909,
                    -1.400177109928336,
                    -7.186861610040069,
                    -7.193305580178276,
                    -0.9650946634355932,
                    -1.3674497680622153,
                    63.60751188459108,
                    61.945723026350606,
                    50.57121596991783,
                    49.6415586459334,
                    -2.5663516006898135,
                    -2.804190539813135,
                    -6.978936495084781,
                    -6.986738206644077,
                    -2.541416290565394,
                    -2.77201660675928,
                    48.24764173314907,
                    47.65654043410905,
                    37.879098969337065,
                    37.68044980004197,
                    -3.6135339735192247,
                    -3.7351850436534733,
                    -6.653794044628739,
                    -6.662482726329472,
                    -3.5817471647751518,
                    -3.701703826605808,
                    36.02496285707457,
                    36.0216229907237,
                    27.829862583137583,
                    28.024273513117805,
                    -4.25438647554256,
                    -4.303853421995882,
                    -6.255357179092243,
                    -6.264614220068324,
                    -4.217017940129153,
                    -4.268323189171497,
                    26.359722650668118,
                    26.66218228894286,
                    19.9386375573813,
                    20.32907198468456,
                    -4.592681798909325,
                    -4.599630383076146,
                    -5.815726431377698,
                    -5.825377955508884,
                    -4.551126982201822,
                    -4.562027223000769,
                    18.784553583653178,
                    19.230688230891246,
                    13.808515777229331,
                    14.282029733003583,
                    -4.710418802511413,
                    -4.6943593038013205,
                    -5.358101096062455,
                    -5.368251516600139,
                    -4.666074790933635,
                    -4.6551865297951736,
                    12.914710796845611,
                    13.413141231809277,
                    9.108581555832643,
                    9.60223219305044,
                    -4.671668978524394,
                    -4.645033434208017,
                    -4.899372357409447,
                    -4.910098823951557,
                    -4.625933907285798,
                    -4.604929989203811,
                    8.427913939813152,
                    8.928851376636885,
                    5.559484417957719,
                    6.039674987376202,
                    -4.525995897245593,
                    -4.496016547840554,
                    -4.451698588265572,
                    -4.463161516818218,
                    -4.4799965171841905,
                    -4.455721136939246,
                    5.0513743803603575,
                    5.529104185523465,
                    2.9248790334095247,
                    3.3747506141662598,
                    -4.31084002397256,
                    -4.281054681283422,
                    -4.023965771659277,
                    -4.036277107428759,
                    -4.265517745283432,
                    -4.24116195453098,
                    2.5546519373892806,
                    2.9967548148706555,
                    1.0071402644971386,
                    1.4189597942167893,
                    -4.053747808211483,
                    -4.025638202496339,
                    -3.6224266142235138,
                    -3.635626491100993,
                    -4.009835691773333,
                    -3.986677171953488,
                    0.745319647307042,
                    1.1468376979464665,
                    -0.3558704061433673,
                    0.01530807453673333,
                    -3.7751135093858466,
                    -3.748545160982758,
                    -3.2514145633904263,
                    -3.265481984708458,
                    -3.7330577751854435,
                    -3.7109445707756095,
                    -0.5334784025326371,
                    -0.1734819658449851,
                    -1.2941940195159987,
                    -0.9631772924331017,
                    -3.48934415448457,
                    -3.4635804537683725,
                    -2.9136748920427635,
                    -2.928499378147535,
                    -3.449468281818554,
                    -3.4276536822435446,
                    -1.40696306648897,
                    -1.0870007046614774,
                    -1.9101539518451318,
                    -1.6169475752976723,
                    -3.2066754855331965,
                    -3.1807756013586186,
                    -2.6105288192047738,
                    -2.625861314823851,
                    -3.1691495118429884,
                    -3.146694108378142,
                    -1.9736359645030461,
                    -1.6906336786341853,
                    -2.2842801738297567,
                    -2.02533335913904,
                    -2.934137070144061,
                    -2.9072578857885674,
                    -2.341830680379644,
                    -2.3574859694927,
                    -2.899113074876368,
                    -2.8752596413251013,
                    -2.3107885336503386,
                    -2.0608621315914206,
                    -2.479639051191043,
                    -2.2508333051227964,
                    -2.6764165943604894,
                    -2.6480818754062057,
                    -2.1062265427899547,
                    -2.1219016922987066,
                    -2.643922238901723,
                    -2.6182217363384552,
                    -2.479036808188539,
                    -2.2579478909028694,
                    -2.545689329097513,
                    -2.3429879368050024,
                    -2.436387314402964,
                    -2.406483475060668,
                    -1.9011919724289328,
                    -1.9166176476865076,
                    -2.406435164390132,
                    -2.378841670055408,
                    -2.5259710001409985,
                    -2.329673880827613,
                    -2.5211740189697593,
                    -2.3408837617607787,
                    -2.2155747998622246,
                    -2.184380391787272,
                    -1.7232923163101077,
                    -1.7381307056639344,
                    -2.188109143578913,
                    -2.158962836896535,
                    -2.4886761056259274,
                    -2.313616285158787,
                    -2.4360105313244276,
                    -2.2749852079432458,
                    -2.014404856483452,
                    -1.9825291158049367,
                    -1.5685386309633031,
                    -1.5825788310030475,
                    -1.989322887326125,
                    -1.9593209935119376,
                    -2.3956019901670516,
                    -2.238932249834761,
                    -2.312735038169194,
                    -2.168542430677917,
                    -1.8325521866208874,
                    -1.8008095664554276,
                    -1.4328976960969158,
                    -1.4459653807571158,
                    -1.8097688874113373,
                    -1.7796529479091987,
                    -2.268140337371733,
                    -2.127625173481647,
                    -2.1680058379424736,
                    -2.038778024550993,
                    -1.669051376520656,
                    -1.6383135662181303,
                    -1.3126872703433037,
                    -1.324619497929234,
                    -1.6484036385663785,
                    -1.619117539259605,
                    -2.1219695028848946,
                    -1.9959110913332552,
                    -2.0137680441257544,
                    -1.8980401586159132,
                    -1.5226300882641226,
                    -1.493618344713468,
                    -1.204759883810766,
                    -1.2155624423758127,
                    -1.5039040709962137,
                    -1.476208466454409,
                    -1.9681039535207674,
                    -1.8552280452568084,
                    -1.8581108206417412,
                    -1.7548259486211464,
                    -1.3915639583137818,
                    -1.3648773769964464,
                    -1.1068723573116586,
                    -1.1164922949974425,
                    -1.3746290365816094,
                    -1.349068382405676,
                    -1.8141117886989377,
                    -1.713442699285224,
                    -1.7065218420466408,
                    -1.6146584651432931,
                    -1.274212813237682,
                    -1.2500896024284884,
                    -1.0173413378652185,
                    -1.0258621579851024,
                    -1.2588209722889587,
                    -1.235728613450192,
                    -1.664925110701006,
                    -1.5754839555593207,
                    -1.562305568892043,
                    -1.4809024764108472,
                    -1.1687909152242355,
                    -1.1472444251412526,
                    -0.9351851339451969,
                    -0.9426808716962114,
                    -1.15478777338285,
                    -1.1341386589338072,
                    -1.5235089227790013,
                    -1.4443174626794644,
                    -1.4273356584599242,
                    -1.3553868472226895,
                    -1.0737392217270099,
                    -1.054555538459681,
                    -0.8597763784346171,
                    -0.8663725756923668,
                    -1.0609662281931378,
                    -1.0425281304051168,
                    -1.3915776152862236,
                    -1.3215303283650428,
                    -1.302516232826747,
                    -1.2388273293036036,
                    -0.9876574270310812,
                    -0.9704113263287582,
                    -0.7907992959953845,
                    -0.796586652577389,
                    -0.975949264888186,
                    -0.9593867367948405,
                    -1.2697101804660633,
                    -1.2076827321434394,
                    -1.1879224483272992,
                    -1.1313945084111765,
                    -0.9093288070289418,
                    -0.8936170027009211,
                    -0.7279515758855268,
                    -0.733054889307823,
                    -0.8985805184929632,
                    -0.8834758895682171,
                    -1.1579982879338786,
                    -1.1028314237482846,
                    -1.0833059889264405,
                    -1.032747886434663,
                    -0.8378095350926742,
                    -0.8232256298651919,
                    -0.6709502405719832,
                    -0.6754557109088637,
                    -0.8279582406394184,
                    -0.8139032032340765,
                    -1.0560924236779101,
                    -1.0066146096796729,
                    -0.9881207887083292,
                    -0.9424892463721335,
                    -0.772336648311466,
                    -0.7585852317861281,
                    -0.6194664055365138,
                    -0.6234425543807447,
                    -0.7632997541804798,
                    -0.7499750466668047,
                    -0.9633673474309035,
                    -0.9185941330506466,
                    -0.9016983042820357,
                    -0.8600727921002544,
                    -0.7123409596388228,
                    -0.6991640598280355,
                    -0.5730492692091502,
                    -0.5766065879142843,
                    -0.7040454581729136,
                    -0.6912569045671262,
                    -0.8792222114279866,
                    -0.8382413612562232,
                    -0.823318372364156,
                    -0.7850084172096103,
                    -0.6573372460552491,
                    -0.6445942327263765,
                    -0.5312057680566795,
                    -0.5343558536260389,
                    -0.6497237341827713,
                    -0.6373467658413574,
                    -0.8028998749796301,
                    -0.765085999679286,
                    -0.7522892386768945,
                    -0.7167289819917642,
                    -0.6068866266286932,
                    -0.594587218191009,
                    -0.49340902059338987,
                    -0.49623509257799014,
                    -0.5999348524492234,
                    -0.5879258045461029,
                    -0.733773292216938,
                    -0.6986238539102487,
                    -0.6879783679614775,
                    -0.6548450770787895,
                    -0.5606879139668308,
                    -0.5488513834425248,
                    -0.4591526176664047,
                    -0.4616450141184032,
                    -0.5543002996128052,
                    -0.5427435752935708,
                    -0.6711619272246026,
                    -0.6383579153916799,
                    -0.6298075895174406,
                    -0.5988074007909745,
                    -0.5183417637599632,
                    -0.5070864043082111,
                    -0.427935385145247,
                    -0.4301462131552398,
                    -0.5125172195839696,
                    -0.5015129857929423,
                    -0.6145348970312625,
                    -0.5838707836810499,
                    -0.5771932790521532,
                    -0.5482254553353414,
                    -0.4795855268021114,
                    -0.469003701407928,
                    -0.39934231736697257,
                    -0.40129766653990373,
                    -0.474246941448655,
                    -0.46389592794002965,
                    -0.5633654891862534,
                    -0.5346860189456493,
                    -0.529670428368263,
                    -0.5026320875040255,
                    -0.44411501637659967,
                    -0.43430204689502716,
                    -0.37301279429811984,
                    -0.37473284016596153,
                    -0.4392264148918912,
                    -0.4296162053360604,
                    -0.5171248919796199,
                    -0.49037372786551714,
                    -0.4867482481058687,
                    -0.4615588634624146,
                    -0.411623410473112,
                    -0.4026605209801346,
                    -0.3486795807839371,
                    -0.35019595123594627,
                    -0.40711623296374455,
                    -0.39834621851332486,
                    -0.47538178047398105,
                    -0.4504562864312902,
                    -0.44799806171795353,
                    -0.42454074445413426,
                    -0.3818245648872107,
                    -0.37378467520466074,
                    -0.3260890391538851,
                    -0.32741757604526356,
                    -0.37770881730830297,
                    -0.3698079962632619,
                    -0.4377070346963592,
                    -0.41451966675231233,
                    -0.41300348367076367,
                    -0.39122287137433887,
                    -0.3545058218878694,
                    -0.3473741542547941,
                    -0.3050796851166524,
                    -0.30623258504783735,
                    -0.3507043108693324,
                    -0.34370597737142816,
                    -0.40367931965738535,
                    -0.3821344242314808,
                    -0.3813666327041574,
                    -0.36111986584728584,
                    -0.3294118703925051,
                    -0.32317753159441054,
                    -0.2855367974261753,
                    -0.2865171721787192,
                    -0.3259132544044405,
                    -0.31978196802083403,
                    -0.3729012561379932,
                    -0.3529137955629267,
                    -0.3527595864725299,
                    -0.33393367630196735,
                    -0.30632988980505615,
                    -0.3009415884152986,
                    -0.26728715340141207,
                    -0.2681482943589799,
                    -0.3030946356593631,
                    -0.2977924670558423,
                    -0.34503876516828313,
                    -0.32646486861631274,
                    -0.326768392464146,
                    -0.3092763024033047,
                    -0.2850708562764339,
                    -0.2804847465013154,
                    -0.25028331589419395,
                    -0.2510238951072097,
                    -0.28207553178071976,
                    -0.2775632165139541,
                    -0.31973734515486285,
                    -0.30247349076671526,
                    -0.3030937990988605,
                    -0.28681993135251105,
                    -0.2654622484697029,
                    -0.2615945927100256,
                    -0.2344167873961851,
                    -0.2350479457527399,
                    -0.2626818048884161,
                    -0.2588639010791667,
                    -0.29669601417845115,
                    -0.28062455920735374,
                    -0.2814755722647533,
                    -0.2663306767353788,
                    -0.24735839857021347,
                    -0.24411611806135625,
                    -0.21962113061454147,
                    -0.22014500456862152,
                    -0.24477046233369038,
                    -0.24156700941966847,
                    -0.2756207379279658,
                    -0.2606322096544318,
                    -0.2616675663739443,
                    -0.24754860921530053,
                    -0.23060432076454163,
                    -0.2278926856815815,
                    -0.205807251855731,
                    -0.20625341509003192,
                    -0.22818833374185488,
                    -0.22553075099131092,
                    -0.256279400724452,
                    -0.24231879896251485,
                    -0.2434265171759762,
                    -0.23026481759734452,
                    -0.21507857594406232,
                    -0.2128524002037011,
                    -0.19286651466973126,
                    -0.19325597980059683,
                    -0.21284320758422837,
                    -0.21063384891021997,
                    -0.23845838790293783,
                    -0.22545199835440144,
                    -0.22658534592483193,
                    -0.21432482736418024,
                    -0.20067449565976858,
                    -0.19884224742418155,
                    -0.18077770725358278,
                    -0.1810981915332377,
                    -0.19858894997742027,
                    -0.19674894824856892,
                    -0.22200443141628057,
                    -0.20988001057412475,
                    -0.2109996560611762,
                    -0.19959081639535725,
                    -0.18729479785542935,
                    -0.18579228583257645,
                    -0.16945716115878895,
                    -0.16973037674324587,
                    -0.18534447776619345,
                    -0.18382411159109324,
                    -0.20674765534931794,
                    -0.19547651382163167,
                    -0.1965528018772602,
                    -0.18592741846805438,
                    -0.1748372411238961,
                    -0.17360134347109124,
                    -0.1588331856764853,
                    -0.15906484087463468,
                    -0.17302905436372384,
                    -0.1717565460712649,
                    -0.1926113634253852,
                    -0.1821206624736078,
                    -0.18312477512517944,
                    -0.1732655565137975,
                    -0.16323787806322798,
                    -0.1622305053169839,
                    -0.14884947973769158,
                    -0.14904629404190928,
                    -0.16154035046929494,
                    -0.16049859719350934,
                    -0.17944956646533683,
                    -0.16972194594563916,
                    -0.1706456249812618,
                    -0.16148474911460653,
                    -0.15242548985406756,
                    -0.1515893217874691,
                    -0.1394446719205007,
                    -0.13962733460357413,
                    -0.15083301643608138,
                    -0.14996942569268867,
                    -0.16722870641388,
                    -0.15819232200738043,
                    -0.159034357231576,
                    -0.15052576991729438,
                    -0.14231630001449957,
                    -0.14162591041531414,
                    -0.1306267324835062,
                    -0.13075379643123597,
                    -0.14083008089801297,
                    -0.14010142348706722,
                    -0.1558679707814008,
                    -0.14746732788626105,
                    -0.14824111881898716,
                    -0.14032609789865091,
                    -0.132883656071499,
                    -0.132315882074181,
                    -0.122280640702229,
                    -0.12240021675825119,
                    -0.1314777371007949,
                    -0.13086450891569257,
                    -0.14528770395554602,
                    -0.13748059410136193,
                    -0.13821153581375256,
                    -0.1308440692955628,
                    -0.12406430207192898,
                    -0.12358638731529936,
                    -0.11443059501470998,
                    -0.1145226244116202,
                    -0.12276329239830375,
                    -0.12223755073500797,
                    -0.1354665812687017,
                    -0.12818370811874047,
                    -0.1288774138665758,
                    -0.12199718947522342,
                    -0.11581490514799953,
                    -0.11540617427090183,
                    -0.10702336515532807,
                    -0.10710218781605363,
                    -0.11460082564735785,
                    -0.11414284311467782,
                    -0.12633058085339144,
                    -0.11953703232575208,
                    -0.12020574026973918,
                    -0.11380583001300693,
                    -0.10811225912766531,
                    -0.10774639481678605,
                    -0.10004049225244671,
                    -0.10010590759338811,
                    -0.1069672429584898,
                    -0.10655971616506577,
                    -0.1178401107317768,
                    -0.11149570235284045,
                    -0.11214112024754286,
                    -0.10613062931224704,
                    -0.10089866549242288,
                    -0.1005841760779731,
                    -0.09346906503196806,
                    -0.09352533397031948,
                    -0.09984331956366077,
                    -0.09945969941327348,
                    -0.10994219564599916,
                    -0.10397952242055908,
                    -0.10464858560590073,
                    -0.09897035814356059,
                    -0.09417625580681488,
                    -0.09385791781824082,
                    -0.08727317838929594,
                    -0.08733098272932693,
                    -0.09317224012920633,
                    -0.09282056713709608,
                    -0.10260986385401338,
                    -0.09695906925480813
                  ],
                  "x": [
                    1,
                    1,
                    1,
                    1,
                    1,
                    1,
                    1,
                    1,
                    1,
                    1,
                    1.1,
                    1.1,
                    1.1,
                    1.1,
                    1.1,
                    1.1,
                    1.1,
                    1.1,
                    1.1,
                    1.1,
                    1.2000000000000002,
                    1.2000000000000002,
                    1.2000000000000002,
                    1.2000000000000002,
                    1.2000000000000002,
                    1.2000000000000002,
                    1.2000000000000002,
                    1.2000000000000002,
                    1.2000000000000002,
                    1.2000000000000002,
                    1.3000000000000003,
                    1.3000000000000003,
                    1.3000000000000003,
                    1.3000000000000003,
                    1.3000000000000003,
                    1.3000000000000003,
                    1.3000000000000003,
                    1.3000000000000003,
                    1.3000000000000003,
                    1.3000000000000003,
                    1.4000000000000004,
                    1.4000000000000004,
                    1.4000000000000004,
                    1.4000000000000004,
                    1.4000000000000004,
                    1.4000000000000004,
                    1.4000000000000004,
                    1.4000000000000004,
                    1.4000000000000004,
                    1.4000000000000004,
                    1.5000000000000004,
                    1.5000000000000004,
                    1.5000000000000004,
                    1.5000000000000004,
                    1.5000000000000004,
                    1.5000000000000004,
                    1.5000000000000004,
                    1.5000000000000004,
                    1.5000000000000004,
                    1.5000000000000004,
                    1.6000000000000005,
                    1.6000000000000005,
                    1.6000000000000005,
                    1.6000000000000005,
                    1.6000000000000005,
                    1.6000000000000005,
                    1.6000000000000005,
                    1.6000000000000005,
                    1.6000000000000005,
                    1.6000000000000005,
                    1.7000000000000006,
                    1.7000000000000006,
                    1.7000000000000006,
                    1.7000000000000006,
                    1.7000000000000006,
                    1.7000000000000006,
                    1.7000000000000006,
                    1.7000000000000006,
                    1.7000000000000006,
                    1.7000000000000006,
                    1.8000000000000007,
                    1.8000000000000007,
                    1.8000000000000007,
                    1.8000000000000007,
                    1.8000000000000007,
                    1.8000000000000007,
                    1.8000000000000007,
                    1.8000000000000007,
                    1.8000000000000007,
                    1.8000000000000007,
                    1.9000000000000008,
                    1.9000000000000008,
                    1.9000000000000008,
                    1.9000000000000008,
                    1.9000000000000008,
                    1.9000000000000008,
                    1.9000000000000008,
                    1.9000000000000008,
                    1.9000000000000008,
                    1.9000000000000008,
                    2.000000000000001,
                    2.000000000000001,
                    2.000000000000001,
                    2.000000000000001,
                    2.000000000000001,
                    2.000000000000001,
                    2.000000000000001,
                    2.000000000000001,
                    2.000000000000001,
                    2.000000000000001,
                    2.100000000000001,
                    2.100000000000001,
                    2.100000000000001,
                    2.100000000000001,
                    2.100000000000001,
                    2.100000000000001,
                    2.100000000000001,
                    2.100000000000001,
                    2.100000000000001,
                    2.100000000000001,
                    2.200000000000001,
                    2.200000000000001,
                    2.200000000000001,
                    2.200000000000001,
                    2.200000000000001,
                    2.200000000000001,
                    2.200000000000001,
                    2.200000000000001,
                    2.200000000000001,
                    2.200000000000001,
                    2.300000000000001,
                    2.300000000000001,
                    2.300000000000001,
                    2.300000000000001,
                    2.300000000000001,
                    2.300000000000001,
                    2.300000000000001,
                    2.300000000000001,
                    2.300000000000001,
                    2.300000000000001,
                    2.4000000000000012,
                    2.4000000000000012,
                    2.4000000000000012,
                    2.4000000000000012,
                    2.4000000000000012,
                    2.4000000000000012,
                    2.4000000000000012,
                    2.4000000000000012,
                    2.4000000000000012,
                    2.4000000000000012,
                    2.5000000000000013,
                    2.5000000000000013,
                    2.5000000000000013,
                    2.5000000000000013,
                    2.5000000000000013,
                    2.5000000000000013,
                    2.5000000000000013,
                    2.5000000000000013,
                    2.5000000000000013,
                    2.5000000000000013,
                    2.6000000000000014,
                    2.6000000000000014,
                    2.6000000000000014,
                    2.6000000000000014,
                    2.6000000000000014,
                    2.6000000000000014,
                    2.6000000000000014,
                    2.6000000000000014,
                    2.6000000000000014,
                    2.6000000000000014,
                    2.7000000000000015,
                    2.7000000000000015,
                    2.7000000000000015,
                    2.7000000000000015,
                    2.7000000000000015,
                    2.7000000000000015,
                    2.7000000000000015,
                    2.7000000000000015,
                    2.7000000000000015,
                    2.7000000000000015,
                    2.8000000000000016,
                    2.8000000000000016,
                    2.8000000000000016,
                    2.8000000000000016,
                    2.8000000000000016,
                    2.8000000000000016,
                    2.8000000000000016,
                    2.8000000000000016,
                    2.8000000000000016,
                    2.8000000000000016,
                    2.9000000000000017,
                    2.9000000000000017,
                    2.9000000000000017,
                    2.9000000000000017,
                    2.9000000000000017,
                    2.9000000000000017,
                    2.9000000000000017,
                    2.9000000000000017,
                    2.9000000000000017,
                    2.9000000000000017,
                    3.0000000000000018,
                    3.0000000000000018,
                    3.0000000000000018,
                    3.0000000000000018,
                    3.0000000000000018,
                    3.0000000000000018,
                    3.0000000000000018,
                    3.0000000000000018,
                    3.0000000000000018,
                    3.0000000000000018,
                    3.100000000000002,
                    3.100000000000002,
                    3.100000000000002,
                    3.100000000000002,
                    3.100000000000002,
                    3.100000000000002,
                    3.100000000000002,
                    3.100000000000002,
                    3.100000000000002,
                    3.100000000000002,
                    3.200000000000002,
                    3.200000000000002,
                    3.200000000000002,
                    3.200000000000002,
                    3.200000000000002,
                    3.200000000000002,
                    3.200000000000002,
                    3.200000000000002,
                    3.200000000000002,
                    3.200000000000002,
                    3.300000000000002,
                    3.300000000000002,
                    3.300000000000002,
                    3.300000000000002,
                    3.300000000000002,
                    3.300000000000002,
                    3.300000000000002,
                    3.300000000000002,
                    3.300000000000002,
                    3.300000000000002,
                    3.400000000000002,
                    3.400000000000002,
                    3.400000000000002,
                    3.400000000000002,
                    3.400000000000002,
                    3.400000000000002,
                    3.400000000000002,
                    3.400000000000002,
                    3.400000000000002,
                    3.400000000000002,
                    3.500000000000002,
                    3.500000000000002,
                    3.500000000000002,
                    3.500000000000002,
                    3.500000000000002,
                    3.500000000000002,
                    3.500000000000002,
                    3.500000000000002,
                    3.500000000000002,
                    3.500000000000002,
                    3.6000000000000023,
                    3.6000000000000023,
                    3.6000000000000023,
                    3.6000000000000023,
                    3.6000000000000023,
                    3.6000000000000023,
                    3.6000000000000023,
                    3.6000000000000023,
                    3.6000000000000023,
                    3.6000000000000023,
                    3.7000000000000024,
                    3.7000000000000024,
                    3.7000000000000024,
                    3.7000000000000024,
                    3.7000000000000024,
                    3.7000000000000024,
                    3.7000000000000024,
                    3.7000000000000024,
                    3.7000000000000024,
                    3.7000000000000024,
                    3.8000000000000025,
                    3.8000000000000025,
                    3.8000000000000025,
                    3.8000000000000025,
                    3.8000000000000025,
                    3.8000000000000025,
                    3.8000000000000025,
                    3.8000000000000025,
                    3.8000000000000025,
                    3.8000000000000025,
                    3.9000000000000026,
                    3.9000000000000026,
                    3.9000000000000026,
                    3.9000000000000026,
                    3.9000000000000026,
                    3.9000000000000026,
                    3.9000000000000026,
                    3.9000000000000026,
                    3.9000000000000026,
                    3.9000000000000026,
                    4.000000000000003,
                    4.000000000000003,
                    4.000000000000003,
                    4.000000000000003,
                    4.000000000000003,
                    4.000000000000003,
                    4.000000000000003,
                    4.000000000000003,
                    4.000000000000003,
                    4.000000000000003,
                    4.100000000000003,
                    4.100000000000003,
                    4.100000000000003,
                    4.100000000000003,
                    4.100000000000003,
                    4.100000000000003,
                    4.100000000000003,
                    4.100000000000003,
                    4.100000000000003,
                    4.100000000000003,
                    4.200000000000003,
                    4.200000000000003,
                    4.200000000000003,
                    4.200000000000003,
                    4.200000000000003,
                    4.200000000000003,
                    4.200000000000003,
                    4.200000000000003,
                    4.200000000000003,
                    4.200000000000003,
                    4.3000000000000025,
                    4.3000000000000025,
                    4.3000000000000025,
                    4.3000000000000025,
                    4.3000000000000025,
                    4.3000000000000025,
                    4.3000000000000025,
                    4.3000000000000025,
                    4.3000000000000025,
                    4.3000000000000025,
                    4.400000000000003,
                    4.400000000000003,
                    4.400000000000003,
                    4.400000000000003,
                    4.400000000000003,
                    4.400000000000003,
                    4.400000000000003,
                    4.400000000000003,
                    4.400000000000003,
                    4.400000000000003,
                    4.5000000000000036,
                    4.5000000000000036,
                    4.5000000000000036,
                    4.5000000000000036,
                    4.5000000000000036,
                    4.5000000000000036,
                    4.5000000000000036,
                    4.5000000000000036,
                    4.5000000000000036,
                    4.5000000000000036,
                    4.600000000000003,
                    4.600000000000003,
                    4.600000000000003,
                    4.600000000000003,
                    4.600000000000003,
                    4.600000000000003,
                    4.600000000000003,
                    4.600000000000003,
                    4.600000000000003,
                    4.600000000000003,
                    4.700000000000003,
                    4.700000000000003,
                    4.700000000000003,
                    4.700000000000003,
                    4.700000000000003,
                    4.700000000000003,
                    4.700000000000003,
                    4.700000000000003,
                    4.700000000000003,
                    4.700000000000003,
                    4.800000000000003,
                    4.800000000000003,
                    4.800000000000003,
                    4.800000000000003,
                    4.800000000000003,
                    4.800000000000003,
                    4.800000000000003,
                    4.800000000000003,
                    4.800000000000003,
                    4.800000000000003,
                    4.900000000000004,
                    4.900000000000004,
                    4.900000000000004,
                    4.900000000000004,
                    4.900000000000004,
                    4.900000000000004,
                    4.900000000000004,
                    4.900000000000004,
                    4.900000000000004,
                    4.900000000000004,
                    5.0000000000000036,
                    5.0000000000000036,
                    5.0000000000000036,
                    5.0000000000000036,
                    5.0000000000000036,
                    5.0000000000000036,
                    5.0000000000000036,
                    5.0000000000000036,
                    5.0000000000000036,
                    5.0000000000000036,
                    5.100000000000003,
                    5.100000000000003,
                    5.100000000000003,
                    5.100000000000003,
                    5.100000000000003,
                    5.100000000000003,
                    5.100000000000003,
                    5.100000000000003,
                    5.100000000000003,
                    5.100000000000003,
                    5.200000000000004,
                    5.200000000000004,
                    5.200000000000004,
                    5.200000000000004,
                    5.200000000000004,
                    5.200000000000004,
                    5.200000000000004,
                    5.200000000000004,
                    5.200000000000004,
                    5.200000000000004,
                    5.300000000000004,
                    5.300000000000004,
                    5.300000000000004,
                    5.300000000000004,
                    5.300000000000004,
                    5.300000000000004,
                    5.300000000000004,
                    5.300000000000004,
                    5.300000000000004,
                    5.300000000000004,
                    5.400000000000004,
                    5.400000000000004,
                    5.400000000000004,
                    5.400000000000004,
                    5.400000000000004,
                    5.400000000000004,
                    5.400000000000004,
                    5.400000000000004,
                    5.400000000000004,
                    5.400000000000004,
                    5.5000000000000036,
                    5.5000000000000036,
                    5.5000000000000036,
                    5.5000000000000036,
                    5.5000000000000036,
                    5.5000000000000036,
                    5.5000000000000036,
                    5.5000000000000036,
                    5.5000000000000036,
                    5.5000000000000036,
                    5.600000000000004,
                    5.600000000000004,
                    5.600000000000004,
                    5.600000000000004,
                    5.600000000000004,
                    5.600000000000004,
                    5.600000000000004,
                    5.600000000000004,
                    5.600000000000004,
                    5.600000000000004,
                    5.700000000000005,
                    5.700000000000005,
                    5.700000000000005,
                    5.700000000000005,
                    5.700000000000005,
                    5.700000000000005,
                    5.700000000000005,
                    5.700000000000005,
                    5.700000000000005,
                    5.700000000000005,
                    5.800000000000004,
                    5.800000000000004,
                    5.800000000000004,
                    5.800000000000004,
                    5.800000000000004,
                    5.800000000000004,
                    5.800000000000004,
                    5.800000000000004,
                    5.800000000000004,
                    5.800000000000004,
                    5.900000000000004,
                    5.900000000000004,
                    5.900000000000004,
                    5.900000000000004,
                    5.900000000000004,
                    5.900000000000004,
                    5.900000000000004,
                    5.900000000000004,
                    5.900000000000004,
                    5.900000000000004,
                    6.000000000000004,
                    6.000000000000004,
                    6.000000000000004,
                    6.000000000000004,
                    6.000000000000004,
                    6.000000000000004,
                    6.000000000000004,
                    6.000000000000004,
                    6.000000000000004,
                    6.000000000000004,
                    6.100000000000005,
                    6.100000000000005,
                    6.100000000000005,
                    6.100000000000005,
                    6.100000000000005,
                    6.100000000000005,
                    6.100000000000005,
                    6.100000000000005,
                    6.100000000000005,
                    6.100000000000005,
                    6.200000000000005,
                    6.200000000000005,
                    6.200000000000005,
                    6.200000000000005,
                    6.200000000000005,
                    6.200000000000005,
                    6.200000000000005,
                    6.200000000000005,
                    6.200000000000005,
                    6.200000000000005,
                    6.300000000000004,
                    6.300000000000004,
                    6.300000000000004,
                    6.300000000000004,
                    6.300000000000004,
                    6.300000000000004,
                    6.300000000000004,
                    6.300000000000004,
                    6.300000000000004,
                    6.300000000000004,
                    6.400000000000005,
                    6.400000000000005,
                    6.400000000000005,
                    6.400000000000005,
                    6.400000000000005,
                    6.400000000000005,
                    6.400000000000005,
                    6.400000000000005,
                    6.400000000000005,
                    6.400000000000005,
                    6.500000000000005,
                    6.500000000000005,
                    6.500000000000005,
                    6.500000000000005,
                    6.500000000000005,
                    6.500000000000005,
                    6.500000000000005,
                    6.500000000000005,
                    6.500000000000005,
                    6.500000000000005,
                    6.600000000000005,
                    6.600000000000005,
                    6.600000000000005,
                    6.600000000000005,
                    6.600000000000005,
                    6.600000000000005,
                    6.600000000000005,
                    6.600000000000005,
                    6.600000000000005,
                    6.600000000000005,
                    6.700000000000005,
                    6.700000000000005,
                    6.700000000000005,
                    6.700000000000005,
                    6.700000000000005,
                    6.700000000000005,
                    6.700000000000005,
                    6.700000000000005,
                    6.700000000000005,
                    6.700000000000005,
                    6.800000000000005,
                    6.800000000000005,
                    6.800000000000005,
                    6.800000000000005,
                    6.800000000000005,
                    6.800000000000005,
                    6.800000000000005,
                    6.800000000000005,
                    6.800000000000005,
                    6.800000000000005,
                    6.900000000000006,
                    6.900000000000006,
                    6.900000000000006,
                    6.900000000000006,
                    6.900000000000006,
                    6.900000000000006,
                    6.900000000000006,
                    6.900000000000006,
                    6.900000000000006,
                    6.900000000000006,
                    7.000000000000005,
                    7.000000000000005,
                    7.000000000000005,
                    7.000000000000005,
                    7.000000000000005,
                    7.000000000000005,
                    7.000000000000005,
                    7.000000000000005,
                    7.000000000000005,
                    7.000000000000005,
                    7.100000000000005,
                    7.100000000000005,
                    7.100000000000005,
                    7.100000000000005,
                    7.100000000000005,
                    7.100000000000005,
                    7.100000000000005,
                    7.100000000000005,
                    7.100000000000005,
                    7.100000000000005,
                    7.2000000000000055,
                    7.2000000000000055,
                    7.2000000000000055,
                    7.2000000000000055,
                    7.2000000000000055,
                    7.2000000000000055,
                    7.2000000000000055,
                    7.2000000000000055,
                    7.2000000000000055,
                    7.2000000000000055,
                    7.300000000000006,
                    7.300000000000006,
                    7.300000000000006,
                    7.300000000000006,
                    7.300000000000006,
                    7.300000000000006,
                    7.300000000000006,
                    7.300000000000006,
                    7.300000000000006,
                    7.300000000000006,
                    7.400000000000006,
                    7.400000000000006,
                    7.400000000000006,
                    7.400000000000006,
                    7.400000000000006,
                    7.400000000000006,
                    7.400000000000006,
                    7.400000000000006,
                    7.400000000000006,
                    7.400000000000006,
                    7.500000000000005,
                    7.500000000000005,
                    7.500000000000005,
                    7.500000000000005,
                    7.500000000000005,
                    7.500000000000005,
                    7.500000000000005,
                    7.500000000000005,
                    7.500000000000005,
                    7.500000000000005,
                    7.600000000000006,
                    7.600000000000006,
                    7.600000000000006,
                    7.600000000000006,
                    7.600000000000006,
                    7.600000000000006,
                    7.600000000000006,
                    7.600000000000006,
                    7.600000000000006,
                    7.600000000000006,
                    7.700000000000006,
                    7.700000000000006,
                    7.700000000000006,
                    7.700000000000006,
                    7.700000000000006,
                    7.700000000000006,
                    7.700000000000006,
                    7.700000000000006,
                    7.700000000000006,
                    7.700000000000006,
                    7.800000000000006,
                    7.800000000000006,
                    7.800000000000006,
                    7.800000000000006,
                    7.800000000000006,
                    7.800000000000006,
                    7.800000000000006,
                    7.800000000000006,
                    7.800000000000006,
                    7.800000000000006,
                    7.900000000000006,
                    7.900000000000006,
                    7.900000000000006,
                    7.900000000000006,
                    7.900000000000006,
                    7.900000000000006,
                    7.900000000000006,
                    7.900000000000006,
                    7.900000000000006,
                    7.900000000000006,
                    8.000000000000007,
                    8.000000000000007,
                    8.000000000000007,
                    8.000000000000007,
                    8.000000000000007,
                    8.000000000000007,
                    8.000000000000007,
                    8.000000000000007,
                    8.000000000000007,
                    8.000000000000007
                  ],
                  "y": [
                    30,
                    30,
                    60,
                    60,
                    90,
                    90,
                    120,
                    120,
                    150,
                    150,
                    30,
                    30,
                    60,
                    60,
                    90,
                    90,
                    120,
                    120,
                    150,
                    150,
                    30,
                    30,
                    60,
                    60,
                    90,
                    90,
                    120,
                    120,
                    150,
                    150,
                    30,
                    30,
                    60,
                    60,
                    90,
                    90,
                    120,
                    120,
                    150,
                    150,
                    30,
                    30,
                    60,
                    60,
                    90,
                    90,
                    120,
                    120,
                    150,
                    150,
                    30,
                    30,
                    60,
                    60,
                    90,
                    90,
                    120,
                    120,
                    150,
                    150,
                    30,
                    30,
                    60,
                    60,
                    90,
                    90,
                    120,
                    120,
                    150,
                    150,
                    30,
                    30,
                    60,
                    60,
                    90,
                    90,
                    120,
                    120,
                    150,
                    150,
                    30,
                    30,
                    60,
                    60,
                    90,
                    90,
                    120,
                    120,
                    150,
                    150,
                    30,
                    30,
                    60,
                    60,
                    90,
                    90,
                    120,
                    120,
                    150,
                    150,
                    30,
                    30,
                    60,
                    60,
                    90,
                    90,
                    120,
                    120,
                    150,
                    150,
                    30,
                    30,
                    60,
                    60,
                    90,
                    90,
                    120,
                    120,
                    150,
                    150,
                    30,
                    30,
                    60,
                    60,
                    90,
                    90,
                    120,
                    120,
                    150,
                    150,
                    30,
                    30,
                    60,
                    60,
                    90,
                    90,
                    120,
                    120,
                    150,
                    150,
                    30,
                    30,
                    60,
                    60,
                    90,
                    90,
                    120,
                    120,
                    150,
                    150,
                    30,
                    30,
                    60,
                    60,
                    90,
                    90,
                    120,
                    120,
                    150,
                    150,
                    30,
                    30,
                    60,
                    60,
                    90,
                    90,
                    120,
                    120,
                    150,
                    150,
                    30,
                    30,
                    60,
                    60,
                    90,
                    90,
                    120,
                    120,
                    150,
                    150,
                    30,
                    30,
                    60,
                    60,
                    90,
                    90,
                    120,
                    120,
                    150,
                    150,
                    30,
                    30,
                    60,
                    60,
                    90,
                    90,
                    120,
                    120,
                    150,
                    150,
                    30,
                    30,
                    60,
                    60,
                    90,
                    90,
                    120,
                    120,
                    150,
                    150,
                    30,
                    30,
                    60,
                    60,
                    90,
                    90,
                    120,
                    120,
                    150,
                    150,
                    30,
                    30,
                    60,
                    60,
                    90,
                    90,
                    120,
                    120,
                    150,
                    150,
                    30,
                    30,
                    60,
                    60,
                    90,
                    90,
                    120,
                    120,
                    150,
                    150,
                    30,
                    30,
                    60,
                    60,
                    90,
                    90,
                    120,
                    120,
                    150,
                    150,
                    30,
                    30,
                    60,
                    60,
                    90,
                    90,
                    120,
                    120,
                    150,
                    150,
                    30,
                    30,
                    60,
                    60,
                    90,
                    90,
                    120,
                    120,
                    150,
                    150,
                    30,
                    30,
                    60,
                    60,
                    90,
                    90,
                    120,
                    120,
                    150,
                    150,
                    30,
                    30,
                    60,
                    60,
                    90,
                    90,
                    120,
                    120,
                    150,
                    150,
                    30,
                    30,
                    60,
                    60,
                    90,
                    90,
                    120,
                    120,
                    150,
                    150,
                    30,
                    30,
                    60,
                    60,
                    90,
                    90,
                    120,
                    120,
                    150,
                    150,
                    30,
                    30,
                    60,
                    60,
                    90,
                    90,
                    120,
                    120,
                    150,
                    150,
                    30,
                    30,
                    60,
                    60,
                    90,
                    90,
                    120,
                    120,
                    150,
                    150,
                    30,
                    30,
                    60,
                    60,
                    90,
                    90,
                    120,
                    120,
                    150,
                    150,
                    30,
                    30,
                    60,
                    60,
                    90,
                    90,
                    120,
                    120,
                    150,
                    150,
                    30,
                    30,
                    60,
                    60,
                    90,
                    90,
                    120,
                    120,
                    150,
                    150,
                    30,
                    30,
                    60,
                    60,
                    90,
                    90,
                    120,
                    120,
                    150,
                    150,
                    30,
                    30,
                    60,
                    60,
                    90,
                    90,
                    120,
                    120,
                    150,
                    150,
                    30,
                    30,
                    60,
                    60,
                    90,
                    90,
                    120,
                    120,
                    150,
                    150,
                    30,
                    30,
                    60,
                    60,
                    90,
                    90,
                    120,
                    120,
                    150,
                    150,
                    30,
                    30,
                    60,
                    60,
                    90,
                    90,
                    120,
                    120,
                    150,
                    150,
                    30,
                    30,
                    60,
                    60,
                    90,
                    90,
                    120,
                    120,
                    150,
                    150,
                    30,
                    30,
                    60,
                    60,
                    90,
                    90,
                    120,
                    120,
                    150,
                    150,
                    30,
                    30,
                    60,
                    60,
                    90,
                    90,
                    120,
                    120,
                    150,
                    150,
                    30,
                    30,
                    60,
                    60,
                    90,
                    90,
                    120,
                    120,
                    150,
                    150,
                    30,
                    30,
                    60,
                    60,
                    90,
                    90,
                    120,
                    120,
                    150,
                    150,
                    30,
                    30,
                    60,
                    60,
                    90,
                    90,
                    120,
                    120,
                    150,
                    150,
                    30,
                    30,
                    60,
                    60,
                    90,
                    90,
                    120,
                    120,
                    150,
                    150,
                    30,
                    30,
                    60,
                    60,
                    90,
                    90,
                    120,
                    120,
                    150,
                    150,
                    30,
                    30,
                    60,
                    60,
                    90,
                    90,
                    120,
                    120,
                    150,
                    150,
                    30,
                    30,
                    60,
                    60,
                    90,
                    90,
                    120,
                    120,
                    150,
                    150,
                    30,
                    30,
                    60,
                    60,
                    90,
                    90,
                    120,
                    120,
                    150,
                    150,
                    30,
                    30,
                    60,
                    60,
                    90,
                    90,
                    120,
                    120,
                    150,
                    150,
                    30,
                    30,
                    60,
                    60,
                    90,
                    90,
                    120,
                    120,
                    150,
                    150,
                    30,
                    30,
                    60,
                    60,
                    90,
                    90,
                    120,
                    120,
                    150,
                    150,
                    30,
                    30,
                    60,
                    60,
                    90,
                    90,
                    120,
                    120,
                    150,
                    150,
                    30,
                    30,
                    60,
                    60,
                    90,
                    90,
                    120,
                    120,
                    150,
                    150,
                    30,
                    30,
                    60,
                    60,
                    90,
                    90,
                    120,
                    120,
                    150,
                    150,
                    30,
                    30,
                    60,
                    60,
                    90,
                    90,
                    120,
                    120,
                    150,
                    150,
                    30,
                    30,
                    60,
                    60,
                    90,
                    90,
                    120,
                    120,
                    150,
                    150,
                    30,
                    30,
                    60,
                    60,
                    90,
                    90,
                    120,
                    120,
                    150,
                    150,
                    30,
                    30,
                    60,
                    60,
                    90,
                    90,
                    120,
                    120,
                    150,
                    150,
                    30,
                    30,
                    60,
                    60,
                    90,
                    90,
                    120,
                    120,
                    150,
                    150,
                    30,
                    30,
                    60,
                    60,
                    90,
                    90,
                    120,
                    120,
                    150,
                    150,
                    30,
                    30,
                    60,
                    60,
                    90,
                    90,
                    120,
                    120,
                    150,
                    150,
                    30,
                    30,
                    60,
                    60,
                    90,
                    90,
                    120,
                    120,
                    150,
                    150,
                    30,
                    30,
                    60,
                    60,
                    90,
                    90,
                    120,
                    120,
                    150,
                    150,
                    30,
                    30,
                    60,
                    60,
                    90,
                    90,
                    120,
                    120,
                    150,
                    150,
                    30,
                    30,
                    60,
                    60,
                    90,
                    90,
                    120,
                    120,
                    150,
                    150,
                    30,
                    30,
                    60,
                    60,
                    90,
                    90,
                    120,
                    120,
                    150,
                    150,
                    30,
                    30,
                    60,
                    60,
                    90,
                    90,
                    120,
                    120,
                    150,
                    150
                  ],
                  "z": [
                    90,
                    180,
                    90,
                    180,
                    90,
                    180,
                    90,
                    180,
                    90,
                    180,
                    90,
                    180,
                    90,
                    180,
                    90,
                    180,
                    90,
                    180,
                    90,
                    180,
                    90,
                    180,
                    90,
                    180,
                    90,
                    180,
                    90,
                    180,
                    90,
                    180,
                    90,
                    180,
                    90,
                    180,
                    90,
                    180,
                    90,
                    180,
                    90,
                    180,
                    90,
                    180,
                    90,
                    180,
                    90,
                    180,
                    90,
                    180,
                    90,
                    180,
                    90,
                    180,
                    90,
                    180,
                    90,
                    180,
                    90,
                    180,
                    90,
                    180,
                    90,
                    180,
                    90,
                    180,
                    90,
                    180,
                    90,
                    180,
                    90,
                    180,
                    90,
                    180,
                    90,
                    180,
                    90,
                    180,
                    90,
                    180,
                    90,
                    180,
                    90,
                    180,
                    90,
                    180,
                    90,
                    180,
                    90,
                    180,
                    90,
                    180,
                    90,
                    180,
                    90,
                    180,
                    90,
                    180,
                    90,
                    180,
                    90,
                    180,
                    90,
                    180,
                    90,
                    180,
                    90,
                    180,
                    90,
                    180,
                    90,
                    180,
                    90,
                    180,
                    90,
                    180,
                    90,
                    180,
                    90,
                    180,
                    90,
                    180,
                    90,
                    180,
                    90,
                    180,
                    90,
                    180,
                    90,
                    180,
                    90,
                    180,
                    90,
                    180,
                    90,
                    180,
                    90,
                    180,
                    90,
                    180,
                    90,
                    180,
                    90,
                    180,
                    90,
                    180,
                    90,
                    180,
                    90,
                    180,
                    90,
                    180,
                    90,
                    180,
                    90,
                    180,
                    90,
                    180,
                    90,
                    180,
                    90,
                    180,
                    90,
                    180,
                    90,
                    180,
                    90,
                    180,
                    90,
                    180,
                    90,
                    180,
                    90,
                    180,
                    90,
                    180,
                    90,
                    180,
                    90,
                    180,
                    90,
                    180,
                    90,
                    180,
                    90,
                    180,
                    90,
                    180,
                    90,
                    180,
                    90,
                    180,
                    90,
                    180,
                    90,
                    180,
                    90,
                    180,
                    90,
                    180,
                    90,
                    180,
                    90,
                    180,
                    90,
                    180,
                    90,
                    180,
                    90,
                    180,
                    90,
                    180,
                    90,
                    180,
                    90,
                    180,
                    90,
                    180,
                    90,
                    180,
                    90,
                    180,
                    90,
                    180,
                    90,
                    180,
                    90,
                    180,
                    90,
                    180,
                    90,
                    180,
                    90,
                    180,
                    90,
                    180,
                    90,
                    180,
                    90,
                    180,
                    90,
                    180,
                    90,
                    180,
                    90,
                    180,
                    90,
                    180,
                    90,
                    180,
                    90,
                    180,
                    90,
                    180,
                    90,
                    180,
                    90,
                    180,
                    90,
                    180,
                    90,
                    180,
                    90,
                    180,
                    90,
                    180,
                    90,
                    180,
                    90,
                    180,
                    90,
                    180,
                    90,
                    180,
                    90,
                    180,
                    90,
                    180,
                    90,
                    180,
                    90,
                    180,
                    90,
                    180,
                    90,
                    180,
                    90,
                    180,
                    90,
                    180,
                    90,
                    180,
                    90,
                    180,
                    90,
                    180,
                    90,
                    180,
                    90,
                    180,
                    90,
                    180,
                    90,
                    180,
                    90,
                    180,
                    90,
                    180,
                    90,
                    180,
                    90,
                    180,
                    90,
                    180,
                    90,
                    180,
                    90,
                    180,
                    90,
                    180,
                    90,
                    180,
                    90,
                    180,
                    90,
                    180,
                    90,
                    180,
                    90,
                    180,
                    90,
                    180,
                    90,
                    180,
                    90,
                    180,
                    90,
                    180,
                    90,
                    180,
                    90,
                    180,
                    90,
                    180,
                    90,
                    180,
                    90,
                    180,
                    90,
                    180,
                    90,
                    180,
                    90,
                    180,
                    90,
                    180,
                    90,
                    180,
                    90,
                    180,
                    90,
                    180,
                    90,
                    180,
                    90,
                    180,
                    90,
                    180,
                    90,
                    180,
                    90,
                    180,
                    90,
                    180,
                    90,
                    180,
                    90,
                    180,
                    90,
                    180,
                    90,
                    180,
                    90,
                    180,
                    90,
                    180,
                    90,
                    180,
                    90,
                    180,
                    90,
                    180,
                    90,
                    180,
                    90,
                    180,
                    90,
                    180,
                    90,
                    180,
                    90,
                    180,
                    90,
                    180,
                    90,
                    180,
                    90,
                    180,
                    90,
                    180,
                    90,
                    180,
                    90,
                    180,
                    90,
                    180,
                    90,
                    180,
                    90,
                    180,
                    90,
                    180,
                    90,
                    180,
                    90,
                    180,
                    90,
                    180,
                    90,
                    180,
                    90,
                    180,
                    90,
                    180,
                    90,
                    180,
                    90,
                    180,
                    90,
                    180,
                    90,
                    180,
                    90,
                    180,
                    90,
                    180,
                    90,
                    180,
                    90,
                    180,
                    90,
                    180,
                    90,
                    180,
                    90,
                    180,
                    90,
                    180,
                    90,
                    180,
                    90,
                    180,
                    90,
                    180,
                    90,
                    180,
                    90,
                    180,
                    90,
                    180,
                    90,
                    180,
                    90,
                    180,
                    90,
                    180,
                    90,
                    180,
                    90,
                    180,
                    90,
                    180,
                    90,
                    180,
                    90,
                    180,
                    90,
                    180,
                    90,
                    180,
                    90,
                    180,
                    90,
                    180,
                    90,
                    180,
                    90,
                    180,
                    90,
                    180,
                    90,
                    180,
                    90,
                    180,
                    90,
                    180,
                    90,
                    180,
                    90,
                    180,
                    90,
                    180,
                    90,
                    180,
                    90,
                    180,
                    90,
                    180,
                    90,
                    180,
                    90,
                    180,
                    90,
                    180,
                    90,
                    180,
                    90,
                    180,
                    90,
                    180,
                    90,
                    180,
                    90,
                    180,
                    90,
                    180,
                    90,
                    180,
                    90,
                    180,
                    90,
                    180,
                    90,
                    180,
                    90,
                    180,
                    90,
                    180,
                    90,
                    180,
                    90,
                    180,
                    90,
                    180,
                    90,
                    180,
                    90,
                    180,
                    90,
                    180,
                    90,
                    180,
                    90,
                    180,
                    90,
                    180,
                    90,
                    180,
                    90,
                    180,
                    90,
                    180,
                    90,
                    180,
                    90,
                    180,
                    90,
                    180,
                    90,
                    180,
                    90,
                    180,
                    90,
                    180,
                    90,
                    180,
                    90,
                    180,
                    90,
                    180,
                    90,
                    180,
                    90,
                    180,
                    90,
                    180,
                    90,
                    180,
                    90,
                    180,
                    90,
                    180,
                    90,
                    180,
                    90,
                    180,
                    90,
                    180,
                    90,
                    180,
                    90,
                    180,
                    90,
                    180,
                    90,
                    180,
                    90,
                    180,
                    90,
                    180,
                    90,
                    180,
                    90,
                    180,
                    90,
                    180,
                    90,
                    180,
                    90,
                    180,
                    90,
                    180,
                    90,
                    180,
                    90,
                    180,
                    90,
                    180,
                    90,
                    180,
                    90,
                    180,
                    90,
                    180,
                    90,
                    180,
                    90,
                    180,
                    90,
                    180,
                    90,
                    180,
                    90,
                    180,
                    90,
                    180,
                    90,
                    180,
                    90,
                    180,
                    90,
                    180,
                    90,
                    180,
                    90,
                    180,
                    90,
                    180,
                    90,
                    180,
                    90,
                    180,
                    90,
                    180,
                    90,
                    180,
                    90,
                    180,
                    90,
                    180,
                    90,
                    180,
                    90,
                    180,
                    90,
                    180,
                    90,
                    180,
                    90,
                    180,
                    90,
                    180,
                    90,
                    180,
                    90,
                    180,
                    90,
                    180,
                    90,
                    180,
                    90,
                    180,
                    90,
                    180,
                    90,
                    180,
                    90,
                    180,
                    90,
                    180,
                    90,
                    180
                  ]
                }
              ],
              "layout": {
                "template": {
                  "data": {
                    "bar": [
                      {
                        "error_x": {
                          "color": "#2a3f5f"
                        },
                        "error_y": {
                          "color": "#2a3f5f"
                        },
                        "marker": {
                          "line": {
                            "color": "#E5ECF6",
                            "width": 0.5
                          },
                          "pattern": {
                            "fillmode": "overlay",
                            "size": 10,
                            "solidity": 0.2
                          }
                        },
                        "type": "bar"
                      }
                    ],
                    "barpolar": [
                      {
                        "marker": {
                          "line": {
                            "color": "#E5ECF6",
                            "width": 0.5
                          },
                          "pattern": {
                            "fillmode": "overlay",
                            "size": 10,
                            "solidity": 0.2
                          }
                        },
                        "type": "barpolar"
                      }
                    ],
                    "carpet": [
                      {
                        "aaxis": {
                          "endlinecolor": "#2a3f5f",
                          "gridcolor": "white",
                          "linecolor": "white",
                          "minorgridcolor": "white",
                          "startlinecolor": "#2a3f5f"
                        },
                        "baxis": {
                          "endlinecolor": "#2a3f5f",
                          "gridcolor": "white",
                          "linecolor": "white",
                          "minorgridcolor": "white",
                          "startlinecolor": "#2a3f5f"
                        },
                        "type": "carpet"
                      }
                    ],
                    "choropleth": [
                      {
                        "colorbar": {
                          "outlinewidth": 0,
                          "ticks": ""
                        },
                        "type": "choropleth"
                      }
                    ],
                    "contour": [
                      {
                        "colorbar": {
                          "outlinewidth": 0,
                          "ticks": ""
                        },
                        "colorscale": [
                          [
                            0,
                            "#0d0887"
                          ],
                          [
                            0.1111111111111111,
                            "#46039f"
                          ],
                          [
                            0.2222222222222222,
                            "#7201a8"
                          ],
                          [
                            0.3333333333333333,
                            "#9c179e"
                          ],
                          [
                            0.4444444444444444,
                            "#bd3786"
                          ],
                          [
                            0.5555555555555556,
                            "#d8576b"
                          ],
                          [
                            0.6666666666666666,
                            "#ed7953"
                          ],
                          [
                            0.7777777777777778,
                            "#fb9f3a"
                          ],
                          [
                            0.8888888888888888,
                            "#fdca26"
                          ],
                          [
                            1,
                            "#f0f921"
                          ]
                        ],
                        "type": "contour"
                      }
                    ],
                    "contourcarpet": [
                      {
                        "colorbar": {
                          "outlinewidth": 0,
                          "ticks": ""
                        },
                        "type": "contourcarpet"
                      }
                    ],
                    "heatmap": [
                      {
                        "colorbar": {
                          "outlinewidth": 0,
                          "ticks": ""
                        },
                        "colorscale": [
                          [
                            0,
                            "#0d0887"
                          ],
                          [
                            0.1111111111111111,
                            "#46039f"
                          ],
                          [
                            0.2222222222222222,
                            "#7201a8"
                          ],
                          [
                            0.3333333333333333,
                            "#9c179e"
                          ],
                          [
                            0.4444444444444444,
                            "#bd3786"
                          ],
                          [
                            0.5555555555555556,
                            "#d8576b"
                          ],
                          [
                            0.6666666666666666,
                            "#ed7953"
                          ],
                          [
                            0.7777777777777778,
                            "#fb9f3a"
                          ],
                          [
                            0.8888888888888888,
                            "#fdca26"
                          ],
                          [
                            1,
                            "#f0f921"
                          ]
                        ],
                        "type": "heatmap"
                      }
                    ],
                    "heatmapgl": [
                      {
                        "colorbar": {
                          "outlinewidth": 0,
                          "ticks": ""
                        },
                        "colorscale": [
                          [
                            0,
                            "#0d0887"
                          ],
                          [
                            0.1111111111111111,
                            "#46039f"
                          ],
                          [
                            0.2222222222222222,
                            "#7201a8"
                          ],
                          [
                            0.3333333333333333,
                            "#9c179e"
                          ],
                          [
                            0.4444444444444444,
                            "#bd3786"
                          ],
                          [
                            0.5555555555555556,
                            "#d8576b"
                          ],
                          [
                            0.6666666666666666,
                            "#ed7953"
                          ],
                          [
                            0.7777777777777778,
                            "#fb9f3a"
                          ],
                          [
                            0.8888888888888888,
                            "#fdca26"
                          ],
                          [
                            1,
                            "#f0f921"
                          ]
                        ],
                        "type": "heatmapgl"
                      }
                    ],
                    "histogram": [
                      {
                        "marker": {
                          "pattern": {
                            "fillmode": "overlay",
                            "size": 10,
                            "solidity": 0.2
                          }
                        },
                        "type": "histogram"
                      }
                    ],
                    "histogram2d": [
                      {
                        "colorbar": {
                          "outlinewidth": 0,
                          "ticks": ""
                        },
                        "colorscale": [
                          [
                            0,
                            "#0d0887"
                          ],
                          [
                            0.1111111111111111,
                            "#46039f"
                          ],
                          [
                            0.2222222222222222,
                            "#7201a8"
                          ],
                          [
                            0.3333333333333333,
                            "#9c179e"
                          ],
                          [
                            0.4444444444444444,
                            "#bd3786"
                          ],
                          [
                            0.5555555555555556,
                            "#d8576b"
                          ],
                          [
                            0.6666666666666666,
                            "#ed7953"
                          ],
                          [
                            0.7777777777777778,
                            "#fb9f3a"
                          ],
                          [
                            0.8888888888888888,
                            "#fdca26"
                          ],
                          [
                            1,
                            "#f0f921"
                          ]
                        ],
                        "type": "histogram2d"
                      }
                    ],
                    "histogram2dcontour": [
                      {
                        "colorbar": {
                          "outlinewidth": 0,
                          "ticks": ""
                        },
                        "colorscale": [
                          [
                            0,
                            "#0d0887"
                          ],
                          [
                            0.1111111111111111,
                            "#46039f"
                          ],
                          [
                            0.2222222222222222,
                            "#7201a8"
                          ],
                          [
                            0.3333333333333333,
                            "#9c179e"
                          ],
                          [
                            0.4444444444444444,
                            "#bd3786"
                          ],
                          [
                            0.5555555555555556,
                            "#d8576b"
                          ],
                          [
                            0.6666666666666666,
                            "#ed7953"
                          ],
                          [
                            0.7777777777777778,
                            "#fb9f3a"
                          ],
                          [
                            0.8888888888888888,
                            "#fdca26"
                          ],
                          [
                            1,
                            "#f0f921"
                          ]
                        ],
                        "type": "histogram2dcontour"
                      }
                    ],
                    "mesh3d": [
                      {
                        "colorbar": {
                          "outlinewidth": 0,
                          "ticks": ""
                        },
                        "type": "mesh3d"
                      }
                    ],
                    "parcoords": [
                      {
                        "line": {
                          "colorbar": {
                            "outlinewidth": 0,
                            "ticks": ""
                          }
                        },
                        "type": "parcoords"
                      }
                    ],
                    "pie": [
                      {
                        "automargin": true,
                        "type": "pie"
                      }
                    ],
                    "scatter": [
                      {
                        "fillpattern": {
                          "fillmode": "overlay",
                          "size": 10,
                          "solidity": 0.2
                        },
                        "type": "scatter"
                      }
                    ],
                    "scatter3d": [
                      {
                        "line": {
                          "colorbar": {
                            "outlinewidth": 0,
                            "ticks": ""
                          }
                        },
                        "marker": {
                          "colorbar": {
                            "outlinewidth": 0,
                            "ticks": ""
                          }
                        },
                        "type": "scatter3d"
                      }
                    ],
                    "scattercarpet": [
                      {
                        "marker": {
                          "colorbar": {
                            "outlinewidth": 0,
                            "ticks": ""
                          }
                        },
                        "type": "scattercarpet"
                      }
                    ],
                    "scattergeo": [
                      {
                        "marker": {
                          "colorbar": {
                            "outlinewidth": 0,
                            "ticks": ""
                          }
                        },
                        "type": "scattergeo"
                      }
                    ],
                    "scattergl": [
                      {
                        "marker": {
                          "colorbar": {
                            "outlinewidth": 0,
                            "ticks": ""
                          }
                        },
                        "type": "scattergl"
                      }
                    ],
                    "scattermapbox": [
                      {
                        "marker": {
                          "colorbar": {
                            "outlinewidth": 0,
                            "ticks": ""
                          }
                        },
                        "type": "scattermapbox"
                      }
                    ],
                    "scatterpolar": [
                      {
                        "marker": {
                          "colorbar": {
                            "outlinewidth": 0,
                            "ticks": ""
                          }
                        },
                        "type": "scatterpolar"
                      }
                    ],
                    "scatterpolargl": [
                      {
                        "marker": {
                          "colorbar": {
                            "outlinewidth": 0,
                            "ticks": ""
                          }
                        },
                        "type": "scatterpolargl"
                      }
                    ],
                    "scatterternary": [
                      {
                        "marker": {
                          "colorbar": {
                            "outlinewidth": 0,
                            "ticks": ""
                          }
                        },
                        "type": "scatterternary"
                      }
                    ],
                    "surface": [
                      {
                        "colorbar": {
                          "outlinewidth": 0,
                          "ticks": ""
                        },
                        "colorscale": [
                          [
                            0,
                            "#0d0887"
                          ],
                          [
                            0.1111111111111111,
                            "#46039f"
                          ],
                          [
                            0.2222222222222222,
                            "#7201a8"
                          ],
                          [
                            0.3333333333333333,
                            "#9c179e"
                          ],
                          [
                            0.4444444444444444,
                            "#bd3786"
                          ],
                          [
                            0.5555555555555556,
                            "#d8576b"
                          ],
                          [
                            0.6666666666666666,
                            "#ed7953"
                          ],
                          [
                            0.7777777777777778,
                            "#fb9f3a"
                          ],
                          [
                            0.8888888888888888,
                            "#fdca26"
                          ],
                          [
                            1,
                            "#f0f921"
                          ]
                        ],
                        "type": "surface"
                      }
                    ],
                    "table": [
                      {
                        "cells": {
                          "fill": {
                            "color": "#EBF0F8"
                          },
                          "line": {
                            "color": "white"
                          }
                        },
                        "header": {
                          "fill": {
                            "color": "#C8D4E3"
                          },
                          "line": {
                            "color": "white"
                          }
                        },
                        "type": "table"
                      }
                    ]
                  },
                  "layout": {
                    "annotationdefaults": {
                      "arrowcolor": "#2a3f5f",
                      "arrowhead": 0,
                      "arrowwidth": 1
                    },
                    "autotypenumbers": "strict",
                    "coloraxis": {
                      "colorbar": {
                        "outlinewidth": 0,
                        "ticks": ""
                      }
                    },
                    "colorscale": {
                      "diverging": [
                        [
                          0,
                          "#8e0152"
                        ],
                        [
                          0.1,
                          "#c51b7d"
                        ],
                        [
                          0.2,
                          "#de77ae"
                        ],
                        [
                          0.3,
                          "#f1b6da"
                        ],
                        [
                          0.4,
                          "#fde0ef"
                        ],
                        [
                          0.5,
                          "#f7f7f7"
                        ],
                        [
                          0.6,
                          "#e6f5d0"
                        ],
                        [
                          0.7,
                          "#b8e186"
                        ],
                        [
                          0.8,
                          "#7fbc41"
                        ],
                        [
                          0.9,
                          "#4d9221"
                        ],
                        [
                          1,
                          "#276419"
                        ]
                      ],
                      "sequential": [
                        [
                          0,
                          "#0d0887"
                        ],
                        [
                          0.1111111111111111,
                          "#46039f"
                        ],
                        [
                          0.2222222222222222,
                          "#7201a8"
                        ],
                        [
                          0.3333333333333333,
                          "#9c179e"
                        ],
                        [
                          0.4444444444444444,
                          "#bd3786"
                        ],
                        [
                          0.5555555555555556,
                          "#d8576b"
                        ],
                        [
                          0.6666666666666666,
                          "#ed7953"
                        ],
                        [
                          0.7777777777777778,
                          "#fb9f3a"
                        ],
                        [
                          0.8888888888888888,
                          "#fdca26"
                        ],
                        [
                          1,
                          "#f0f921"
                        ]
                      ],
                      "sequentialminus": [
                        [
                          0,
                          "#0d0887"
                        ],
                        [
                          0.1111111111111111,
                          "#46039f"
                        ],
                        [
                          0.2222222222222222,
                          "#7201a8"
                        ],
                        [
                          0.3333333333333333,
                          "#9c179e"
                        ],
                        [
                          0.4444444444444444,
                          "#bd3786"
                        ],
                        [
                          0.5555555555555556,
                          "#d8576b"
                        ],
                        [
                          0.6666666666666666,
                          "#ed7953"
                        ],
                        [
                          0.7777777777777778,
                          "#fb9f3a"
                        ],
                        [
                          0.8888888888888888,
                          "#fdca26"
                        ],
                        [
                          1,
                          "#f0f921"
                        ]
                      ]
                    },
                    "colorway": [
                      "#636efa",
                      "#EF553B",
                      "#00cc96",
                      "#ab63fa",
                      "#FFA15A",
                      "#19d3f3",
                      "#FF6692",
                      "#B6E880",
                      "#FF97FF",
                      "#FECB52"
                    ],
                    "font": {
                      "color": "#2a3f5f"
                    },
                    "geo": {
                      "bgcolor": "white",
                      "lakecolor": "white",
                      "landcolor": "#E5ECF6",
                      "showlakes": true,
                      "showland": true,
                      "subunitcolor": "white"
                    },
                    "hoverlabel": {
                      "align": "left"
                    },
                    "hovermode": "closest",
                    "mapbox": {
                      "style": "light"
                    },
                    "paper_bgcolor": "white",
                    "plot_bgcolor": "#E5ECF6",
                    "polar": {
                      "angularaxis": {
                        "gridcolor": "white",
                        "linecolor": "white",
                        "ticks": ""
                      },
                      "bgcolor": "#E5ECF6",
                      "radialaxis": {
                        "gridcolor": "white",
                        "linecolor": "white",
                        "ticks": ""
                      }
                    },
                    "scene": {
                      "xaxis": {
                        "backgroundcolor": "#E5ECF6",
                        "gridcolor": "white",
                        "gridwidth": 2,
                        "linecolor": "white",
                        "showbackground": true,
                        "ticks": "",
                        "zerolinecolor": "white"
                      },
                      "yaxis": {
                        "backgroundcolor": "#E5ECF6",
                        "gridcolor": "white",
                        "gridwidth": 2,
                        "linecolor": "white",
                        "showbackground": true,
                        "ticks": "",
                        "zerolinecolor": "white"
                      },
                      "zaxis": {
                        "backgroundcolor": "#E5ECF6",
                        "gridcolor": "white",
                        "gridwidth": 2,
                        "linecolor": "white",
                        "showbackground": true,
                        "ticks": "",
                        "zerolinecolor": "white"
                      }
                    },
                    "shapedefaults": {
                      "line": {
                        "color": "#2a3f5f"
                      }
                    },
                    "ternary": {
                      "aaxis": {
                        "gridcolor": "white",
                        "linecolor": "white",
                        "ticks": ""
                      },
                      "baxis": {
                        "gridcolor": "white",
                        "linecolor": "white",
                        "ticks": ""
                      },
                      "bgcolor": "#E5ECF6",
                      "caxis": {
                        "gridcolor": "white",
                        "linecolor": "white",
                        "ticks": ""
                      }
                    },
                    "title": {
                      "x": 0.05
                    },
                    "xaxis": {
                      "automargin": true,
                      "gridcolor": "white",
                      "linecolor": "white",
                      "ticks": "",
                      "title": {
                        "standoff": 15
                      },
                      "zerolinecolor": "white",
                      "zerolinewidth": 2
                    },
                    "yaxis": {
                      "automargin": true,
                      "gridcolor": "white",
                      "linecolor": "white",
                      "ticks": "",
                      "title": {
                        "standoff": 15
                      },
                      "zerolinecolor": "white",
                      "zerolinewidth": 2
                    }
                  }
                }
              }
            }
          },
          "metadata": {},
          "output_type": "display_data"
        }
      ],
      "source": [
        "scan = [1052.5793187250965, 656.423715584795, 233.8510784471291, 168.90882854291704, 73.00874735572143, 73.27335763879819, 232.95258585439296, 171.00857365416596, 1002.9795025247149, 658.2115115315537, 843.4087635923061, 577.4552626397344, 184.87849767075386, 137.47082299320027, 52.89115737652173, 53.03688617114676, 184.365075717913, 139.14225280372193, 818.6856113841059, 583.2850641452242, 703.7816258014645, 512.3865972590283, 144.4303996998351, 110.15762189595262, 36.965055292181205, 37.03313024889212, 144.11806286120554, 111.43822820280911, 691.3255205488531, 518.959331292077, 598.6285267636413, 452.37801536137704, 111.35352666844847, 86.81723161664559, 24.56353189382935, 24.58523762220284, 111.14193249371601, 87.76435958384536, 590.7076540954877, 457.0944304752629, 509.84841967816465, 393.84146816510474, 84.5823359003989, 67.1952291407506, 15.078228002646938, 15.07652135414537, 84.42178152885754, 67.87328406691086, 502.521206028061, 395.66696114389924, 429.7214563913876, 337.2462735832087, 63.14594038645737, 50.95993380283471, 7.962401080993004, 7.952506378176622, 63.01569855812704, 51.43140016455436, 421.6112602055655, 336.47194707748713, 355.8526570042013, 284.4530350895948, 46.17283910047263, 37.73293037392432, 2.735978464479558, 2.7262208394822665, 46.06688488234067, 38.05279688735027, 346.9524700702168, 281.90994167589815, 288.6568910814822, 236.80028468795354, 32.89148893416859, 27.118607935437467, -1.0097372531308793, -1.016219227167312, 32.809148225409444, 27.33164212544216, 279.664893308247, 233.2771509005688, 230.14219768159091, 194.8694861616823, 22.626086505013518, 18.727326124324463, -3.611817034019623, -3.615114828804508, 22.567022522969637, 18.86792712431634, 221.9479391266941, 190.99610848509474, 181.6580658876337, 158.8979305670946, 14.791743375128135, 12.192737031378783, -5.341278380190488, -5.342906097474042, 14.75410757609643, 12.285974065947812, 174.74492631625617, 155.13852061360376, 142.61195227963617, 128.61374849895947, 8.890335466421675, 7.182641376974061, -6.412589150480926, -6.414284040336497, 8.870935881568585, 7.246259925421327, 136.98896386031993, 125.18183668743586, 111.40602766885422, 103.24335658061318, 4.507197594968602, 3.4056969303055666, -6.994365559017751, -6.997237923031207, 4.5025313157239, 3.4517787536606193, 106.88657417218201, 100.18036355084041, 86.46139737666817, 81.99497485300526, 1.305720008793287, 0.6135588793549687, -7.218257947824895, -7.222946377296466, 1.3128455808619037, 0.6502746444894001, 82.83854189421982, 79.29943324113265, 66.51025204884354, 64.27949150616769, -0.9818826802074909, -1.400177109928336, -7.186861610040069, -7.193305580178276, -0.9650946634355932, -1.3674497680622153, 63.60751188459108, 61.945723026350606, 50.57121596991783, 49.6415586459334, -2.5663516006898135, -2.804190539813135, -6.978936495084781, -6.986738206644077, -2.541416290565394, -2.77201660675928, 48.24764173314907, 47.65654043410905, 37.879098969337065, 37.68044980004197, -3.6135339735192247, -3.7351850436534733, -6.653794044628739, -6.662482726329472, -3.5817471647751518, -3.701703826605808, 36.02496285707457, 36.0216229907237, 27.829862583137583, 28.024273513117805, -4.25438647554256, -4.303853421995882, -6.255357179092243, -6.264614220068324, -4.217017940129153, -4.268323189171497, 26.359722650668118, 26.66218228894286, 19.9386375573813, 20.32907198468456, -4.592681798909325, -4.599630383076146, -5.815726431377698, -5.825377955508884, -4.551126982201822, -4.562027223000769, 18.784553583653178, 19.230688230891246, 13.808515777229331, 14.282029733003583, -4.710418802511413, -4.6943593038013205, -5.358101096062455, -5.368251516600139, -4.666074790933635, -4.6551865297951736, 12.914710796845611, 13.413141231809277, 9.108581555832643, 9.60223219305044, -4.671668978524394, -4.645033434208017, -4.899372357409447, -4.910098823951557, -4.625933907285798, -4.604929989203811, 8.427913939813152, 8.928851376636885, 5.559484417957719, 6.039674987376202, -4.525995897245593, -4.496016547840554, -4.451698588265572, -4.463161516818218, -4.4799965171841905, -4.455721136939246, 5.0513743803603575, 5.529104185523465, 2.9248790334095247, 3.3747506141662598, -4.31084002397256, -4.281054681283422, -4.023965771659277, -4.036277107428759, -4.265517745283432, -4.24116195453098, 2.5546519373892806, 2.9967548148706555, 1.0071402644971386, 1.4189597942167893, -4.053747808211483, -4.025638202496339, -3.6224266142235138, -3.635626491100993, -4.009835691773333, -3.986677171953488, 0.745319647307042, 1.1468376979464665, -0.3558704061433673, 0.01530807453673333, -3.7751135093858466, -3.748545160982758, -3.2514145633904263, -3.265481984708458, -3.7330577751854435, -3.7109445707756095, -0.5334784025326371, -0.1734819658449851, -1.2941940195159987, -0.9631772924331017, -3.48934415448457, -3.4635804537683725, -2.9136748920427635, -2.928499378147535, -3.449468281818554, -3.4276536822435446, -1.40696306648897, -1.0870007046614774, -1.9101539518451318, -1.6169475752976723, -3.2066754855331965, -3.1807756013586186, -2.6105288192047738, -2.625861314823851, -3.1691495118429884, -3.146694108378142, -1.9736359645030461, -1.6906336786341853, -2.2842801738297567, -2.02533335913904, -2.934137070144061, -2.9072578857885674, -2.341830680379644, -2.3574859694927, -2.899113074876368, -2.8752596413251013, -2.3107885336503386, -2.0608621315914206, -2.479639051191043, -2.2508333051227964, -2.6764165943604894, -2.6480818754062057, -2.1062265427899547, -2.1219016922987066, -2.643922238901723, -2.6182217363384552, -2.479036808188539, -2.2579478909028694, -2.545689329097513, -2.3429879368050024, -2.436387314402964, -2.406483475060668, -1.9011919724289328, -1.9166176476865076, -2.406435164390132, -2.378841670055408, -2.5259710001409985, -2.329673880827613, -2.5211740189697593, -2.3408837617607787, -2.2155747998622246, -2.184380391787272, -1.7232923163101077, -1.7381307056639344, -2.188109143578913, -2.158962836896535, -2.4886761056259274, -2.313616285158787, -2.4360105313244276, -2.2749852079432458, -2.014404856483452, -1.9825291158049367, -1.5685386309633031, -1.5825788310030475, -1.989322887326125, -1.9593209935119376, -2.3956019901670516, -2.238932249834761, -2.312735038169194, -2.168542430677917, -1.8325521866208874, -1.8008095664554276, -1.4328976960969158, -1.4459653807571158, -1.8097688874113373, -1.7796529479091987, -2.268140337371733, -2.127625173481647, -2.1680058379424736, -2.038778024550993, -1.669051376520656, -1.6383135662181303, -1.3126872703433037, -1.324619497929234, -1.6484036385663785, -1.619117539259605, -2.1219695028848946, -1.9959110913332552, -2.0137680441257544, -1.8980401586159132, -1.5226300882641226, -1.493618344713468, -1.204759883810766, -1.2155624423758127, -1.5039040709962137, -1.476208466454409, -1.9681039535207674, -1.8552280452568084, -1.8581108206417412, -1.7548259486211464, -1.3915639583137818, -1.3648773769964464, -1.1068723573116586, -1.1164922949974425, -1.3746290365816094, -1.349068382405676, -1.8141117886989377, -1.713442699285224, -1.7065218420466408, -1.6146584651432931, -1.274212813237682, -1.2500896024284884, -1.0173413378652185, -1.0258621579851024, -1.2588209722889587, -1.235728613450192, -1.664925110701006, -1.5754839555593207, -1.562305568892043, -1.4809024764108472, -1.1687909152242355, -1.1472444251412526, -0.9351851339451969, -0.9426808716962114, -1.15478777338285, -1.1341386589338072, -1.5235089227790013, -1.4443174626794644, -1.4273356584599242, -1.3553868472226895, -1.0737392217270099, -1.054555538459681, -0.8597763784346171, -0.8663725756923668, -1.0609662281931378, -1.0425281304051168, -1.3915776152862236, -1.3215303283650428, -1.302516232826747, -1.2388273293036036, -0.9876574270310812, -0.9704113263287582, -0.7907992959953845, -0.796586652577389, -0.975949264888186, -0.9593867367948405, -1.2697101804660633, -1.2076827321434394, -1.1879224483272992, -1.1313945084111765, -0.9093288070289418, -0.8936170027009211, -0.7279515758855268, -0.733054889307823, -0.8985805184929632, -0.8834758895682171, -1.1579982879338786, -1.1028314237482846, -1.0833059889264405, -1.032747886434663, -0.8378095350926742, -0.8232256298651919, -0.6709502405719832, -0.6754557109088637, -0.8279582406394184, -0.8139032032340765, -1.0560924236779101, -1.0066146096796729, -0.9881207887083292, -0.9424892463721335, -0.772336648311466, -0.7585852317861281, -0.6194664055365138, -0.6234425543807447, -0.7632997541804798, -0.7499750466668047, -0.9633673474309035, -0.9185941330506466, -0.9016983042820357, -0.8600727921002544, -0.7123409596388228, -0.6991640598280355, -0.5730492692091502, -0.5766065879142843, -0.7040454581729136, -0.6912569045671262, -0.8792222114279866, -0.8382413612562232, -0.823318372364156, -0.7850084172096103, -0.6573372460552491, -0.6445942327263765, -0.5312057680566795, -0.5343558536260389, -0.6497237341827713, -0.6373467658413574, -0.8028998749796301, -0.765085999679286, -0.7522892386768945, -0.7167289819917642, -0.6068866266286932, -0.594587218191009, -0.49340902059338987, -0.49623509257799014, -0.5999348524492234, -0.5879258045461029, -0.733773292216938, -0.6986238539102487, -0.6879783679614775, -0.6548450770787895, -0.5606879139668308, -0.5488513834425248, -0.4591526176664047, -0.4616450141184032, -0.5543002996128052, -0.5427435752935708, -0.6711619272246026, -0.6383579153916799, -0.6298075895174406, -0.5988074007909745, -0.5183417637599632, -0.5070864043082111, -0.427935385145247, -0.4301462131552398, -0.5125172195839696, -0.5015129857929423, -0.6145348970312625, -0.5838707836810499, -0.5771932790521532, -0.5482254553353414, -0.4795855268021114, -0.469003701407928, -0.39934231736697257, -0.40129766653990373, -0.474246941448655, -0.46389592794002965, -0.5633654891862534, -0.5346860189456493, -0.529670428368263, -0.5026320875040255, -0.44411501637659967, -0.43430204689502716, -0.37301279429811984, -0.37473284016596153, -0.4392264148918912, -0.4296162053360604, -0.5171248919796199, -0.49037372786551714, -0.4867482481058687, -0.4615588634624146, -0.411623410473112, -0.4026605209801346, -0.3486795807839371, -0.35019595123594627, -0.40711623296374455, -0.39834621851332486, -0.47538178047398105, -0.4504562864312902, -0.44799806171795353, -0.42454074445413426, -0.3818245648872107, -0.37378467520466074, -0.3260890391538851, -0.32741757604526356, -0.37770881730830297, -0.3698079962632619, -0.4377070346963592, -0.41451966675231233, -0.41300348367076367, -0.39122287137433887, -0.3545058218878694, -0.3473741542547941, -0.3050796851166524, -0.30623258504783735, -0.3507043108693324, -0.34370597737142816, -0.40367931965738535, -0.3821344242314808, -0.3813666327041574, -0.36111986584728584, -0.3294118703925051, -0.32317753159441054, -0.2855367974261753, -0.2865171721787192, -0.3259132544044405, -0.31978196802083403, -0.3729012561379932, -0.3529137955629267, -0.3527595864725299, -0.33393367630196735, -0.30632988980505615, -0.3009415884152986, -0.26728715340141207, -0.2681482943589799, -0.3030946356593631, -0.2977924670558423, -0.34503876516828313, -0.32646486861631274, -0.326768392464146, -0.3092763024033047, -0.2850708562764339, -0.2804847465013154, -0.25028331589419395, -0.2510238951072097, -0.28207553178071976, -0.2775632165139541, -0.31973734515486285, -0.30247349076671526, -0.3030937990988605, -0.28681993135251105, -0.2654622484697029, -0.2615945927100256, -0.2344167873961851, -0.2350479457527399, -0.2626818048884161, -0.2588639010791667, -0.29669601417845115, -0.28062455920735374, -0.2814755722647533, -0.2663306767353788, -0.24735839857021347, -0.24411611806135625, -0.21962113061454147, -0.22014500456862152, -0.24477046233369038, -0.24156700941966847, -0.2756207379279658, -0.2606322096544318, -0.2616675663739443, -0.24754860921530053, -0.23060432076454163, -0.2278926856815815, -0.205807251855731, -0.20625341509003192, -0.22818833374185488, -0.22553075099131092, -0.256279400724452, -0.24231879896251485, -0.2434265171759762, -0.23026481759734452, -0.21507857594406232, -0.2128524002037011, -0.19286651466973126, -0.19325597980059683, -0.21284320758422837, -0.21063384891021997, -0.23845838790293783, -0.22545199835440144, -0.22658534592483193, -0.21432482736418024, -0.20067449565976858, -0.19884224742418155, -0.18077770725358278, -0.1810981915332377, -0.19858894997742027, -0.19674894824856892, -0.22200443141628057, -0.20988001057412475, -0.2109996560611762, -0.19959081639535725, -0.18729479785542935, -0.18579228583257645, -0.16945716115878895, -0.16973037674324587, -0.18534447776619345, -0.18382411159109324, -0.20674765534931794, -0.19547651382163167, -0.1965528018772602, -0.18592741846805438, -0.1748372411238961, -0.17360134347109124, -0.1588331856764853, -0.15906484087463468, -0.17302905436372384, -0.1717565460712649, -0.1926113634253852, -0.1821206624736078, -0.18312477512517944, -0.1732655565137975, -0.16323787806322798, -0.1622305053169839, -0.14884947973769158, -0.14904629404190928, -0.16154035046929494, -0.16049859719350934, -0.17944956646533683, -0.16972194594563916, -0.1706456249812618, -0.16148474911460653, -0.15242548985406756, -0.1515893217874691, -0.1394446719205007, -0.13962733460357413, -0.15083301643608138, -0.14996942569268867, -0.16722870641388, -0.15819232200738043, -0.159034357231576, -0.15052576991729438, -0.14231630001449957, -0.14162591041531414, -0.1306267324835062, -0.13075379643123597, -0.14083008089801297, -0.14010142348706722, -0.1558679707814008, -0.14746732788626105, -0.14824111881898716, -0.14032609789865091, -0.132883656071499, -0.132315882074181, -0.122280640702229, -0.12240021675825119, -0.1314777371007949, -0.13086450891569257, -0.14528770395554602, -0.13748059410136193, -0.13821153581375256, -0.1308440692955628, -0.12406430207192898, -0.12358638731529936, -0.11443059501470998, -0.1145226244116202, -0.12276329239830375, -0.12223755073500797, -0.1354665812687017, -0.12818370811874047, -0.1288774138665758, -0.12199718947522342, -0.11581490514799953, -0.11540617427090183, -0.10702336515532807, -0.10710218781605363, -0.11460082564735785, -0.11414284311467782, -0.12633058085339144, -0.11953703232575208, -0.12020574026973918, -0.11380583001300693, -0.10811225912766531, -0.10774639481678605, -0.10004049225244671, -0.10010590759338811, -0.1069672429584898, -0.10655971616506577, -0.1178401107317768, -0.11149570235284045, -0.11214112024754286, -0.10613062931224704, -0.10089866549242288, -0.1005841760779731, -0.09346906503196806, -0.09352533397031948, -0.09984331956366077, -0.09945969941327348, -0.10994219564599916, -0.10397952242055908, -0.10464858560590073, -0.09897035814356059, -0.09417625580681488, -0.09385791781824082, -0.08727317838929594, -0.08733098272932693, -0.09317224012920633, -0.09282056713709608, -0.10260986385401338, -0.09695906925480813]\n",
        "\n",
        "import plotly.graph_objects as go\n",
        "import numpy as np\n",
        "distances = np.arange(1.0, 8.1, 0.1)\n",
        "angles = [30, 60, 90, 120, 150]\n",
        "rotations = [90.0000, 180.0000]\n",
        "\n",
        "x_values = []\n",
        "y_values = []\n",
        "z_values = []\n",
        "energy_values = []\n",
        "i = 0\n",
        "for distance in distances:\n",
        "    for angle in angles:\n",
        "        for rotation in rotations:\n",
        "            x_values.append(distance)\n",
        "            z_values.append(rotation)\n",
        "            y_values.append(angle)\n",
        "            energy_values.append(scan[i])\n",
        "            i += 1\n",
        "\n",
        "print (min(energy_values))\n",
        "print (max(energy_values))\n",
        "\n",
        "fig = go.Figure(data=go.Volume(\n",
        "    x=x_values,\n",
        "    y=y_values,\n",
        "    z=z_values,\n",
        "    value=energy_values,\n",
        "    isomin=-1,\n",
        "    isomax=1,\n",
        "\n",
        "    ))\n",
        "fig.show()"
      ]
    },
    {
      "cell_type": "code",
      "execution_count": 11,
      "metadata": {
        "colab": {
          "base_uri": "https://localhost:8080/",
          "height": 542
        },
        "id": "Plz0qsNw9qx-",
        "outputId": "574caccf-e2c1-4f2f-efa9-506eb111f97a"
      },
      "outputs": [
        {
          "data": {
            "application/vnd.plotly.v1+json": {
              "config": {
                "plotlyServerURL": "https://plot.ly"
              },
              "data": [
                {
                  "marker": {
                    "color": [
                      1052.5793187250965,
                      656.423715584795,
                      233.8510784471291,
                      168.90882854291704,
                      73.00874735572143,
                      73.27335763879819,
                      232.95258585439296,
                      171.00857365416596,
                      1002.9795025247149,
                      658.2115115315537,
                      843.4087635923061,
                      577.4552626397344,
                      184.87849767075386,
                      137.47082299320027,
                      52.89115737652173,
                      53.03688617114676,
                      184.365075717913,
                      139.14225280372193,
                      818.6856113841059,
                      583.2850641452242,
                      703.7816258014645,
                      512.3865972590283,
                      144.4303996998351,
                      110.15762189595262,
                      36.965055292181205,
                      37.03313024889212,
                      144.11806286120554,
                      111.43822820280911,
                      691.3255205488531,
                      518.959331292077,
                      598.6285267636413,
                      452.37801536137704,
                      111.35352666844847,
                      86.81723161664559,
                      24.56353189382935,
                      24.58523762220284,
                      111.14193249371601,
                      87.76435958384536,
                      590.7076540954877,
                      457.0944304752629,
                      509.84841967816465,
                      393.84146816510474,
                      84.5823359003989,
                      67.1952291407506,
                      15.078228002646938,
                      15.07652135414537,
                      84.42178152885754,
                      67.87328406691086,
                      502.521206028061,
                      395.66696114389924,
                      429.7214563913876,
                      337.2462735832087,
                      63.14594038645737,
                      50.95993380283471,
                      7.962401080993004,
                      7.952506378176622,
                      63.01569855812704,
                      51.43140016455436,
                      421.6112602055655,
                      336.47194707748713,
                      355.8526570042013,
                      284.4530350895948,
                      46.17283910047263,
                      37.73293037392432,
                      2.735978464479558,
                      2.7262208394822665,
                      46.06688488234067,
                      38.05279688735027,
                      346.9524700702168,
                      281.90994167589815,
                      288.6568910814822,
                      236.80028468795354,
                      32.89148893416859,
                      27.118607935437467,
                      -1.0097372531308793,
                      -1.016219227167312,
                      32.809148225409444,
                      27.33164212544216,
                      279.664893308247,
                      233.2771509005688,
                      230.14219768159091,
                      194.8694861616823,
                      22.626086505013518,
                      18.727326124324463,
                      -3.611817034019623,
                      -3.615114828804508,
                      22.567022522969637,
                      18.86792712431634,
                      221.9479391266941,
                      190.99610848509474,
                      181.6580658876337,
                      158.8979305670946,
                      14.791743375128135,
                      12.192737031378783,
                      -5.341278380190488,
                      -5.342906097474042,
                      14.75410757609643,
                      12.285974065947812,
                      174.74492631625617,
                      155.13852061360376,
                      142.61195227963617,
                      128.61374849895947,
                      8.890335466421675,
                      7.182641376974061,
                      -6.412589150480926,
                      -6.414284040336497,
                      8.870935881568585,
                      7.246259925421327,
                      136.98896386031993,
                      125.18183668743586,
                      111.40602766885422,
                      103.24335658061318,
                      4.507197594968602,
                      3.4056969303055666,
                      -6.994365559017751,
                      -6.997237923031207,
                      4.5025313157239,
                      3.4517787536606193,
                      106.88657417218201,
                      100.18036355084041,
                      86.46139737666817,
                      81.99497485300526,
                      1.305720008793287,
                      0.6135588793549687,
                      -7.218257947824895,
                      -7.222946377296466,
                      1.3128455808619037,
                      0.6502746444894001,
                      82.83854189421982,
                      79.29943324113265,
                      66.51025204884354,
                      64.27949150616769,
                      -0.9818826802074909,
                      -1.400177109928336,
                      -7.186861610040069,
                      -7.193305580178276,
                      -0.9650946634355932,
                      -1.3674497680622153,
                      63.60751188459108,
                      61.945723026350606,
                      50.57121596991783,
                      49.6415586459334,
                      -2.5663516006898135,
                      -2.804190539813135,
                      -6.978936495084781,
                      -6.986738206644077,
                      -2.541416290565394,
                      -2.77201660675928,
                      48.24764173314907,
                      47.65654043410905,
                      37.879098969337065,
                      37.68044980004197,
                      -3.6135339735192247,
                      -3.7351850436534733,
                      -6.653794044628739,
                      -6.662482726329472,
                      -3.5817471647751518,
                      -3.701703826605808,
                      36.02496285707457,
                      36.0216229907237,
                      27.829862583137583,
                      28.024273513117805,
                      -4.25438647554256,
                      -4.303853421995882,
                      -6.255357179092243,
                      -6.264614220068324,
                      -4.217017940129153,
                      -4.268323189171497,
                      26.359722650668118,
                      26.66218228894286,
                      19.9386375573813,
                      20.32907198468456,
                      -4.592681798909325,
                      -4.599630383076146,
                      -5.815726431377698,
                      -5.825377955508884,
                      -4.551126982201822,
                      -4.562027223000769,
                      18.784553583653178,
                      19.230688230891246,
                      13.808515777229331,
                      14.282029733003583,
                      -4.710418802511413,
                      -4.6943593038013205,
                      -5.358101096062455,
                      -5.368251516600139,
                      -4.666074790933635,
                      -4.6551865297951736,
                      12.914710796845611,
                      13.413141231809277,
                      9.108581555832643,
                      9.60223219305044,
                      -4.671668978524394,
                      -4.645033434208017,
                      -4.899372357409447,
                      -4.910098823951557,
                      -4.625933907285798,
                      -4.604929989203811,
                      8.427913939813152,
                      8.928851376636885,
                      5.559484417957719,
                      6.039674987376202,
                      -4.525995897245593,
                      -4.496016547840554,
                      -4.451698588265572,
                      -4.463161516818218,
                      -4.4799965171841905,
                      -4.455721136939246,
                      5.0513743803603575,
                      5.529104185523465,
                      2.9248790334095247,
                      3.3747506141662598,
                      -4.31084002397256,
                      -4.281054681283422,
                      -4.023965771659277,
                      -4.036277107428759,
                      -4.265517745283432,
                      -4.24116195453098,
                      2.5546519373892806,
                      2.9967548148706555,
                      1.0071402644971386,
                      1.4189597942167893,
                      -4.053747808211483,
                      -4.025638202496339,
                      -3.6224266142235138,
                      -3.635626491100993,
                      -4.009835691773333,
                      -3.986677171953488,
                      0.745319647307042,
                      1.1468376979464665,
                      -0.3558704061433673,
                      0.01530807453673333,
                      -3.7751135093858466,
                      -3.748545160982758,
                      -3.2514145633904263,
                      -3.265481984708458,
                      -3.7330577751854435,
                      -3.7109445707756095,
                      -0.5334784025326371,
                      -0.1734819658449851,
                      -1.2941940195159987,
                      -0.9631772924331017,
                      -3.48934415448457,
                      -3.4635804537683725,
                      -2.9136748920427635,
                      -2.928499378147535,
                      -3.449468281818554,
                      -3.4276536822435446,
                      -1.40696306648897,
                      -1.0870007046614774,
                      -1.9101539518451318,
                      -1.6169475752976723,
                      -3.2066754855331965,
                      -3.1807756013586186,
                      -2.6105288192047738,
                      -2.625861314823851,
                      -3.1691495118429884,
                      -3.146694108378142,
                      -1.9736359645030461,
                      -1.6906336786341853,
                      -2.2842801738297567,
                      -2.02533335913904,
                      -2.934137070144061,
                      -2.9072578857885674,
                      -2.341830680379644,
                      -2.3574859694927,
                      -2.899113074876368,
                      -2.8752596413251013,
                      -2.3107885336503386,
                      -2.0608621315914206,
                      -2.479639051191043,
                      -2.2508333051227964,
                      -2.6764165943604894,
                      -2.6480818754062057,
                      -2.1062265427899547,
                      -2.1219016922987066,
                      -2.643922238901723,
                      -2.6182217363384552,
                      -2.479036808188539,
                      -2.2579478909028694,
                      -2.545689329097513,
                      -2.3429879368050024,
                      -2.436387314402964,
                      -2.406483475060668,
                      -1.9011919724289328,
                      -1.9166176476865076,
                      -2.406435164390132,
                      -2.378841670055408,
                      -2.5259710001409985,
                      -2.329673880827613,
                      -2.5211740189697593,
                      -2.3408837617607787,
                      -2.2155747998622246,
                      -2.184380391787272,
                      -1.7232923163101077,
                      -1.7381307056639344,
                      -2.188109143578913,
                      -2.158962836896535,
                      -2.4886761056259274,
                      -2.313616285158787,
                      -2.4360105313244276,
                      -2.2749852079432458,
                      -2.014404856483452,
                      -1.9825291158049367,
                      -1.5685386309633031,
                      -1.5825788310030475,
                      -1.989322887326125,
                      -1.9593209935119376,
                      -2.3956019901670516,
                      -2.238932249834761,
                      -2.312735038169194,
                      -2.168542430677917,
                      -1.8325521866208874,
                      -1.8008095664554276,
                      -1.4328976960969158,
                      -1.4459653807571158,
                      -1.8097688874113373,
                      -1.7796529479091987,
                      -2.268140337371733,
                      -2.127625173481647,
                      -2.1680058379424736,
                      -2.038778024550993,
                      -1.669051376520656,
                      -1.6383135662181303,
                      -1.3126872703433037,
                      -1.324619497929234,
                      -1.6484036385663785,
                      -1.619117539259605,
                      -2.1219695028848946,
                      -1.9959110913332552,
                      -2.0137680441257544,
                      -1.8980401586159132,
                      -1.5226300882641226,
                      -1.493618344713468,
                      -1.204759883810766,
                      -1.2155624423758127,
                      -1.5039040709962137,
                      -1.476208466454409,
                      -1.9681039535207674,
                      -1.8552280452568084,
                      -1.8581108206417412,
                      -1.7548259486211464,
                      -1.3915639583137818,
                      -1.3648773769964464,
                      -1.1068723573116586,
                      -1.1164922949974425,
                      -1.3746290365816094,
                      -1.349068382405676,
                      -1.8141117886989377,
                      -1.713442699285224,
                      -1.7065218420466408,
                      -1.6146584651432931,
                      -1.274212813237682,
                      -1.2500896024284884,
                      -1.0173413378652185,
                      -1.0258621579851024,
                      -1.2588209722889587,
                      -1.235728613450192,
                      -1.664925110701006,
                      -1.5754839555593207,
                      -1.562305568892043,
                      -1.4809024764108472,
                      -1.1687909152242355,
                      -1.1472444251412526,
                      -0.9351851339451969,
                      -0.9426808716962114,
                      -1.15478777338285,
                      -1.1341386589338072,
                      -1.5235089227790013,
                      -1.4443174626794644,
                      -1.4273356584599242,
                      -1.3553868472226895,
                      -1.0737392217270099,
                      -1.054555538459681,
                      -0.8597763784346171,
                      -0.8663725756923668,
                      -1.0609662281931378,
                      -1.0425281304051168,
                      -1.3915776152862236,
                      -1.3215303283650428,
                      -1.302516232826747,
                      -1.2388273293036036,
                      -0.9876574270310812,
                      -0.9704113263287582,
                      -0.7907992959953845,
                      -0.796586652577389,
                      -0.975949264888186,
                      -0.9593867367948405,
                      -1.2697101804660633,
                      -1.2076827321434394,
                      -1.1879224483272992,
                      -1.1313945084111765,
                      -0.9093288070289418,
                      -0.8936170027009211,
                      -0.7279515758855268,
                      -0.733054889307823,
                      -0.8985805184929632,
                      -0.8834758895682171,
                      -1.1579982879338786,
                      -1.1028314237482846,
                      -1.0833059889264405,
                      -1.032747886434663,
                      -0.8378095350926742,
                      -0.8232256298651919,
                      -0.6709502405719832,
                      -0.6754557109088637,
                      -0.8279582406394184,
                      -0.8139032032340765,
                      -1.0560924236779101,
                      -1.0066146096796729,
                      -0.9881207887083292,
                      -0.9424892463721335,
                      -0.772336648311466,
                      -0.7585852317861281,
                      -0.6194664055365138,
                      -0.6234425543807447,
                      -0.7632997541804798,
                      -0.7499750466668047,
                      -0.9633673474309035,
                      -0.9185941330506466,
                      -0.9016983042820357,
                      -0.8600727921002544,
                      -0.7123409596388228,
                      -0.6991640598280355,
                      -0.5730492692091502,
                      -0.5766065879142843,
                      -0.7040454581729136,
                      -0.6912569045671262,
                      -0.8792222114279866,
                      -0.8382413612562232,
                      -0.823318372364156,
                      -0.7850084172096103,
                      -0.6573372460552491,
                      -0.6445942327263765,
                      -0.5312057680566795,
                      -0.5343558536260389,
                      -0.6497237341827713,
                      -0.6373467658413574,
                      -0.8028998749796301,
                      -0.765085999679286,
                      -0.7522892386768945,
                      -0.7167289819917642,
                      -0.6068866266286932,
                      -0.594587218191009,
                      -0.49340902059338987,
                      -0.49623509257799014,
                      -0.5999348524492234,
                      -0.5879258045461029,
                      -0.733773292216938,
                      -0.6986238539102487,
                      -0.6879783679614775,
                      -0.6548450770787895,
                      -0.5606879139668308,
                      -0.5488513834425248,
                      -0.4591526176664047,
                      -0.4616450141184032,
                      -0.5543002996128052,
                      -0.5427435752935708,
                      -0.6711619272246026,
                      -0.6383579153916799,
                      -0.6298075895174406,
                      -0.5988074007909745,
                      -0.5183417637599632,
                      -0.5070864043082111,
                      -0.427935385145247,
                      -0.4301462131552398,
                      -0.5125172195839696,
                      -0.5015129857929423,
                      -0.6145348970312625,
                      -0.5838707836810499,
                      -0.5771932790521532,
                      -0.5482254553353414,
                      -0.4795855268021114,
                      -0.469003701407928,
                      -0.39934231736697257,
                      -0.40129766653990373,
                      -0.474246941448655,
                      -0.46389592794002965,
                      -0.5633654891862534,
                      -0.5346860189456493,
                      -0.529670428368263,
                      -0.5026320875040255,
                      -0.44411501637659967,
                      -0.43430204689502716,
                      -0.37301279429811984,
                      -0.37473284016596153,
                      -0.4392264148918912,
                      -0.4296162053360604,
                      -0.5171248919796199,
                      -0.49037372786551714,
                      -0.4867482481058687,
                      -0.4615588634624146,
                      -0.411623410473112,
                      -0.4026605209801346,
                      -0.3486795807839371,
                      -0.35019595123594627,
                      -0.40711623296374455,
                      -0.39834621851332486,
                      -0.47538178047398105,
                      -0.4504562864312902,
                      -0.44799806171795353,
                      -0.42454074445413426,
                      -0.3818245648872107,
                      -0.37378467520466074,
                      -0.3260890391538851,
                      -0.32741757604526356,
                      -0.37770881730830297,
                      -0.3698079962632619,
                      -0.4377070346963592,
                      -0.41451966675231233,
                      -0.41300348367076367,
                      -0.39122287137433887,
                      -0.3545058218878694,
                      -0.3473741542547941,
                      -0.3050796851166524,
                      -0.30623258504783735,
                      -0.3507043108693324,
                      -0.34370597737142816,
                      -0.40367931965738535,
                      -0.3821344242314808,
                      -0.3813666327041574,
                      -0.36111986584728584,
                      -0.3294118703925051,
                      -0.32317753159441054,
                      -0.2855367974261753,
                      -0.2865171721787192,
                      -0.3259132544044405,
                      -0.31978196802083403,
                      -0.3729012561379932,
                      -0.3529137955629267,
                      -0.3527595864725299,
                      -0.33393367630196735,
                      -0.30632988980505615,
                      -0.3009415884152986,
                      -0.26728715340141207,
                      -0.2681482943589799,
                      -0.3030946356593631,
                      -0.2977924670558423,
                      -0.34503876516828313,
                      -0.32646486861631274,
                      -0.326768392464146,
                      -0.3092763024033047,
                      -0.2850708562764339,
                      -0.2804847465013154,
                      -0.25028331589419395,
                      -0.2510238951072097,
                      -0.28207553178071976,
                      -0.2775632165139541,
                      -0.31973734515486285,
                      -0.30247349076671526,
                      -0.3030937990988605,
                      -0.28681993135251105,
                      -0.2654622484697029,
                      -0.2615945927100256,
                      -0.2344167873961851,
                      -0.2350479457527399,
                      -0.2626818048884161,
                      -0.2588639010791667,
                      -0.29669601417845115,
                      -0.28062455920735374,
                      -0.2814755722647533,
                      -0.2663306767353788,
                      -0.24735839857021347,
                      -0.24411611806135625,
                      -0.21962113061454147,
                      -0.22014500456862152,
                      -0.24477046233369038,
                      -0.24156700941966847,
                      -0.2756207379279658,
                      -0.2606322096544318,
                      -0.2616675663739443,
                      -0.24754860921530053,
                      -0.23060432076454163,
                      -0.2278926856815815,
                      -0.205807251855731,
                      -0.20625341509003192,
                      -0.22818833374185488,
                      -0.22553075099131092,
                      -0.256279400724452,
                      -0.24231879896251485,
                      -0.2434265171759762,
                      -0.23026481759734452,
                      -0.21507857594406232,
                      -0.2128524002037011,
                      -0.19286651466973126,
                      -0.19325597980059683,
                      -0.21284320758422837,
                      -0.21063384891021997,
                      -0.23845838790293783,
                      -0.22545199835440144,
                      -0.22658534592483193,
                      -0.21432482736418024,
                      -0.20067449565976858,
                      -0.19884224742418155,
                      -0.18077770725358278,
                      -0.1810981915332377,
                      -0.19858894997742027,
                      -0.19674894824856892,
                      -0.22200443141628057,
                      -0.20988001057412475,
                      -0.2109996560611762,
                      -0.19959081639535725,
                      -0.18729479785542935,
                      -0.18579228583257645,
                      -0.16945716115878895,
                      -0.16973037674324587,
                      -0.18534447776619345,
                      -0.18382411159109324,
                      -0.20674765534931794,
                      -0.19547651382163167,
                      -0.1965528018772602,
                      -0.18592741846805438,
                      -0.1748372411238961,
                      -0.17360134347109124,
                      -0.1588331856764853,
                      -0.15906484087463468,
                      -0.17302905436372384,
                      -0.1717565460712649,
                      -0.1926113634253852,
                      -0.1821206624736078,
                      -0.18312477512517944,
                      -0.1732655565137975,
                      -0.16323787806322798,
                      -0.1622305053169839,
                      -0.14884947973769158,
                      -0.14904629404190928,
                      -0.16154035046929494,
                      -0.16049859719350934,
                      -0.17944956646533683,
                      -0.16972194594563916,
                      -0.1706456249812618,
                      -0.16148474911460653,
                      -0.15242548985406756,
                      -0.1515893217874691,
                      -0.1394446719205007,
                      -0.13962733460357413,
                      -0.15083301643608138,
                      -0.14996942569268867,
                      -0.16722870641388,
                      -0.15819232200738043,
                      -0.159034357231576,
                      -0.15052576991729438,
                      -0.14231630001449957,
                      -0.14162591041531414,
                      -0.1306267324835062,
                      -0.13075379643123597,
                      -0.14083008089801297,
                      -0.14010142348706722,
                      -0.1558679707814008,
                      -0.14746732788626105,
                      -0.14824111881898716,
                      -0.14032609789865091,
                      -0.132883656071499,
                      -0.132315882074181,
                      -0.122280640702229,
                      -0.12240021675825119,
                      -0.1314777371007949,
                      -0.13086450891569257,
                      -0.14528770395554602,
                      -0.13748059410136193,
                      -0.13821153581375256,
                      -0.1308440692955628,
                      -0.12406430207192898,
                      -0.12358638731529936,
                      -0.11443059501470998,
                      -0.1145226244116202,
                      -0.12276329239830375,
                      -0.12223755073500797,
                      -0.1354665812687017,
                      -0.12818370811874047,
                      -0.1288774138665758,
                      -0.12199718947522342,
                      -0.11581490514799953,
                      -0.11540617427090183,
                      -0.10702336515532807,
                      -0.10710218781605363,
                      -0.11460082564735785,
                      -0.11414284311467782,
                      -0.12633058085339144,
                      -0.11953703232575208,
                      -0.12020574026973918,
                      -0.11380583001300693,
                      -0.10811225912766531,
                      -0.10774639481678605,
                      -0.10004049225244671,
                      -0.10010590759338811,
                      -0.1069672429584898,
                      -0.10655971616506577,
                      -0.1178401107317768,
                      -0.11149570235284045,
                      -0.11214112024754286,
                      -0.10613062931224704,
                      -0.10089866549242288,
                      -0.1005841760779731,
                      -0.09346906503196806,
                      -0.09352533397031948,
                      -0.09984331956366077,
                      -0.09945969941327348,
                      -0.10994219564599916,
                      -0.10397952242055908,
                      -0.10464858560590073,
                      -0.09897035814356059,
                      -0.09417625580681488,
                      -0.09385791781824082,
                      -0.08727317838929594,
                      -0.08733098272932693,
                      -0.09317224012920633,
                      -0.09282056713709608,
                      -0.10260986385401338,
                      -0.09695906925480813
                    ],
                    "colorscale": [
                      [
                        0,
                        "#440154"
                      ],
                      [
                        0.1111111111111111,
                        "#482878"
                      ],
                      [
                        0.2222222222222222,
                        "#3e4989"
                      ],
                      [
                        0.3333333333333333,
                        "#31688e"
                      ],
                      [
                        0.4444444444444444,
                        "#26828e"
                      ],
                      [
                        0.5555555555555556,
                        "#1f9e89"
                      ],
                      [
                        0.6666666666666666,
                        "#35b779"
                      ],
                      [
                        0.7777777777777778,
                        "#6ece58"
                      ],
                      [
                        0.8888888888888888,
                        "#b5de2b"
                      ],
                      [
                        1,
                        "#fde725"
                      ]
                    ],
                    "opacity": 0.8,
                    "size": 12
                  },
                  "mode": "markers",
                  "type": "scatter3d",
                  "x": [
                    1,
                    1,
                    1,
                    1,
                    1,
                    1,
                    1,
                    1,
                    1,
                    1,
                    1.1,
                    1.1,
                    1.1,
                    1.1,
                    1.1,
                    1.1,
                    1.1,
                    1.1,
                    1.1,
                    1.1,
                    1.2000000000000002,
                    1.2000000000000002,
                    1.2000000000000002,
                    1.2000000000000002,
                    1.2000000000000002,
                    1.2000000000000002,
                    1.2000000000000002,
                    1.2000000000000002,
                    1.2000000000000002,
                    1.2000000000000002,
                    1.3000000000000003,
                    1.3000000000000003,
                    1.3000000000000003,
                    1.3000000000000003,
                    1.3000000000000003,
                    1.3000000000000003,
                    1.3000000000000003,
                    1.3000000000000003,
                    1.3000000000000003,
                    1.3000000000000003,
                    1.4000000000000004,
                    1.4000000000000004,
                    1.4000000000000004,
                    1.4000000000000004,
                    1.4000000000000004,
                    1.4000000000000004,
                    1.4000000000000004,
                    1.4000000000000004,
                    1.4000000000000004,
                    1.4000000000000004,
                    1.5000000000000004,
                    1.5000000000000004,
                    1.5000000000000004,
                    1.5000000000000004,
                    1.5000000000000004,
                    1.5000000000000004,
                    1.5000000000000004,
                    1.5000000000000004,
                    1.5000000000000004,
                    1.5000000000000004,
                    1.6000000000000005,
                    1.6000000000000005,
                    1.6000000000000005,
                    1.6000000000000005,
                    1.6000000000000005,
                    1.6000000000000005,
                    1.6000000000000005,
                    1.6000000000000005,
                    1.6000000000000005,
                    1.6000000000000005,
                    1.7000000000000006,
                    1.7000000000000006,
                    1.7000000000000006,
                    1.7000000000000006,
                    1.7000000000000006,
                    1.7000000000000006,
                    1.7000000000000006,
                    1.7000000000000006,
                    1.7000000000000006,
                    1.7000000000000006,
                    1.8000000000000007,
                    1.8000000000000007,
                    1.8000000000000007,
                    1.8000000000000007,
                    1.8000000000000007,
                    1.8000000000000007,
                    1.8000000000000007,
                    1.8000000000000007,
                    1.8000000000000007,
                    1.8000000000000007,
                    1.9000000000000008,
                    1.9000000000000008,
                    1.9000000000000008,
                    1.9000000000000008,
                    1.9000000000000008,
                    1.9000000000000008,
                    1.9000000000000008,
                    1.9000000000000008,
                    1.9000000000000008,
                    1.9000000000000008,
                    2.000000000000001,
                    2.000000000000001,
                    2.000000000000001,
                    2.000000000000001,
                    2.000000000000001,
                    2.000000000000001,
                    2.000000000000001,
                    2.000000000000001,
                    2.000000000000001,
                    2.000000000000001,
                    2.100000000000001,
                    2.100000000000001,
                    2.100000000000001,
                    2.100000000000001,
                    2.100000000000001,
                    2.100000000000001,
                    2.100000000000001,
                    2.100000000000001,
                    2.100000000000001,
                    2.100000000000001,
                    2.200000000000001,
                    2.200000000000001,
                    2.200000000000001,
                    2.200000000000001,
                    2.200000000000001,
                    2.200000000000001,
                    2.200000000000001,
                    2.200000000000001,
                    2.200000000000001,
                    2.200000000000001,
                    2.300000000000001,
                    2.300000000000001,
                    2.300000000000001,
                    2.300000000000001,
                    2.300000000000001,
                    2.300000000000001,
                    2.300000000000001,
                    2.300000000000001,
                    2.300000000000001,
                    2.300000000000001,
                    2.4000000000000012,
                    2.4000000000000012,
                    2.4000000000000012,
                    2.4000000000000012,
                    2.4000000000000012,
                    2.4000000000000012,
                    2.4000000000000012,
                    2.4000000000000012,
                    2.4000000000000012,
                    2.4000000000000012,
                    2.5000000000000013,
                    2.5000000000000013,
                    2.5000000000000013,
                    2.5000000000000013,
                    2.5000000000000013,
                    2.5000000000000013,
                    2.5000000000000013,
                    2.5000000000000013,
                    2.5000000000000013,
                    2.5000000000000013,
                    2.6000000000000014,
                    2.6000000000000014,
                    2.6000000000000014,
                    2.6000000000000014,
                    2.6000000000000014,
                    2.6000000000000014,
                    2.6000000000000014,
                    2.6000000000000014,
                    2.6000000000000014,
                    2.6000000000000014,
                    2.7000000000000015,
                    2.7000000000000015,
                    2.7000000000000015,
                    2.7000000000000015,
                    2.7000000000000015,
                    2.7000000000000015,
                    2.7000000000000015,
                    2.7000000000000015,
                    2.7000000000000015,
                    2.7000000000000015,
                    2.8000000000000016,
                    2.8000000000000016,
                    2.8000000000000016,
                    2.8000000000000016,
                    2.8000000000000016,
                    2.8000000000000016,
                    2.8000000000000016,
                    2.8000000000000016,
                    2.8000000000000016,
                    2.8000000000000016,
                    2.9000000000000017,
                    2.9000000000000017,
                    2.9000000000000017,
                    2.9000000000000017,
                    2.9000000000000017,
                    2.9000000000000017,
                    2.9000000000000017,
                    2.9000000000000017,
                    2.9000000000000017,
                    2.9000000000000017,
                    3.0000000000000018,
                    3.0000000000000018,
                    3.0000000000000018,
                    3.0000000000000018,
                    3.0000000000000018,
                    3.0000000000000018,
                    3.0000000000000018,
                    3.0000000000000018,
                    3.0000000000000018,
                    3.0000000000000018,
                    3.100000000000002,
                    3.100000000000002,
                    3.100000000000002,
                    3.100000000000002,
                    3.100000000000002,
                    3.100000000000002,
                    3.100000000000002,
                    3.100000000000002,
                    3.100000000000002,
                    3.100000000000002,
                    3.200000000000002,
                    3.200000000000002,
                    3.200000000000002,
                    3.200000000000002,
                    3.200000000000002,
                    3.200000000000002,
                    3.200000000000002,
                    3.200000000000002,
                    3.200000000000002,
                    3.200000000000002,
                    3.300000000000002,
                    3.300000000000002,
                    3.300000000000002,
                    3.300000000000002,
                    3.300000000000002,
                    3.300000000000002,
                    3.300000000000002,
                    3.300000000000002,
                    3.300000000000002,
                    3.300000000000002,
                    3.400000000000002,
                    3.400000000000002,
                    3.400000000000002,
                    3.400000000000002,
                    3.400000000000002,
                    3.400000000000002,
                    3.400000000000002,
                    3.400000000000002,
                    3.400000000000002,
                    3.400000000000002,
                    3.500000000000002,
                    3.500000000000002,
                    3.500000000000002,
                    3.500000000000002,
                    3.500000000000002,
                    3.500000000000002,
                    3.500000000000002,
                    3.500000000000002,
                    3.500000000000002,
                    3.500000000000002,
                    3.6000000000000023,
                    3.6000000000000023,
                    3.6000000000000023,
                    3.6000000000000023,
                    3.6000000000000023,
                    3.6000000000000023,
                    3.6000000000000023,
                    3.6000000000000023,
                    3.6000000000000023,
                    3.6000000000000023,
                    3.7000000000000024,
                    3.7000000000000024,
                    3.7000000000000024,
                    3.7000000000000024,
                    3.7000000000000024,
                    3.7000000000000024,
                    3.7000000000000024,
                    3.7000000000000024,
                    3.7000000000000024,
                    3.7000000000000024,
                    3.8000000000000025,
                    3.8000000000000025,
                    3.8000000000000025,
                    3.8000000000000025,
                    3.8000000000000025,
                    3.8000000000000025,
                    3.8000000000000025,
                    3.8000000000000025,
                    3.8000000000000025,
                    3.8000000000000025,
                    3.9000000000000026,
                    3.9000000000000026,
                    3.9000000000000026,
                    3.9000000000000026,
                    3.9000000000000026,
                    3.9000000000000026,
                    3.9000000000000026,
                    3.9000000000000026,
                    3.9000000000000026,
                    3.9000000000000026,
                    4.000000000000003,
                    4.000000000000003,
                    4.000000000000003,
                    4.000000000000003,
                    4.000000000000003,
                    4.000000000000003,
                    4.000000000000003,
                    4.000000000000003,
                    4.000000000000003,
                    4.000000000000003,
                    4.100000000000003,
                    4.100000000000003,
                    4.100000000000003,
                    4.100000000000003,
                    4.100000000000003,
                    4.100000000000003,
                    4.100000000000003,
                    4.100000000000003,
                    4.100000000000003,
                    4.100000000000003,
                    4.200000000000003,
                    4.200000000000003,
                    4.200000000000003,
                    4.200000000000003,
                    4.200000000000003,
                    4.200000000000003,
                    4.200000000000003,
                    4.200000000000003,
                    4.200000000000003,
                    4.200000000000003,
                    4.3000000000000025,
                    4.3000000000000025,
                    4.3000000000000025,
                    4.3000000000000025,
                    4.3000000000000025,
                    4.3000000000000025,
                    4.3000000000000025,
                    4.3000000000000025,
                    4.3000000000000025,
                    4.3000000000000025,
                    4.400000000000003,
                    4.400000000000003,
                    4.400000000000003,
                    4.400000000000003,
                    4.400000000000003,
                    4.400000000000003,
                    4.400000000000003,
                    4.400000000000003,
                    4.400000000000003,
                    4.400000000000003,
                    4.5000000000000036,
                    4.5000000000000036,
                    4.5000000000000036,
                    4.5000000000000036,
                    4.5000000000000036,
                    4.5000000000000036,
                    4.5000000000000036,
                    4.5000000000000036,
                    4.5000000000000036,
                    4.5000000000000036,
                    4.600000000000003,
                    4.600000000000003,
                    4.600000000000003,
                    4.600000000000003,
                    4.600000000000003,
                    4.600000000000003,
                    4.600000000000003,
                    4.600000000000003,
                    4.600000000000003,
                    4.600000000000003,
                    4.700000000000003,
                    4.700000000000003,
                    4.700000000000003,
                    4.700000000000003,
                    4.700000000000003,
                    4.700000000000003,
                    4.700000000000003,
                    4.700000000000003,
                    4.700000000000003,
                    4.700000000000003,
                    4.800000000000003,
                    4.800000000000003,
                    4.800000000000003,
                    4.800000000000003,
                    4.800000000000003,
                    4.800000000000003,
                    4.800000000000003,
                    4.800000000000003,
                    4.800000000000003,
                    4.800000000000003,
                    4.900000000000004,
                    4.900000000000004,
                    4.900000000000004,
                    4.900000000000004,
                    4.900000000000004,
                    4.900000000000004,
                    4.900000000000004,
                    4.900000000000004,
                    4.900000000000004,
                    4.900000000000004,
                    5.0000000000000036,
                    5.0000000000000036,
                    5.0000000000000036,
                    5.0000000000000036,
                    5.0000000000000036,
                    5.0000000000000036,
                    5.0000000000000036,
                    5.0000000000000036,
                    5.0000000000000036,
                    5.0000000000000036,
                    5.100000000000003,
                    5.100000000000003,
                    5.100000000000003,
                    5.100000000000003,
                    5.100000000000003,
                    5.100000000000003,
                    5.100000000000003,
                    5.100000000000003,
                    5.100000000000003,
                    5.100000000000003,
                    5.200000000000004,
                    5.200000000000004,
                    5.200000000000004,
                    5.200000000000004,
                    5.200000000000004,
                    5.200000000000004,
                    5.200000000000004,
                    5.200000000000004,
                    5.200000000000004,
                    5.200000000000004,
                    5.300000000000004,
                    5.300000000000004,
                    5.300000000000004,
                    5.300000000000004,
                    5.300000000000004,
                    5.300000000000004,
                    5.300000000000004,
                    5.300000000000004,
                    5.300000000000004,
                    5.300000000000004,
                    5.400000000000004,
                    5.400000000000004,
                    5.400000000000004,
                    5.400000000000004,
                    5.400000000000004,
                    5.400000000000004,
                    5.400000000000004,
                    5.400000000000004,
                    5.400000000000004,
                    5.400000000000004,
                    5.5000000000000036,
                    5.5000000000000036,
                    5.5000000000000036,
                    5.5000000000000036,
                    5.5000000000000036,
                    5.5000000000000036,
                    5.5000000000000036,
                    5.5000000000000036,
                    5.5000000000000036,
                    5.5000000000000036,
                    5.600000000000004,
                    5.600000000000004,
                    5.600000000000004,
                    5.600000000000004,
                    5.600000000000004,
                    5.600000000000004,
                    5.600000000000004,
                    5.600000000000004,
                    5.600000000000004,
                    5.600000000000004,
                    5.700000000000005,
                    5.700000000000005,
                    5.700000000000005,
                    5.700000000000005,
                    5.700000000000005,
                    5.700000000000005,
                    5.700000000000005,
                    5.700000000000005,
                    5.700000000000005,
                    5.700000000000005,
                    5.800000000000004,
                    5.800000000000004,
                    5.800000000000004,
                    5.800000000000004,
                    5.800000000000004,
                    5.800000000000004,
                    5.800000000000004,
                    5.800000000000004,
                    5.800000000000004,
                    5.800000000000004,
                    5.900000000000004,
                    5.900000000000004,
                    5.900000000000004,
                    5.900000000000004,
                    5.900000000000004,
                    5.900000000000004,
                    5.900000000000004,
                    5.900000000000004,
                    5.900000000000004,
                    5.900000000000004,
                    6.000000000000004,
                    6.000000000000004,
                    6.000000000000004,
                    6.000000000000004,
                    6.000000000000004,
                    6.000000000000004,
                    6.000000000000004,
                    6.000000000000004,
                    6.000000000000004,
                    6.000000000000004,
                    6.100000000000005,
                    6.100000000000005,
                    6.100000000000005,
                    6.100000000000005,
                    6.100000000000005,
                    6.100000000000005,
                    6.100000000000005,
                    6.100000000000005,
                    6.100000000000005,
                    6.100000000000005,
                    6.200000000000005,
                    6.200000000000005,
                    6.200000000000005,
                    6.200000000000005,
                    6.200000000000005,
                    6.200000000000005,
                    6.200000000000005,
                    6.200000000000005,
                    6.200000000000005,
                    6.200000000000005,
                    6.300000000000004,
                    6.300000000000004,
                    6.300000000000004,
                    6.300000000000004,
                    6.300000000000004,
                    6.300000000000004,
                    6.300000000000004,
                    6.300000000000004,
                    6.300000000000004,
                    6.300000000000004,
                    6.400000000000005,
                    6.400000000000005,
                    6.400000000000005,
                    6.400000000000005,
                    6.400000000000005,
                    6.400000000000005,
                    6.400000000000005,
                    6.400000000000005,
                    6.400000000000005,
                    6.400000000000005,
                    6.500000000000005,
                    6.500000000000005,
                    6.500000000000005,
                    6.500000000000005,
                    6.500000000000005,
                    6.500000000000005,
                    6.500000000000005,
                    6.500000000000005,
                    6.500000000000005,
                    6.500000000000005,
                    6.600000000000005,
                    6.600000000000005,
                    6.600000000000005,
                    6.600000000000005,
                    6.600000000000005,
                    6.600000000000005,
                    6.600000000000005,
                    6.600000000000005,
                    6.600000000000005,
                    6.600000000000005,
                    6.700000000000005,
                    6.700000000000005,
                    6.700000000000005,
                    6.700000000000005,
                    6.700000000000005,
                    6.700000000000005,
                    6.700000000000005,
                    6.700000000000005,
                    6.700000000000005,
                    6.700000000000005,
                    6.800000000000005,
                    6.800000000000005,
                    6.800000000000005,
                    6.800000000000005,
                    6.800000000000005,
                    6.800000000000005,
                    6.800000000000005,
                    6.800000000000005,
                    6.800000000000005,
                    6.800000000000005,
                    6.900000000000006,
                    6.900000000000006,
                    6.900000000000006,
                    6.900000000000006,
                    6.900000000000006,
                    6.900000000000006,
                    6.900000000000006,
                    6.900000000000006,
                    6.900000000000006,
                    6.900000000000006,
                    7.000000000000005,
                    7.000000000000005,
                    7.000000000000005,
                    7.000000000000005,
                    7.000000000000005,
                    7.000000000000005,
                    7.000000000000005,
                    7.000000000000005,
                    7.000000000000005,
                    7.000000000000005,
                    7.100000000000005,
                    7.100000000000005,
                    7.100000000000005,
                    7.100000000000005,
                    7.100000000000005,
                    7.100000000000005,
                    7.100000000000005,
                    7.100000000000005,
                    7.100000000000005,
                    7.100000000000005,
                    7.2000000000000055,
                    7.2000000000000055,
                    7.2000000000000055,
                    7.2000000000000055,
                    7.2000000000000055,
                    7.2000000000000055,
                    7.2000000000000055,
                    7.2000000000000055,
                    7.2000000000000055,
                    7.2000000000000055,
                    7.300000000000006,
                    7.300000000000006,
                    7.300000000000006,
                    7.300000000000006,
                    7.300000000000006,
                    7.300000000000006,
                    7.300000000000006,
                    7.300000000000006,
                    7.300000000000006,
                    7.300000000000006,
                    7.400000000000006,
                    7.400000000000006,
                    7.400000000000006,
                    7.400000000000006,
                    7.400000000000006,
                    7.400000000000006,
                    7.400000000000006,
                    7.400000000000006,
                    7.400000000000006,
                    7.400000000000006,
                    7.500000000000005,
                    7.500000000000005,
                    7.500000000000005,
                    7.500000000000005,
                    7.500000000000005,
                    7.500000000000005,
                    7.500000000000005,
                    7.500000000000005,
                    7.500000000000005,
                    7.500000000000005,
                    7.600000000000006,
                    7.600000000000006,
                    7.600000000000006,
                    7.600000000000006,
                    7.600000000000006,
                    7.600000000000006,
                    7.600000000000006,
                    7.600000000000006,
                    7.600000000000006,
                    7.600000000000006,
                    7.700000000000006,
                    7.700000000000006,
                    7.700000000000006,
                    7.700000000000006,
                    7.700000000000006,
                    7.700000000000006,
                    7.700000000000006,
                    7.700000000000006,
                    7.700000000000006,
                    7.700000000000006,
                    7.800000000000006,
                    7.800000000000006,
                    7.800000000000006,
                    7.800000000000006,
                    7.800000000000006,
                    7.800000000000006,
                    7.800000000000006,
                    7.800000000000006,
                    7.800000000000006,
                    7.800000000000006,
                    7.900000000000006,
                    7.900000000000006,
                    7.900000000000006,
                    7.900000000000006,
                    7.900000000000006,
                    7.900000000000006,
                    7.900000000000006,
                    7.900000000000006,
                    7.900000000000006,
                    7.900000000000006,
                    8.000000000000007,
                    8.000000000000007,
                    8.000000000000007,
                    8.000000000000007,
                    8.000000000000007,
                    8.000000000000007,
                    8.000000000000007,
                    8.000000000000007,
                    8.000000000000007,
                    8.000000000000007
                  ],
                  "y": [
                    30,
                    30,
                    60,
                    60,
                    90,
                    90,
                    120,
                    120,
                    150,
                    150,
                    30,
                    30,
                    60,
                    60,
                    90,
                    90,
                    120,
                    120,
                    150,
                    150,
                    30,
                    30,
                    60,
                    60,
                    90,
                    90,
                    120,
                    120,
                    150,
                    150,
                    30,
                    30,
                    60,
                    60,
                    90,
                    90,
                    120,
                    120,
                    150,
                    150,
                    30,
                    30,
                    60,
                    60,
                    90,
                    90,
                    120,
                    120,
                    150,
                    150,
                    30,
                    30,
                    60,
                    60,
                    90,
                    90,
                    120,
                    120,
                    150,
                    150,
                    30,
                    30,
                    60,
                    60,
                    90,
                    90,
                    120,
                    120,
                    150,
                    150,
                    30,
                    30,
                    60,
                    60,
                    90,
                    90,
                    120,
                    120,
                    150,
                    150,
                    30,
                    30,
                    60,
                    60,
                    90,
                    90,
                    120,
                    120,
                    150,
                    150,
                    30,
                    30,
                    60,
                    60,
                    90,
                    90,
                    120,
                    120,
                    150,
                    150,
                    30,
                    30,
                    60,
                    60,
                    90,
                    90,
                    120,
                    120,
                    150,
                    150,
                    30,
                    30,
                    60,
                    60,
                    90,
                    90,
                    120,
                    120,
                    150,
                    150,
                    30,
                    30,
                    60,
                    60,
                    90,
                    90,
                    120,
                    120,
                    150,
                    150,
                    30,
                    30,
                    60,
                    60,
                    90,
                    90,
                    120,
                    120,
                    150,
                    150,
                    30,
                    30,
                    60,
                    60,
                    90,
                    90,
                    120,
                    120,
                    150,
                    150,
                    30,
                    30,
                    60,
                    60,
                    90,
                    90,
                    120,
                    120,
                    150,
                    150,
                    30,
                    30,
                    60,
                    60,
                    90,
                    90,
                    120,
                    120,
                    150,
                    150,
                    30,
                    30,
                    60,
                    60,
                    90,
                    90,
                    120,
                    120,
                    150,
                    150,
                    30,
                    30,
                    60,
                    60,
                    90,
                    90,
                    120,
                    120,
                    150,
                    150,
                    30,
                    30,
                    60,
                    60,
                    90,
                    90,
                    120,
                    120,
                    150,
                    150,
                    30,
                    30,
                    60,
                    60,
                    90,
                    90,
                    120,
                    120,
                    150,
                    150,
                    30,
                    30,
                    60,
                    60,
                    90,
                    90,
                    120,
                    120,
                    150,
                    150,
                    30,
                    30,
                    60,
                    60,
                    90,
                    90,
                    120,
                    120,
                    150,
                    150,
                    30,
                    30,
                    60,
                    60,
                    90,
                    90,
                    120,
                    120,
                    150,
                    150,
                    30,
                    30,
                    60,
                    60,
                    90,
                    90,
                    120,
                    120,
                    150,
                    150,
                    30,
                    30,
                    60,
                    60,
                    90,
                    90,
                    120,
                    120,
                    150,
                    150,
                    30,
                    30,
                    60,
                    60,
                    90,
                    90,
                    120,
                    120,
                    150,
                    150,
                    30,
                    30,
                    60,
                    60,
                    90,
                    90,
                    120,
                    120,
                    150,
                    150,
                    30,
                    30,
                    60,
                    60,
                    90,
                    90,
                    120,
                    120,
                    150,
                    150,
                    30,
                    30,
                    60,
                    60,
                    90,
                    90,
                    120,
                    120,
                    150,
                    150,
                    30,
                    30,
                    60,
                    60,
                    90,
                    90,
                    120,
                    120,
                    150,
                    150,
                    30,
                    30,
                    60,
                    60,
                    90,
                    90,
                    120,
                    120,
                    150,
                    150,
                    30,
                    30,
                    60,
                    60,
                    90,
                    90,
                    120,
                    120,
                    150,
                    150,
                    30,
                    30,
                    60,
                    60,
                    90,
                    90,
                    120,
                    120,
                    150,
                    150,
                    30,
                    30,
                    60,
                    60,
                    90,
                    90,
                    120,
                    120,
                    150,
                    150,
                    30,
                    30,
                    60,
                    60,
                    90,
                    90,
                    120,
                    120,
                    150,
                    150,
                    30,
                    30,
                    60,
                    60,
                    90,
                    90,
                    120,
                    120,
                    150,
                    150,
                    30,
                    30,
                    60,
                    60,
                    90,
                    90,
                    120,
                    120,
                    150,
                    150,
                    30,
                    30,
                    60,
                    60,
                    90,
                    90,
                    120,
                    120,
                    150,
                    150,
                    30,
                    30,
                    60,
                    60,
                    90,
                    90,
                    120,
                    120,
                    150,
                    150,
                    30,
                    30,
                    60,
                    60,
                    90,
                    90,
                    120,
                    120,
                    150,
                    150,
                    30,
                    30,
                    60,
                    60,
                    90,
                    90,
                    120,
                    120,
                    150,
                    150,
                    30,
                    30,
                    60,
                    60,
                    90,
                    90,
                    120,
                    120,
                    150,
                    150,
                    30,
                    30,
                    60,
                    60,
                    90,
                    90,
                    120,
                    120,
                    150,
                    150,
                    30,
                    30,
                    60,
                    60,
                    90,
                    90,
                    120,
                    120,
                    150,
                    150,
                    30,
                    30,
                    60,
                    60,
                    90,
                    90,
                    120,
                    120,
                    150,
                    150,
                    30,
                    30,
                    60,
                    60,
                    90,
                    90,
                    120,
                    120,
                    150,
                    150,
                    30,
                    30,
                    60,
                    60,
                    90,
                    90,
                    120,
                    120,
                    150,
                    150,
                    30,
                    30,
                    60,
                    60,
                    90,
                    90,
                    120,
                    120,
                    150,
                    150,
                    30,
                    30,
                    60,
                    60,
                    90,
                    90,
                    120,
                    120,
                    150,
                    150,
                    30,
                    30,
                    60,
                    60,
                    90,
                    90,
                    120,
                    120,
                    150,
                    150,
                    30,
                    30,
                    60,
                    60,
                    90,
                    90,
                    120,
                    120,
                    150,
                    150,
                    30,
                    30,
                    60,
                    60,
                    90,
                    90,
                    120,
                    120,
                    150,
                    150,
                    30,
                    30,
                    60,
                    60,
                    90,
                    90,
                    120,
                    120,
                    150,
                    150,
                    30,
                    30,
                    60,
                    60,
                    90,
                    90,
                    120,
                    120,
                    150,
                    150,
                    30,
                    30,
                    60,
                    60,
                    90,
                    90,
                    120,
                    120,
                    150,
                    150,
                    30,
                    30,
                    60,
                    60,
                    90,
                    90,
                    120,
                    120,
                    150,
                    150,
                    30,
                    30,
                    60,
                    60,
                    90,
                    90,
                    120,
                    120,
                    150,
                    150,
                    30,
                    30,
                    60,
                    60,
                    90,
                    90,
                    120,
                    120,
                    150,
                    150,
                    30,
                    30,
                    60,
                    60,
                    90,
                    90,
                    120,
                    120,
                    150,
                    150,
                    30,
                    30,
                    60,
                    60,
                    90,
                    90,
                    120,
                    120,
                    150,
                    150,
                    30,
                    30,
                    60,
                    60,
                    90,
                    90,
                    120,
                    120,
                    150,
                    150,
                    30,
                    30,
                    60,
                    60,
                    90,
                    90,
                    120,
                    120,
                    150,
                    150,
                    30,
                    30,
                    60,
                    60,
                    90,
                    90,
                    120,
                    120,
                    150,
                    150,
                    30,
                    30,
                    60,
                    60,
                    90,
                    90,
                    120,
                    120,
                    150,
                    150,
                    30,
                    30,
                    60,
                    60,
                    90,
                    90,
                    120,
                    120,
                    150,
                    150,
                    30,
                    30,
                    60,
                    60,
                    90,
                    90,
                    120,
                    120,
                    150,
                    150,
                    30,
                    30,
                    60,
                    60,
                    90,
                    90,
                    120,
                    120,
                    150,
                    150,
                    30,
                    30,
                    60,
                    60,
                    90,
                    90,
                    120,
                    120,
                    150,
                    150,
                    30,
                    30,
                    60,
                    60,
                    90,
                    90,
                    120,
                    120,
                    150,
                    150,
                    30,
                    30,
                    60,
                    60,
                    90,
                    90,
                    120,
                    120,
                    150,
                    150
                  ],
                  "z": [
                    90,
                    180,
                    90,
                    180,
                    90,
                    180,
                    90,
                    180,
                    90,
                    180,
                    90,
                    180,
                    90,
                    180,
                    90,
                    180,
                    90,
                    180,
                    90,
                    180,
                    90,
                    180,
                    90,
                    180,
                    90,
                    180,
                    90,
                    180,
                    90,
                    180,
                    90,
                    180,
                    90,
                    180,
                    90,
                    180,
                    90,
                    180,
                    90,
                    180,
                    90,
                    180,
                    90,
                    180,
                    90,
                    180,
                    90,
                    180,
                    90,
                    180,
                    90,
                    180,
                    90,
                    180,
                    90,
                    180,
                    90,
                    180,
                    90,
                    180,
                    90,
                    180,
                    90,
                    180,
                    90,
                    180,
                    90,
                    180,
                    90,
                    180,
                    90,
                    180,
                    90,
                    180,
                    90,
                    180,
                    90,
                    180,
                    90,
                    180,
                    90,
                    180,
                    90,
                    180,
                    90,
                    180,
                    90,
                    180,
                    90,
                    180,
                    90,
                    180,
                    90,
                    180,
                    90,
                    180,
                    90,
                    180,
                    90,
                    180,
                    90,
                    180,
                    90,
                    180,
                    90,
                    180,
                    90,
                    180,
                    90,
                    180,
                    90,
                    180,
                    90,
                    180,
                    90,
                    180,
                    90,
                    180,
                    90,
                    180,
                    90,
                    180,
                    90,
                    180,
                    90,
                    180,
                    90,
                    180,
                    90,
                    180,
                    90,
                    180,
                    90,
                    180,
                    90,
                    180,
                    90,
                    180,
                    90,
                    180,
                    90,
                    180,
                    90,
                    180,
                    90,
                    180,
                    90,
                    180,
                    90,
                    180,
                    90,
                    180,
                    90,
                    180,
                    90,
                    180,
                    90,
                    180,
                    90,
                    180,
                    90,
                    180,
                    90,
                    180,
                    90,
                    180,
                    90,
                    180,
                    90,
                    180,
                    90,
                    180,
                    90,
                    180,
                    90,
                    180,
                    90,
                    180,
                    90,
                    180,
                    90,
                    180,
                    90,
                    180,
                    90,
                    180,
                    90,
                    180,
                    90,
                    180,
                    90,
                    180,
                    90,
                    180,
                    90,
                    180,
                    90,
                    180,
                    90,
                    180,
                    90,
                    180,
                    90,
                    180,
                    90,
                    180,
                    90,
                    180,
                    90,
                    180,
                    90,
                    180,
                    90,
                    180,
                    90,
                    180,
                    90,
                    180,
                    90,
                    180,
                    90,
                    180,
                    90,
                    180,
                    90,
                    180,
                    90,
                    180,
                    90,
                    180,
                    90,
                    180,
                    90,
                    180,
                    90,
                    180,
                    90,
                    180,
                    90,
                    180,
                    90,
                    180,
                    90,
                    180,
                    90,
                    180,
                    90,
                    180,
                    90,
                    180,
                    90,
                    180,
                    90,
                    180,
                    90,
                    180,
                    90,
                    180,
                    90,
                    180,
                    90,
                    180,
                    90,
                    180,
                    90,
                    180,
                    90,
                    180,
                    90,
                    180,
                    90,
                    180,
                    90,
                    180,
                    90,
                    180,
                    90,
                    180,
                    90,
                    180,
                    90,
                    180,
                    90,
                    180,
                    90,
                    180,
                    90,
                    180,
                    90,
                    180,
                    90,
                    180,
                    90,
                    180,
                    90,
                    180,
                    90,
                    180,
                    90,
                    180,
                    90,
                    180,
                    90,
                    180,
                    90,
                    180,
                    90,
                    180,
                    90,
                    180,
                    90,
                    180,
                    90,
                    180,
                    90,
                    180,
                    90,
                    180,
                    90,
                    180,
                    90,
                    180,
                    90,
                    180,
                    90,
                    180,
                    90,
                    180,
                    90,
                    180,
                    90,
                    180,
                    90,
                    180,
                    90,
                    180,
                    90,
                    180,
                    90,
                    180,
                    90,
                    180,
                    90,
                    180,
                    90,
                    180,
                    90,
                    180,
                    90,
                    180,
                    90,
                    180,
                    90,
                    180,
                    90,
                    180,
                    90,
                    180,
                    90,
                    180,
                    90,
                    180,
                    90,
                    180,
                    90,
                    180,
                    90,
                    180,
                    90,
                    180,
                    90,
                    180,
                    90,
                    180,
                    90,
                    180,
                    90,
                    180,
                    90,
                    180,
                    90,
                    180,
                    90,
                    180,
                    90,
                    180,
                    90,
                    180,
                    90,
                    180,
                    90,
                    180,
                    90,
                    180,
                    90,
                    180,
                    90,
                    180,
                    90,
                    180,
                    90,
                    180,
                    90,
                    180,
                    90,
                    180,
                    90,
                    180,
                    90,
                    180,
                    90,
                    180,
                    90,
                    180,
                    90,
                    180,
                    90,
                    180,
                    90,
                    180,
                    90,
                    180,
                    90,
                    180,
                    90,
                    180,
                    90,
                    180,
                    90,
                    180,
                    90,
                    180,
                    90,
                    180,
                    90,
                    180,
                    90,
                    180,
                    90,
                    180,
                    90,
                    180,
                    90,
                    180,
                    90,
                    180,
                    90,
                    180,
                    90,
                    180,
                    90,
                    180,
                    90,
                    180,
                    90,
                    180,
                    90,
                    180,
                    90,
                    180,
                    90,
                    180,
                    90,
                    180,
                    90,
                    180,
                    90,
                    180,
                    90,
                    180,
                    90,
                    180,
                    90,
                    180,
                    90,
                    180,
                    90,
                    180,
                    90,
                    180,
                    90,
                    180,
                    90,
                    180,
                    90,
                    180,
                    90,
                    180,
                    90,
                    180,
                    90,
                    180,
                    90,
                    180,
                    90,
                    180,
                    90,
                    180,
                    90,
                    180,
                    90,
                    180,
                    90,
                    180,
                    90,
                    180,
                    90,
                    180,
                    90,
                    180,
                    90,
                    180,
                    90,
                    180,
                    90,
                    180,
                    90,
                    180,
                    90,
                    180,
                    90,
                    180,
                    90,
                    180,
                    90,
                    180,
                    90,
                    180,
                    90,
                    180,
                    90,
                    180,
                    90,
                    180,
                    90,
                    180,
                    90,
                    180,
                    90,
                    180,
                    90,
                    180,
                    90,
                    180,
                    90,
                    180,
                    90,
                    180,
                    90,
                    180,
                    90,
                    180,
                    90,
                    180,
                    90,
                    180,
                    90,
                    180,
                    90,
                    180,
                    90,
                    180,
                    90,
                    180,
                    90,
                    180,
                    90,
                    180,
                    90,
                    180,
                    90,
                    180,
                    90,
                    180,
                    90,
                    180,
                    90,
                    180,
                    90,
                    180,
                    90,
                    180,
                    90,
                    180,
                    90,
                    180,
                    90,
                    180,
                    90,
                    180,
                    90,
                    180,
                    90,
                    180,
                    90,
                    180,
                    90,
                    180,
                    90,
                    180,
                    90,
                    180,
                    90,
                    180,
                    90,
                    180,
                    90,
                    180,
                    90,
                    180,
                    90,
                    180,
                    90,
                    180,
                    90,
                    180,
                    90,
                    180,
                    90,
                    180,
                    90,
                    180,
                    90,
                    180,
                    90,
                    180,
                    90,
                    180,
                    90,
                    180,
                    90,
                    180,
                    90,
                    180,
                    90,
                    180,
                    90,
                    180,
                    90,
                    180,
                    90,
                    180,
                    90,
                    180,
                    90,
                    180,
                    90,
                    180,
                    90,
                    180,
                    90,
                    180,
                    90,
                    180,
                    90,
                    180,
                    90,
                    180,
                    90,
                    180,
                    90,
                    180,
                    90,
                    180,
                    90,
                    180,
                    90,
                    180,
                    90,
                    180,
                    90,
                    180,
                    90,
                    180,
                    90,
                    180,
                    90,
                    180,
                    90,
                    180,
                    90,
                    180,
                    90,
                    180,
                    90,
                    180,
                    90,
                    180,
                    90,
                    180,
                    90,
                    180,
                    90,
                    180,
                    90,
                    180,
                    90,
                    180,
                    90,
                    180,
                    90,
                    180,
                    90,
                    180,
                    90,
                    180,
                    90,
                    180,
                    90,
                    180
                  ]
                }
              ],
              "layout": {
                "template": {
                  "data": {
                    "bar": [
                      {
                        "error_x": {
                          "color": "#2a3f5f"
                        },
                        "error_y": {
                          "color": "#2a3f5f"
                        },
                        "marker": {
                          "line": {
                            "color": "#E5ECF6",
                            "width": 0.5
                          },
                          "pattern": {
                            "fillmode": "overlay",
                            "size": 10,
                            "solidity": 0.2
                          }
                        },
                        "type": "bar"
                      }
                    ],
                    "barpolar": [
                      {
                        "marker": {
                          "line": {
                            "color": "#E5ECF6",
                            "width": 0.5
                          },
                          "pattern": {
                            "fillmode": "overlay",
                            "size": 10,
                            "solidity": 0.2
                          }
                        },
                        "type": "barpolar"
                      }
                    ],
                    "carpet": [
                      {
                        "aaxis": {
                          "endlinecolor": "#2a3f5f",
                          "gridcolor": "white",
                          "linecolor": "white",
                          "minorgridcolor": "white",
                          "startlinecolor": "#2a3f5f"
                        },
                        "baxis": {
                          "endlinecolor": "#2a3f5f",
                          "gridcolor": "white",
                          "linecolor": "white",
                          "minorgridcolor": "white",
                          "startlinecolor": "#2a3f5f"
                        },
                        "type": "carpet"
                      }
                    ],
                    "choropleth": [
                      {
                        "colorbar": {
                          "outlinewidth": 0,
                          "ticks": ""
                        },
                        "type": "choropleth"
                      }
                    ],
                    "contour": [
                      {
                        "colorbar": {
                          "outlinewidth": 0,
                          "ticks": ""
                        },
                        "colorscale": [
                          [
                            0,
                            "#0d0887"
                          ],
                          [
                            0.1111111111111111,
                            "#46039f"
                          ],
                          [
                            0.2222222222222222,
                            "#7201a8"
                          ],
                          [
                            0.3333333333333333,
                            "#9c179e"
                          ],
                          [
                            0.4444444444444444,
                            "#bd3786"
                          ],
                          [
                            0.5555555555555556,
                            "#d8576b"
                          ],
                          [
                            0.6666666666666666,
                            "#ed7953"
                          ],
                          [
                            0.7777777777777778,
                            "#fb9f3a"
                          ],
                          [
                            0.8888888888888888,
                            "#fdca26"
                          ],
                          [
                            1,
                            "#f0f921"
                          ]
                        ],
                        "type": "contour"
                      }
                    ],
                    "contourcarpet": [
                      {
                        "colorbar": {
                          "outlinewidth": 0,
                          "ticks": ""
                        },
                        "type": "contourcarpet"
                      }
                    ],
                    "heatmap": [
                      {
                        "colorbar": {
                          "outlinewidth": 0,
                          "ticks": ""
                        },
                        "colorscale": [
                          [
                            0,
                            "#0d0887"
                          ],
                          [
                            0.1111111111111111,
                            "#46039f"
                          ],
                          [
                            0.2222222222222222,
                            "#7201a8"
                          ],
                          [
                            0.3333333333333333,
                            "#9c179e"
                          ],
                          [
                            0.4444444444444444,
                            "#bd3786"
                          ],
                          [
                            0.5555555555555556,
                            "#d8576b"
                          ],
                          [
                            0.6666666666666666,
                            "#ed7953"
                          ],
                          [
                            0.7777777777777778,
                            "#fb9f3a"
                          ],
                          [
                            0.8888888888888888,
                            "#fdca26"
                          ],
                          [
                            1,
                            "#f0f921"
                          ]
                        ],
                        "type": "heatmap"
                      }
                    ],
                    "heatmapgl": [
                      {
                        "colorbar": {
                          "outlinewidth": 0,
                          "ticks": ""
                        },
                        "colorscale": [
                          [
                            0,
                            "#0d0887"
                          ],
                          [
                            0.1111111111111111,
                            "#46039f"
                          ],
                          [
                            0.2222222222222222,
                            "#7201a8"
                          ],
                          [
                            0.3333333333333333,
                            "#9c179e"
                          ],
                          [
                            0.4444444444444444,
                            "#bd3786"
                          ],
                          [
                            0.5555555555555556,
                            "#d8576b"
                          ],
                          [
                            0.6666666666666666,
                            "#ed7953"
                          ],
                          [
                            0.7777777777777778,
                            "#fb9f3a"
                          ],
                          [
                            0.8888888888888888,
                            "#fdca26"
                          ],
                          [
                            1,
                            "#f0f921"
                          ]
                        ],
                        "type": "heatmapgl"
                      }
                    ],
                    "histogram": [
                      {
                        "marker": {
                          "pattern": {
                            "fillmode": "overlay",
                            "size": 10,
                            "solidity": 0.2
                          }
                        },
                        "type": "histogram"
                      }
                    ],
                    "histogram2d": [
                      {
                        "colorbar": {
                          "outlinewidth": 0,
                          "ticks": ""
                        },
                        "colorscale": [
                          [
                            0,
                            "#0d0887"
                          ],
                          [
                            0.1111111111111111,
                            "#46039f"
                          ],
                          [
                            0.2222222222222222,
                            "#7201a8"
                          ],
                          [
                            0.3333333333333333,
                            "#9c179e"
                          ],
                          [
                            0.4444444444444444,
                            "#bd3786"
                          ],
                          [
                            0.5555555555555556,
                            "#d8576b"
                          ],
                          [
                            0.6666666666666666,
                            "#ed7953"
                          ],
                          [
                            0.7777777777777778,
                            "#fb9f3a"
                          ],
                          [
                            0.8888888888888888,
                            "#fdca26"
                          ],
                          [
                            1,
                            "#f0f921"
                          ]
                        ],
                        "type": "histogram2d"
                      }
                    ],
                    "histogram2dcontour": [
                      {
                        "colorbar": {
                          "outlinewidth": 0,
                          "ticks": ""
                        },
                        "colorscale": [
                          [
                            0,
                            "#0d0887"
                          ],
                          [
                            0.1111111111111111,
                            "#46039f"
                          ],
                          [
                            0.2222222222222222,
                            "#7201a8"
                          ],
                          [
                            0.3333333333333333,
                            "#9c179e"
                          ],
                          [
                            0.4444444444444444,
                            "#bd3786"
                          ],
                          [
                            0.5555555555555556,
                            "#d8576b"
                          ],
                          [
                            0.6666666666666666,
                            "#ed7953"
                          ],
                          [
                            0.7777777777777778,
                            "#fb9f3a"
                          ],
                          [
                            0.8888888888888888,
                            "#fdca26"
                          ],
                          [
                            1,
                            "#f0f921"
                          ]
                        ],
                        "type": "histogram2dcontour"
                      }
                    ],
                    "mesh3d": [
                      {
                        "colorbar": {
                          "outlinewidth": 0,
                          "ticks": ""
                        },
                        "type": "mesh3d"
                      }
                    ],
                    "parcoords": [
                      {
                        "line": {
                          "colorbar": {
                            "outlinewidth": 0,
                            "ticks": ""
                          }
                        },
                        "type": "parcoords"
                      }
                    ],
                    "pie": [
                      {
                        "automargin": true,
                        "type": "pie"
                      }
                    ],
                    "scatter": [
                      {
                        "fillpattern": {
                          "fillmode": "overlay",
                          "size": 10,
                          "solidity": 0.2
                        },
                        "type": "scatter"
                      }
                    ],
                    "scatter3d": [
                      {
                        "line": {
                          "colorbar": {
                            "outlinewidth": 0,
                            "ticks": ""
                          }
                        },
                        "marker": {
                          "colorbar": {
                            "outlinewidth": 0,
                            "ticks": ""
                          }
                        },
                        "type": "scatter3d"
                      }
                    ],
                    "scattercarpet": [
                      {
                        "marker": {
                          "colorbar": {
                            "outlinewidth": 0,
                            "ticks": ""
                          }
                        },
                        "type": "scattercarpet"
                      }
                    ],
                    "scattergeo": [
                      {
                        "marker": {
                          "colorbar": {
                            "outlinewidth": 0,
                            "ticks": ""
                          }
                        },
                        "type": "scattergeo"
                      }
                    ],
                    "scattergl": [
                      {
                        "marker": {
                          "colorbar": {
                            "outlinewidth": 0,
                            "ticks": ""
                          }
                        },
                        "type": "scattergl"
                      }
                    ],
                    "scattermapbox": [
                      {
                        "marker": {
                          "colorbar": {
                            "outlinewidth": 0,
                            "ticks": ""
                          }
                        },
                        "type": "scattermapbox"
                      }
                    ],
                    "scatterpolar": [
                      {
                        "marker": {
                          "colorbar": {
                            "outlinewidth": 0,
                            "ticks": ""
                          }
                        },
                        "type": "scatterpolar"
                      }
                    ],
                    "scatterpolargl": [
                      {
                        "marker": {
                          "colorbar": {
                            "outlinewidth": 0,
                            "ticks": ""
                          }
                        },
                        "type": "scatterpolargl"
                      }
                    ],
                    "scatterternary": [
                      {
                        "marker": {
                          "colorbar": {
                            "outlinewidth": 0,
                            "ticks": ""
                          }
                        },
                        "type": "scatterternary"
                      }
                    ],
                    "surface": [
                      {
                        "colorbar": {
                          "outlinewidth": 0,
                          "ticks": ""
                        },
                        "colorscale": [
                          [
                            0,
                            "#0d0887"
                          ],
                          [
                            0.1111111111111111,
                            "#46039f"
                          ],
                          [
                            0.2222222222222222,
                            "#7201a8"
                          ],
                          [
                            0.3333333333333333,
                            "#9c179e"
                          ],
                          [
                            0.4444444444444444,
                            "#bd3786"
                          ],
                          [
                            0.5555555555555556,
                            "#d8576b"
                          ],
                          [
                            0.6666666666666666,
                            "#ed7953"
                          ],
                          [
                            0.7777777777777778,
                            "#fb9f3a"
                          ],
                          [
                            0.8888888888888888,
                            "#fdca26"
                          ],
                          [
                            1,
                            "#f0f921"
                          ]
                        ],
                        "type": "surface"
                      }
                    ],
                    "table": [
                      {
                        "cells": {
                          "fill": {
                            "color": "#EBF0F8"
                          },
                          "line": {
                            "color": "white"
                          }
                        },
                        "header": {
                          "fill": {
                            "color": "#C8D4E3"
                          },
                          "line": {
                            "color": "white"
                          }
                        },
                        "type": "table"
                      }
                    ]
                  },
                  "layout": {
                    "annotationdefaults": {
                      "arrowcolor": "#2a3f5f",
                      "arrowhead": 0,
                      "arrowwidth": 1
                    },
                    "autotypenumbers": "strict",
                    "coloraxis": {
                      "colorbar": {
                        "outlinewidth": 0,
                        "ticks": ""
                      }
                    },
                    "colorscale": {
                      "diverging": [
                        [
                          0,
                          "#8e0152"
                        ],
                        [
                          0.1,
                          "#c51b7d"
                        ],
                        [
                          0.2,
                          "#de77ae"
                        ],
                        [
                          0.3,
                          "#f1b6da"
                        ],
                        [
                          0.4,
                          "#fde0ef"
                        ],
                        [
                          0.5,
                          "#f7f7f7"
                        ],
                        [
                          0.6,
                          "#e6f5d0"
                        ],
                        [
                          0.7,
                          "#b8e186"
                        ],
                        [
                          0.8,
                          "#7fbc41"
                        ],
                        [
                          0.9,
                          "#4d9221"
                        ],
                        [
                          1,
                          "#276419"
                        ]
                      ],
                      "sequential": [
                        [
                          0,
                          "#0d0887"
                        ],
                        [
                          0.1111111111111111,
                          "#46039f"
                        ],
                        [
                          0.2222222222222222,
                          "#7201a8"
                        ],
                        [
                          0.3333333333333333,
                          "#9c179e"
                        ],
                        [
                          0.4444444444444444,
                          "#bd3786"
                        ],
                        [
                          0.5555555555555556,
                          "#d8576b"
                        ],
                        [
                          0.6666666666666666,
                          "#ed7953"
                        ],
                        [
                          0.7777777777777778,
                          "#fb9f3a"
                        ],
                        [
                          0.8888888888888888,
                          "#fdca26"
                        ],
                        [
                          1,
                          "#f0f921"
                        ]
                      ],
                      "sequentialminus": [
                        [
                          0,
                          "#0d0887"
                        ],
                        [
                          0.1111111111111111,
                          "#46039f"
                        ],
                        [
                          0.2222222222222222,
                          "#7201a8"
                        ],
                        [
                          0.3333333333333333,
                          "#9c179e"
                        ],
                        [
                          0.4444444444444444,
                          "#bd3786"
                        ],
                        [
                          0.5555555555555556,
                          "#d8576b"
                        ],
                        [
                          0.6666666666666666,
                          "#ed7953"
                        ],
                        [
                          0.7777777777777778,
                          "#fb9f3a"
                        ],
                        [
                          0.8888888888888888,
                          "#fdca26"
                        ],
                        [
                          1,
                          "#f0f921"
                        ]
                      ]
                    },
                    "colorway": [
                      "#636efa",
                      "#EF553B",
                      "#00cc96",
                      "#ab63fa",
                      "#FFA15A",
                      "#19d3f3",
                      "#FF6692",
                      "#B6E880",
                      "#FF97FF",
                      "#FECB52"
                    ],
                    "font": {
                      "color": "#2a3f5f"
                    },
                    "geo": {
                      "bgcolor": "white",
                      "lakecolor": "white",
                      "landcolor": "#E5ECF6",
                      "showlakes": true,
                      "showland": true,
                      "subunitcolor": "white"
                    },
                    "hoverlabel": {
                      "align": "left"
                    },
                    "hovermode": "closest",
                    "mapbox": {
                      "style": "light"
                    },
                    "paper_bgcolor": "white",
                    "plot_bgcolor": "#E5ECF6",
                    "polar": {
                      "angularaxis": {
                        "gridcolor": "white",
                        "linecolor": "white",
                        "ticks": ""
                      },
                      "bgcolor": "#E5ECF6",
                      "radialaxis": {
                        "gridcolor": "white",
                        "linecolor": "white",
                        "ticks": ""
                      }
                    },
                    "scene": {
                      "xaxis": {
                        "backgroundcolor": "#E5ECF6",
                        "gridcolor": "white",
                        "gridwidth": 2,
                        "linecolor": "white",
                        "showbackground": true,
                        "ticks": "",
                        "zerolinecolor": "white"
                      },
                      "yaxis": {
                        "backgroundcolor": "#E5ECF6",
                        "gridcolor": "white",
                        "gridwidth": 2,
                        "linecolor": "white",
                        "showbackground": true,
                        "ticks": "",
                        "zerolinecolor": "white"
                      },
                      "zaxis": {
                        "backgroundcolor": "#E5ECF6",
                        "gridcolor": "white",
                        "gridwidth": 2,
                        "linecolor": "white",
                        "showbackground": true,
                        "ticks": "",
                        "zerolinecolor": "white"
                      }
                    },
                    "shapedefaults": {
                      "line": {
                        "color": "#2a3f5f"
                      }
                    },
                    "ternary": {
                      "aaxis": {
                        "gridcolor": "white",
                        "linecolor": "white",
                        "ticks": ""
                      },
                      "baxis": {
                        "gridcolor": "white",
                        "linecolor": "white",
                        "ticks": ""
                      },
                      "bgcolor": "#E5ECF6",
                      "caxis": {
                        "gridcolor": "white",
                        "linecolor": "white",
                        "ticks": ""
                      }
                    },
                    "title": {
                      "x": 0.05
                    },
                    "xaxis": {
                      "automargin": true,
                      "gridcolor": "white",
                      "linecolor": "white",
                      "ticks": "",
                      "title": {
                        "standoff": 15
                      },
                      "zerolinecolor": "white",
                      "zerolinewidth": 2
                    },
                    "yaxis": {
                      "automargin": true,
                      "gridcolor": "white",
                      "linecolor": "white",
                      "ticks": "",
                      "title": {
                        "standoff": 15
                      },
                      "zerolinecolor": "white",
                      "zerolinewidth": 2
                    }
                  }
                }
              }
            }
          },
          "metadata": {},
          "output_type": "display_data"
        }
      ],
      "source": [
        "fig = go.Figure(data=[go.Scatter3d(\n",
        "    x=x_values,\n",
        "    y=y_values,\n",
        "    z=z_values,\n",
        "    mode='markers',\n",
        "    marker=dict(\n",
        "        size=12,\n",
        "        color=energy_values,                # set color to an array/list of desired values\n",
        "        colorscale='Viridis',   # choose a colorscale\n",
        "        opacity=0.8\n",
        "    )\n",
        ")])\n",
        "\n",
        "fig.show()"
      ]
    },
    {
      "cell_type": "code",
      "execution_count": 12,
      "metadata": {
        "colab": {
          "base_uri": "https://localhost:8080/",
          "height": 1000
        },
        "id": "2Laf8UM2__f7",
        "outputId": "ae697733-3955-4688-9302-efd7803cb79c"
      },
      "outputs": [
        {
          "name": "stdout",
          "output_type": "stream",
          "text": [
            "[ 1.          0.97966323  0.91948007  0.8218984   0.69088721  0.53177518\n",
            "  0.35103397  0.15601496 -0.04534973 -0.24486989 -0.43443032 -0.60632092\n",
            " -0.75355031 -0.87013012 -0.95131866 -0.9938137  -0.9958868  -0.95745366\n",
            " -0.88007748 -0.76690542 -0.6225406  -0.45285485 -0.26474988 -0.06587659\n",
            "  0.13567613  0.33171042  0.51425287  0.67587883  0.8100144   0.91120382\n",
            "  0.97533134  0.99978867  0.98358105  0.9273677   0.83343502  0.70560358\n",
            "  0.54907273  0.37020915  0.17628785 -0.0248037  -0.2248864  -0.41582217\n",
            " -0.58984498 -0.7398767  -0.859815   -0.94478159 -0.99132055 -0.99753899\n",
            " -0.96318398 -0.88965286 -0.7799364  -0.63849716 -0.47108797 -0.28451797\n",
            " -0.08637561  0.11527995  0.31224667  0.4965132   0.66058479  0.79778804\n",
            "  0.90254243  0.97058721  0.99915477  0.98708316  0.93486337  0.84461938\n",
            "  0.72002171  0.56613821  0.38922786  0.19648623 -0.00424719 -0.20480786\n",
            " -0.39703827 -0.57311973 -0.72589037 -0.84913647 -0.93784519 -0.98840841\n",
            " -0.99876955 -0.9685072  -0.89885222 -0.79263773 -0.65418385 -0.48912199\n",
            " -0.30416581 -0.10683812  0.09483505  0.29265094  0.47856368  0.64501154\n",
            "  0.78522449  0.89349958  0.96543286  0.99809857  0.99016807  0.94196391\n",
            "  0.85544675  0.73413553  0.58296441  0.40808206]\n",
            "[ 0.          0.20064886  0.39313661  0.56963411  0.72296256  0.84688556\n",
            "  0.93636273  0.98775469  0.99897117  0.96955595  0.90070545  0.79522006\n",
            "  0.65739025  0.49282204  0.30820902  0.11106004 -0.09060615 -0.28858706\n",
            " -0.47483011 -0.64176014 -0.7825875  -0.89158426 -0.96431712 -0.99782778\n",
            " -0.99075324 -0.94338126 -0.85763861 -0.73701276 -0.58640998 -0.41195583\n",
            " -0.22074597 -0.0205576   0.18046693  0.37415123  0.55261747  0.7086068\n",
            "  0.83577457  0.92894843  0.98433866  0.99969234  0.97438499  0.90944594\n",
            "  0.8075165   0.6727425   0.51060568  0.32770071  0.13146699 -0.07011396\n",
            " -0.26884313 -0.45663749 -0.62585878 -0.76962418 -0.88208623 -0.95867071\n",
            " -0.99626264 -0.99333304 -0.95000106 -0.86802917 -0.75075145 -0.60293801\n",
            " -0.43060093 -0.24074979 -0.0411065   0.16020873  0.35500771  0.53536727\n",
            "  0.69395153  0.82431033  0.9211415   0.98050658  0.99999098  0.9788022\n",
            "  0.91780205  0.81947165  0.68781042  0.5281735   0.34705389  0.15181837\n",
            " -0.04959214 -0.24898556 -0.43825186 -0.6096929  -0.75633557 -0.87221538\n",
            " -0.95261911 -0.99427643 -0.995493   -0.95621934 -0.87805285 -0.76417283\n",
            " -0.61921119 -0.44906404 -0.26065185 -0.06163804  0.13988282  0.33571414\n",
            "  0.51789078  0.67900297  0.81249769  0.91294525]\n",
            "[ 0.          0.2020202   0.4040404   0.60606061  0.80808081  1.01010101\n",
            "  1.21212121  1.41414141  1.61616162  1.81818182  2.02020202  2.22222222\n",
            "  2.42424242  2.62626263  2.82828283  3.03030303  3.23232323  3.43434343\n",
            "  3.63636364  3.83838384  4.04040404  4.24242424  4.44444444  4.64646465\n",
            "  4.84848485  5.05050505  5.25252525  5.45454545  5.65656566  5.85858586\n",
            "  6.06060606  6.26262626  6.46464646  6.66666667  6.86868687  7.07070707\n",
            "  7.27272727  7.47474747  7.67676768  7.87878788  8.08080808  8.28282828\n",
            "  8.48484848  8.68686869  8.88888889  9.09090909  9.29292929  9.49494949\n",
            "  9.6969697   9.8989899  10.1010101  10.3030303  10.50505051 10.70707071\n",
            " 10.90909091 11.11111111 11.31313131 11.51515152 11.71717172 11.91919192\n",
            " 12.12121212 12.32323232 12.52525253 12.72727273 12.92929293 13.13131313\n",
            " 13.33333333 13.53535354 13.73737374 13.93939394 14.14141414 14.34343434\n",
            " 14.54545455 14.74747475 14.94949495 15.15151515 15.35353535 15.55555556\n",
            " 15.75757576 15.95959596 16.16161616 16.36363636 16.56565657 16.76767677\n",
            " 16.96969697 17.17171717 17.37373737 17.57575758 17.77777778 17.97979798\n",
            " 18.18181818 18.38383838 18.58585859 18.78787879 18.98989899 19.19191919\n",
            " 19.39393939 19.5959596  19.7979798  20.        ]\n"
          ]
        },
        {
          "data": {
            "application/vnd.plotly.v1+json": {
              "config": {
                "plotlyServerURL": "https://plot.ly"
              },
              "data": [
                {
                  "marker": {
                    "color": [
                      0,
                      0.20202020202020202,
                      0.40404040404040403,
                      0.6060606060606061,
                      0.8080808080808081,
                      1.0101010101010102,
                      1.2121212121212122,
                      1.4141414141414141,
                      1.6161616161616161,
                      1.8181818181818181,
                      2.0202020202020203,
                      2.2222222222222223,
                      2.4242424242424243,
                      2.6262626262626263,
                      2.8282828282828283,
                      3.0303030303030303,
                      3.2323232323232323,
                      3.4343434343434343,
                      3.6363636363636362,
                      3.8383838383838382,
                      4.040404040404041,
                      4.242424242424242,
                      4.444444444444445,
                      4.646464646464646,
                      4.848484848484849,
                      5.05050505050505,
                      5.252525252525253,
                      5.454545454545454,
                      5.656565656565657,
                      5.858585858585858,
                      6.0606060606060606,
                      6.262626262626262,
                      6.4646464646464645,
                      6.666666666666667,
                      6.8686868686868685,
                      7.070707070707071,
                      7.2727272727272725,
                      7.474747474747475,
                      7.6767676767676765,
                      7.878787878787879,
                      8.080808080808081,
                      8.282828282828282,
                      8.484848484848484,
                      8.686868686868687,
                      8.88888888888889,
                      9.09090909090909,
                      9.292929292929292,
                      9.494949494949495,
                      9.696969696969697,
                      9.8989898989899,
                      10.1010101010101,
                      10.303030303030303,
                      10.505050505050505,
                      10.707070707070708,
                      10.909090909090908,
                      11.11111111111111,
                      11.313131313131313,
                      11.515151515151516,
                      11.717171717171716,
                      11.919191919191919,
                      12.121212121212121,
                      12.323232323232324,
                      12.525252525252524,
                      12.727272727272727,
                      12.929292929292929,
                      13.131313131313131,
                      13.333333333333334,
                      13.535353535353535,
                      13.737373737373737,
                      13.93939393939394,
                      14.141414141414142,
                      14.343434343434343,
                      14.545454545454545,
                      14.747474747474747,
                      14.94949494949495,
                      15.15151515151515,
                      15.353535353535353,
                      15.555555555555555,
                      15.757575757575758,
                      15.959595959595958,
                      16.161616161616163,
                      16.363636363636363,
                      16.565656565656564,
                      16.767676767676768,
                      16.96969696969697,
                      17.171717171717173,
                      17.373737373737374,
                      17.575757575757574,
                      17.77777777777778,
                      17.97979797979798,
                      18.18181818181818,
                      18.383838383838384,
                      18.585858585858585,
                      18.78787878787879,
                      18.98989898989899,
                      19.19191919191919,
                      19.393939393939394,
                      19.595959595959595,
                      19.7979797979798,
                      20
                    ],
                    "colorscale": [
                      [
                        0,
                        "#440154"
                      ],
                      [
                        0.1111111111111111,
                        "#482878"
                      ],
                      [
                        0.2222222222222222,
                        "#3e4989"
                      ],
                      [
                        0.3333333333333333,
                        "#31688e"
                      ],
                      [
                        0.4444444444444444,
                        "#26828e"
                      ],
                      [
                        0.5555555555555556,
                        "#1f9e89"
                      ],
                      [
                        0.6666666666666666,
                        "#35b779"
                      ],
                      [
                        0.7777777777777778,
                        "#6ece58"
                      ],
                      [
                        0.8888888888888888,
                        "#b5de2b"
                      ],
                      [
                        1,
                        "#fde725"
                      ]
                    ],
                    "opacity": 0.8,
                    "size": 12
                  },
                  "mode": "markers",
                  "type": "scatter3d",
                  "x": [
                    1,
                    0.9796632259996998,
                    0.9194800727522776,
                    0.82189840263017,
                    0.6908872083770674,
                    0.5317751800910392,
                    0.3510339684920502,
                    0.15601495992575853,
                    -0.04534973060188524,
                    -0.24486988668507892,
                    -0.43443031567828566,
                    -0.6063209223738354,
                    -0.7535503059294446,
                    -0.8701301249459654,
                    -0.9513186645587279,
                    -0.993813698804694,
                    -0.9958868038686729,
                    -0.9574536592123348,
                    -0.8800774771896732,
                    -0.7669054216542901,
                    -0.6225406016393301,
                    -0.45285484658127084,
                    -0.2647498781834829,
                    -0.06587659290724678,
                    0.13567612713271912,
                    0.33171041770321597,
                    0.5142528686769626,
                    0.6758788309121296,
                    0.810014403075603,
                    0.9112038155344026,
                    0.9753313358637337,
                    0.9997886702873213,
                    0.983581052239521,
                    0.9273677030509753,
                    0.8334350190781794,
                    0.7056035758515253,
                    0.5490727317130796,
                    0.3702091514654802,
                    0.17628785152548898,
                    -0.02480370080544784,
                    -0.22488639862108173,
                    -0.41582216870771727,
                    -0.5898449758557073,
                    -0.7398766950653171,
                    -0.859815004003662,
                    -0.9447815861050266,
                    -0.9913205490138658,
                    -0.9975389879884077,
                    -0.9631839770525324,
                    -0.8896528563926016,
                    -0.779936397574316,
                    -0.638497158251875,
                    -0.4710879741150293,
                    -0.2845179706505102,
                    -0.08637561184970585,
                    0.11527994954575044,
                    0.3122466663798508,
                    0.4965132034409228,
                    0.6605847868889071,
                    0.7977880432989004,
                    0.9025424294354707,
                    0.9705872127458185,
                    0.9991547704697801,
                    0.9870831586770104,
                    0.9348633726492067,
                    0.8446193763599521,
                    0.7200217133240836,
                    0.5661382125698547,
                    0.38922786205169047,
                    0.19648623340319554,
                    -0.004247187491081489,
                    -0.20480786020107072,
                    -0.3970382705782732,
                    -0.5731197257990347,
                    -0.7258903683424182,
                    -0.8491364741458517,
                    -0.9378451868090543,
                    -0.9884084082494465,
                    -0.9987695528527076,
                    -0.9685071961064762,
                    -0.8988522154304799,
                    -0.7926377260247273,
                    -0.6541838480224215,
                    -0.48912199187635547,
                    -0.30416580891556017,
                    -0.106838123325693,
                    0.09483504780155239,
                    0.29265094105990214,
                    0.47856368221963436,
                    0.645011540479259,
                    0.7852244908862596,
                    0.8934995752719529,
                    0.9654328617943044,
                    0.9980985684711091,
                    0.9901680651138731,
                    0.9419639134315667,
                    0.8554467473014667,
                    0.7341355268330447,
                    0.5829644097750302,
                    0.408082061813392
                  ],
                  "y": [
                    0,
                    0.2006488565226854,
                    0.3931366121483298,
                    0.5696341069089657,
                    0.7229625614794605,
                    0.8468855636029834,
                    0.9363627251042848,
                    0.9877546923600838,
                    0.9989711717233568,
                    0.9695559491823237,
                    0.9007054462029555,
                    0.7952200570230491,
                    0.6573902466827755,
                    0.4928220425889235,
                    0.30820901749007684,
                    0.11106003812412972,
                    -0.09060614703340773,
                    -0.28858705872043244,
                    -0.47483011082223947,
                    -0.6417601376193878,
                    -0.7825875026542022,
                    -0.8915842573351402,
                    -0.9643171169287782,
                    -0.9978277779792126,
                    -0.9907532430056771,
                    -0.9433812584459996,
                    -0.8576386109880517,
                    -0.7370127583189133,
                    -0.5864099818472351,
                    -0.4119558308308628,
                    -0.22074597455506334,
                    -0.020557596287260064,
                    0.18046693235991093,
                    0.37415123057121996,
                    0.5526174707464059,
                    0.7086067976992182,
                    0.8357745720522589,
                    0.9289484292312513,
                    0.9843386578838236,
                    0.9996923408861117,
                    0.9743849894755358,
                    0.9094459434244625,
                    0.8075165041395626,
                    0.6727425035622647,
                    0.510605678474283,
                    0.32770070881349983,
                    0.13146698864295842,
                    -0.07011396040064677,
                    -0.26884312591038406,
                    -0.45663748763377376,
                    -0.6258587825850161,
                    -0.769624180301191,
                    -0.8820862319774624,
                    -0.9586707069567294,
                    -0.9962626429198221,
                    -0.9933330424549106,
                    -0.9500010628071266,
                    -0.8680291693306353,
                    -0.7507514497694541,
                    -0.6029380050795535,
                    -0.43060093249866344,
                    -0.2407497922206855,
                    -0.04110650371268662,
                    0.1602087321472088,
                    0.3550077104499993,
                    0.5353672656012185,
                    0.6939515345770562,
                    0.8243103325011825,
                    0.9211415045489321,
                    0.9805065833960652,
                    0.9999909806585335,
                    0.9788021967690197,
                    0.9178020547461276,
                    0.8194716467944692,
                    0.6878104194817846,
                    0.5281735020569958,
                    0.3470538943436452,
                    0.15181837339991294,
                    -0.04959213944167377,
                    -0.24898556401922536,
                    -0.43825186230718777,
                    -0.609692902437243,
                    -0.7563355690343919,
                    -0.8722153845598611,
                    -0.9526191057745708,
                    -0.9942764280642703,
                    -0.9954930003312314,
                    -0.9562193402649591,
                    -0.8780528469633162,
                    -0.7641728290436485,
                    -0.6192111908811196,
                    -0.4490640366237758,
                    -0.26065185471747443,
                    -0.06163803708687286,
                    0.13988281820384094,
                    0.3357141429738816,
                    0.5178907824351969,
                    0.6790029662980626,
                    0.8124976904186563,
                    0.9129452507276277
                  ],
                  "z": [
                    0,
                    0.20202020202020202,
                    0.40404040404040403,
                    0.6060606060606061,
                    0.8080808080808081,
                    1.0101010101010102,
                    1.2121212121212122,
                    1.4141414141414141,
                    1.6161616161616161,
                    1.8181818181818181,
                    2.0202020202020203,
                    2.2222222222222223,
                    2.4242424242424243,
                    2.6262626262626263,
                    2.8282828282828283,
                    3.0303030303030303,
                    3.2323232323232323,
                    3.4343434343434343,
                    3.6363636363636362,
                    3.8383838383838382,
                    4.040404040404041,
                    4.242424242424242,
                    4.444444444444445,
                    4.646464646464646,
                    4.848484848484849,
                    5.05050505050505,
                    5.252525252525253,
                    5.454545454545454,
                    5.656565656565657,
                    5.858585858585858,
                    6.0606060606060606,
                    6.262626262626262,
                    6.4646464646464645,
                    6.666666666666667,
                    6.8686868686868685,
                    7.070707070707071,
                    7.2727272727272725,
                    7.474747474747475,
                    7.6767676767676765,
                    7.878787878787879,
                    8.080808080808081,
                    8.282828282828282,
                    8.484848484848484,
                    8.686868686868687,
                    8.88888888888889,
                    9.09090909090909,
                    9.292929292929292,
                    9.494949494949495,
                    9.696969696969697,
                    9.8989898989899,
                    10.1010101010101,
                    10.303030303030303,
                    10.505050505050505,
                    10.707070707070708,
                    10.909090909090908,
                    11.11111111111111,
                    11.313131313131313,
                    11.515151515151516,
                    11.717171717171716,
                    11.919191919191919,
                    12.121212121212121,
                    12.323232323232324,
                    12.525252525252524,
                    12.727272727272727,
                    12.929292929292929,
                    13.131313131313131,
                    13.333333333333334,
                    13.535353535353535,
                    13.737373737373737,
                    13.93939393939394,
                    14.141414141414142,
                    14.343434343434343,
                    14.545454545454545,
                    14.747474747474747,
                    14.94949494949495,
                    15.15151515151515,
                    15.353535353535353,
                    15.555555555555555,
                    15.757575757575758,
                    15.959595959595958,
                    16.161616161616163,
                    16.363636363636363,
                    16.565656565656564,
                    16.767676767676768,
                    16.96969696969697,
                    17.171717171717173,
                    17.373737373737374,
                    17.575757575757574,
                    17.77777777777778,
                    17.97979797979798,
                    18.18181818181818,
                    18.383838383838384,
                    18.585858585858585,
                    18.78787878787879,
                    18.98989898989899,
                    19.19191919191919,
                    19.393939393939394,
                    19.595959595959595,
                    19.7979797979798,
                    20
                  ]
                }
              ],
              "layout": {
                "margin": {
                  "b": 0,
                  "l": 0,
                  "r": 0,
                  "t": 0
                },
                "template": {
                  "data": {
                    "bar": [
                      {
                        "error_x": {
                          "color": "#2a3f5f"
                        },
                        "error_y": {
                          "color": "#2a3f5f"
                        },
                        "marker": {
                          "line": {
                            "color": "#E5ECF6",
                            "width": 0.5
                          },
                          "pattern": {
                            "fillmode": "overlay",
                            "size": 10,
                            "solidity": 0.2
                          }
                        },
                        "type": "bar"
                      }
                    ],
                    "barpolar": [
                      {
                        "marker": {
                          "line": {
                            "color": "#E5ECF6",
                            "width": 0.5
                          },
                          "pattern": {
                            "fillmode": "overlay",
                            "size": 10,
                            "solidity": 0.2
                          }
                        },
                        "type": "barpolar"
                      }
                    ],
                    "carpet": [
                      {
                        "aaxis": {
                          "endlinecolor": "#2a3f5f",
                          "gridcolor": "white",
                          "linecolor": "white",
                          "minorgridcolor": "white",
                          "startlinecolor": "#2a3f5f"
                        },
                        "baxis": {
                          "endlinecolor": "#2a3f5f",
                          "gridcolor": "white",
                          "linecolor": "white",
                          "minorgridcolor": "white",
                          "startlinecolor": "#2a3f5f"
                        },
                        "type": "carpet"
                      }
                    ],
                    "choropleth": [
                      {
                        "colorbar": {
                          "outlinewidth": 0,
                          "ticks": ""
                        },
                        "type": "choropleth"
                      }
                    ],
                    "contour": [
                      {
                        "colorbar": {
                          "outlinewidth": 0,
                          "ticks": ""
                        },
                        "colorscale": [
                          [
                            0,
                            "#0d0887"
                          ],
                          [
                            0.1111111111111111,
                            "#46039f"
                          ],
                          [
                            0.2222222222222222,
                            "#7201a8"
                          ],
                          [
                            0.3333333333333333,
                            "#9c179e"
                          ],
                          [
                            0.4444444444444444,
                            "#bd3786"
                          ],
                          [
                            0.5555555555555556,
                            "#d8576b"
                          ],
                          [
                            0.6666666666666666,
                            "#ed7953"
                          ],
                          [
                            0.7777777777777778,
                            "#fb9f3a"
                          ],
                          [
                            0.8888888888888888,
                            "#fdca26"
                          ],
                          [
                            1,
                            "#f0f921"
                          ]
                        ],
                        "type": "contour"
                      }
                    ],
                    "contourcarpet": [
                      {
                        "colorbar": {
                          "outlinewidth": 0,
                          "ticks": ""
                        },
                        "type": "contourcarpet"
                      }
                    ],
                    "heatmap": [
                      {
                        "colorbar": {
                          "outlinewidth": 0,
                          "ticks": ""
                        },
                        "colorscale": [
                          [
                            0,
                            "#0d0887"
                          ],
                          [
                            0.1111111111111111,
                            "#46039f"
                          ],
                          [
                            0.2222222222222222,
                            "#7201a8"
                          ],
                          [
                            0.3333333333333333,
                            "#9c179e"
                          ],
                          [
                            0.4444444444444444,
                            "#bd3786"
                          ],
                          [
                            0.5555555555555556,
                            "#d8576b"
                          ],
                          [
                            0.6666666666666666,
                            "#ed7953"
                          ],
                          [
                            0.7777777777777778,
                            "#fb9f3a"
                          ],
                          [
                            0.8888888888888888,
                            "#fdca26"
                          ],
                          [
                            1,
                            "#f0f921"
                          ]
                        ],
                        "type": "heatmap"
                      }
                    ],
                    "heatmapgl": [
                      {
                        "colorbar": {
                          "outlinewidth": 0,
                          "ticks": ""
                        },
                        "colorscale": [
                          [
                            0,
                            "#0d0887"
                          ],
                          [
                            0.1111111111111111,
                            "#46039f"
                          ],
                          [
                            0.2222222222222222,
                            "#7201a8"
                          ],
                          [
                            0.3333333333333333,
                            "#9c179e"
                          ],
                          [
                            0.4444444444444444,
                            "#bd3786"
                          ],
                          [
                            0.5555555555555556,
                            "#d8576b"
                          ],
                          [
                            0.6666666666666666,
                            "#ed7953"
                          ],
                          [
                            0.7777777777777778,
                            "#fb9f3a"
                          ],
                          [
                            0.8888888888888888,
                            "#fdca26"
                          ],
                          [
                            1,
                            "#f0f921"
                          ]
                        ],
                        "type": "heatmapgl"
                      }
                    ],
                    "histogram": [
                      {
                        "marker": {
                          "pattern": {
                            "fillmode": "overlay",
                            "size": 10,
                            "solidity": 0.2
                          }
                        },
                        "type": "histogram"
                      }
                    ],
                    "histogram2d": [
                      {
                        "colorbar": {
                          "outlinewidth": 0,
                          "ticks": ""
                        },
                        "colorscale": [
                          [
                            0,
                            "#0d0887"
                          ],
                          [
                            0.1111111111111111,
                            "#46039f"
                          ],
                          [
                            0.2222222222222222,
                            "#7201a8"
                          ],
                          [
                            0.3333333333333333,
                            "#9c179e"
                          ],
                          [
                            0.4444444444444444,
                            "#bd3786"
                          ],
                          [
                            0.5555555555555556,
                            "#d8576b"
                          ],
                          [
                            0.6666666666666666,
                            "#ed7953"
                          ],
                          [
                            0.7777777777777778,
                            "#fb9f3a"
                          ],
                          [
                            0.8888888888888888,
                            "#fdca26"
                          ],
                          [
                            1,
                            "#f0f921"
                          ]
                        ],
                        "type": "histogram2d"
                      }
                    ],
                    "histogram2dcontour": [
                      {
                        "colorbar": {
                          "outlinewidth": 0,
                          "ticks": ""
                        },
                        "colorscale": [
                          [
                            0,
                            "#0d0887"
                          ],
                          [
                            0.1111111111111111,
                            "#46039f"
                          ],
                          [
                            0.2222222222222222,
                            "#7201a8"
                          ],
                          [
                            0.3333333333333333,
                            "#9c179e"
                          ],
                          [
                            0.4444444444444444,
                            "#bd3786"
                          ],
                          [
                            0.5555555555555556,
                            "#d8576b"
                          ],
                          [
                            0.6666666666666666,
                            "#ed7953"
                          ],
                          [
                            0.7777777777777778,
                            "#fb9f3a"
                          ],
                          [
                            0.8888888888888888,
                            "#fdca26"
                          ],
                          [
                            1,
                            "#f0f921"
                          ]
                        ],
                        "type": "histogram2dcontour"
                      }
                    ],
                    "mesh3d": [
                      {
                        "colorbar": {
                          "outlinewidth": 0,
                          "ticks": ""
                        },
                        "type": "mesh3d"
                      }
                    ],
                    "parcoords": [
                      {
                        "line": {
                          "colorbar": {
                            "outlinewidth": 0,
                            "ticks": ""
                          }
                        },
                        "type": "parcoords"
                      }
                    ],
                    "pie": [
                      {
                        "automargin": true,
                        "type": "pie"
                      }
                    ],
                    "scatter": [
                      {
                        "fillpattern": {
                          "fillmode": "overlay",
                          "size": 10,
                          "solidity": 0.2
                        },
                        "type": "scatter"
                      }
                    ],
                    "scatter3d": [
                      {
                        "line": {
                          "colorbar": {
                            "outlinewidth": 0,
                            "ticks": ""
                          }
                        },
                        "marker": {
                          "colorbar": {
                            "outlinewidth": 0,
                            "ticks": ""
                          }
                        },
                        "type": "scatter3d"
                      }
                    ],
                    "scattercarpet": [
                      {
                        "marker": {
                          "colorbar": {
                            "outlinewidth": 0,
                            "ticks": ""
                          }
                        },
                        "type": "scattercarpet"
                      }
                    ],
                    "scattergeo": [
                      {
                        "marker": {
                          "colorbar": {
                            "outlinewidth": 0,
                            "ticks": ""
                          }
                        },
                        "type": "scattergeo"
                      }
                    ],
                    "scattergl": [
                      {
                        "marker": {
                          "colorbar": {
                            "outlinewidth": 0,
                            "ticks": ""
                          }
                        },
                        "type": "scattergl"
                      }
                    ],
                    "scattermapbox": [
                      {
                        "marker": {
                          "colorbar": {
                            "outlinewidth": 0,
                            "ticks": ""
                          }
                        },
                        "type": "scattermapbox"
                      }
                    ],
                    "scatterpolar": [
                      {
                        "marker": {
                          "colorbar": {
                            "outlinewidth": 0,
                            "ticks": ""
                          }
                        },
                        "type": "scatterpolar"
                      }
                    ],
                    "scatterpolargl": [
                      {
                        "marker": {
                          "colorbar": {
                            "outlinewidth": 0,
                            "ticks": ""
                          }
                        },
                        "type": "scatterpolargl"
                      }
                    ],
                    "scatterternary": [
                      {
                        "marker": {
                          "colorbar": {
                            "outlinewidth": 0,
                            "ticks": ""
                          }
                        },
                        "type": "scatterternary"
                      }
                    ],
                    "surface": [
                      {
                        "colorbar": {
                          "outlinewidth": 0,
                          "ticks": ""
                        },
                        "colorscale": [
                          [
                            0,
                            "#0d0887"
                          ],
                          [
                            0.1111111111111111,
                            "#46039f"
                          ],
                          [
                            0.2222222222222222,
                            "#7201a8"
                          ],
                          [
                            0.3333333333333333,
                            "#9c179e"
                          ],
                          [
                            0.4444444444444444,
                            "#bd3786"
                          ],
                          [
                            0.5555555555555556,
                            "#d8576b"
                          ],
                          [
                            0.6666666666666666,
                            "#ed7953"
                          ],
                          [
                            0.7777777777777778,
                            "#fb9f3a"
                          ],
                          [
                            0.8888888888888888,
                            "#fdca26"
                          ],
                          [
                            1,
                            "#f0f921"
                          ]
                        ],
                        "type": "surface"
                      }
                    ],
                    "table": [
                      {
                        "cells": {
                          "fill": {
                            "color": "#EBF0F8"
                          },
                          "line": {
                            "color": "white"
                          }
                        },
                        "header": {
                          "fill": {
                            "color": "#C8D4E3"
                          },
                          "line": {
                            "color": "white"
                          }
                        },
                        "type": "table"
                      }
                    ]
                  },
                  "layout": {
                    "annotationdefaults": {
                      "arrowcolor": "#2a3f5f",
                      "arrowhead": 0,
                      "arrowwidth": 1
                    },
                    "autotypenumbers": "strict",
                    "coloraxis": {
                      "colorbar": {
                        "outlinewidth": 0,
                        "ticks": ""
                      }
                    },
                    "colorscale": {
                      "diverging": [
                        [
                          0,
                          "#8e0152"
                        ],
                        [
                          0.1,
                          "#c51b7d"
                        ],
                        [
                          0.2,
                          "#de77ae"
                        ],
                        [
                          0.3,
                          "#f1b6da"
                        ],
                        [
                          0.4,
                          "#fde0ef"
                        ],
                        [
                          0.5,
                          "#f7f7f7"
                        ],
                        [
                          0.6,
                          "#e6f5d0"
                        ],
                        [
                          0.7,
                          "#b8e186"
                        ],
                        [
                          0.8,
                          "#7fbc41"
                        ],
                        [
                          0.9,
                          "#4d9221"
                        ],
                        [
                          1,
                          "#276419"
                        ]
                      ],
                      "sequential": [
                        [
                          0,
                          "#0d0887"
                        ],
                        [
                          0.1111111111111111,
                          "#46039f"
                        ],
                        [
                          0.2222222222222222,
                          "#7201a8"
                        ],
                        [
                          0.3333333333333333,
                          "#9c179e"
                        ],
                        [
                          0.4444444444444444,
                          "#bd3786"
                        ],
                        [
                          0.5555555555555556,
                          "#d8576b"
                        ],
                        [
                          0.6666666666666666,
                          "#ed7953"
                        ],
                        [
                          0.7777777777777778,
                          "#fb9f3a"
                        ],
                        [
                          0.8888888888888888,
                          "#fdca26"
                        ],
                        [
                          1,
                          "#f0f921"
                        ]
                      ],
                      "sequentialminus": [
                        [
                          0,
                          "#0d0887"
                        ],
                        [
                          0.1111111111111111,
                          "#46039f"
                        ],
                        [
                          0.2222222222222222,
                          "#7201a8"
                        ],
                        [
                          0.3333333333333333,
                          "#9c179e"
                        ],
                        [
                          0.4444444444444444,
                          "#bd3786"
                        ],
                        [
                          0.5555555555555556,
                          "#d8576b"
                        ],
                        [
                          0.6666666666666666,
                          "#ed7953"
                        ],
                        [
                          0.7777777777777778,
                          "#fb9f3a"
                        ],
                        [
                          0.8888888888888888,
                          "#fdca26"
                        ],
                        [
                          1,
                          "#f0f921"
                        ]
                      ]
                    },
                    "colorway": [
                      "#636efa",
                      "#EF553B",
                      "#00cc96",
                      "#ab63fa",
                      "#FFA15A",
                      "#19d3f3",
                      "#FF6692",
                      "#B6E880",
                      "#FF97FF",
                      "#FECB52"
                    ],
                    "font": {
                      "color": "#2a3f5f"
                    },
                    "geo": {
                      "bgcolor": "white",
                      "lakecolor": "white",
                      "landcolor": "#E5ECF6",
                      "showlakes": true,
                      "showland": true,
                      "subunitcolor": "white"
                    },
                    "hoverlabel": {
                      "align": "left"
                    },
                    "hovermode": "closest",
                    "mapbox": {
                      "style": "light"
                    },
                    "paper_bgcolor": "white",
                    "plot_bgcolor": "#E5ECF6",
                    "polar": {
                      "angularaxis": {
                        "gridcolor": "white",
                        "linecolor": "white",
                        "ticks": ""
                      },
                      "bgcolor": "#E5ECF6",
                      "radialaxis": {
                        "gridcolor": "white",
                        "linecolor": "white",
                        "ticks": ""
                      }
                    },
                    "scene": {
                      "xaxis": {
                        "backgroundcolor": "#E5ECF6",
                        "gridcolor": "white",
                        "gridwidth": 2,
                        "linecolor": "white",
                        "showbackground": true,
                        "ticks": "",
                        "zerolinecolor": "white"
                      },
                      "yaxis": {
                        "backgroundcolor": "#E5ECF6",
                        "gridcolor": "white",
                        "gridwidth": 2,
                        "linecolor": "white",
                        "showbackground": true,
                        "ticks": "",
                        "zerolinecolor": "white"
                      },
                      "zaxis": {
                        "backgroundcolor": "#E5ECF6",
                        "gridcolor": "white",
                        "gridwidth": 2,
                        "linecolor": "white",
                        "showbackground": true,
                        "ticks": "",
                        "zerolinecolor": "white"
                      }
                    },
                    "shapedefaults": {
                      "line": {
                        "color": "#2a3f5f"
                      }
                    },
                    "ternary": {
                      "aaxis": {
                        "gridcolor": "white",
                        "linecolor": "white",
                        "ticks": ""
                      },
                      "baxis": {
                        "gridcolor": "white",
                        "linecolor": "white",
                        "ticks": ""
                      },
                      "bgcolor": "#E5ECF6",
                      "caxis": {
                        "gridcolor": "white",
                        "linecolor": "white",
                        "ticks": ""
                      }
                    },
                    "title": {
                      "x": 0.05
                    },
                    "xaxis": {
                      "automargin": true,
                      "gridcolor": "white",
                      "linecolor": "white",
                      "ticks": "",
                      "title": {
                        "standoff": 15
                      },
                      "zerolinecolor": "white",
                      "zerolinewidth": 2
                    },
                    "yaxis": {
                      "automargin": true,
                      "gridcolor": "white",
                      "linecolor": "white",
                      "ticks": "",
                      "title": {
                        "standoff": 15
                      },
                      "zerolinecolor": "white",
                      "zerolinewidth": 2
                    }
                  }
                }
              }
            }
          },
          "metadata": {},
          "output_type": "display_data"
        }
      ],
      "source": [
        "import plotly.graph_objects as go\n",
        "import numpy as np\n",
        "\n",
        "# Helix equation\n",
        "t = np.linspace(0, 20, 100)\n",
        "x, y, z = np.cos(t), np.sin(t), t\n",
        "\n",
        "print (x)\n",
        "print (y)\n",
        "print (z)\n",
        "fig = go.Figure(data=[go.Scatter3d(\n",
        "    x=x,\n",
        "    y=y,\n",
        "    z=z,\n",
        "    mode='markers',\n",
        "    marker=dict(\n",
        "        size=12,\n",
        "        color=z,                # set color to an array/list of desired values\n",
        "        colorscale='Viridis',   # choose a colorscale\n",
        "        opacity=0.8\n",
        "    )\n",
        ")])\n",
        "\n",
        "# tight layout\n",
        "fig.update_layout(margin=dict(l=0, r=0, b=0, t=0))\n",
        "fig.show()"
      ]
    },
    {
      "cell_type": "code",
      "execution_count": 13,
      "metadata": {
        "colab": {
          "base_uri": "https://localhost:8080/",
          "height": 637
        },
        "id": "X2nmjqnkAv4a",
        "outputId": "adc02d5f-ff5e-4a5d-ac76-7dd10a7ddc73"
      },
      "outputs": [
        {
          "data": {
            "application/vnd.plotly.v1+json": {
              "config": {
                "plotlyServerURL": "https://plot.ly"
              },
              "data": [
                {
                  "line": {
                    "width": 5
                  },
                  "marker": {
                    "size": 13
                  },
                  "mode": "lines+markers",
                  "name": "electrostatics",
                  "type": "scatter",
                  "x": [
                    1,
                    1.1,
                    1.2000000000000002,
                    1.3000000000000003,
                    1.4000000000000004,
                    1.5000000000000004,
                    1.6000000000000005,
                    1.7000000000000006,
                    1.8000000000000007,
                    1.9000000000000008,
                    2.000000000000001,
                    2.100000000000001,
                    2.200000000000001,
                    2.300000000000001,
                    2.4000000000000012,
                    2.5000000000000013,
                    2.6000000000000014,
                    2.7000000000000015,
                    2.8000000000000016,
                    2.9000000000000017,
                    3.0000000000000018,
                    3.100000000000002,
                    3.200000000000002,
                    3.300000000000002,
                    3.400000000000002,
                    3.500000000000002,
                    3.6000000000000023,
                    3.7000000000000024,
                    3.8000000000000025,
                    3.9000000000000026,
                    4.000000000000003,
                    4.100000000000003,
                    4.200000000000003,
                    4.3000000000000025,
                    4.400000000000003,
                    4.5000000000000036,
                    4.600000000000003,
                    4.700000000000003,
                    4.800000000000003,
                    4.900000000000004,
                    5.0000000000000036,
                    5.100000000000003,
                    5.200000000000004,
                    5.300000000000004,
                    5.400000000000004,
                    5.5000000000000036,
                    5.600000000000004,
                    5.700000000000005,
                    5.800000000000004,
                    5.900000000000004,
                    6.000000000000004,
                    6.100000000000005,
                    6.200000000000005,
                    6.300000000000004,
                    6.400000000000005,
                    6.500000000000005,
                    6.600000000000005,
                    6.700000000000005,
                    6.800000000000005,
                    6.900000000000006,
                    7.000000000000005,
                    7.100000000000005,
                    7.2000000000000055,
                    7.300000000000006,
                    7.400000000000006,
                    7.500000000000005,
                    7.600000000000006,
                    7.700000000000006,
                    7.800000000000006,
                    7.900000000000006
                  ],
                  "y": [
                    -77.38861337,
                    -61.29078514,
                    -48.29131307,
                    -37.87048829,
                    -29.57198973,
                    -23.00301503,
                    -17.83226634,
                    -13.78467805,
                    -10.63388085,
                    -8.19461802,
                    -6.31595022,
                    -4.87561321,
                    -3.77536125,
                    -2.93707056,
                    -2.29932125,
                    -1.81435343,
                    -1.44536426,
                    -1.1641909,
                    -0.94937816,
                    -0.78463115,
                    -0.65759216,
                    -0.55890336,
                    -0.48150059,
                    -0.42006651,
                    -0.37062535,
                    -0.33022808,
                    -0.29670305,
                    -0.26846204,
                    -0.24434611,
                    -0.22350365,
                    -0.20530102,
                    -0.18925648,
                    -0.17499657,
                    -0.16222816,
                    -0.15072077,
                    -0.14029107,
                    -0.13079413,
                    -0.12211533,
                    -0.11416117,
                    -0.1068552,
                    -0.10013215,
                    -0.09393458,
                    -0.08821155,
                    -0.08291682,
                    -0.07800766,
                    -0.07344825,
                    -0.06920527,
                    -0.06524897,
                    -0.06155441,
                    -0.05809975,
                    -0.05486683,
                    -0.05183909,
                    -0.04900212,
                    -0.04634326,
                    -0.04385078,
                    -0.04151408,
                    -0.03932243,
                    -0.03726676,
                    -0.03533758,
                    -0.03352664,
                    -0.03182572,
                    -0.03022737,
                    -0.02872448,
                    -0.02731005,
                    -0.02597883,
                    -0.02472423,
                    -0.02354198,
                    -0.02242665,
                    -0.02137388,
                    -0.02037986,
                    -0.0194406
                  ]
                },
                {
                  "line": {
                    "width": 5
                  },
                  "marker": {
                    "size": 13
                  },
                  "mode": "lines+markers",
                  "name": "exchange",
                  "type": "scatter",
                  "x": [
                    1,
                    1.1,
                    1.2000000000000002,
                    1.3000000000000003,
                    1.4000000000000004,
                    1.5000000000000004,
                    1.6000000000000005,
                    1.7000000000000006,
                    1.8000000000000007,
                    1.9000000000000008,
                    2.000000000000001,
                    2.100000000000001,
                    2.200000000000001,
                    2.300000000000001,
                    2.4000000000000012,
                    2.5000000000000013,
                    2.6000000000000014,
                    2.7000000000000015,
                    2.8000000000000016,
                    2.9000000000000017,
                    3.0000000000000018,
                    3.100000000000002,
                    3.200000000000002,
                    3.300000000000002,
                    3.400000000000002,
                    3.500000000000002,
                    3.6000000000000023,
                    3.7000000000000024,
                    3.8000000000000025,
                    3.9000000000000026,
                    4.000000000000003,
                    4.100000000000003,
                    4.200000000000003,
                    4.3000000000000025,
                    4.400000000000003,
                    4.5000000000000036,
                    4.600000000000003,
                    4.700000000000003,
                    4.800000000000003,
                    4.900000000000004,
                    5.0000000000000036,
                    5.100000000000003,
                    5.200000000000004,
                    5.300000000000004,
                    5.400000000000004,
                    5.5000000000000036,
                    5.600000000000004,
                    5.700000000000005,
                    5.800000000000004,
                    5.900000000000004,
                    6.000000000000004,
                    6.100000000000005,
                    6.200000000000005,
                    6.300000000000004,
                    6.400000000000005,
                    6.500000000000005,
                    6.600000000000005,
                    6.700000000000005,
                    6.800000000000005,
                    6.900000000000006,
                    7.000000000000005,
                    7.100000000000005,
                    7.2000000000000055,
                    7.300000000000006,
                    7.400000000000006,
                    7.500000000000005,
                    7.600000000000006,
                    7.700000000000006,
                    7.800000000000006,
                    7.900000000000006
                  ],
                  "y": [
                    210.06425534,
                    167.53018651,
                    132.74315485,
                    104.5224822,
                    81.80485337,
                    63.64953405,
                    49.24305906,
                    37.88430223,
                    28.98621847,
                    22.06133515,
                    16.70533646,
                    12.58826872,
                    9.44279163,
                    7.05369377,
                    5.24899489,
                    3.89263191,
                    2.87788429,
                    2.1217472,
                    1.56033239,
                    1.14474668,
                    0.83798503,
                    0.61204394,
                    0.44600634,
                    0.3242527,
                    0.23515503,
                    0.1701337,
                    0.12279337,
                    0.08842016,
                    0.06353412,
                    0.04556665,
                    0.03262556,
                    0.02332523,
                    0.01665599,
                    0.01187791,
                    0.00845788,
                    0.00601033,
                    0.00425994,
                    0.00300926,
                    0.00211841,
                    0.00148593,
                    0.00103934,
                    0.0007262,
                    0.00050833,
                    0.00035783,
                    0.00025431,
                    0.00018302,
                    0.00013342,
                    0.00009821,
                    0.00007243,
                    0.0000529,
                    0.0000376,
                    0.00002538,
                    0.00001553,
                    0.00000769,
                    0.00000159,
                    -0.00000295,
                    -0.00000612,
                    -0.00000812,
                    -0.00000917,
                    -0.00000945,
                    -0.00000919,
                    -0.00000857,
                    -0.00000774,
                    -0.00000683,
                    -0.00000591,
                    -0.00000505,
                    -0.00000428,
                    -0.00000361,
                    -0.00000304,
                    -0.00000257,
                    -0.00000217
                  ]
                },
                {
                  "line": {
                    "width": 5
                  },
                  "marker": {
                    "size": 13
                  },
                  "mode": "lines+markers",
                  "name": "induction",
                  "type": "scatter",
                  "x": [
                    1,
                    1.1,
                    1.2000000000000002,
                    1.3000000000000003,
                    1.4000000000000004,
                    1.5000000000000004,
                    1.6000000000000005,
                    1.7000000000000006,
                    1.8000000000000007,
                    1.9000000000000008,
                    2.000000000000001,
                    2.100000000000001,
                    2.200000000000001,
                    2.300000000000001,
                    2.4000000000000012,
                    2.5000000000000013,
                    2.6000000000000014,
                    2.7000000000000015,
                    2.8000000000000016,
                    2.9000000000000017,
                    3.0000000000000018,
                    3.100000000000002,
                    3.200000000000002,
                    3.300000000000002,
                    3.400000000000002,
                    3.500000000000002,
                    3.6000000000000023,
                    3.7000000000000024,
                    3.8000000000000025,
                    3.9000000000000026,
                    4.000000000000003,
                    4.100000000000003,
                    4.200000000000003,
                    4.3000000000000025,
                    4.400000000000003,
                    4.5000000000000036,
                    4.600000000000003,
                    4.700000000000003,
                    4.800000000000003,
                    4.900000000000004,
                    5.0000000000000036,
                    5.100000000000003,
                    5.200000000000004,
                    5.300000000000004,
                    5.400000000000004,
                    5.5000000000000036,
                    5.600000000000004,
                    5.700000000000005,
                    5.800000000000004,
                    5.900000000000004,
                    6.000000000000004,
                    6.100000000000005,
                    6.200000000000005,
                    6.300000000000004,
                    6.400000000000005,
                    6.500000000000005,
                    6.600000000000005,
                    6.700000000000005,
                    6.800000000000005,
                    6.900000000000006,
                    7.000000000000005,
                    7.100000000000005,
                    7.2000000000000055,
                    7.300000000000006,
                    7.400000000000006,
                    7.500000000000005,
                    7.600000000000006,
                    7.700000000000006,
                    7.800000000000006,
                    7.900000000000006
                  ],
                  "y": [
                    -16.73348859,
                    -14.03708912,
                    -11.64213064,
                    -9.55417564,
                    -7.76564026,
                    -6.25787654,
                    -5.00480985,
                    -3.97658441,
                    -3.14251506,
                    -2.47285774,
                    -1.94003812,
                    -1.51943027,
                    -1.18953093,
                    -0.93203369,
                    -0.7316706,
                    -0.57595397,
                    -0.45488568,
                    -0.36062463,
                    -0.28702119,
                    -0.2294455,
                    -0.18427288,
                    -0.14877678,
                    -0.12084439,
                    -0.09882712,
                    -0.08145045,
                    -0.06768734,
                    -0.05670578,
                    -0.04788742,
                    -0.04073423,
                    -0.03487367,
                    -0.03000662,
                    -0.02593647,
                    -0.02250429,
                    -0.01956748,
                    -0.0170566,
                    -0.01489898,
                    -0.01302756,
                    -0.01139463,
                    -0.00997036,
                    -0.00872792,
                    -0.00763814,
                    -0.00668741,
                    -0.00585675,
                    -0.00513236,
                    -0.00450511,
                    -0.00396268,
                    -0.00349101,
                    -0.00308748,
                    -0.00274086,
                    -0.00244696,
                    -0.00219142,
                    -0.00197503,
                    -0.0017914,
                    -0.00163439,
                    -0.00149616,
                    -0.00137641,
                    -0.00127375,
                    -0.00118021,
                    -0.00109583,
                    -0.00101993,
                    -0.00095213,
                    -0.00088519,
                    -0.00082975,
                    -0.00077185,
                    -0.00072648,
                    -0.00067402,
                    -0.00062948,
                    -0.00058774,
                    -0.00054467,
                    -0.00051094,
                    -0.00047366
                  ]
                },
                {
                  "line": {
                    "width": 5
                  },
                  "marker": {
                    "size": 13
                  },
                  "mode": "lines+markers",
                  "name": "dispersion",
                  "type": "scatter",
                  "x": [
                    1,
                    1.1,
                    1.2000000000000002,
                    1.3000000000000003,
                    1.4000000000000004,
                    1.5000000000000004,
                    1.6000000000000005,
                    1.7000000000000006,
                    1.8000000000000007,
                    1.9000000000000008,
                    2.000000000000001,
                    2.100000000000001,
                    2.200000000000001,
                    2.300000000000001,
                    2.4000000000000012,
                    2.5000000000000013,
                    2.6000000000000014,
                    2.7000000000000015,
                    2.8000000000000016,
                    2.9000000000000017,
                    3.0000000000000018,
                    3.100000000000002,
                    3.200000000000002,
                    3.300000000000002,
                    3.400000000000002,
                    3.500000000000002,
                    3.6000000000000023,
                    3.7000000000000024,
                    3.8000000000000025,
                    3.9000000000000026,
                    4.000000000000003,
                    4.100000000000003,
                    4.200000000000003,
                    4.3000000000000025,
                    4.400000000000003,
                    4.5000000000000036,
                    4.600000000000003,
                    4.700000000000003,
                    4.800000000000003,
                    4.900000000000004,
                    5.0000000000000036,
                    5.100000000000003,
                    5.200000000000004,
                    5.300000000000004,
                    5.400000000000004,
                    5.5000000000000036,
                    5.600000000000004,
                    5.700000000000005,
                    5.800000000000004,
                    5.900000000000004,
                    6.000000000000004,
                    6.100000000000005,
                    6.200000000000005,
                    6.300000000000004,
                    6.400000000000005,
                    6.500000000000005,
                    6.600000000000005,
                    6.700000000000005,
                    6.800000000000005,
                    6.900000000000006,
                    7.000000000000005,
                    7.100000000000005,
                    7.2000000000000055,
                    7.300000000000006,
                    7.400000000000006,
                    7.500000000000005,
                    7.600000000000006,
                    7.700000000000006,
                    7.800000000000006,
                    7.900000000000006
                  ],
                  "y": [
                    -44.35657588,
                    -37.96284243,
                    -32.48276122,
                    -27.79999079,
                    -23.80637389,
                    -20.40352786,
                    -17.50409296,
                    -15.03218604,
                    -12.92288644,
                    -11.12120462,
                    -9.58079717,
                    -8.26265658,
                    -7.13390434,
                    -6.16674531,
                    -5.3376022,
                    -4.62641201,
                    -4.01605951,
                    -3.49191929,
                    -3.04148162,
                    -2.65404343,
                    -2.3204494,
                    -2.03287319,
                    -1.78463015,
                    -1.5700164,
                    -1.38417039,
                    -1.22295338,
                    -1.0828457,
                    -0.96085619,
                    -0.8544428,
                    -0.7614433,
                    -0.68001547,
                    -0.60858621,
                    -0.54580911,
                    -0.49052946,
                    -0.44175545,
                    -0.39863442,
                    -0.36043278,
                    -0.3265191,
                    -0.29634949,
                    -0.26945501,
                    -0.2454309,
                    -0.22392733,
                    -0.20464151,
                    -0.18731094,
                    -0.17170773,
                    -0.15763366,
                    -0.1449161,
                    -0.13340435,
                    -0.12296667,
                    -0.11348762,
                    -0.10486583,
                    -0.09701209,
                    -0.08984774,
                    -0.08330323,
                    -0.07731697,
                    -0.07183429,
                    -0.06680656,
                    -0.06219047,
                    -0.05794735,
                    -0.05404264,
                    -0.05044538,
                    -0.04712782,
                    -0.04406504,
                    -0.04123461,
                    -0.03861636,
                    -0.03619208,
                    -0.03394531,
                    -0.03186121,
                    -0.0299263,
                    -0.02812838,
                    -0.02645637
                  ]
                }
              ],
              "layout": {
                "bargap": 0.2,
                "height": 600,
                "legend": {
                  "bordercolor": "LightSteelBlue",
                  "borderwidth": 2,
                  "font": {
                    "family": "Arial",
                    "size": 35
                  },
                  "itemsizing": "constant",
                  "orientation": "h",
                  "x": 1.05,
                  "xanchor": "right",
                  "y": 1.02,
                  "yanchor": "bottom"
                },
                "showlegend": true,
                "template": {
                  "data": {
                    "bar": [
                      {
                        "error_x": {
                          "color": "rgb(36,36,36)"
                        },
                        "error_y": {
                          "color": "rgb(36,36,36)"
                        },
                        "marker": {
                          "line": {
                            "color": "white",
                            "width": 0.5
                          },
                          "pattern": {
                            "fillmode": "overlay",
                            "size": 10,
                            "solidity": 0.2
                          }
                        },
                        "type": "bar"
                      }
                    ],
                    "barpolar": [
                      {
                        "marker": {
                          "line": {
                            "color": "white",
                            "width": 0.5
                          },
                          "pattern": {
                            "fillmode": "overlay",
                            "size": 10,
                            "solidity": 0.2
                          }
                        },
                        "type": "barpolar"
                      }
                    ],
                    "carpet": [
                      {
                        "aaxis": {
                          "endlinecolor": "rgb(36,36,36)",
                          "gridcolor": "white",
                          "linecolor": "white",
                          "minorgridcolor": "white",
                          "startlinecolor": "rgb(36,36,36)"
                        },
                        "baxis": {
                          "endlinecolor": "rgb(36,36,36)",
                          "gridcolor": "white",
                          "linecolor": "white",
                          "minorgridcolor": "white",
                          "startlinecolor": "rgb(36,36,36)"
                        },
                        "type": "carpet"
                      }
                    ],
                    "choropleth": [
                      {
                        "colorbar": {
                          "outlinewidth": 1,
                          "tickcolor": "rgb(36,36,36)",
                          "ticks": "outside"
                        },
                        "type": "choropleth"
                      }
                    ],
                    "contour": [
                      {
                        "colorbar": {
                          "outlinewidth": 1,
                          "tickcolor": "rgb(36,36,36)",
                          "ticks": "outside"
                        },
                        "colorscale": [
                          [
                            0,
                            "#440154"
                          ],
                          [
                            0.1111111111111111,
                            "#482878"
                          ],
                          [
                            0.2222222222222222,
                            "#3e4989"
                          ],
                          [
                            0.3333333333333333,
                            "#31688e"
                          ],
                          [
                            0.4444444444444444,
                            "#26828e"
                          ],
                          [
                            0.5555555555555556,
                            "#1f9e89"
                          ],
                          [
                            0.6666666666666666,
                            "#35b779"
                          ],
                          [
                            0.7777777777777778,
                            "#6ece58"
                          ],
                          [
                            0.8888888888888888,
                            "#b5de2b"
                          ],
                          [
                            1,
                            "#fde725"
                          ]
                        ],
                        "type": "contour"
                      }
                    ],
                    "contourcarpet": [
                      {
                        "colorbar": {
                          "outlinewidth": 1,
                          "tickcolor": "rgb(36,36,36)",
                          "ticks": "outside"
                        },
                        "type": "contourcarpet"
                      }
                    ],
                    "heatmap": [
                      {
                        "colorbar": {
                          "outlinewidth": 1,
                          "tickcolor": "rgb(36,36,36)",
                          "ticks": "outside"
                        },
                        "colorscale": [
                          [
                            0,
                            "#440154"
                          ],
                          [
                            0.1111111111111111,
                            "#482878"
                          ],
                          [
                            0.2222222222222222,
                            "#3e4989"
                          ],
                          [
                            0.3333333333333333,
                            "#31688e"
                          ],
                          [
                            0.4444444444444444,
                            "#26828e"
                          ],
                          [
                            0.5555555555555556,
                            "#1f9e89"
                          ],
                          [
                            0.6666666666666666,
                            "#35b779"
                          ],
                          [
                            0.7777777777777778,
                            "#6ece58"
                          ],
                          [
                            0.8888888888888888,
                            "#b5de2b"
                          ],
                          [
                            1,
                            "#fde725"
                          ]
                        ],
                        "type": "heatmap"
                      }
                    ],
                    "heatmapgl": [
                      {
                        "colorbar": {
                          "outlinewidth": 1,
                          "tickcolor": "rgb(36,36,36)",
                          "ticks": "outside"
                        },
                        "colorscale": [
                          [
                            0,
                            "#440154"
                          ],
                          [
                            0.1111111111111111,
                            "#482878"
                          ],
                          [
                            0.2222222222222222,
                            "#3e4989"
                          ],
                          [
                            0.3333333333333333,
                            "#31688e"
                          ],
                          [
                            0.4444444444444444,
                            "#26828e"
                          ],
                          [
                            0.5555555555555556,
                            "#1f9e89"
                          ],
                          [
                            0.6666666666666666,
                            "#35b779"
                          ],
                          [
                            0.7777777777777778,
                            "#6ece58"
                          ],
                          [
                            0.8888888888888888,
                            "#b5de2b"
                          ],
                          [
                            1,
                            "#fde725"
                          ]
                        ],
                        "type": "heatmapgl"
                      }
                    ],
                    "histogram": [
                      {
                        "marker": {
                          "line": {
                            "color": "white",
                            "width": 0.6
                          }
                        },
                        "type": "histogram"
                      }
                    ],
                    "histogram2d": [
                      {
                        "colorbar": {
                          "outlinewidth": 1,
                          "tickcolor": "rgb(36,36,36)",
                          "ticks": "outside"
                        },
                        "colorscale": [
                          [
                            0,
                            "#440154"
                          ],
                          [
                            0.1111111111111111,
                            "#482878"
                          ],
                          [
                            0.2222222222222222,
                            "#3e4989"
                          ],
                          [
                            0.3333333333333333,
                            "#31688e"
                          ],
                          [
                            0.4444444444444444,
                            "#26828e"
                          ],
                          [
                            0.5555555555555556,
                            "#1f9e89"
                          ],
                          [
                            0.6666666666666666,
                            "#35b779"
                          ],
                          [
                            0.7777777777777778,
                            "#6ece58"
                          ],
                          [
                            0.8888888888888888,
                            "#b5de2b"
                          ],
                          [
                            1,
                            "#fde725"
                          ]
                        ],
                        "type": "histogram2d"
                      }
                    ],
                    "histogram2dcontour": [
                      {
                        "colorbar": {
                          "outlinewidth": 1,
                          "tickcolor": "rgb(36,36,36)",
                          "ticks": "outside"
                        },
                        "colorscale": [
                          [
                            0,
                            "#440154"
                          ],
                          [
                            0.1111111111111111,
                            "#482878"
                          ],
                          [
                            0.2222222222222222,
                            "#3e4989"
                          ],
                          [
                            0.3333333333333333,
                            "#31688e"
                          ],
                          [
                            0.4444444444444444,
                            "#26828e"
                          ],
                          [
                            0.5555555555555556,
                            "#1f9e89"
                          ],
                          [
                            0.6666666666666666,
                            "#35b779"
                          ],
                          [
                            0.7777777777777778,
                            "#6ece58"
                          ],
                          [
                            0.8888888888888888,
                            "#b5de2b"
                          ],
                          [
                            1,
                            "#fde725"
                          ]
                        ],
                        "type": "histogram2dcontour"
                      }
                    ],
                    "mesh3d": [
                      {
                        "colorbar": {
                          "outlinewidth": 1,
                          "tickcolor": "rgb(36,36,36)",
                          "ticks": "outside"
                        },
                        "type": "mesh3d"
                      }
                    ],
                    "parcoords": [
                      {
                        "line": {
                          "colorbar": {
                            "outlinewidth": 1,
                            "tickcolor": "rgb(36,36,36)",
                            "ticks": "outside"
                          }
                        },
                        "type": "parcoords"
                      }
                    ],
                    "pie": [
                      {
                        "automargin": true,
                        "type": "pie"
                      }
                    ],
                    "scatter": [
                      {
                        "fillpattern": {
                          "fillmode": "overlay",
                          "size": 10,
                          "solidity": 0.2
                        },
                        "type": "scatter"
                      }
                    ],
                    "scatter3d": [
                      {
                        "line": {
                          "colorbar": {
                            "outlinewidth": 1,
                            "tickcolor": "rgb(36,36,36)",
                            "ticks": "outside"
                          }
                        },
                        "marker": {
                          "colorbar": {
                            "outlinewidth": 1,
                            "tickcolor": "rgb(36,36,36)",
                            "ticks": "outside"
                          }
                        },
                        "type": "scatter3d"
                      }
                    ],
                    "scattercarpet": [
                      {
                        "marker": {
                          "colorbar": {
                            "outlinewidth": 1,
                            "tickcolor": "rgb(36,36,36)",
                            "ticks": "outside"
                          }
                        },
                        "type": "scattercarpet"
                      }
                    ],
                    "scattergeo": [
                      {
                        "marker": {
                          "colorbar": {
                            "outlinewidth": 1,
                            "tickcolor": "rgb(36,36,36)",
                            "ticks": "outside"
                          }
                        },
                        "type": "scattergeo"
                      }
                    ],
                    "scattergl": [
                      {
                        "marker": {
                          "colorbar": {
                            "outlinewidth": 1,
                            "tickcolor": "rgb(36,36,36)",
                            "ticks": "outside"
                          }
                        },
                        "type": "scattergl"
                      }
                    ],
                    "scattermapbox": [
                      {
                        "marker": {
                          "colorbar": {
                            "outlinewidth": 1,
                            "tickcolor": "rgb(36,36,36)",
                            "ticks": "outside"
                          }
                        },
                        "type": "scattermapbox"
                      }
                    ],
                    "scatterpolar": [
                      {
                        "marker": {
                          "colorbar": {
                            "outlinewidth": 1,
                            "tickcolor": "rgb(36,36,36)",
                            "ticks": "outside"
                          }
                        },
                        "type": "scatterpolar"
                      }
                    ],
                    "scatterpolargl": [
                      {
                        "marker": {
                          "colorbar": {
                            "outlinewidth": 1,
                            "tickcolor": "rgb(36,36,36)",
                            "ticks": "outside"
                          }
                        },
                        "type": "scatterpolargl"
                      }
                    ],
                    "scatterternary": [
                      {
                        "marker": {
                          "colorbar": {
                            "outlinewidth": 1,
                            "tickcolor": "rgb(36,36,36)",
                            "ticks": "outside"
                          }
                        },
                        "type": "scatterternary"
                      }
                    ],
                    "surface": [
                      {
                        "colorbar": {
                          "outlinewidth": 1,
                          "tickcolor": "rgb(36,36,36)",
                          "ticks": "outside"
                        },
                        "colorscale": [
                          [
                            0,
                            "#440154"
                          ],
                          [
                            0.1111111111111111,
                            "#482878"
                          ],
                          [
                            0.2222222222222222,
                            "#3e4989"
                          ],
                          [
                            0.3333333333333333,
                            "#31688e"
                          ],
                          [
                            0.4444444444444444,
                            "#26828e"
                          ],
                          [
                            0.5555555555555556,
                            "#1f9e89"
                          ],
                          [
                            0.6666666666666666,
                            "#35b779"
                          ],
                          [
                            0.7777777777777778,
                            "#6ece58"
                          ],
                          [
                            0.8888888888888888,
                            "#b5de2b"
                          ],
                          [
                            1,
                            "#fde725"
                          ]
                        ],
                        "type": "surface"
                      }
                    ],
                    "table": [
                      {
                        "cells": {
                          "fill": {
                            "color": "rgb(237,237,237)"
                          },
                          "line": {
                            "color": "white"
                          }
                        },
                        "header": {
                          "fill": {
                            "color": "rgb(217,217,217)"
                          },
                          "line": {
                            "color": "white"
                          }
                        },
                        "type": "table"
                      }
                    ]
                  },
                  "layout": {
                    "annotationdefaults": {
                      "arrowhead": 0,
                      "arrowwidth": 1
                    },
                    "autotypenumbers": "strict",
                    "coloraxis": {
                      "colorbar": {
                        "outlinewidth": 1,
                        "tickcolor": "rgb(36,36,36)",
                        "ticks": "outside"
                      }
                    },
                    "colorscale": {
                      "diverging": [
                        [
                          0,
                          "rgb(103,0,31)"
                        ],
                        [
                          0.1,
                          "rgb(178,24,43)"
                        ],
                        [
                          0.2,
                          "rgb(214,96,77)"
                        ],
                        [
                          0.3,
                          "rgb(244,165,130)"
                        ],
                        [
                          0.4,
                          "rgb(253,219,199)"
                        ],
                        [
                          0.5,
                          "rgb(247,247,247)"
                        ],
                        [
                          0.6,
                          "rgb(209,229,240)"
                        ],
                        [
                          0.7,
                          "rgb(146,197,222)"
                        ],
                        [
                          0.8,
                          "rgb(67,147,195)"
                        ],
                        [
                          0.9,
                          "rgb(33,102,172)"
                        ],
                        [
                          1,
                          "rgb(5,48,97)"
                        ]
                      ],
                      "sequential": [
                        [
                          0,
                          "#440154"
                        ],
                        [
                          0.1111111111111111,
                          "#482878"
                        ],
                        [
                          0.2222222222222222,
                          "#3e4989"
                        ],
                        [
                          0.3333333333333333,
                          "#31688e"
                        ],
                        [
                          0.4444444444444444,
                          "#26828e"
                        ],
                        [
                          0.5555555555555556,
                          "#1f9e89"
                        ],
                        [
                          0.6666666666666666,
                          "#35b779"
                        ],
                        [
                          0.7777777777777778,
                          "#6ece58"
                        ],
                        [
                          0.8888888888888888,
                          "#b5de2b"
                        ],
                        [
                          1,
                          "#fde725"
                        ]
                      ],
                      "sequentialminus": [
                        [
                          0,
                          "#440154"
                        ],
                        [
                          0.1111111111111111,
                          "#482878"
                        ],
                        [
                          0.2222222222222222,
                          "#3e4989"
                        ],
                        [
                          0.3333333333333333,
                          "#31688e"
                        ],
                        [
                          0.4444444444444444,
                          "#26828e"
                        ],
                        [
                          0.5555555555555556,
                          "#1f9e89"
                        ],
                        [
                          0.6666666666666666,
                          "#35b779"
                        ],
                        [
                          0.7777777777777778,
                          "#6ece58"
                        ],
                        [
                          0.8888888888888888,
                          "#b5de2b"
                        ],
                        [
                          1,
                          "#fde725"
                        ]
                      ]
                    },
                    "colorway": [
                      "#1F77B4",
                      "#FF7F0E",
                      "#2CA02C",
                      "#D62728",
                      "#9467BD",
                      "#8C564B",
                      "#E377C2",
                      "#7F7F7F",
                      "#BCBD22",
                      "#17BECF"
                    ],
                    "font": {
                      "color": "rgb(36,36,36)"
                    },
                    "geo": {
                      "bgcolor": "white",
                      "lakecolor": "white",
                      "landcolor": "white",
                      "showlakes": true,
                      "showland": true,
                      "subunitcolor": "white"
                    },
                    "hoverlabel": {
                      "align": "left"
                    },
                    "hovermode": "closest",
                    "mapbox": {
                      "style": "light"
                    },
                    "paper_bgcolor": "white",
                    "plot_bgcolor": "white",
                    "polar": {
                      "angularaxis": {
                        "gridcolor": "rgb(232,232,232)",
                        "linecolor": "rgb(36,36,36)",
                        "showgrid": false,
                        "showline": true,
                        "ticks": "outside"
                      },
                      "bgcolor": "white",
                      "radialaxis": {
                        "gridcolor": "rgb(232,232,232)",
                        "linecolor": "rgb(36,36,36)",
                        "showgrid": false,
                        "showline": true,
                        "ticks": "outside"
                      }
                    },
                    "scene": {
                      "xaxis": {
                        "backgroundcolor": "white",
                        "gridcolor": "rgb(232,232,232)",
                        "gridwidth": 2,
                        "linecolor": "rgb(36,36,36)",
                        "showbackground": true,
                        "showgrid": false,
                        "showline": true,
                        "ticks": "outside",
                        "zeroline": false,
                        "zerolinecolor": "rgb(36,36,36)"
                      },
                      "yaxis": {
                        "backgroundcolor": "white",
                        "gridcolor": "rgb(232,232,232)",
                        "gridwidth": 2,
                        "linecolor": "rgb(36,36,36)",
                        "showbackground": true,
                        "showgrid": false,
                        "showline": true,
                        "ticks": "outside",
                        "zeroline": false,
                        "zerolinecolor": "rgb(36,36,36)"
                      },
                      "zaxis": {
                        "backgroundcolor": "white",
                        "gridcolor": "rgb(232,232,232)",
                        "gridwidth": 2,
                        "linecolor": "rgb(36,36,36)",
                        "showbackground": true,
                        "showgrid": false,
                        "showline": true,
                        "ticks": "outside",
                        "zeroline": false,
                        "zerolinecolor": "rgb(36,36,36)"
                      }
                    },
                    "shapedefaults": {
                      "fillcolor": "black",
                      "line": {
                        "width": 0
                      },
                      "opacity": 0.3
                    },
                    "ternary": {
                      "aaxis": {
                        "gridcolor": "rgb(232,232,232)",
                        "linecolor": "rgb(36,36,36)",
                        "showgrid": false,
                        "showline": true,
                        "ticks": "outside"
                      },
                      "baxis": {
                        "gridcolor": "rgb(232,232,232)",
                        "linecolor": "rgb(36,36,36)",
                        "showgrid": false,
                        "showline": true,
                        "ticks": "outside"
                      },
                      "bgcolor": "white",
                      "caxis": {
                        "gridcolor": "rgb(232,232,232)",
                        "linecolor": "rgb(36,36,36)",
                        "showgrid": false,
                        "showline": true,
                        "ticks": "outside"
                      }
                    },
                    "title": {
                      "x": 0.05
                    },
                    "xaxis": {
                      "automargin": true,
                      "gridcolor": "rgb(232,232,232)",
                      "linecolor": "rgb(36,36,36)",
                      "showgrid": false,
                      "showline": true,
                      "ticks": "outside",
                      "title": {
                        "standoff": 15
                      },
                      "zeroline": false,
                      "zerolinecolor": "rgb(36,36,36)"
                    },
                    "yaxis": {
                      "automargin": true,
                      "gridcolor": "rgb(232,232,232)",
                      "linecolor": "rgb(36,36,36)",
                      "showgrid": false,
                      "showline": true,
                      "ticks": "outside",
                      "title": {
                        "standoff": 15
                      },
                      "zeroline": false,
                      "zerolinecolor": "rgb(36,36,36)"
                    }
                  }
                },
                "width": 1350,
                "xaxis": {
                  "range": [
                    1,
                    8
                  ],
                  "tickfont": {
                    "size": 30
                  },
                  "tickformat": "i"
                },
                "yaxis": {
                  "range": [
                    -10,
                    10
                  ],
                  "tickfont": {
                    "size": 30
                  }
                }
              }
            }
          },
          "metadata": {},
          "output_type": "display_data"
        }
      ],
      "source": [
        "# Pi Stack\n",
        "\n",
        "import numpy as np\n",
        "import plotly.graph_objects as go\n",
        "\n",
        "distances = np.arange(1.0, 8.0, 0.1)\n",
        "\n",
        "theories = {\n",
        "\n",
        "    'electrostatics': [-77.38861337, -61.29078514, -48.29131307, -37.87048829, -29.57198973, -23.00301503, -17.83226634, -13.78467805, -10.63388085, -8.19461802, -6.31595022, -4.87561321, -3.77536125, -2.93707056, -2.29932125, -1.81435343, -1.44536426, -1.1641909, -0.94937816, -0.78463115, -0.65759216, -0.55890336, -0.48150059, -0.42006651, -0.37062535, -0.33022808, -0.29670305, -0.26846204, -0.24434611, -0.22350365, -0.20530102, -0.18925648, -0.17499657, -0.16222816, -0.15072077, -0.14029107, -0.13079413, -0.12211533, -0.11416117, -0.1068552, -0.10013215, -0.09393458, -0.08821155, -0.08291682, -0.07800766, -0.07344825, -0.06920527, -0.06524897, -0.06155441, -0.05809975, -0.05486683, -0.05183909, -0.04900212, -0.04634326, -0.04385078, -0.04151408, -0.03932243, -0.03726676, -0.03533758, -0.03352664, -0.03182572, -0.03022737, -0.02872448, -0.02731005, -0.02597883, -0.02472423, -0.02354198, -0.02242665, -0.02137388, -0.02037986, -0.0194406],\n",
        "    'exchange': [210.06425534, 167.53018651, 132.74315485, 104.5224822, 81.80485337, 63.64953405, 49.24305906, 37.88430223, 28.98621847, 22.06133515, 16.70533646, 12.58826872, 9.44279163, 7.05369377, 5.24899489, 3.89263191, 2.87788429, 2.1217472, 1.56033239, 1.14474668, 0.83798503, 0.61204394, 0.44600634, 0.3242527, 0.23515503, 0.1701337, 0.12279337, 0.08842016, 0.06353412, 0.04556665, 0.03262556, 0.02332523, 0.01665599, 0.01187791, 0.00845788, 0.00601033, 0.00425994, 0.00300926, 0.00211841, 0.00148593, 0.00103934, 0.0007262, 0.00050833, 0.00035783, 0.00025431, 0.00018302, 0.00013342, 9.821e-05, 7.243e-05, 5.29e-05, 3.76e-05, 2.538e-05, 1.553e-05, 7.69e-06, 1.59e-06, -2.95e-06, -6.12e-06, -8.12e-06, -9.17e-06, -9.45e-06, -9.19e-06, -8.57e-06, -7.74e-06, -6.83e-06, -5.91e-06, -5.05e-06, -4.28e-06, -3.61e-06, -3.04e-06, -2.57e-06, -2.17e-06],\n",
        "    'induction': [-16.73348859, -14.03708912, -11.64213064, -9.55417564, -7.76564026, -6.25787654, -5.00480985, -3.97658441, -3.14251506, -2.47285774, -1.94003812, -1.51943027, -1.18953093, -0.93203369, -0.7316706, -0.57595397, -0.45488568, -0.36062463, -0.28702119, -0.2294455, -0.18427288, -0.14877678, -0.12084439, -0.09882712, -0.08145045, -0.06768734, -0.05670578, -0.04788742, -0.04073423, -0.03487367, -0.03000662, -0.02593647, -0.02250429, -0.01956748, -0.0170566, -0.01489898, -0.01302756, -0.01139463, -0.00997036, -0.00872792, -0.00763814, -0.00668741, -0.00585675, -0.00513236, -0.00450511, -0.00396268, -0.00349101, -0.00308748, -0.00274086, -0.00244696, -0.00219142, -0.00197503, -0.0017914, -0.00163439, -0.00149616, -0.00137641, -0.00127375, -0.00118021, -0.00109583, -0.00101993, -0.00095213, -0.00088519, -0.00082975, -0.00077185, -0.00072648, -0.00067402, -0.00062948, -0.00058774, -0.00054467, -0.00051094, -0.00047366],\n",
        "    'dispersion': [-44.35657588, -37.96284243, -32.48276122, -27.79999079, -23.80637389, -20.40352786, -17.50409296, -15.03218604, -12.92288644, -11.12120462, -9.58079717, -8.26265658, -7.13390434, -6.16674531, -5.3376022, -4.62641201, -4.01605951, -3.49191929, -3.04148162, -2.65404343, -2.3204494, -2.03287319, -1.78463015, -1.5700164, -1.38417039, -1.22295338, -1.0828457, -0.96085619, -0.8544428, -0.7614433, -0.68001547, -0.60858621, -0.54580911, -0.49052946, -0.44175545, -0.39863442, -0.36043278, -0.3265191, -0.29634949, -0.26945501, -0.2454309, -0.22392733, -0.20464151, -0.18731094, -0.17170773, -0.15763366, -0.1449161, -0.13340435, -0.12296667, -0.11348762, -0.10486583, -0.09701209, -0.08984774, -0.08330323, -0.07731697, -0.07183429, -0.06680656, -0.06219047, -0.05794735, -0.05404264, -0.05044538, -0.04712782, -0.04406504, -0.04123461, -0.03861636, -0.03619208, -0.03394531, -0.03186121, -0.0299263, -0.02812838, -0.02645637],\n",
        "}\n",
        "\n",
        "\n",
        "fig = go.Figure()\n",
        "\n",
        "for key,value in theories.items():\n",
        "\n",
        "    fig.add_trace(\n",
        "        go.Scatter(\n",
        "            x=list(distances), y=value,\n",
        "            mode='lines+markers',\n",
        "            name=key,\n",
        "            marker=dict(size=13)\n",
        "        )\n",
        "    )\n",
        "\n",
        "fig.update_layout(legend=dict(itemsizing='constant'))\n",
        "fig.update_layout(legend=dict(\n",
        "        orientation=\"h\",\n",
        "        yanchor=\"bottom\",\n",
        "        y=1.02,\n",
        "        xanchor=\"right\",\n",
        "        x=1.05,\n",
        "        font = dict(family = \"Arial\", size = 35),\n",
        "        bordercolor=\"LightSteelBlue\",\n",
        "        borderwidth=2,\n",
        "    ),\n",
        ")\n",
        "fig.update_traces(line=dict(width=5))\n",
        "\n",
        "fig.update_layout(\n",
        "    template='simple_white',\n",
        "    xaxis_tickformat = 'i',\n",
        "    bargap=0.2, # gap between bars of adjacent location coordinates,\n",
        "    height=600,\n",
        "    width=1350,\n",
        "    showlegend=True,\n",
        ")\n",
        "\n",
        "fig.update_yaxes(range=[-10, 10.0], tickfont = dict(size=30))\n",
        "fig.update_xaxes(range=[1.0, 8.0], tickfont = dict(size=30))\n",
        "\n",
        "fig.show()\n"
      ]
    },
    {
      "cell_type": "code",
      "execution_count": 14,
      "metadata": {
        "colab": {
          "base_uri": "https://localhost:8080/",
          "height": 542
        },
        "id": "bC1-v1h3WfL7",
        "outputId": "d045e66f-4520-48f3-fe6b-6d7418a00452"
      },
      "outputs": [
        {
          "data": {
            "application/vnd.plotly.v1+json": {
              "config": {
                "plotlyServerURL": "https://plot.ly"
              },
              "data": [
                {
                  "link": {
                    "source": [
                      0,
                      0,
                      1,
                      1,
                      1,
                      1,
                      1,
                      1,
                      1,
                      1,
                      1,
                      1,
                      1,
                      1,
                      1,
                      1,
                      1,
                      1,
                      1,
                      1,
                      1,
                      1,
                      1,
                      1,
                      1,
                      1,
                      1,
                      1,
                      1,
                      2,
                      2,
                      2,
                      2,
                      2,
                      2,
                      2,
                      2,
                      2,
                      2,
                      2,
                      2,
                      2,
                      2,
                      2,
                      2,
                      2,
                      2,
                      2,
                      2,
                      2,
                      2,
                      2,
                      2,
                      2,
                      2,
                      2
                    ],
                    "target": [
                      1,
                      2,
                      3,
                      4,
                      5,
                      6,
                      7,
                      8,
                      9,
                      10,
                      11,
                      12,
                      13,
                      14,
                      15,
                      16,
                      17,
                      18,
                      19,
                      20,
                      21,
                      22,
                      23,
                      24,
                      25,
                      26,
                      27,
                      28,
                      29,
                      3,
                      4,
                      5,
                      6,
                      7,
                      8,
                      9,
                      10,
                      11,
                      12,
                      13,
                      14,
                      15,
                      16,
                      17,
                      18,
                      19,
                      20,
                      21,
                      22,
                      23,
                      24,
                      25,
                      26,
                      27,
                      28,
                      29
                    ],
                    "value": [
                      27,
                      27,
                      1,
                      1,
                      1,
                      1,
                      1,
                      1,
                      1,
                      1,
                      1,
                      1,
                      1,
                      1,
                      1,
                      1,
                      1,
                      1,
                      1,
                      1,
                      1,
                      1,
                      1,
                      1,
                      1,
                      1,
                      1,
                      1,
                      1,
                      1,
                      1,
                      1,
                      1,
                      1,
                      1,
                      1,
                      1,
                      1,
                      1,
                      1,
                      1,
                      1,
                      1,
                      1,
                      1,
                      1,
                      1,
                      1,
                      1,
                      1,
                      1,
                      1,
                      1,
                      1,
                      1,
                      1
                    ]
                  },
                  "node": {
                    "color": [
                      "#1f77b4",
                      "#ff7f0e",
                      "#2ca02c",
                      "#d62728",
                      "#9467bd",
                      "#8c564b",
                      "#e377c2",
                      "#7f7f7f",
                      "#bcbd22",
                      "#17becf",
                      "#1f77b4",
                      "#ff7f0e",
                      "#2ca02c",
                      "#d62728",
                      "#9467bd",
                      "#8c564b",
                      "#e377c2",
                      "#7f7f7f",
                      "#bcbd22",
                      "#17becf",
                      "#1f77b4",
                      "#ff7f0e",
                      "#2ca02c",
                      "#d62728",
                      "#9467bd",
                      "#8c564b",
                      "#e377c2",
                      "#7f7f7f",
                      "#bcbd22",
                      "#17becf"
                    ],
                    "label": [
                      "Aromatics",
                      "Rule 1",
                      "Rule 2",
                      "Azulene",
                      "Benzene",
                      "Bipyrrole",
                      "Bromobenzene",
                      "Chlorobenzene",
                      "Fluorobenzene",
                      "Four Pyridinone",
                      "Furan",
                      "Imidazole",
                      "Imidazolium",
                      "Indole",
                      "Indolizine",
                      "Iodobenzene",
                      "Isoxazole",
                      "Methylene Oxide",
                      "Nitrobenzene",
                      "1 Phenyl-4-Pyridinone",
                      "Phenol",
                      "Phenoxazine",
                      "Pyridine",
                      "Pyridinium",
                      "Pyrimidine",
                      "Pyrrolidine",
                      "Thiophene",
                      "3-Aminopyridine",
                      "2-H-Pyran",
                      "Uracil"
                    ],
                    "line": {
                      "color": "black",
                      "width": 0.5
                    },
                    "pad": 15,
                    "thickness": 20
                  },
                  "type": "sankey"
                }
              ],
              "layout": {
                "font": {
                  "size": 10
                },
                "template": {
                  "data": {
                    "bar": [
                      {
                        "error_x": {
                          "color": "#2a3f5f"
                        },
                        "error_y": {
                          "color": "#2a3f5f"
                        },
                        "marker": {
                          "line": {
                            "color": "#E5ECF6",
                            "width": 0.5
                          },
                          "pattern": {
                            "fillmode": "overlay",
                            "size": 10,
                            "solidity": 0.2
                          }
                        },
                        "type": "bar"
                      }
                    ],
                    "barpolar": [
                      {
                        "marker": {
                          "line": {
                            "color": "#E5ECF6",
                            "width": 0.5
                          },
                          "pattern": {
                            "fillmode": "overlay",
                            "size": 10,
                            "solidity": 0.2
                          }
                        },
                        "type": "barpolar"
                      }
                    ],
                    "carpet": [
                      {
                        "aaxis": {
                          "endlinecolor": "#2a3f5f",
                          "gridcolor": "white",
                          "linecolor": "white",
                          "minorgridcolor": "white",
                          "startlinecolor": "#2a3f5f"
                        },
                        "baxis": {
                          "endlinecolor": "#2a3f5f",
                          "gridcolor": "white",
                          "linecolor": "white",
                          "minorgridcolor": "white",
                          "startlinecolor": "#2a3f5f"
                        },
                        "type": "carpet"
                      }
                    ],
                    "choropleth": [
                      {
                        "colorbar": {
                          "outlinewidth": 0,
                          "ticks": ""
                        },
                        "type": "choropleth"
                      }
                    ],
                    "contour": [
                      {
                        "colorbar": {
                          "outlinewidth": 0,
                          "ticks": ""
                        },
                        "colorscale": [
                          [
                            0,
                            "#0d0887"
                          ],
                          [
                            0.1111111111111111,
                            "#46039f"
                          ],
                          [
                            0.2222222222222222,
                            "#7201a8"
                          ],
                          [
                            0.3333333333333333,
                            "#9c179e"
                          ],
                          [
                            0.4444444444444444,
                            "#bd3786"
                          ],
                          [
                            0.5555555555555556,
                            "#d8576b"
                          ],
                          [
                            0.6666666666666666,
                            "#ed7953"
                          ],
                          [
                            0.7777777777777778,
                            "#fb9f3a"
                          ],
                          [
                            0.8888888888888888,
                            "#fdca26"
                          ],
                          [
                            1,
                            "#f0f921"
                          ]
                        ],
                        "type": "contour"
                      }
                    ],
                    "contourcarpet": [
                      {
                        "colorbar": {
                          "outlinewidth": 0,
                          "ticks": ""
                        },
                        "type": "contourcarpet"
                      }
                    ],
                    "heatmap": [
                      {
                        "colorbar": {
                          "outlinewidth": 0,
                          "ticks": ""
                        },
                        "colorscale": [
                          [
                            0,
                            "#0d0887"
                          ],
                          [
                            0.1111111111111111,
                            "#46039f"
                          ],
                          [
                            0.2222222222222222,
                            "#7201a8"
                          ],
                          [
                            0.3333333333333333,
                            "#9c179e"
                          ],
                          [
                            0.4444444444444444,
                            "#bd3786"
                          ],
                          [
                            0.5555555555555556,
                            "#d8576b"
                          ],
                          [
                            0.6666666666666666,
                            "#ed7953"
                          ],
                          [
                            0.7777777777777778,
                            "#fb9f3a"
                          ],
                          [
                            0.8888888888888888,
                            "#fdca26"
                          ],
                          [
                            1,
                            "#f0f921"
                          ]
                        ],
                        "type": "heatmap"
                      }
                    ],
                    "heatmapgl": [
                      {
                        "colorbar": {
                          "outlinewidth": 0,
                          "ticks": ""
                        },
                        "colorscale": [
                          [
                            0,
                            "#0d0887"
                          ],
                          [
                            0.1111111111111111,
                            "#46039f"
                          ],
                          [
                            0.2222222222222222,
                            "#7201a8"
                          ],
                          [
                            0.3333333333333333,
                            "#9c179e"
                          ],
                          [
                            0.4444444444444444,
                            "#bd3786"
                          ],
                          [
                            0.5555555555555556,
                            "#d8576b"
                          ],
                          [
                            0.6666666666666666,
                            "#ed7953"
                          ],
                          [
                            0.7777777777777778,
                            "#fb9f3a"
                          ],
                          [
                            0.8888888888888888,
                            "#fdca26"
                          ],
                          [
                            1,
                            "#f0f921"
                          ]
                        ],
                        "type": "heatmapgl"
                      }
                    ],
                    "histogram": [
                      {
                        "marker": {
                          "pattern": {
                            "fillmode": "overlay",
                            "size": 10,
                            "solidity": 0.2
                          }
                        },
                        "type": "histogram"
                      }
                    ],
                    "histogram2d": [
                      {
                        "colorbar": {
                          "outlinewidth": 0,
                          "ticks": ""
                        },
                        "colorscale": [
                          [
                            0,
                            "#0d0887"
                          ],
                          [
                            0.1111111111111111,
                            "#46039f"
                          ],
                          [
                            0.2222222222222222,
                            "#7201a8"
                          ],
                          [
                            0.3333333333333333,
                            "#9c179e"
                          ],
                          [
                            0.4444444444444444,
                            "#bd3786"
                          ],
                          [
                            0.5555555555555556,
                            "#d8576b"
                          ],
                          [
                            0.6666666666666666,
                            "#ed7953"
                          ],
                          [
                            0.7777777777777778,
                            "#fb9f3a"
                          ],
                          [
                            0.8888888888888888,
                            "#fdca26"
                          ],
                          [
                            1,
                            "#f0f921"
                          ]
                        ],
                        "type": "histogram2d"
                      }
                    ],
                    "histogram2dcontour": [
                      {
                        "colorbar": {
                          "outlinewidth": 0,
                          "ticks": ""
                        },
                        "colorscale": [
                          [
                            0,
                            "#0d0887"
                          ],
                          [
                            0.1111111111111111,
                            "#46039f"
                          ],
                          [
                            0.2222222222222222,
                            "#7201a8"
                          ],
                          [
                            0.3333333333333333,
                            "#9c179e"
                          ],
                          [
                            0.4444444444444444,
                            "#bd3786"
                          ],
                          [
                            0.5555555555555556,
                            "#d8576b"
                          ],
                          [
                            0.6666666666666666,
                            "#ed7953"
                          ],
                          [
                            0.7777777777777778,
                            "#fb9f3a"
                          ],
                          [
                            0.8888888888888888,
                            "#fdca26"
                          ],
                          [
                            1,
                            "#f0f921"
                          ]
                        ],
                        "type": "histogram2dcontour"
                      }
                    ],
                    "mesh3d": [
                      {
                        "colorbar": {
                          "outlinewidth": 0,
                          "ticks": ""
                        },
                        "type": "mesh3d"
                      }
                    ],
                    "parcoords": [
                      {
                        "line": {
                          "colorbar": {
                            "outlinewidth": 0,
                            "ticks": ""
                          }
                        },
                        "type": "parcoords"
                      }
                    ],
                    "pie": [
                      {
                        "automargin": true,
                        "type": "pie"
                      }
                    ],
                    "scatter": [
                      {
                        "fillpattern": {
                          "fillmode": "overlay",
                          "size": 10,
                          "solidity": 0.2
                        },
                        "type": "scatter"
                      }
                    ],
                    "scatter3d": [
                      {
                        "line": {
                          "colorbar": {
                            "outlinewidth": 0,
                            "ticks": ""
                          }
                        },
                        "marker": {
                          "colorbar": {
                            "outlinewidth": 0,
                            "ticks": ""
                          }
                        },
                        "type": "scatter3d"
                      }
                    ],
                    "scattercarpet": [
                      {
                        "marker": {
                          "colorbar": {
                            "outlinewidth": 0,
                            "ticks": ""
                          }
                        },
                        "type": "scattercarpet"
                      }
                    ],
                    "scattergeo": [
                      {
                        "marker": {
                          "colorbar": {
                            "outlinewidth": 0,
                            "ticks": ""
                          }
                        },
                        "type": "scattergeo"
                      }
                    ],
                    "scattergl": [
                      {
                        "marker": {
                          "colorbar": {
                            "outlinewidth": 0,
                            "ticks": ""
                          }
                        },
                        "type": "scattergl"
                      }
                    ],
                    "scattermapbox": [
                      {
                        "marker": {
                          "colorbar": {
                            "outlinewidth": 0,
                            "ticks": ""
                          }
                        },
                        "type": "scattermapbox"
                      }
                    ],
                    "scatterpolar": [
                      {
                        "marker": {
                          "colorbar": {
                            "outlinewidth": 0,
                            "ticks": ""
                          }
                        },
                        "type": "scatterpolar"
                      }
                    ],
                    "scatterpolargl": [
                      {
                        "marker": {
                          "colorbar": {
                            "outlinewidth": 0,
                            "ticks": ""
                          }
                        },
                        "type": "scatterpolargl"
                      }
                    ],
                    "scatterternary": [
                      {
                        "marker": {
                          "colorbar": {
                            "outlinewidth": 0,
                            "ticks": ""
                          }
                        },
                        "type": "scatterternary"
                      }
                    ],
                    "surface": [
                      {
                        "colorbar": {
                          "outlinewidth": 0,
                          "ticks": ""
                        },
                        "colorscale": [
                          [
                            0,
                            "#0d0887"
                          ],
                          [
                            0.1111111111111111,
                            "#46039f"
                          ],
                          [
                            0.2222222222222222,
                            "#7201a8"
                          ],
                          [
                            0.3333333333333333,
                            "#9c179e"
                          ],
                          [
                            0.4444444444444444,
                            "#bd3786"
                          ],
                          [
                            0.5555555555555556,
                            "#d8576b"
                          ],
                          [
                            0.6666666666666666,
                            "#ed7953"
                          ],
                          [
                            0.7777777777777778,
                            "#fb9f3a"
                          ],
                          [
                            0.8888888888888888,
                            "#fdca26"
                          ],
                          [
                            1,
                            "#f0f921"
                          ]
                        ],
                        "type": "surface"
                      }
                    ],
                    "table": [
                      {
                        "cells": {
                          "fill": {
                            "color": "#EBF0F8"
                          },
                          "line": {
                            "color": "white"
                          }
                        },
                        "header": {
                          "fill": {
                            "color": "#C8D4E3"
                          },
                          "line": {
                            "color": "white"
                          }
                        },
                        "type": "table"
                      }
                    ]
                  },
                  "layout": {
                    "annotationdefaults": {
                      "arrowcolor": "#2a3f5f",
                      "arrowhead": 0,
                      "arrowwidth": 1
                    },
                    "autotypenumbers": "strict",
                    "coloraxis": {
                      "colorbar": {
                        "outlinewidth": 0,
                        "ticks": ""
                      }
                    },
                    "colorscale": {
                      "diverging": [
                        [
                          0,
                          "#8e0152"
                        ],
                        [
                          0.1,
                          "#c51b7d"
                        ],
                        [
                          0.2,
                          "#de77ae"
                        ],
                        [
                          0.3,
                          "#f1b6da"
                        ],
                        [
                          0.4,
                          "#fde0ef"
                        ],
                        [
                          0.5,
                          "#f7f7f7"
                        ],
                        [
                          0.6,
                          "#e6f5d0"
                        ],
                        [
                          0.7,
                          "#b8e186"
                        ],
                        [
                          0.8,
                          "#7fbc41"
                        ],
                        [
                          0.9,
                          "#4d9221"
                        ],
                        [
                          1,
                          "#276419"
                        ]
                      ],
                      "sequential": [
                        [
                          0,
                          "#0d0887"
                        ],
                        [
                          0.1111111111111111,
                          "#46039f"
                        ],
                        [
                          0.2222222222222222,
                          "#7201a8"
                        ],
                        [
                          0.3333333333333333,
                          "#9c179e"
                        ],
                        [
                          0.4444444444444444,
                          "#bd3786"
                        ],
                        [
                          0.5555555555555556,
                          "#d8576b"
                        ],
                        [
                          0.6666666666666666,
                          "#ed7953"
                        ],
                        [
                          0.7777777777777778,
                          "#fb9f3a"
                        ],
                        [
                          0.8888888888888888,
                          "#fdca26"
                        ],
                        [
                          1,
                          "#f0f921"
                        ]
                      ],
                      "sequentialminus": [
                        [
                          0,
                          "#0d0887"
                        ],
                        [
                          0.1111111111111111,
                          "#46039f"
                        ],
                        [
                          0.2222222222222222,
                          "#7201a8"
                        ],
                        [
                          0.3333333333333333,
                          "#9c179e"
                        ],
                        [
                          0.4444444444444444,
                          "#bd3786"
                        ],
                        [
                          0.5555555555555556,
                          "#d8576b"
                        ],
                        [
                          0.6666666666666666,
                          "#ed7953"
                        ],
                        [
                          0.7777777777777778,
                          "#fb9f3a"
                        ],
                        [
                          0.8888888888888888,
                          "#fdca26"
                        ],
                        [
                          1,
                          "#f0f921"
                        ]
                      ]
                    },
                    "colorway": [
                      "#636efa",
                      "#EF553B",
                      "#00cc96",
                      "#ab63fa",
                      "#FFA15A",
                      "#19d3f3",
                      "#FF6692",
                      "#B6E880",
                      "#FF97FF",
                      "#FECB52"
                    ],
                    "font": {
                      "color": "#2a3f5f"
                    },
                    "geo": {
                      "bgcolor": "white",
                      "lakecolor": "white",
                      "landcolor": "#E5ECF6",
                      "showlakes": true,
                      "showland": true,
                      "subunitcolor": "white"
                    },
                    "hoverlabel": {
                      "align": "left"
                    },
                    "hovermode": "closest",
                    "mapbox": {
                      "style": "light"
                    },
                    "paper_bgcolor": "white",
                    "plot_bgcolor": "#E5ECF6",
                    "polar": {
                      "angularaxis": {
                        "gridcolor": "white",
                        "linecolor": "white",
                        "ticks": ""
                      },
                      "bgcolor": "#E5ECF6",
                      "radialaxis": {
                        "gridcolor": "white",
                        "linecolor": "white",
                        "ticks": ""
                      }
                    },
                    "scene": {
                      "xaxis": {
                        "backgroundcolor": "#E5ECF6",
                        "gridcolor": "white",
                        "gridwidth": 2,
                        "linecolor": "white",
                        "showbackground": true,
                        "ticks": "",
                        "zerolinecolor": "white"
                      },
                      "yaxis": {
                        "backgroundcolor": "#E5ECF6",
                        "gridcolor": "white",
                        "gridwidth": 2,
                        "linecolor": "white",
                        "showbackground": true,
                        "ticks": "",
                        "zerolinecolor": "white"
                      },
                      "zaxis": {
                        "backgroundcolor": "#E5ECF6",
                        "gridcolor": "white",
                        "gridwidth": 2,
                        "linecolor": "white",
                        "showbackground": true,
                        "ticks": "",
                        "zerolinecolor": "white"
                      }
                    },
                    "shapedefaults": {
                      "line": {
                        "color": "#2a3f5f"
                      }
                    },
                    "ternary": {
                      "aaxis": {
                        "gridcolor": "white",
                        "linecolor": "white",
                        "ticks": ""
                      },
                      "baxis": {
                        "gridcolor": "white",
                        "linecolor": "white",
                        "ticks": ""
                      },
                      "bgcolor": "#E5ECF6",
                      "caxis": {
                        "gridcolor": "white",
                        "linecolor": "white",
                        "ticks": ""
                      }
                    },
                    "title": {
                      "x": 0.05
                    },
                    "xaxis": {
                      "automargin": true,
                      "gridcolor": "white",
                      "linecolor": "white",
                      "ticks": "",
                      "title": {
                        "standoff": 15
                      },
                      "zerolinecolor": "white",
                      "zerolinewidth": 2
                    },
                    "yaxis": {
                      "automargin": true,
                      "gridcolor": "white",
                      "linecolor": "white",
                      "ticks": "",
                      "title": {
                        "standoff": 15
                      },
                      "zerolinecolor": "white",
                      "zerolinewidth": 2
                    }
                  }
                },
                "title": {
                  "text": "Aromatic Compounds Classification"
                }
              }
            }
          },
          "metadata": {},
          "output_type": "display_data"
        },
        {
          "data": {
            "text/html": [
              "<style>.container { width:100% !important; }</style>"
            ],
            "text/plain": [
              "<IPython.core.display.HTML object>"
            ]
          },
          "metadata": {},
          "output_type": "display_data"
        }
      ],
      "source": [
        "import plotly.graph_objects as go\n",
        "from IPython.display import display, HTML\n",
        "\n",
        "molecules = [\n",
        "    \"Azulene\", \"Benzene\", \"Bipyrrole\", \"Bromobenzene\", \"Chlorobenzene\",\n",
        "    \"Fluorobenzene\", \"Four Pyridinone\", \"Furan\", \"Imidazole\", \"Imidazolium\",\n",
        "    \"Indole\", \"Indolizine\", \"Iodobenzene\", \"Isoxazole\", \"Methylene Oxide\",\n",
        "    \"Nitrobenzene\", \"1 Phenyl-4-Pyridinone\", \"Phenol\", \"Phenoxazine\",\n",
        "    \"Pyridine\", \"Pyridinium\", \"Pyrimidine\", \"Pyrrolidine\", \"Thiophene\",\n",
        "    \"3-Aminopyridine\", \"2-H-Pyran\", \"Uracil\"\n",
        "]\n",
        "\n",
        "# Define the structure of the Sankey diagram\n",
        "source = [\"Aromatics\", \"Aromatics\"] + [\"Rule 1\"] * len(molecules) + [\"Rule 2\"] * len(molecules)\n",
        "target = [\"Rule 1\", \"Rule 2\"] + molecules * 2\n",
        "value = [len(molecules)] * 2 + [1] * (len(molecules) * 2)  # Assign higher value to Aromatics -> Rules connections\n",
        "\n",
        "# Create labels for all nodes\n",
        "labels = [\"Aromatics\", \"Rule 1\", \"Rule 2\"] + molecules\n",
        "\n",
        "# Create color scale\n",
        "color_scale = [\n",
        "    \"#1f77b4\",  # muted blue\n",
        "    \"#ff7f0e\",  # safety orange\n",
        "    \"#2ca02c\",  # cooked asparagus green\n",
        "    \"#d62728\",  # brick red\n",
        "    \"#9467bd\",  # muted purple\n",
        "    \"#8c564b\",  # chestnut brown\n",
        "    \"#e377c2\",  # raspberry yogurt pink\n",
        "    \"#7f7f7f\",  # middle gray\n",
        "    \"#bcbd22\",  # curry yellow-green\n",
        "    \"#17becf\"   # blue-teal\n",
        "]\n",
        "\n",
        "# Extend color scale to match the number of nodes\n",
        "while len(color_scale) < len(labels):\n",
        "    color_scale.extend(color_scale)\n",
        "color_scale = color_scale[:len(labels)]\n",
        "\n",
        "# Create the Sankey diagram\n",
        "fig = go.Figure(data=[go.Sankey(\n",
        "    node = dict(\n",
        "      pad = 15,\n",
        "      thickness = 20,\n",
        "      line = dict(color = \"black\", width = 0.5),\n",
        "      label = labels,\n",
        "      color = color_scale\n",
        "    ),\n",
        "    link = dict(\n",
        "      source = [labels.index(s) for s in source],\n",
        "      target = [labels.index(t) for t in target],\n",
        "      value = value\n",
        "  ))])\n",
        "\n",
        "# Update the layout\n",
        "fig.update_layout(title_text=\"Aromatic Compounds Classification\", font_size=10)\n",
        "\n",
        "# Show the plot\n",
        "fig.show()\n",
        "\n",
        "# Save the plot as an HTML file\n",
        "fig.write_html(\"aromatic_sankey_diagram_revised.html\")\n",
        "\n",
        "# Save the plot as an HTML file\n",
        "fig.write_html(\"aromatic_sankey_diagram.html\")\n",
        "\n",
        "# Optional: If you want to make the plot wider\n",
        "display(HTML(\"<style>.container { width:100% !important; }</style>\"))"
      ]
    },
    {
      "cell_type": "code",
      "execution_count": null,
      "metadata": {
        "colab": {
          "base_uri": "https://localhost:8080/",
          "height": 1000
        },
        "id": "ZmMYMPNqwMO5",
        "outputId": "0f84a861-2675-421a-a941-31fd106b74b7"
      },
      "outputs": [
        {
          "name": "stdout",
          "output_type": "stream",
          "text": [
            "\u001b[33mDEPRECATION: Loading egg at /opt/anaconda3/lib/python3.12/site-packages/pastasoss-1.2.2-py3.12.egg is deprecated. pip 24.3 will enforce this behaviour change. A possible replacement is to use pip for package installation. Discussion can be found at https://github.com/pypa/pip/issues/12330\u001b[0m\u001b[33m\n",
            "\u001b[0m\u001b[33mDEPRECATION: Loading egg at /opt/anaconda3/lib/python3.12/site-packages/spectres-2.2.2-py3.12.egg is deprecated. pip 24.3 will enforce this behaviour change. A possible replacement is to use pip for package installation. Discussion can be found at https://github.com/pypa/pip/issues/12330\u001b[0m\u001b[33m\n",
            "\u001b[0m\u001b[33mDEPRECATION: Loading egg at /opt/anaconda3/lib/python3.12/site-packages/synphot-1.6.0-py3.12-macosx-11.0-arm64.egg is deprecated. pip 24.3 will enforce this behaviour change. A possible replacement is to use pip for package installation. Discussion can be found at https://github.com/pypa/pip/issues/12330\u001b[0m\u001b[33m\n",
            "\u001b[0m\u001b[33mDEPRECATION: Loading egg at /opt/anaconda3/lib/python3.12/site-packages/corner-2.2.3-py3.12.egg is deprecated. pip 24.3 will enforce this behaviour change. A possible replacement is to use pip for package installation. Discussion can be found at https://github.com/pypa/pip/issues/12330\u001b[0m\u001b[33m\n",
            "\u001b[0m\u001b[33mDEPRECATION: Loading egg at /opt/anaconda3/lib/python3.12/site-packages/stpipe-0.8.1-py3.12.egg is deprecated. pip 24.3 will enforce this behaviour change. A possible replacement is to use pip for package installation. Discussion can be found at https://github.com/pypa/pip/issues/12330\u001b[0m\u001b[33m\n",
            "\u001b[0m\u001b[33mDEPRECATION: Loading egg at /opt/anaconda3/lib/python3.12/site-packages/spherical_geometry-1.3.3-py3.12-macosx-11.0-arm64.egg is deprecated. pip 24.3 will enforce this behaviour change. A possible replacement is to use pip for package installation. Discussion can be found at https://github.com/pypa/pip/issues/12330\u001b[0m\u001b[33m\n",
            "\u001b[0m\u001b[33mDEPRECATION: Loading egg at /opt/anaconda3/lib/python3.12/site-packages/exotedrf-2.3.1-py3.12.egg is deprecated. pip 24.3 will enforce this behaviour change. A possible replacement is to use pip for package installation. Discussion can be found at https://github.com/pypa/pip/issues/12330\u001b[0m\u001b[33m\n",
            "\u001b[0m\u001b[33mDEPRECATION: Loading egg at /opt/anaconda3/lib/python3.12/site-packages/alchemical_analysis-1.0.2.dev0-py3.12.egg is deprecated. pip 24.3 will enforce this behaviour change. A possible replacement is to use pip for package installation. Discussion can be found at https://github.com/pypa/pip/issues/12330\u001b[0m\u001b[33m\n",
            "\u001b[0m\u001b[33mDEPRECATION: Loading egg at /opt/anaconda3/lib/python3.12/site-packages/applesoss-2.1.0-py3.12.egg is deprecated. pip 24.3 will enforce this behaviour change. A possible replacement is to use pip for package installation. Discussion can be found at https://github.com/pypa/pip/issues/12330\u001b[0m\u001b[33m\n",
            "\u001b[0m\u001b[33mDEPRECATION: Loading egg at /opt/anaconda3/lib/python3.12/site-packages/tweakwcs-0.8.11-py3.12.egg is deprecated. pip 24.3 will enforce this behaviour change. A possible replacement is to use pip for package installation. Discussion can be found at https://github.com/pypa/pip/issues/12330\u001b[0m\u001b[33m\n",
            "\u001b[0m\u001b[33mDEPRECATION: Loading egg at /opt/anaconda3/lib/python3.12/site-packages/stdatamodels-2.2.0-py3.12.egg is deprecated. pip 24.3 will enforce this behaviour change. A possible replacement is to use pip for package installation. Discussion can be found at https://github.com/pypa/pip/issues/12330\u001b[0m\u001b[33m\n",
            "\u001b[0m\u001b[33mDEPRECATION: Loading egg at /opt/anaconda3/lib/python3.12/site-packages/astroquery-0.4.11.dev10199-py3.12.egg is deprecated. pip 24.3 will enforce this behaviour change. A possible replacement is to use pip for package installation. Discussion can be found at https://github.com/pypa/pip/issues/12330\u001b[0m\u001b[33m\n",
            "\u001b[0m\u001b[33mDEPRECATION: Loading egg at /opt/anaconda3/lib/python3.12/site-packages/asdf_astropy-0.8.0-py3.12.egg is deprecated. pip 24.3 will enforce this behaviour change. A possible replacement is to use pip for package installation. Discussion can be found at https://github.com/pypa/pip/issues/12330\u001b[0m\u001b[33m\n",
            "\u001b[0m\u001b[33mDEPRECATION: Loading egg at /opt/anaconda3/lib/python3.12/site-packages/ray-2.48.0-py3.12-macosx-11.0-arm64.egg is deprecated. pip 24.3 will enforce this behaviour change. A possible replacement is to use pip for package installation. Discussion can be found at https://github.com/pypa/pip/issues/12330\u001b[0m\u001b[33m\n",
            "\u001b[0m\u001b[33mDEPRECATION: Loading egg at /opt/anaconda3/lib/python3.12/site-packages/plip-2.3.0-py3.12.egg is deprecated. pip 24.3 will enforce this behaviour change. A possible replacement is to use pip for package installation. Discussion can be found at https://github.com/pypa/pip/issues/12330\u001b[0m\u001b[33m\n",
            "\u001b[0m\u001b[33mDEPRECATION: Loading egg at /opt/anaconda3/lib/python3.12/site-packages/stcal-1.11.1-py3.12-macosx-11.0-arm64.egg is deprecated. pip 24.3 will enforce this behaviour change. A possible replacement is to use pip for package installation. Discussion can be found at https://github.com/pypa/pip/issues/12330\u001b[0m\u001b[33m\n",
            "\u001b[0m\u001b[33mDEPRECATION: Loading egg at /opt/anaconda3/lib/python3.12/site-packages/wiimatch-0.3.2-py3.12.egg is deprecated. pip 24.3 will enforce this behaviour change. A possible replacement is to use pip for package installation. Discussion can be found at https://github.com/pypa/pip/issues/12330\u001b[0m\u001b[33m\n",
            "\u001b[0m\u001b[33mDEPRECATION: Loading egg at /opt/anaconda3/lib/python3.12/site-packages/jwst-1.17.1-py3.12-macosx-11.0-arm64.egg is deprecated. pip 24.3 will enforce this behaviour change. A possible replacement is to use pip for package installation. Discussion can be found at https://github.com/pypa/pip/issues/12330\u001b[0m\u001b[33m\n",
            "\u001b[0m\u001b[33mDEPRECATION: Loading egg at /opt/anaconda3/lib/python3.12/site-packages/stsci.imagestats-1.8.3-py3.12-macosx-11.0-arm64.egg is deprecated. pip 24.3 will enforce this behaviour change. A possible replacement is to use pip for package installation. Discussion can be found at https://github.com/pypa/pip/issues/12330\u001b[0m\u001b[33m\n",
            "\u001b[0m\u001b[33mDEPRECATION: Loading egg at /opt/anaconda3/lib/python3.12/site-packages/pymbar-4.0.3-py3.12.egg is deprecated. pip 24.3 will enforce this behaviour change. A possible replacement is to use pip for package installation. Discussion can be found at https://github.com/pypa/pip/issues/12330\u001b[0m\u001b[33m\n",
            "\u001b[0mRequirement already satisfied: plotly in /opt/anaconda3/lib/python3.12/site-packages (5.24.1)\n",
            "Requirement already satisfied: tenacity>=6.2.0 in /opt/anaconda3/lib/python3.12/site-packages (from plotly) (8.2.3)\n",
            "Requirement already satisfied: packaging in /opt/anaconda3/lib/python3.12/site-packages (from plotly) (24.1)\n"
          ]
        },
        {
          "data": {
            "application/vnd.plotly.v1+json": {
              "config": {
                "plotlyServerURL": "https://plot.ly"
              },
              "data": [
                {
                  "arrangement": "snap",
                  "link": {
                    "source": [
                      0,
                      0,
                      0,
                      0,
                      0,
                      0,
                      0,
                      0,
                      0,
                      0,
                      0,
                      0,
                      0,
                      0,
                      0,
                      0,
                      0,
                      0,
                      0,
                      0,
                      0,
                      0,
                      0,
                      0,
                      0,
                      0,
                      0,
                      0,
                      0
                    ],
                    "target": [
                      1,
                      2,
                      3,
                      4,
                      5,
                      6,
                      7,
                      8,
                      9,
                      10,
                      11,
                      12,
                      13,
                      14,
                      15,
                      16,
                      17,
                      18,
                      19,
                      20,
                      21,
                      22,
                      23,
                      24,
                      25,
                      26,
                      27,
                      28,
                      29
                    ],
                    "value": [
                      1,
                      1,
                      1,
                      1,
                      1,
                      1,
                      1,
                      1,
                      1,
                      1,
                      1,
                      1,
                      1,
                      1,
                      1,
                      1,
                      1,
                      1,
                      1,
                      1,
                      1,
                      1,
                      1,
                      1,
                      1,
                      1,
                      1,
                      1,
                      1
                    ]
                  },
                  "node": {
                    "color": [
                      "rgb(237,97,86)",
                      "rgb(166,71,162)",
                      "rgb(148,226,15)",
                      "rgb(100,100,48)",
                      "rgb(87,46,43)",
                      "rgb(194,145,189)",
                      "rgb(15,56,0)",
                      "rgb(6,27,211)",
                      "rgb(200,90,29)",
                      "rgb(79,178,5)",
                      "rgb(170,148,234)",
                      "rgb(53,212,185)",
                      "rgb(199,149,5)",
                      "rgb(139,240,69)",
                      "rgb(217,128,76)",
                      "rgb(156,24,29)",
                      "rgb(175,157,141)",
                      "rgb(125,65,182)",
                      "rgb(247,50,221)",
                      "rgb(61,116,216)",
                      "rgb(118,115,179)",
                      "rgb(35,28,35)",
                      "rgb(231,240,233)",
                      "rgb(252,226,72)",
                      "rgb(11,237,160)",
                      "rgb(88,107,249)",
                      "rgb(207,36,48)",
                      "rgb(202,121,244)",
                      "rgb(30,157,196)",
                      "rgb(80,138,30)"
                    ],
                    "label": [
                      "Aromatic",
                      "Azulene",
                      "Benzene",
                      "Bipyrrole",
                      "Bromobenzene",
                      "Chlorobenzene",
                      "Cytosine",
                      "Fluorobenzene",
                      "Four Pyridinone",
                      "Furan",
                      "Imidazole",
                      "Imidazolium",
                      "Indole",
                      "Indolizine",
                      "Iodobenzene",
                      "Isoxazole",
                      "Methylene Oxide",
                      "Nitrobenzene",
                      "1 Phenyl-4-Pyridinone",
                      "Oxindole-3-ylidene",
                      "Phenol",
                      "Phenoxazine",
                      "Pyridine",
                      "Pyridinium",
                      "Pyrimidine",
                      "Pyrrolidine",
                      "Thiophene",
                      "3-Aminopyridine",
                      "2-H-Pyran",
                      "Uracil"
                    ],
                    "line": {
                      "color": "grey",
                      "width": 0.25
                    },
                    "pad": 10,
                    "thickness": 10
                  },
                  "type": "sankey"
                }
              ],
              "layout": {
                "autosize": false,
                "font": {
                  "size": 10
                },
                "height": 1000,
                "template": {
                  "data": {
                    "bar": [
                      {
                        "error_x": {
                          "color": "#2a3f5f"
                        },
                        "error_y": {
                          "color": "#2a3f5f"
                        },
                        "marker": {
                          "line": {
                            "color": "#E5ECF6",
                            "width": 0.5
                          },
                          "pattern": {
                            "fillmode": "overlay",
                            "size": 10,
                            "solidity": 0.2
                          }
                        },
                        "type": "bar"
                      }
                    ],
                    "barpolar": [
                      {
                        "marker": {
                          "line": {
                            "color": "#E5ECF6",
                            "width": 0.5
                          },
                          "pattern": {
                            "fillmode": "overlay",
                            "size": 10,
                            "solidity": 0.2
                          }
                        },
                        "type": "barpolar"
                      }
                    ],
                    "carpet": [
                      {
                        "aaxis": {
                          "endlinecolor": "#2a3f5f",
                          "gridcolor": "white",
                          "linecolor": "white",
                          "minorgridcolor": "white",
                          "startlinecolor": "#2a3f5f"
                        },
                        "baxis": {
                          "endlinecolor": "#2a3f5f",
                          "gridcolor": "white",
                          "linecolor": "white",
                          "minorgridcolor": "white",
                          "startlinecolor": "#2a3f5f"
                        },
                        "type": "carpet"
                      }
                    ],
                    "choropleth": [
                      {
                        "colorbar": {
                          "outlinewidth": 0,
                          "ticks": ""
                        },
                        "type": "choropleth"
                      }
                    ],
                    "contour": [
                      {
                        "colorbar": {
                          "outlinewidth": 0,
                          "ticks": ""
                        },
                        "colorscale": [
                          [
                            0,
                            "#0d0887"
                          ],
                          [
                            0.1111111111111111,
                            "#46039f"
                          ],
                          [
                            0.2222222222222222,
                            "#7201a8"
                          ],
                          [
                            0.3333333333333333,
                            "#9c179e"
                          ],
                          [
                            0.4444444444444444,
                            "#bd3786"
                          ],
                          [
                            0.5555555555555556,
                            "#d8576b"
                          ],
                          [
                            0.6666666666666666,
                            "#ed7953"
                          ],
                          [
                            0.7777777777777778,
                            "#fb9f3a"
                          ],
                          [
                            0.8888888888888888,
                            "#fdca26"
                          ],
                          [
                            1,
                            "#f0f921"
                          ]
                        ],
                        "type": "contour"
                      }
                    ],
                    "contourcarpet": [
                      {
                        "colorbar": {
                          "outlinewidth": 0,
                          "ticks": ""
                        },
                        "type": "contourcarpet"
                      }
                    ],
                    "heatmap": [
                      {
                        "colorbar": {
                          "outlinewidth": 0,
                          "ticks": ""
                        },
                        "colorscale": [
                          [
                            0,
                            "#0d0887"
                          ],
                          [
                            0.1111111111111111,
                            "#46039f"
                          ],
                          [
                            0.2222222222222222,
                            "#7201a8"
                          ],
                          [
                            0.3333333333333333,
                            "#9c179e"
                          ],
                          [
                            0.4444444444444444,
                            "#bd3786"
                          ],
                          [
                            0.5555555555555556,
                            "#d8576b"
                          ],
                          [
                            0.6666666666666666,
                            "#ed7953"
                          ],
                          [
                            0.7777777777777778,
                            "#fb9f3a"
                          ],
                          [
                            0.8888888888888888,
                            "#fdca26"
                          ],
                          [
                            1,
                            "#f0f921"
                          ]
                        ],
                        "type": "heatmap"
                      }
                    ],
                    "heatmapgl": [
                      {
                        "colorbar": {
                          "outlinewidth": 0,
                          "ticks": ""
                        },
                        "colorscale": [
                          [
                            0,
                            "#0d0887"
                          ],
                          [
                            0.1111111111111111,
                            "#46039f"
                          ],
                          [
                            0.2222222222222222,
                            "#7201a8"
                          ],
                          [
                            0.3333333333333333,
                            "#9c179e"
                          ],
                          [
                            0.4444444444444444,
                            "#bd3786"
                          ],
                          [
                            0.5555555555555556,
                            "#d8576b"
                          ],
                          [
                            0.6666666666666666,
                            "#ed7953"
                          ],
                          [
                            0.7777777777777778,
                            "#fb9f3a"
                          ],
                          [
                            0.8888888888888888,
                            "#fdca26"
                          ],
                          [
                            1,
                            "#f0f921"
                          ]
                        ],
                        "type": "heatmapgl"
                      }
                    ],
                    "histogram": [
                      {
                        "marker": {
                          "pattern": {
                            "fillmode": "overlay",
                            "size": 10,
                            "solidity": 0.2
                          }
                        },
                        "type": "histogram"
                      }
                    ],
                    "histogram2d": [
                      {
                        "colorbar": {
                          "outlinewidth": 0,
                          "ticks": ""
                        },
                        "colorscale": [
                          [
                            0,
                            "#0d0887"
                          ],
                          [
                            0.1111111111111111,
                            "#46039f"
                          ],
                          [
                            0.2222222222222222,
                            "#7201a8"
                          ],
                          [
                            0.3333333333333333,
                            "#9c179e"
                          ],
                          [
                            0.4444444444444444,
                            "#bd3786"
                          ],
                          [
                            0.5555555555555556,
                            "#d8576b"
                          ],
                          [
                            0.6666666666666666,
                            "#ed7953"
                          ],
                          [
                            0.7777777777777778,
                            "#fb9f3a"
                          ],
                          [
                            0.8888888888888888,
                            "#fdca26"
                          ],
                          [
                            1,
                            "#f0f921"
                          ]
                        ],
                        "type": "histogram2d"
                      }
                    ],
                    "histogram2dcontour": [
                      {
                        "colorbar": {
                          "outlinewidth": 0,
                          "ticks": ""
                        },
                        "colorscale": [
                          [
                            0,
                            "#0d0887"
                          ],
                          [
                            0.1111111111111111,
                            "#46039f"
                          ],
                          [
                            0.2222222222222222,
                            "#7201a8"
                          ],
                          [
                            0.3333333333333333,
                            "#9c179e"
                          ],
                          [
                            0.4444444444444444,
                            "#bd3786"
                          ],
                          [
                            0.5555555555555556,
                            "#d8576b"
                          ],
                          [
                            0.6666666666666666,
                            "#ed7953"
                          ],
                          [
                            0.7777777777777778,
                            "#fb9f3a"
                          ],
                          [
                            0.8888888888888888,
                            "#fdca26"
                          ],
                          [
                            1,
                            "#f0f921"
                          ]
                        ],
                        "type": "histogram2dcontour"
                      }
                    ],
                    "mesh3d": [
                      {
                        "colorbar": {
                          "outlinewidth": 0,
                          "ticks": ""
                        },
                        "type": "mesh3d"
                      }
                    ],
                    "parcoords": [
                      {
                        "line": {
                          "colorbar": {
                            "outlinewidth": 0,
                            "ticks": ""
                          }
                        },
                        "type": "parcoords"
                      }
                    ],
                    "pie": [
                      {
                        "automargin": true,
                        "type": "pie"
                      }
                    ],
                    "scatter": [
                      {
                        "fillpattern": {
                          "fillmode": "overlay",
                          "size": 10,
                          "solidity": 0.2
                        },
                        "type": "scatter"
                      }
                    ],
                    "scatter3d": [
                      {
                        "line": {
                          "colorbar": {
                            "outlinewidth": 0,
                            "ticks": ""
                          }
                        },
                        "marker": {
                          "colorbar": {
                            "outlinewidth": 0,
                            "ticks": ""
                          }
                        },
                        "type": "scatter3d"
                      }
                    ],
                    "scattercarpet": [
                      {
                        "marker": {
                          "colorbar": {
                            "outlinewidth": 0,
                            "ticks": ""
                          }
                        },
                        "type": "scattercarpet"
                      }
                    ],
                    "scattergeo": [
                      {
                        "marker": {
                          "colorbar": {
                            "outlinewidth": 0,
                            "ticks": ""
                          }
                        },
                        "type": "scattergeo"
                      }
                    ],
                    "scattergl": [
                      {
                        "marker": {
                          "colorbar": {
                            "outlinewidth": 0,
                            "ticks": ""
                          }
                        },
                        "type": "scattergl"
                      }
                    ],
                    "scattermapbox": [
                      {
                        "marker": {
                          "colorbar": {
                            "outlinewidth": 0,
                            "ticks": ""
                          }
                        },
                        "type": "scattermapbox"
                      }
                    ],
                    "scatterpolar": [
                      {
                        "marker": {
                          "colorbar": {
                            "outlinewidth": 0,
                            "ticks": ""
                          }
                        },
                        "type": "scatterpolar"
                      }
                    ],
                    "scatterpolargl": [
                      {
                        "marker": {
                          "colorbar": {
                            "outlinewidth": 0,
                            "ticks": ""
                          }
                        },
                        "type": "scatterpolargl"
                      }
                    ],
                    "scatterternary": [
                      {
                        "marker": {
                          "colorbar": {
                            "outlinewidth": 0,
                            "ticks": ""
                          }
                        },
                        "type": "scatterternary"
                      }
                    ],
                    "surface": [
                      {
                        "colorbar": {
                          "outlinewidth": 0,
                          "ticks": ""
                        },
                        "colorscale": [
                          [
                            0,
                            "#0d0887"
                          ],
                          [
                            0.1111111111111111,
                            "#46039f"
                          ],
                          [
                            0.2222222222222222,
                            "#7201a8"
                          ],
                          [
                            0.3333333333333333,
                            "#9c179e"
                          ],
                          [
                            0.4444444444444444,
                            "#bd3786"
                          ],
                          [
                            0.5555555555555556,
                            "#d8576b"
                          ],
                          [
                            0.6666666666666666,
                            "#ed7953"
                          ],
                          [
                            0.7777777777777778,
                            "#fb9f3a"
                          ],
                          [
                            0.8888888888888888,
                            "#fdca26"
                          ],
                          [
                            1,
                            "#f0f921"
                          ]
                        ],
                        "type": "surface"
                      }
                    ],
                    "table": [
                      {
                        "cells": {
                          "fill": {
                            "color": "#EBF0F8"
                          },
                          "line": {
                            "color": "white"
                          }
                        },
                        "header": {
                          "fill": {
                            "color": "#C8D4E3"
                          },
                          "line": {
                            "color": "white"
                          }
                        },
                        "type": "table"
                      }
                    ]
                  },
                  "layout": {
                    "annotationdefaults": {
                      "arrowcolor": "#2a3f5f",
                      "arrowhead": 0,
                      "arrowwidth": 1
                    },
                    "autotypenumbers": "strict",
                    "coloraxis": {
                      "colorbar": {
                        "outlinewidth": 0,
                        "ticks": ""
                      }
                    },
                    "colorscale": {
                      "diverging": [
                        [
                          0,
                          "#8e0152"
                        ],
                        [
                          0.1,
                          "#c51b7d"
                        ],
                        [
                          0.2,
                          "#de77ae"
                        ],
                        [
                          0.3,
                          "#f1b6da"
                        ],
                        [
                          0.4,
                          "#fde0ef"
                        ],
                        [
                          0.5,
                          "#f7f7f7"
                        ],
                        [
                          0.6,
                          "#e6f5d0"
                        ],
                        [
                          0.7,
                          "#b8e186"
                        ],
                        [
                          0.8,
                          "#7fbc41"
                        ],
                        [
                          0.9,
                          "#4d9221"
                        ],
                        [
                          1,
                          "#276419"
                        ]
                      ],
                      "sequential": [
                        [
                          0,
                          "#0d0887"
                        ],
                        [
                          0.1111111111111111,
                          "#46039f"
                        ],
                        [
                          0.2222222222222222,
                          "#7201a8"
                        ],
                        [
                          0.3333333333333333,
                          "#9c179e"
                        ],
                        [
                          0.4444444444444444,
                          "#bd3786"
                        ],
                        [
                          0.5555555555555556,
                          "#d8576b"
                        ],
                        [
                          0.6666666666666666,
                          "#ed7953"
                        ],
                        [
                          0.7777777777777778,
                          "#fb9f3a"
                        ],
                        [
                          0.8888888888888888,
                          "#fdca26"
                        ],
                        [
                          1,
                          "#f0f921"
                        ]
                      ],
                      "sequentialminus": [
                        [
                          0,
                          "#0d0887"
                        ],
                        [
                          0.1111111111111111,
                          "#46039f"
                        ],
                        [
                          0.2222222222222222,
                          "#7201a8"
                        ],
                        [
                          0.3333333333333333,
                          "#9c179e"
                        ],
                        [
                          0.4444444444444444,
                          "#bd3786"
                        ],
                        [
                          0.5555555555555556,
                          "#d8576b"
                        ],
                        [
                          0.6666666666666666,
                          "#ed7953"
                        ],
                        [
                          0.7777777777777778,
                          "#fb9f3a"
                        ],
                        [
                          0.8888888888888888,
                          "#fdca26"
                        ],
                        [
                          1,
                          "#f0f921"
                        ]
                      ]
                    },
                    "colorway": [
                      "#636efa",
                      "#EF553B",
                      "#00cc96",
                      "#ab63fa",
                      "#FFA15A",
                      "#19d3f3",
                      "#FF6692",
                      "#B6E880",
                      "#FF97FF",
                      "#FECB52"
                    ],
                    "font": {
                      "color": "#2a3f5f"
                    },
                    "geo": {
                      "bgcolor": "white",
                      "lakecolor": "white",
                      "landcolor": "#E5ECF6",
                      "showlakes": true,
                      "showland": true,
                      "subunitcolor": "white"
                    },
                    "hoverlabel": {
                      "align": "left"
                    },
                    "hovermode": "closest",
                    "mapbox": {
                      "style": "light"
                    },
                    "paper_bgcolor": "white",
                    "plot_bgcolor": "#E5ECF6",
                    "polar": {
                      "angularaxis": {
                        "gridcolor": "white",
                        "linecolor": "white",
                        "ticks": ""
                      },
                      "bgcolor": "#E5ECF6",
                      "radialaxis": {
                        "gridcolor": "white",
                        "linecolor": "white",
                        "ticks": ""
                      }
                    },
                    "scene": {
                      "xaxis": {
                        "backgroundcolor": "#E5ECF6",
                        "gridcolor": "white",
                        "gridwidth": 2,
                        "linecolor": "white",
                        "showbackground": true,
                        "ticks": "",
                        "zerolinecolor": "white"
                      },
                      "yaxis": {
                        "backgroundcolor": "#E5ECF6",
                        "gridcolor": "white",
                        "gridwidth": 2,
                        "linecolor": "white",
                        "showbackground": true,
                        "ticks": "",
                        "zerolinecolor": "white"
                      },
                      "zaxis": {
                        "backgroundcolor": "#E5ECF6",
                        "gridcolor": "white",
                        "gridwidth": 2,
                        "linecolor": "white",
                        "showbackground": true,
                        "ticks": "",
                        "zerolinecolor": "white"
                      }
                    },
                    "shapedefaults": {
                      "line": {
                        "color": "#2a3f5f"
                      }
                    },
                    "ternary": {
                      "aaxis": {
                        "gridcolor": "white",
                        "linecolor": "white",
                        "ticks": ""
                      },
                      "baxis": {
                        "gridcolor": "white",
                        "linecolor": "white",
                        "ticks": ""
                      },
                      "bgcolor": "#E5ECF6",
                      "caxis": {
                        "gridcolor": "white",
                        "linecolor": "white",
                        "ticks": ""
                      }
                    },
                    "title": {
                      "x": 0.05
                    },
                    "xaxis": {
                      "automargin": true,
                      "gridcolor": "white",
                      "linecolor": "white",
                      "ticks": "",
                      "title": {
                        "standoff": 15
                      },
                      "zerolinecolor": "white",
                      "zerolinewidth": 2
                    },
                    "yaxis": {
                      "automargin": true,
                      "gridcolor": "white",
                      "linecolor": "white",
                      "ticks": "",
                      "title": {
                        "standoff": 15
                      },
                      "zerolinecolor": "white",
                      "zerolinewidth": 2
                    }
                  }
                },
                "title": {
                  "text": "Circular Sankey Diagram: Aromatic Compounds"
                },
                "width": 1000
              }
            }
          },
          "metadata": {},
          "output_type": "display_data"
        }
      ],
      "source": [
        "# First, install plotly if not already installed\n",
        "# !pip install plotly\n",
        "\n",
        "import plotly.graph_objects as go\n",
        "import pandas as pd\n",
        "import numpy as np\n",
        "\n",
        "# Define the functional group and molecules\n",
        "functional_group = \"Aromatic\"\n",
        "molecules = [\n",
        "    \"Azulene\", \"Benzene\", \"Bipyrrole\", \"Bromobenzene\", \"Chlorobenzene\",\n",
        "    \"Cytosine\", \"Fluorobenzene\", \"Four Pyridinone\", \"Furan\", \"Imidazole\",\n",
        "    \"Imidazolium\", \"Indole\", \"Indolizine\", \"Iodobenzene\", \"Isoxazole\",\n",
        "    \"Methylene Oxide\", \"Nitrobenzene\", \"1 Phenyl-4-Pyridinone\",\n",
        "    \"Oxindole-3-ylidene\", \"Phenol\", \"Phenoxazine\", \"Pyridine\", \"Pyridinium\",\n",
        "    \"Pyrimidine\", \"Pyrrolidine\", \"Thiophene\", \"3-Aminopyridine\", \"2-H-Pyran\", \"Uracil\"\n",
        "]\n",
        "\n",
        "# Create the data for the Sankey diagram\n",
        "source = [0] * len(molecules)  # 0 represents the functional group\n",
        "target = list(range(1, len(molecules) + 1))  # Each molecule gets a unique index\n",
        "value = [1] * len(molecules)  # Each connection has equal weight\n",
        "\n",
        "# Create labels for all nodes\n",
        "labels = [functional_group] + molecules\n",
        "\n",
        "# Create a color scale\n",
        "n_colors = len(labels)\n",
        "colors = [f'rgb({r},{g},{b})' for r, g, b in zip(\n",
        "    np.random.randint(0, 255, n_colors),\n",
        "    np.random.randint(0, 255, n_colors),\n",
        "    np.random.randint(0, 255, n_colors)\n",
        ")]\n",
        "\n",
        "# Create the Sankey diagram\n",
        "fig = go.Figure(data=[go.Sankey(\n",
        "    arrangement = \"snap\",\n",
        "    node = {\n",
        "        \"label\": labels,\n",
        "        \"color\": colors,\n",
        "        \"pad\": 10,\n",
        "        \"thickness\": 10,\n",
        "        \"line\": dict(color = \"grey\", width = 0.25)\n",
        "    },\n",
        "    link = {\n",
        "        \"source\": source,\n",
        "        \"target\": target,\n",
        "        \"value\": value\n",
        "    }\n",
        ")])\n",
        "\n",
        "# Update the layout for a circular arrangement\n",
        "fig.update_layout(\n",
        "    title_text=\"Circular Sankey Diagram: Aromatic Compounds\",\n",
        "    font_size=10,\n",
        "    autosize=False,\n",
        "    width=1000,\n",
        "    height=1000,\n",
        ")\n",
        "\n",
        "# Show the plot\n",
        "fig.show()"
      ]
    },
    {
      "cell_type": "code",
      "execution_count": 16,
      "metadata": {
        "colab": {
          "base_uri": "https://localhost:8080/",
          "height": 617
        },
        "id": "EmPqPXGCOfa5",
        "outputId": "2b786b89-df94-4971-e7b0-8e0b3b6d4208"
      },
      "outputs": [
        {
          "data": {
            "application/vnd.plotly.v1+json": {
              "config": {
                "plotlyServerURL": "https://plot.ly"
              },
              "data": [
                {
                  "line": {
                    "width": 5
                  },
                  "marker": {
                    "size": 13
                  },
                  "mode": "lines+markers",
                  "name": "mp2/aug-cc-pvdzd",
                  "type": "scatter",
                  "x": [
                    1,
                    1.1,
                    1.2000000000000002,
                    1.3000000000000003,
                    1.4000000000000004,
                    1.5000000000000004,
                    1.6000000000000005,
                    1.7000000000000006,
                    1.8000000000000007,
                    1.9000000000000008,
                    2.000000000000001,
                    2.100000000000001,
                    2.200000000000001,
                    2.300000000000001,
                    2.4000000000000012,
                    2.5000000000000013,
                    2.6000000000000014,
                    2.7000000000000015,
                    2.8000000000000016,
                    2.9000000000000017,
                    3.0000000000000018,
                    3.100000000000002,
                    3.200000000000002,
                    3.300000000000002,
                    3.400000000000002,
                    3.500000000000002,
                    3.6000000000000023,
                    3.7000000000000024,
                    3.8000000000000025,
                    3.9000000000000026,
                    4.000000000000003,
                    4.100000000000003,
                    4.200000000000003,
                    4.3000000000000025,
                    4.400000000000003,
                    4.5000000000000036,
                    4.600000000000003,
                    4.700000000000003,
                    4.800000000000003,
                    4.900000000000004,
                    5.0000000000000036,
                    5.100000000000003,
                    5.200000000000004,
                    5.300000000000004,
                    5.400000000000004,
                    5.5000000000000036,
                    5.600000000000004,
                    5.700000000000005,
                    5.800000000000004,
                    5.900000000000004,
                    6.000000000000004,
                    6.100000000000005,
                    6.200000000000005,
                    6.300000000000004,
                    6.400000000000005,
                    6.500000000000005,
                    6.600000000000005,
                    6.700000000000005,
                    6.800000000000005,
                    6.900000000000006,
                    7.000000000000005,
                    7.100000000000005,
                    7.2000000000000055,
                    7.300000000000006,
                    7.400000000000006,
                    7.500000000000005,
                    7.600000000000006,
                    7.700000000000006,
                    7.800000000000006,
                    7.900000000000006
                  ],
                  "y": [
                    602.4525321523776,
                    436.5386704956938,
                    330.49796252368253,
                    259.8060358344519,
                    209.7462644825864,
                    171.56952648095904,
                    140.38589581424603,
                    113.80694070355966,
                    90.83682641414343,
                    71.07298588960548,
                    54.29676274156664,
                    40.309242428833386,
                    28.87593301423476,
                    19.719741369306576,
                    12.536801998625743,
                    7.018314064241713,
                    2.8700474979297725,
                    -0.1737895682279486,
                    -2.3434960190090353,
                    -3.8323170616698916,
                    -4.798768190655392,
                    -5.370675326854689,
                    -5.649687393871136,
                    -5.7155433819629256,
                    -5.630083939008182,
                    -5.440820826677372,
                    -5.183908855705522,
                    -4.886529786075698,
                    -4.568852783972398,
                    -4.245515197352506,
                    -3.926836900779745,
                    -3.6198397729429415,
                    -3.329025476082461,
                    -3.057018168346258,
                    -2.8050880011054686,
                    -2.573448233009549,
                    -2.361617617245065,
                    -2.168617056909716,
                    -1.9931396774481982,
                    -1.8337533015059306,
                    -1.6889598138455768,
                    -1.557313125336077,
                    -1.4374525993131102,
                    -1.3281442258914467,
                    -1.228302763379179,
                    -1.136971685854951,
                    -1.0533329279744066,
                    -0.9766664510825649,
                    -0.906364426278742,
                    -0.8418766762421,
                    -0.7827022593992297,
                    -0.7284195167361759,
                    -0.6786101154517382,
                    -0.6328875622246415,
                    -0.5909144695673604,
                    -0.5523443572514225,
                    -0.516884738364024,
                    -0.484251953655621,
                    -0.45418598073883915,
                    -0.42646201503812337,
                    -0.40087066919077186,
                    -0.37720839958055874,
                    -0.35530892707174644,
                    -0.33501676772139033,
                    -0.31618515627342275,
                    -0.29869070745189674,
                    -0.28241189536638556,
                    -0.2672387142491061,
                    -0.2530791684403084,
                    -0.23984096698113716,
                    -0.22744757137843408
                  ]
                },
                {
                  "line": {
                    "width": 5
                  },
                  "marker": {
                    "size": 13
                  },
                  "mode": "lines+markers",
                  "name": "mp2/aug-cc-pvdz",
                  "type": "scatter",
                  "x": [
                    1,
                    1.1,
                    1.2000000000000002,
                    1.3000000000000003,
                    1.4000000000000004,
                    1.5000000000000004,
                    1.6000000000000005,
                    1.7000000000000006,
                    1.8000000000000007,
                    1.9000000000000008,
                    2.000000000000001,
                    2.100000000000001,
                    2.200000000000001,
                    2.300000000000001,
                    2.4000000000000012,
                    2.5000000000000013,
                    2.6000000000000014,
                    2.7000000000000015,
                    2.8000000000000016,
                    2.9000000000000017,
                    3.0000000000000018,
                    3.100000000000002,
                    3.200000000000002,
                    3.300000000000002,
                    3.400000000000002,
                    3.500000000000002,
                    3.6000000000000023,
                    3.7000000000000024,
                    3.8000000000000025,
                    3.9000000000000026,
                    4.000000000000003,
                    4.100000000000003,
                    4.200000000000003,
                    4.3000000000000025,
                    4.400000000000003,
                    4.5000000000000036,
                    4.600000000000003,
                    4.700000000000003,
                    4.800000000000003,
                    4.900000000000004,
                    5.0000000000000036,
                    5.100000000000003,
                    5.200000000000004,
                    5.300000000000004,
                    5.400000000000004,
                    5.5000000000000036,
                    5.600000000000004,
                    5.700000000000005,
                    5.800000000000004,
                    5.900000000000004,
                    6.000000000000004,
                    6.100000000000005,
                    6.200000000000005,
                    6.300000000000004,
                    6.400000000000005,
                    6.500000000000005,
                    6.600000000000005,
                    6.700000000000005,
                    6.800000000000005,
                    6.900000000000006,
                    7.000000000000005,
                    7.100000000000005,
                    7.2000000000000055,
                    7.300000000000006,
                    7.400000000000006,
                    7.500000000000005,
                    7.600000000000006,
                    7.700000000000006,
                    7.800000000000006,
                    7.900000000000006
                  ],
                  "y": [
                    547.684120138525,
                    396.8533368142671,
                    300.45269320334774,
                    236.1873053040472,
                    190.67842225689674,
                    155.97229680087185,
                    127.62354164931457,
                    103.46085518505424,
                    82.57893310376676,
                    64.6118053541868,
                    49.360693401424214,
                    36.64476584439399,
                    26.250848194758873,
                    17.927037608460523,
                    11.397092726023402,
                    6.380285512947012,
                    2.609134089027066,
                    -0.15799051657086238,
                    -2.13045092637185,
                    -3.4839246015180834,
                    -4.362516536959447,
                    -4.882432115322445,
                    -5.13607944897376,
                    -5.195948529057205,
                    -5.1182581263710745,
                    -4.946200751524884,
                    -4.712644414277747,
                    -4.442299805523362,
                    -4.153502530883998,
                    -3.85955927032046,
                    -3.569851727981586,
                    -3.2907634299481288,
                    -3.026386796438601,
                    -2.7791074257693253,
                    -2.5500800010049716,
                    -2.3394983936450444,
                    -2.1469251065864228,
                    -1.9714700517361052,
                    -1.8119451613165438,
                    -1.6670484559144825,
                    -1.535418012586888,
                    -1.4157392048509791,
                    -1.3067750902846456,
                    -1.207403841719497,
                    -1.1166388757992536,
                    -1.0336106235045008,
                    -0.9575753890676424,
                    -0.8878785918932408,
                    -0.8239676602534018,
                    -0.7653424329473637,
                    -0.7115475085447542,
                    -0.6621995606692508,
                    -0.6169182867743075,
                    -0.5753523292951286,
                    -0.537194972333964,
                    -0.5021312338649295,
                    -0.46989521669456735,
                    -0.4402290487778373,
                    -0.4128963461262174,
                    -0.3876927409437485,
                    -0.3644278810825199,
                    -0.34291672689141706,
                    -0.3230081155197695,
                    -0.3045606979285367,
                    -0.28744105115765706,
                    -0.2715370067744516,
                    -0.25673808669671416,
                    -0.24294428568100557,
                    -0.2300719713093713,
                    -0.2180372427101247,
                    -0.20677051943494007
                  ]
                }
              ],
              "layout": {
                "bargap": 0.2,
                "height": 600,
                "legend": {
                  "bordercolor": "LightSteelBlue",
                  "borderwidth": 2,
                  "font": {
                    "family": "Arial",
                    "size": 35
                  },
                  "itemsizing": "constant",
                  "orientation": "h",
                  "x": 1.05,
                  "xanchor": "right",
                  "y": 1.02,
                  "yanchor": "bottom"
                },
                "showlegend": false,
                "template": {
                  "data": {
                    "bar": [
                      {
                        "error_x": {
                          "color": "rgb(36,36,36)"
                        },
                        "error_y": {
                          "color": "rgb(36,36,36)"
                        },
                        "marker": {
                          "line": {
                            "color": "white",
                            "width": 0.5
                          },
                          "pattern": {
                            "fillmode": "overlay",
                            "size": 10,
                            "solidity": 0.2
                          }
                        },
                        "type": "bar"
                      }
                    ],
                    "barpolar": [
                      {
                        "marker": {
                          "line": {
                            "color": "white",
                            "width": 0.5
                          },
                          "pattern": {
                            "fillmode": "overlay",
                            "size": 10,
                            "solidity": 0.2
                          }
                        },
                        "type": "barpolar"
                      }
                    ],
                    "carpet": [
                      {
                        "aaxis": {
                          "endlinecolor": "rgb(36,36,36)",
                          "gridcolor": "white",
                          "linecolor": "white",
                          "minorgridcolor": "white",
                          "startlinecolor": "rgb(36,36,36)"
                        },
                        "baxis": {
                          "endlinecolor": "rgb(36,36,36)",
                          "gridcolor": "white",
                          "linecolor": "white",
                          "minorgridcolor": "white",
                          "startlinecolor": "rgb(36,36,36)"
                        },
                        "type": "carpet"
                      }
                    ],
                    "choropleth": [
                      {
                        "colorbar": {
                          "outlinewidth": 1,
                          "tickcolor": "rgb(36,36,36)",
                          "ticks": "outside"
                        },
                        "type": "choropleth"
                      }
                    ],
                    "contour": [
                      {
                        "colorbar": {
                          "outlinewidth": 1,
                          "tickcolor": "rgb(36,36,36)",
                          "ticks": "outside"
                        },
                        "colorscale": [
                          [
                            0,
                            "#440154"
                          ],
                          [
                            0.1111111111111111,
                            "#482878"
                          ],
                          [
                            0.2222222222222222,
                            "#3e4989"
                          ],
                          [
                            0.3333333333333333,
                            "#31688e"
                          ],
                          [
                            0.4444444444444444,
                            "#26828e"
                          ],
                          [
                            0.5555555555555556,
                            "#1f9e89"
                          ],
                          [
                            0.6666666666666666,
                            "#35b779"
                          ],
                          [
                            0.7777777777777778,
                            "#6ece58"
                          ],
                          [
                            0.8888888888888888,
                            "#b5de2b"
                          ],
                          [
                            1,
                            "#fde725"
                          ]
                        ],
                        "type": "contour"
                      }
                    ],
                    "contourcarpet": [
                      {
                        "colorbar": {
                          "outlinewidth": 1,
                          "tickcolor": "rgb(36,36,36)",
                          "ticks": "outside"
                        },
                        "type": "contourcarpet"
                      }
                    ],
                    "heatmap": [
                      {
                        "colorbar": {
                          "outlinewidth": 1,
                          "tickcolor": "rgb(36,36,36)",
                          "ticks": "outside"
                        },
                        "colorscale": [
                          [
                            0,
                            "#440154"
                          ],
                          [
                            0.1111111111111111,
                            "#482878"
                          ],
                          [
                            0.2222222222222222,
                            "#3e4989"
                          ],
                          [
                            0.3333333333333333,
                            "#31688e"
                          ],
                          [
                            0.4444444444444444,
                            "#26828e"
                          ],
                          [
                            0.5555555555555556,
                            "#1f9e89"
                          ],
                          [
                            0.6666666666666666,
                            "#35b779"
                          ],
                          [
                            0.7777777777777778,
                            "#6ece58"
                          ],
                          [
                            0.8888888888888888,
                            "#b5de2b"
                          ],
                          [
                            1,
                            "#fde725"
                          ]
                        ],
                        "type": "heatmap"
                      }
                    ],
                    "heatmapgl": [
                      {
                        "colorbar": {
                          "outlinewidth": 1,
                          "tickcolor": "rgb(36,36,36)",
                          "ticks": "outside"
                        },
                        "colorscale": [
                          [
                            0,
                            "#440154"
                          ],
                          [
                            0.1111111111111111,
                            "#482878"
                          ],
                          [
                            0.2222222222222222,
                            "#3e4989"
                          ],
                          [
                            0.3333333333333333,
                            "#31688e"
                          ],
                          [
                            0.4444444444444444,
                            "#26828e"
                          ],
                          [
                            0.5555555555555556,
                            "#1f9e89"
                          ],
                          [
                            0.6666666666666666,
                            "#35b779"
                          ],
                          [
                            0.7777777777777778,
                            "#6ece58"
                          ],
                          [
                            0.8888888888888888,
                            "#b5de2b"
                          ],
                          [
                            1,
                            "#fde725"
                          ]
                        ],
                        "type": "heatmapgl"
                      }
                    ],
                    "histogram": [
                      {
                        "marker": {
                          "line": {
                            "color": "white",
                            "width": 0.6
                          }
                        },
                        "type": "histogram"
                      }
                    ],
                    "histogram2d": [
                      {
                        "colorbar": {
                          "outlinewidth": 1,
                          "tickcolor": "rgb(36,36,36)",
                          "ticks": "outside"
                        },
                        "colorscale": [
                          [
                            0,
                            "#440154"
                          ],
                          [
                            0.1111111111111111,
                            "#482878"
                          ],
                          [
                            0.2222222222222222,
                            "#3e4989"
                          ],
                          [
                            0.3333333333333333,
                            "#31688e"
                          ],
                          [
                            0.4444444444444444,
                            "#26828e"
                          ],
                          [
                            0.5555555555555556,
                            "#1f9e89"
                          ],
                          [
                            0.6666666666666666,
                            "#35b779"
                          ],
                          [
                            0.7777777777777778,
                            "#6ece58"
                          ],
                          [
                            0.8888888888888888,
                            "#b5de2b"
                          ],
                          [
                            1,
                            "#fde725"
                          ]
                        ],
                        "type": "histogram2d"
                      }
                    ],
                    "histogram2dcontour": [
                      {
                        "colorbar": {
                          "outlinewidth": 1,
                          "tickcolor": "rgb(36,36,36)",
                          "ticks": "outside"
                        },
                        "colorscale": [
                          [
                            0,
                            "#440154"
                          ],
                          [
                            0.1111111111111111,
                            "#482878"
                          ],
                          [
                            0.2222222222222222,
                            "#3e4989"
                          ],
                          [
                            0.3333333333333333,
                            "#31688e"
                          ],
                          [
                            0.4444444444444444,
                            "#26828e"
                          ],
                          [
                            0.5555555555555556,
                            "#1f9e89"
                          ],
                          [
                            0.6666666666666666,
                            "#35b779"
                          ],
                          [
                            0.7777777777777778,
                            "#6ece58"
                          ],
                          [
                            0.8888888888888888,
                            "#b5de2b"
                          ],
                          [
                            1,
                            "#fde725"
                          ]
                        ],
                        "type": "histogram2dcontour"
                      }
                    ],
                    "mesh3d": [
                      {
                        "colorbar": {
                          "outlinewidth": 1,
                          "tickcolor": "rgb(36,36,36)",
                          "ticks": "outside"
                        },
                        "type": "mesh3d"
                      }
                    ],
                    "parcoords": [
                      {
                        "line": {
                          "colorbar": {
                            "outlinewidth": 1,
                            "tickcolor": "rgb(36,36,36)",
                            "ticks": "outside"
                          }
                        },
                        "type": "parcoords"
                      }
                    ],
                    "pie": [
                      {
                        "automargin": true,
                        "type": "pie"
                      }
                    ],
                    "scatter": [
                      {
                        "fillpattern": {
                          "fillmode": "overlay",
                          "size": 10,
                          "solidity": 0.2
                        },
                        "type": "scatter"
                      }
                    ],
                    "scatter3d": [
                      {
                        "line": {
                          "colorbar": {
                            "outlinewidth": 1,
                            "tickcolor": "rgb(36,36,36)",
                            "ticks": "outside"
                          }
                        },
                        "marker": {
                          "colorbar": {
                            "outlinewidth": 1,
                            "tickcolor": "rgb(36,36,36)",
                            "ticks": "outside"
                          }
                        },
                        "type": "scatter3d"
                      }
                    ],
                    "scattercarpet": [
                      {
                        "marker": {
                          "colorbar": {
                            "outlinewidth": 1,
                            "tickcolor": "rgb(36,36,36)",
                            "ticks": "outside"
                          }
                        },
                        "type": "scattercarpet"
                      }
                    ],
                    "scattergeo": [
                      {
                        "marker": {
                          "colorbar": {
                            "outlinewidth": 1,
                            "tickcolor": "rgb(36,36,36)",
                            "ticks": "outside"
                          }
                        },
                        "type": "scattergeo"
                      }
                    ],
                    "scattergl": [
                      {
                        "marker": {
                          "colorbar": {
                            "outlinewidth": 1,
                            "tickcolor": "rgb(36,36,36)",
                            "ticks": "outside"
                          }
                        },
                        "type": "scattergl"
                      }
                    ],
                    "scattermapbox": [
                      {
                        "marker": {
                          "colorbar": {
                            "outlinewidth": 1,
                            "tickcolor": "rgb(36,36,36)",
                            "ticks": "outside"
                          }
                        },
                        "type": "scattermapbox"
                      }
                    ],
                    "scatterpolar": [
                      {
                        "marker": {
                          "colorbar": {
                            "outlinewidth": 1,
                            "tickcolor": "rgb(36,36,36)",
                            "ticks": "outside"
                          }
                        },
                        "type": "scatterpolar"
                      }
                    ],
                    "scatterpolargl": [
                      {
                        "marker": {
                          "colorbar": {
                            "outlinewidth": 1,
                            "tickcolor": "rgb(36,36,36)",
                            "ticks": "outside"
                          }
                        },
                        "type": "scatterpolargl"
                      }
                    ],
                    "scatterternary": [
                      {
                        "marker": {
                          "colorbar": {
                            "outlinewidth": 1,
                            "tickcolor": "rgb(36,36,36)",
                            "ticks": "outside"
                          }
                        },
                        "type": "scatterternary"
                      }
                    ],
                    "surface": [
                      {
                        "colorbar": {
                          "outlinewidth": 1,
                          "tickcolor": "rgb(36,36,36)",
                          "ticks": "outside"
                        },
                        "colorscale": [
                          [
                            0,
                            "#440154"
                          ],
                          [
                            0.1111111111111111,
                            "#482878"
                          ],
                          [
                            0.2222222222222222,
                            "#3e4989"
                          ],
                          [
                            0.3333333333333333,
                            "#31688e"
                          ],
                          [
                            0.4444444444444444,
                            "#26828e"
                          ],
                          [
                            0.5555555555555556,
                            "#1f9e89"
                          ],
                          [
                            0.6666666666666666,
                            "#35b779"
                          ],
                          [
                            0.7777777777777778,
                            "#6ece58"
                          ],
                          [
                            0.8888888888888888,
                            "#b5de2b"
                          ],
                          [
                            1,
                            "#fde725"
                          ]
                        ],
                        "type": "surface"
                      }
                    ],
                    "table": [
                      {
                        "cells": {
                          "fill": {
                            "color": "rgb(237,237,237)"
                          },
                          "line": {
                            "color": "white"
                          }
                        },
                        "header": {
                          "fill": {
                            "color": "rgb(217,217,217)"
                          },
                          "line": {
                            "color": "white"
                          }
                        },
                        "type": "table"
                      }
                    ]
                  },
                  "layout": {
                    "annotationdefaults": {
                      "arrowhead": 0,
                      "arrowwidth": 1
                    },
                    "autotypenumbers": "strict",
                    "coloraxis": {
                      "colorbar": {
                        "outlinewidth": 1,
                        "tickcolor": "rgb(36,36,36)",
                        "ticks": "outside"
                      }
                    },
                    "colorscale": {
                      "diverging": [
                        [
                          0,
                          "rgb(103,0,31)"
                        ],
                        [
                          0.1,
                          "rgb(178,24,43)"
                        ],
                        [
                          0.2,
                          "rgb(214,96,77)"
                        ],
                        [
                          0.3,
                          "rgb(244,165,130)"
                        ],
                        [
                          0.4,
                          "rgb(253,219,199)"
                        ],
                        [
                          0.5,
                          "rgb(247,247,247)"
                        ],
                        [
                          0.6,
                          "rgb(209,229,240)"
                        ],
                        [
                          0.7,
                          "rgb(146,197,222)"
                        ],
                        [
                          0.8,
                          "rgb(67,147,195)"
                        ],
                        [
                          0.9,
                          "rgb(33,102,172)"
                        ],
                        [
                          1,
                          "rgb(5,48,97)"
                        ]
                      ],
                      "sequential": [
                        [
                          0,
                          "#440154"
                        ],
                        [
                          0.1111111111111111,
                          "#482878"
                        ],
                        [
                          0.2222222222222222,
                          "#3e4989"
                        ],
                        [
                          0.3333333333333333,
                          "#31688e"
                        ],
                        [
                          0.4444444444444444,
                          "#26828e"
                        ],
                        [
                          0.5555555555555556,
                          "#1f9e89"
                        ],
                        [
                          0.6666666666666666,
                          "#35b779"
                        ],
                        [
                          0.7777777777777778,
                          "#6ece58"
                        ],
                        [
                          0.8888888888888888,
                          "#b5de2b"
                        ],
                        [
                          1,
                          "#fde725"
                        ]
                      ],
                      "sequentialminus": [
                        [
                          0,
                          "#440154"
                        ],
                        [
                          0.1111111111111111,
                          "#482878"
                        ],
                        [
                          0.2222222222222222,
                          "#3e4989"
                        ],
                        [
                          0.3333333333333333,
                          "#31688e"
                        ],
                        [
                          0.4444444444444444,
                          "#26828e"
                        ],
                        [
                          0.5555555555555556,
                          "#1f9e89"
                        ],
                        [
                          0.6666666666666666,
                          "#35b779"
                        ],
                        [
                          0.7777777777777778,
                          "#6ece58"
                        ],
                        [
                          0.8888888888888888,
                          "#b5de2b"
                        ],
                        [
                          1,
                          "#fde725"
                        ]
                      ]
                    },
                    "colorway": [
                      "#1F77B4",
                      "#FF7F0E",
                      "#2CA02C",
                      "#D62728",
                      "#9467BD",
                      "#8C564B",
                      "#E377C2",
                      "#7F7F7F",
                      "#BCBD22",
                      "#17BECF"
                    ],
                    "font": {
                      "color": "rgb(36,36,36)"
                    },
                    "geo": {
                      "bgcolor": "white",
                      "lakecolor": "white",
                      "landcolor": "white",
                      "showlakes": true,
                      "showland": true,
                      "subunitcolor": "white"
                    },
                    "hoverlabel": {
                      "align": "left"
                    },
                    "hovermode": "closest",
                    "mapbox": {
                      "style": "light"
                    },
                    "paper_bgcolor": "white",
                    "plot_bgcolor": "white",
                    "polar": {
                      "angularaxis": {
                        "gridcolor": "rgb(232,232,232)",
                        "linecolor": "rgb(36,36,36)",
                        "showgrid": false,
                        "showline": true,
                        "ticks": "outside"
                      },
                      "bgcolor": "white",
                      "radialaxis": {
                        "gridcolor": "rgb(232,232,232)",
                        "linecolor": "rgb(36,36,36)",
                        "showgrid": false,
                        "showline": true,
                        "ticks": "outside"
                      }
                    },
                    "scene": {
                      "xaxis": {
                        "backgroundcolor": "white",
                        "gridcolor": "rgb(232,232,232)",
                        "gridwidth": 2,
                        "linecolor": "rgb(36,36,36)",
                        "showbackground": true,
                        "showgrid": false,
                        "showline": true,
                        "ticks": "outside",
                        "zeroline": false,
                        "zerolinecolor": "rgb(36,36,36)"
                      },
                      "yaxis": {
                        "backgroundcolor": "white",
                        "gridcolor": "rgb(232,232,232)",
                        "gridwidth": 2,
                        "linecolor": "rgb(36,36,36)",
                        "showbackground": true,
                        "showgrid": false,
                        "showline": true,
                        "ticks": "outside",
                        "zeroline": false,
                        "zerolinecolor": "rgb(36,36,36)"
                      },
                      "zaxis": {
                        "backgroundcolor": "white",
                        "gridcolor": "rgb(232,232,232)",
                        "gridwidth": 2,
                        "linecolor": "rgb(36,36,36)",
                        "showbackground": true,
                        "showgrid": false,
                        "showline": true,
                        "ticks": "outside",
                        "zeroline": false,
                        "zerolinecolor": "rgb(36,36,36)"
                      }
                    },
                    "shapedefaults": {
                      "fillcolor": "black",
                      "line": {
                        "width": 0
                      },
                      "opacity": 0.3
                    },
                    "ternary": {
                      "aaxis": {
                        "gridcolor": "rgb(232,232,232)",
                        "linecolor": "rgb(36,36,36)",
                        "showgrid": false,
                        "showline": true,
                        "ticks": "outside"
                      },
                      "baxis": {
                        "gridcolor": "rgb(232,232,232)",
                        "linecolor": "rgb(36,36,36)",
                        "showgrid": false,
                        "showline": true,
                        "ticks": "outside"
                      },
                      "bgcolor": "white",
                      "caxis": {
                        "gridcolor": "rgb(232,232,232)",
                        "linecolor": "rgb(36,36,36)",
                        "showgrid": false,
                        "showline": true,
                        "ticks": "outside"
                      }
                    },
                    "title": {
                      "x": 0.05
                    },
                    "xaxis": {
                      "automargin": true,
                      "gridcolor": "rgb(232,232,232)",
                      "linecolor": "rgb(36,36,36)",
                      "showgrid": false,
                      "showline": true,
                      "ticks": "outside",
                      "title": {
                        "standoff": 15
                      },
                      "zeroline": false,
                      "zerolinecolor": "rgb(36,36,36)"
                    },
                    "yaxis": {
                      "automargin": true,
                      "gridcolor": "rgb(232,232,232)",
                      "linecolor": "rgb(36,36,36)",
                      "showgrid": false,
                      "showline": true,
                      "ticks": "outside",
                      "title": {
                        "standoff": 15
                      },
                      "zeroline": false,
                      "zerolinecolor": "rgb(36,36,36)"
                    }
                  }
                },
                "width": 1350,
                "xaxis": {
                  "range": [
                    1,
                    8
                  ],
                  "tickfont": {
                    "size": 30
                  },
                  "tickformat": "i"
                },
                "yaxis": {
                  "range": [
                    -10,
                    10
                  ],
                  "tickfont": {
                    "size": 30
                  }
                }
              }
            }
          },
          "metadata": {},
          "output_type": "display_data"
        }
      ],
      "source": [
        "# Pi Stack\n",
        "\n",
        "import numpy as np\n",
        "import plotly.graph_objects as go\n",
        "\n",
        "distances = np.arange(1.0, 8.0, 0.1)\n",
        "\n",
        "theories = {\n",
        "    'mp2/aug-cc-pvdzd':  [547.684120138525, 396.8533368142671, 300.45269320334774, 236.1873053040472, 190.67842225689674, 155.97229680087185, 127.62354164931457, 103.46085518505424, 82.57893310376676, 64.6118053541868, 49.360693401424214, 36.64476584439399, 26.250848194758873, 17.927037608460523, 11.397092726023402, 6.380285512947012, 2.609134089027066, -0.15799051657086238, -2.13045092637185, -3.4839246015180834, -4.362516536959447, -4.882432115322445, -5.13607944897376, -5.195948529057205, -5.1182581263710745, -4.946200751524884, -4.712644414277747, -4.442299805523362, -4.153502530883998, -3.85955927032046, -3.569851727981586, -3.2907634299481288, -3.026386796438601, -2.7791074257693253, -2.5500800010049716, -2.3394983936450444, -2.1469251065864228, -1.9714700517361052, -1.8119451613165438, -1.6670484559144825, -1.535418012586888, -1.4157392048509791, -1.3067750902846456, -1.207403841719497, -1.1166388757992536, -1.0336106235045008, -0.9575753890676424, -0.8878785918932408, -0.8239676602534018, -0.7653424329473637, -0.7115475085447542, -0.6621995606692508, -0.6169182867743075, -0.5753523292951286, -0.537194972333964, -0.5021312338649295, -0.46989521669456735, -0.4402290487778373, -0.4128963461262174, -0.3876927409437485, -0.3644278810825199, -0.34291672689141706, -0.3230081155197695, -0.3045606979285367, -0.28744105115765706, -0.2715370067744516, -0.25673808669671416, -0.24294428568100557, -0.2300719713093713, -0.2180372427101247, -0.20677051943494007],\n",
        "    'mp2/aug-cc-pvdz':  [547.684120138525, 396.8533368142671, 300.45269320334774, 236.1873053040472, 190.67842225689674, 155.97229680087185, 127.62354164931457, 103.46085518505424, 82.57893310376676, 64.6118053541868, 49.360693401424214, 36.64476584439399, 26.250848194758873, 17.927037608460523, 11.397092726023402, 6.380285512947012, 2.609134089027066, -0.15799051657086238, -2.13045092637185, -3.4839246015180834, -4.362516536959447, -4.882432115322445, -5.13607944897376, -5.195948529057205, -5.1182581263710745, -4.946200751524884, -4.712644414277747, -4.442299805523362, -4.153502530883998, -3.85955927032046, -3.569851727981586, -3.2907634299481288, -3.026386796438601, -2.7791074257693253, -2.5500800010049716, -2.3394983936450444, -2.1469251065864228, -1.9714700517361052, -1.8119451613165438, -1.6670484559144825, -1.535418012586888, -1.4157392048509791, -1.3067750902846456, -1.207403841719497, -1.1166388757992536, -1.0336106235045008, -0.9575753890676424, -0.8878785918932408, -0.8239676602534018, -0.7653424329473637, -0.7115475085447542, -0.6621995606692508, -0.6169182867743075, -0.5753523292951286, -0.537194972333964, -0.5021312338649295, -0.46989521669456735, -0.4402290487778373, -0.4128963461262174, -0.3876927409437485, -0.3644278810825199, -0.34291672689141706, -0.3230081155197695, -0.3045606979285367, -0.28744105115765706, -0.2715370067744516, -0.25673808669671416, -0.24294428568100557, -0.2300719713093713, -0.2180372427101247, -0.20677051943494007],\n",
        "\n",
        "}\n",
        "\n",
        "\n",
        "fig = go.Figure()\n",
        "\n",
        "for key,value in theories.items():\n",
        "\n",
        "    if key == 'mp2/aug-cc-pvdzd':\n",
        "        value = [i + i/10 for i in value]\n",
        "    fig.add_trace(\n",
        "        go.Scatter(\n",
        "            x=list(distances), y=value,\n",
        "            mode='lines+markers',\n",
        "            name=key,\n",
        "            marker=dict(size=13)\n",
        "        )\n",
        "    )\n",
        "\n",
        "fig.update_layout(legend=dict(itemsizing='constant'))\n",
        "fig.update_layout(legend=dict(\n",
        "        orientation=\"h\",\n",
        "        yanchor=\"bottom\",\n",
        "        y=1.02,\n",
        "        xanchor=\"right\",\n",
        "        x=1.05,\n",
        "        font = dict(family = \"Arial\", size = 35),\n",
        "        bordercolor=\"LightSteelBlue\",\n",
        "        borderwidth=2,\n",
        "    ),\n",
        ")\n",
        "fig.update_traces(line=dict(width=5))\n",
        "\n",
        "fig.update_layout(\n",
        "    template='simple_white',\n",
        "    xaxis_tickformat = 'i',\n",
        "    bargap=0.2, # gap between bars of adjacent location coordinates,\n",
        "    height=600,\n",
        "    width=1350,\n",
        "    showlegend=False,\n",
        ")\n",
        "\n",
        "fig.update_yaxes(range=[-10, 10.0], tickfont = dict(size=30))\n",
        "fig.update_xaxes(range=[1.0, 8.0], tickfont = dict(size=30))\n",
        "\n",
        "fig.show()\n"
      ]
    },
    {
      "cell_type": "code",
      "execution_count": 17,
      "metadata": {
        "colab": {
          "base_uri": "https://localhost:8080/"
        },
        "id": "vsikE1jNDF25",
        "outputId": "14f95099-031e-4b48-c281-cfa2b4fcb61e"
      },
      "outputs": [
        {
          "name": "stdout",
          "output_type": "stream",
          "text": [
            "Processed: Cannabidiorcin (CBD-C1)\n",
            "Processed: Cannabidiol ethyl (CBD-C2)\n",
            "Processed: Cannabidivarin (CBDV)\n",
            "Processed: Cannabidibutol (CBD-C4)\n",
            "Processed: Cannabidiol (CBD)\n",
            "Processed: (+)-Cannabidiol\n",
            "Processed: Cannabidihexol (CBD-C6)\n",
            "Processed: Cannabidiphorol (CBD-C7)\n",
            "Processed: Cannabidiol nonyl (CBD-C9)\n",
            "Processed: (+)-cis-Cannabidiol\n",
            "Processed: (-)-cis-Cannabidiol\n",
            "Processed: Delta 9 THC\n",
            "Processed: Delta 8 THC\n",
            "Processed: Tetrahydrocannabivarin\n",
            "Processed: Exo-THC\n",
            "Processed: (6aR,9S)-Δ10-THC\n",
            "Processed: (6aR,9R)-Δ10-THC\n",
            "Processed: Cannabinol\n",
            "Processed: Cannabichromene\n",
            "Processed: Cannabicyclol\n",
            "Processed: Cannabicitran\n",
            "Processed: (+)-Cannabichromene\n",
            "Processed: (-)-Cannabichromene\n",
            "Processed: Cannabigerovarin\n",
            "Processed: Cannabigerol butyl\n",
            "Processed: Cannabigerol\n",
            "Processed: Cannabigerohexol\n",
            "Processed: Cannabigerophorol\n",
            "Processed: Cannabigerononyl\n",
            "Processed: Cannabidivarinic acid\n",
            "Processed: Cannabidibutolic acid\n",
            "Processed: Cannabidiolic acid\n",
            "Processed: Cannabidihexolic acid\n",
            "Processed: Cannabidiphorolic acid\n",
            "Processed: Cannabidinonylic acid\n",
            "Processed: Tetrahydrocannabivarinic acid\n",
            "Processed: Delta-9-tetrahydrocannabinolic acid A\n",
            "Processed: Cannabichromenic acid\n",
            "Processed: Cannabicyclolic acid\n",
            "Processed: Cannabinolic acid\n",
            "Processed: Cannabigerovarinic acid\n",
            "Processed: Cannabigerolic acid butyl\n",
            "Processed: Cannabigerolic acid\n",
            "Processed: Cannabigerohexolic acid\n",
            "Processed: Cannabigerophorolic acid\n",
            "Processed: Cannabigerononylic acid\n",
            "CSV file 'cannabinoids_complete.csv' has been created.\n"
          ]
        }
      ],
      "source": [
        "import csv\n",
        "import requests\n",
        "import time\n",
        "\n",
        "def get_pubchem_smiles(compound_name):\n",
        "    base_url = \"https://pubchem.ncbi.nlm.nih.gov/rest/pug\"\n",
        "    search_url = f\"{base_url}/compound/name/{compound_name}/property/SMILES/JSON\"\n",
        "\n",
        "    try:\n",
        "        response = requests.get(search_url)\n",
        "        if response.status_code == 200:\n",
        "            data = response.json()\n",
        "            return data['PropertyTable']['Properties'][0]['SMILES']\n",
        "        else:\n",
        "            return \"Not found in PubChem\"\n",
        "    except:\n",
        "        return \"Error retrieving data\"\n",
        "    finally:\n",
        "        time.sleep(0.2)  # Rate limiting\n",
        "\n",
        "compounds = [\n",
        "    # CBD Series\n",
        "    \"Cannabidiorcin (CBD-C1)\",\n",
        "    \"Cannabidiol ethyl (CBD-C2)\",\n",
        "    \"Cannabidivarin (CBDV)\",\n",
        "    \"Cannabidibutol (CBD-C4)\",\n",
        "    \"Cannabidiol (CBD)\",\n",
        "    \"(+)-Cannabidiol\",\n",
        "    \"Cannabidihexol (CBD-C6)\",\n",
        "    \"Cannabidiphorol (CBD-C7)\",\n",
        "    \"Cannabidiol nonyl (CBD-C9)\",\n",
        "    \"(+)-cis-Cannabidiol\",\n",
        "    \"(-)-cis-Cannabidiol\",\n",
        "\n",
        "    # THC Series\n",
        "    \"Delta 9 THC\",\n",
        "    \"Delta 8 THC\",\n",
        "    \"Tetrahydrocannabivarin\",\n",
        "    \"Exo-THC\",\n",
        "    \"(6aR,9S)-Δ10-THC\",\n",
        "    \"(6aR,9R)-Δ10-THC\",\n",
        "\n",
        "    # Other Neutrals\n",
        "    \"Cannabinol\",\n",
        "    \"Cannabichromene\",\n",
        "    \"Cannabicyclol\",\n",
        "    \"Cannabicitran\",\n",
        "    \"(+)-Cannabichromene\",\n",
        "    \"(-)-Cannabichromene\",\n",
        "\n",
        "    # CBG Series\n",
        "    \"Cannabigerovarin\",\n",
        "    \"Cannabigerol butyl\",\n",
        "    \"Cannabigerol\",\n",
        "    \"Cannabigerohexol\",\n",
        "    \"Cannabigerophorol\",\n",
        "    \"Cannabigerononyl\",\n",
        "\n",
        "    # CBDA Series\n",
        "    \"Cannabidivarinic acid\",\n",
        "    \"Cannabidibutolic acid\",\n",
        "    \"Cannabidiolic acid\",\n",
        "    \"Cannabidihexolic acid\",\n",
        "    \"Cannabidiphorolic acid\",\n",
        "    \"Cannabidinonylic acid\",\n",
        "\n",
        "    # THCA Series\n",
        "    \"Tetrahydrocannabivarinic acid\",\n",
        "    \"Delta-9-tetrahydrocannabinolic acid A\",\n",
        "\n",
        "    # Other Acids\n",
        "    \"Cannabichromenic acid\",\n",
        "    \"Cannabicyclolic acid\",\n",
        "    \"Cannabinolic acid\",\n",
        "\n",
        "    # CBGA Series\n",
        "    \"Cannabigerovarinic acid\",\n",
        "    \"Cannabigerolic acid butyl\",\n",
        "    \"Cannabigerolic acid\",\n",
        "    \"Cannabigerohexolic acid\",\n",
        "    \"Cannabigerophorolic acid\",\n",
        "    \"Cannabigerononylic acid\"\n",
        "]\n",
        "\n",
        "data = []\n",
        "project_id = \"KINETO_2024\"\n",
        "\n",
        "for compound in compounds:\n",
        "    smiles = get_pubchem_smiles(compound)\n",
        "    data.append([compound, smiles, project_id])\n",
        "    print(f\"Processed: {compound}\")  # Progress tracking\n",
        "\n",
        "with open('cannabinoids_complete.csv', 'w', newline='') as file:\n",
        "    writer = csv.writer(file)\n",
        "    writer.writerow([\"ID or Name\", \"Smiles*\", \"ProjectId\"])\n",
        "    writer.writerows(data)\n",
        "\n",
        "print(\"CSV file 'cannabinoids_complete.csv' has been created.\")"
      ]
    },
    {
      "cell_type": "code",
      "execution_count": 23,
      "metadata": {
        "colab": {
          "base_uri": "https://localhost:8080/",
          "height": 17
        },
        "id": "Jz5VGgFMGK6i",
        "outputId": "c064d725-a41b-46ab-ec33-2456be1caf7c"
      },
      "outputs": [],
      "source": [
        "# from google.colab import files\n",
        "# files.download('cannabinoids_complete.csv')"
      ]
    },
    {
      "cell_type": "code",
      "execution_count": 25,
      "metadata": {
        "colab": {
          "base_uri": "https://localhost:8080/",
          "height": 399
        },
        "id": "r3PNPzf4GqcW",
        "outputId": "c6f7667b-7736-4ed1-d6e1-0062a6fa7bb7"
      },
      "outputs": [
        {
          "name": "stdout",
          "output_type": "stream",
          "text": [
            "Processed: 2-Arachidonoylglycerol\n",
            "Processed: Anandamide\n",
            "Processed: N-Palmitoylethanolamide\n",
            "Processed: Oleoylethanolamide\n",
            "Processed: Cannabidiol\n",
            "Processed: Cannabigerol\n",
            "Processed: Cannabichromene\n",
            "Processed: Cannabinodiol\n",
            "Processed: Cannabitriol\n",
            "Processed: Cannabielsoin\n",
            "Processed: Cannabicyclol\n",
            "Processed: Cannabinol\n",
            "Processed: Delta-9-Tetrahydrocannabinol\n",
            "Processed: Delta-9-Tetrahydrocannabivarin\n",
            "Processed: Delta-9-Tetrahydrocannabinolic acid\n",
            "Processed: Delta-8-trans-tetrahydrocannabinol\n",
            "Processed: JWH-133\n",
            "Processed: (R)-Methanandamide\n",
            "Processed: HU-308\n",
            "Processed: JTE-907\n",
            "Processed: SR 144528\n",
            "CSV file 'endocannabinoids_complete.csv' has been created.\n"
          ]
        }
      ],
      "source": [
        "import csv\n",
        "import requests\n",
        "import time\n",
        "\n",
        "def get_pubchem_smiles(compound_name):\n",
        "    base_url = \"https://pubchem.ncbi.nlm.nih.gov/rest/pug\"\n",
        "    search_url = f\"{base_url}/compound/name/{compound_name}/property/IsomericSMILES/JSON\"\n",
        "\n",
        "    try:\n",
        "        response = requests.get(search_url)\n",
        "        if response.status_code == 200:\n",
        "            data = response.json()\n",
        "            return data['PropertyTable']['Properties'][0]['IsomericSMILES']\n",
        "        else:\n",
        "            return \"Not found in PubChem\"\n",
        "    except:\n",
        "        return \"Error retrieving data\"\n",
        "    finally:\n",
        "        time.sleep(0.2)\n",
        "\n",
        "compounds = [\n",
        "    \"2-Arachidonoylglycerol\",\n",
        "    \"Anandamide\",\n",
        "    \"N-Palmitoylethanolamide\",\n",
        "    \"Oleoylethanolamide\",\n",
        "    \"Cannabidiol\",\n",
        "    \"Cannabigerol\",\n",
        "    \"Cannabichromene\",\n",
        "    \"Cannabinodiol\",\n",
        "    \"Cannabitriol\",\n",
        "    \"Cannabielsoin\",\n",
        "    \"Cannabicyclol\",\n",
        "    \"Cannabinol\",\n",
        "    \"Delta-9-Tetrahydrocannabinol\",\n",
        "    \"Delta-9-Tetrahydrocannabivarin\",\n",
        "    \"Delta-9-Tetrahydrocannabinolic acid\",\n",
        "    \"Delta-8-trans-tetrahydrocannabinol\",\n",
        "    \"JWH-133\",\n",
        "    \"(R)-Methanandamide\",\n",
        "    \"HU-308\",\n",
        "    \"JTE-907\",\n",
        "    \"SR 144528\"\n",
        "]\n",
        "\n",
        "data = []\n",
        "project_id = \"KINETO_2024\"\n",
        "\n",
        "for compound in compounds:\n",
        "    smiles = get_pubchem_smiles(compound)\n",
        "    data.append([compound, smiles, project_id])\n",
        "    print(f\"Processed: {compound}\")\n",
        "\n",
        "with open('endocannabinoids_complete.csv', 'w', newline='') as file:\n",
        "    writer = csv.writer(file)\n",
        "    writer.writerow([\"ID or Name\", \"Smiles*\", \"ProjectId\"])\n",
        "    writer.writerows(data)\n",
        "\n",
        "print(\"CSV file 'endocannabinoids_complete.csv' has been created.\")\n",
        "\n",
        "# from google.colab import files\n",
        "# files.download('endocannabinoids_complete.csv')"
      ]
    },
    {
      "cell_type": "code",
      "execution_count": null,
      "metadata": {
        "id": "suS2FtViOj5A"
      },
      "outputs": [],
      "source": []
    }
  ],
  "metadata": {
    "colab": {
      "provenance": [],
      "toc_visible": true
    },
    "kernelspec": {
      "display_name": "base",
      "language": "python",
      "name": "python3"
    },
    "language_info": {
      "codemirror_mode": {
        "name": "ipython",
        "version": 3
      },
      "file_extension": ".py",
      "mimetype": "text/x-python",
      "name": "python",
      "nbconvert_exporter": "python",
      "pygments_lexer": "ipython3",
      "version": "3.12.3"
    }
  },
  "nbformat": 4,
  "nbformat_minor": 0
}
