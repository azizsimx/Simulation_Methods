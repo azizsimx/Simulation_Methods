{
 "cells": [
  {
   "cell_type": "code",
   "execution_count": 51,
   "id": "cb8dcf59",
   "metadata": {},
   "outputs": [],
   "source": [
    "import matplotlib\n",
    "import matplotlib.pyplot as plt\n",
    "\n",
    "plt.rcParams[\"figure.figsize\"] = [6.5, 5]\n",
    "\n",
    "plt.rcParams[\"axes.edgecolor\"] = \"black\"\n",
    "plt.rcParams['axes.labelsize'] = 30\n",
    "plt.rcParams[\"axes.linewidth\"] = 2.5\n",
    "plt.rcParams[\"axes.labelweight\"] = 'bold'\n",
    "plt.rcParams[\"lines.linewidth\"] = 3\n",
    "\n",
    "plt.rcParams['xtick.labelsize'] = 18\n",
    "plt.rcParams['ytick.labelsize'] = 18\n",
    "plt.rcParams['xtick.direction'] = 'in'\n",
    "plt.rcParams['ytick.direction'] = 'in'\n",
    "plt.rcParams['xtick.top'] = True\n",
    "plt.rcParams['xtick.bottom'] = True\n",
    "plt.rcParams['ytick.right'] = True\n",
    "\n",
    "plt.rcParams['xtick.major.size'] = 10\n",
    "plt.rcParams['ytick.major.size'] = 10\n",
    "plt.rcParams['xtick.major.width'] = 3\n",
    "plt.rcParams['ytick.major.width'] = 3\n",
    "\n",
    "plt.rcParams['xtick.minor.size'] = 5\n",
    "plt.rcParams['ytick.minor.size'] = 5\n",
    "plt.rcParams['xtick.minor.width'] = 3\n",
    "plt.rcParams['ytick.minor.width'] = 3\n",
    "plt.rcParams['xtick.minor.visible'] =  True\n",
    "plt.rcParams['ytick.minor.visible'] =  True\n",
    "\n",
    "\n",
    "plt.rcParams['legend.fontsize'] = 25\n",
    "plt.rcParams['legend.frameon'] = False\n",
    "plt.rcParams['legend.loc'] = 'best'\n",
    "plt.rcParams['legend.markerscale'] = 1\n",
    "\n",
    "plt.rcParams['savefig.dpi'] = 500\n",
    "plt.rcParams['savefig.bbox'] = 'tight'\n",
    "\n",
    "matplotlib.rc('font', weight='bold')"
   ]
  },
  {
   "cell_type": "code",
   "execution_count": 52,
   "id": "421571db",
   "metadata": {},
   "outputs": [],
   "source": [
    "import numpy as np\n",
    "import matplotlib.pyplot as plt"
   ]
  },
  {
   "cell_type": "code",
   "execution_count": 53,
   "id": "3ab4ef18",
   "metadata": {},
   "outputs": [],
   "source": [
    "def dfx(x):\n",
    "    k = 2.0\n",
    "    return -k*x"
   ]
  },
  {
   "cell_type": "code",
   "execution_count": 54,
   "id": "86c9d8c3",
   "metadata": {},
   "outputs": [],
   "source": [
    "x = 10.0\n",
    "a = 0.1\n",
    "tol = 1.0e-5\n",
    "\n",
    "listx = [x]"
   ]
  },
  {
   "cell_type": "code",
   "execution_count": 55,
   "id": "55bcd12d",
   "metadata": {},
   "outputs": [
    {
     "name": "stdout",
     "output_type": "stream",
     "text": [
      "8.0\n",
      "6.4\n",
      "5.12\n",
      "4.096\n",
      "3.2768\n",
      "2.62144\n",
      "2.0971520000000003\n",
      "1.6777216000000004\n",
      "1.3421772800000003\n",
      "1.0737418240000003\n",
      "0.8589934592000003\n",
      "0.6871947673600002\n",
      "0.5497558138880001\n",
      "0.43980465111040007\n",
      "0.35184372088832006\n",
      "0.281474976710656\n",
      "0.22517998136852482\n",
      "0.18014398509481985\n",
      "0.14411518807585588\n",
      "0.11529215046068471\n",
      "0.09223372036854777\n",
      "0.07378697629483821\n",
      "0.05902958103587057\n",
      "0.04722366482869646\n",
      "0.037778931862957166\n",
      "0.030223145490365734\n",
      "0.024178516392292588\n",
      "0.01934281311383407\n",
      "0.015474250491067256\n",
      "0.012379400392853806\n",
      "0.009903520314283045\n",
      "0.007922816251426436\n",
      "0.006338253001141149\n",
      "0.00507060240091292\n",
      "0.0040564819207303355\n",
      "0.0032451855365842686\n",
      "0.002596148429267415\n",
      "0.002076918743413932\n",
      "0.0016615349947311456\n",
      "0.0013292279957849164\n",
      "0.001063382396627933\n",
      "0.0008507059173023465\n",
      "0.0006805647338418772\n",
      "0.0005444517870735017\n",
      "0.0004355614296588014\n",
      "0.0003484491437270411\n",
      "0.00027875931498163285\n",
      "0.00022300745198530628\n",
      "0.00017840596158824503\n",
      "0.00014272476927059603\n",
      "0.00011417981541647683\n",
      "9.134385233318146e-05\n",
      "7.307508186654517e-05\n",
      "5.846006549323614e-05\n",
      "4.676805239458891e-05\n",
      "3.741444191567113e-05\n",
      "2.9931553532536903e-05\n",
      "2.3945242826029522e-05\n",
      "1.9156194260823618e-05\n",
      "1.5324955408658896e-05\n",
      "1.2259964326927117e-05\n",
      "9.807971461541694e-06\n",
      "7.846377169233355e-06\n",
      "6.277101735386684e-06\n",
      "5.021681388309347e-06\n",
      "4.017345110647478e-06\n"
     ]
    }
   ],
   "source": [
    "for _ in range(100):\n",
    "    if abs(dfx(x)) < tol:\n",
    "        break\n",
    "    x += a*dfx(x)\n",
    "    listx.append(x)\n",
    "    print(x)"
   ]
  },
  {
   "cell_type": "code",
   "execution_count": 56,
   "id": "dc6a23d5",
   "metadata": {},
   "outputs": [
    {
     "data": {
      "image/png": "[encoded data removed]",
      "text/plain": [
       "<Figure size 650x500 with 1 Axes>"
      ]
     },
     "metadata": {},
     "output_type": "display_data"
    }
   ],
   "source": [
    "plt.plot(listx)\n",
    "plt.show()"
   ]
  },
  {
   "cell_type": "code",
   "execution_count": null,
   "id": "56cc9ee9",
   "metadata": {},
   "outputs": [],
   "source": []
  }
 ],
 "metadata": {
  "kernelspec": {
   "display_name": "base",
   "language": "python",
   "name": "python3"
  },
  "language_info": {
   "codemirror_mode": {
    "name": "ipython",
    "version": 3
   },
   "file_extension": ".py",
   "mimetype": "text/x-python",
   "name": "python",
   "nbconvert_exporter": "python",
   "pygments_lexer": "ipython3",
   "version": "3.12.3"
  }
 },
 "nbformat": 4,
 "nbformat_minor": 5
}
